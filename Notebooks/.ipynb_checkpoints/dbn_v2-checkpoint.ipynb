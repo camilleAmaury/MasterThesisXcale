{
 "cells": [
  {
   "cell_type": "markdown",
   "metadata": {
    "id": "3IxBG6EwZKG4"
   },
   "source": [
    "# XCALE Master thesis : DBN Building v2\n",
    "\n",
    "In this notebook, we build the dbn dataset\n",
    "\n",
    "<style>.table {margin-left:0px}</style>"
   ]
  },
  {
   "cell_type": "markdown",
   "metadata": {
    "id": "5TifUHpKZQhl"
   },
   "source": [
    "## Import"
   ]
  },
  {
   "cell_type": "code",
   "execution_count": 1,
   "metadata": {
    "id": "CXRM12s0ZRRW"
   },
   "outputs": [],
   "source": [
    "# data handling\n",
    "import numpy as np\n",
    "import pandas as pd\n",
    "from pylab import rcParams\n",
    "rcParams['figure.figsize'] = 18, 10"
   ]
  },
  {
   "cell_type": "code",
   "execution_count": 20,
   "metadata": {
    "colab": {
     "base_uri": "https://localhost:8080/"
    },
    "id": "RmPHSltsZGKj",
    "outputId": "6fd3d8da-58e6-4a01-b722-4b9bb5fe80eb"
   },
   "outputs": [
    {
     "name": "stdout",
     "output_type": "stream",
     "text": [
      "Requirement already satisfied: mysql-connector-python in c:\\users\\cajug\\anaconda3\\envs\\python37-r\\lib\\site-packages (8.0.25)\n",
      "Requirement already satisfied: protobuf>=3.0.0 in c:\\users\\cajug\\anaconda3\\envs\\python37-r\\lib\\site-packages (from mysql-connector-python) (3.14.0)\n",
      "Requirement already satisfied: six>=1.9 in c:\\users\\cajug\\anaconda3\\envs\\python37-r\\lib\\site-packages (from protobuf>=3.0.0->mysql-connector-python) (1.15.0)\n"
     ]
    }
   ],
   "source": [
    "# Database\n",
    "#!sudo apt-get install python3-dev default-libmysqlclient-dev\n",
    "!pip install mysql-connector-python\n",
    "from mysql.connector import connect\n",
    "# error\n",
    "import traceback\n",
    "from collections import defaultdict\n",
    "from datetime import time, timedelta, datetime\n",
    "# utilitaries\n",
    "import functools\n",
    "import tqdm\n",
    "\n",
    "import matplotlib.pyplot as plt\n",
    "import scipy.stats as stats"
   ]
  },
  {
   "cell_type": "markdown",
   "metadata": {
    "id": "r6WynQAuZVW6"
   },
   "source": [
    "## Database"
   ]
  },
  {
   "cell_type": "code",
   "execution_count": 3,
   "metadata": {
    "id": "t_lv2rF-ZWTy"
   },
   "outputs": [],
   "source": [
    "# Log\n",
    "_db_config = {\n",
    "    'user': 'cajuge',\n",
    "    'password': 'Kz1773qMWIVhRZUZ',\n",
    "    'host': 'franceioi.cinniket56wn.eu-central-1.rds.amazonaws.com',\n",
    "    'database': 'srl',\n",
    "    'port':'3306'\n",
    "}"
   ]
  },
  {
   "cell_type": "code",
   "execution_count": 4,
   "metadata": {
    "id": "S8Uf4AQXZWof"
   },
   "outputs": [],
   "source": [
    "_tables = [\"clavier\", \"modification\",\n",
    "          \"navigation\", \"pas_a_pas\",\"srl_final_prompt\",\n",
    "          \"srl_initial_prompt\",\"srl_prompt\",\"validation\", \"connexion\"]"
   ]
  },
  {
   "cell_type": "code",
   "execution_count": 5,
   "metadata": {
    "id": "nK6BgfvBZbAt"
   },
   "outputs": [],
   "source": [
    "def get_connection(config):\n",
    "    return connect(**config)\n",
    "def close_connection(connection):\n",
    "    connection.close()"
   ]
  },
  {
   "cell_type": "code",
   "execution_count": 6,
   "metadata": {
    "id": "CTf9_6skZbhp"
   },
   "outputs": [],
   "source": [
    "def getTablesFromDB(min_id_connection, _tables):\n",
    "    dataframe_tables = {}\n",
    "    mysql_connection = get_connection(_db_config)\n",
    "    for table in _tables:\n",
    "        with mysql_connection.cursor() as cursor:\n",
    "            try:\n",
    "                # ----------- Get every connection / participant ---------- #\n",
    "                if table == \"connexion\":\n",
    "                    query_select = \"SELECT c.id, c.timestamp FROM connexion c INNER JOIN participer p ON p.id = c.id_participation WHERE c.id >= %s AND p.id_activite=11 ORDER BY c.id, c.timestamp\"\n",
    "                    cursor.execute(query_select, (min_id_connection,))\n",
    "                elif table == \"validation\":\n",
    "                    query_select = \"SELECT t.experimentation, t.score, t.id_connexion, t.timestamp FROM {} t INNER JOIN connexion c ON c.id = t.id_connexion INNER JOIN participer p ON p.id = c.id_participation WHERE c.id >= %s AND p.id_activite=11 ORDER BY c.id, c.timestamp\".format(table)\n",
    "                    cursor.execute(query_select, (min_id_connection,))\n",
    "                else:\n",
    "                    query_select = \"SELECT t.id_connexion, t.timestamp FROM {} t INNER JOIN connexion c ON c.id = t.id_connexion INNER JOIN participer p ON p.id = c.id_participation WHERE c.id >= %s AND p.id_activite=11 ORDER BY c.id, c.timestamp\".format(table)\n",
    "                    cursor.execute(query_select, (min_id_connection,))\n",
    "                \n",
    "                result = cursor.fetchall()\n",
    "                columns_name = np.array(\n",
    "                    [cursor.description[i][0] for i in range(len(cursor.description)) if cursor.description[i][0]])\n",
    "                data = []\n",
    "                for row in result:\n",
    "                    data.append(np.array([row[i] for i in range(len(row))]))\n",
    "                dataframe_tables[table] = pd.DataFrame(data, columns=columns_name)\n",
    "            except Exception:\n",
    "                traceback.print_exc()\n",
    "    \n",
    "    \n",
    "    return dataframe_tables\n",
    "\n",
    "def getTablesFromDB_ids(ids, _tables):\n",
    "    dataframe_tables = {}\n",
    "    mysql_connection = get_connection(_db_config)\n",
    "    for table in _tables:\n",
    "        with mysql_connection.cursor() as cursor:\n",
    "            try:\n",
    "                # ----------- Get every connection / participant ---------- #\n",
    "                format_strings = ','.join(['%s'] * len(ids))\n",
    "                if table == \"connexion\":\n",
    "                    query_select = \"SELECT * FROM connexion WHERE id IN ({}) ORDER BY id, timestamp\".format(format_strings)\n",
    "                else:\n",
    "                    query_select = \"SELECT * FROM {} WHERE id_connexion IN ({}) ORDER BY id_connexion, timestamp\".format(table, format_strings)\n",
    "                \n",
    "                cursor.execute(query_select, tuple(ids))\n",
    "                result = cursor.fetchall()\n",
    "                columns_name = np.array(\n",
    "                    [cursor.description[i][0] for i in range(len(cursor.description)) if cursor.description[i][0]])\n",
    "                data = []\n",
    "                for row in result:\n",
    "                    data.append(np.array([row[i] for i in range(len(row))]))\n",
    "                dataframe_tables[table] = pd.DataFrame(data, columns=columns_name)\n",
    "            except Exception:\n",
    "                traceback.print_exc()\n",
    "    \n",
    "    \n",
    "    return dataframe_tables"
   ]
  },
  {
   "cell_type": "code",
   "execution_count": 7,
   "metadata": {
    "id": "ixTGgC0kZdLu"
   },
   "outputs": [],
   "source": [
    "dataframe_tables = getTablesFromDB(191, _tables)"
   ]
  },
  {
   "cell_type": "code",
   "execution_count": 8,
   "metadata": {
    "colab": {
     "base_uri": "https://localhost:8080/"
    },
    "id": "DV1M7rk8Ze6z",
    "outputId": "648756fd-0288-40cc-abf3-6b8dde87eff8"
   },
   "outputs": [
    {
     "name": "stdout",
     "output_type": "stream",
     "text": [
      "93 registered connections which last at least 1 hour\n"
     ]
    }
   ],
   "source": [
    "table = \"connexion\"\n",
    "sujet_range = [19,20,21,22,23,24,25,26,27,28]\n",
    "connections = dataframe_tables[table]\n",
    "nb_connection_1h = []\n",
    "for j, id_connexion in enumerate(connections.id):\n",
    "    last_timestamp_table = []\n",
    "    for table in [i for i in _tables if i != \"connexion\"]:\n",
    "        sequence = dataframe_tables[table][dataframe_tables[table].id_connexion == id_connexion].timestamp\n",
    "        if len(sequence) != 0:\n",
    "            last_timestamp_table.append(max(sequence))\n",
    "    if len(last_timestamp_table) != 0:\n",
    "        if max(last_timestamp_table) - connections.timestamp[j] >= timedelta(hours=1):\n",
    "            if dataframe_tables[\"validation\"].query(\"id_connexion == {} and experimentation == 0 and score > 0\".format(id_connexion)).shape[0] != 0:\n",
    "                nb_connection_1h.append(id_connexion)\n",
    "print(\"{} registered connections which last at least 1 hour\".format(len(nb_connection_1h)))"
   ]
  },
  {
   "cell_type": "code",
   "execution_count": 9,
   "metadata": {
    "id": "62WDD-KHZhVL"
   },
   "outputs": [],
   "source": [
    "dataframe_tables = getTablesFromDB_ids(nb_connection_1h, _tables)"
   ]
  },
  {
   "cell_type": "markdown",
   "metadata": {
    "id": "v8ZiRDmkZ-38"
   },
   "source": [
    "## Building V.2\n",
    "\n",
    "<img src='https://drive.google.com/uc?id=19I5DHRi0Z1gI4wwqRsFSIkEz1rh9w8x3' />\n"
   ]
  },
  {
   "cell_type": "code",
   "execution_count": 10,
   "metadata": {
    "id": "uhrt8a1NaY6p"
   },
   "outputs": [],
   "source": [
    "data = [[] for _ in nb_connection_1h]\n",
    "columns = []"
   ]
  },
  {
   "cell_type": "code",
   "execution_count": 11,
   "metadata": {
    "id": "YJ_rP29BaaIo"
   },
   "outputs": [],
   "source": [
    "df = dataframe_tables.copy()"
   ]
  },
  {
   "cell_type": "markdown",
   "metadata": {
    "id": "YI62uIIXabO6"
   },
   "source": [
    "## Data Indicators"
   ]
  },
  {
   "cell_type": "markdown",
   "metadata": {
    "id": "cjS9zOpTad-X"
   },
   "source": [
    "### Timestamps"
   ]
  },
  {
   "cell_type": "code",
   "execution_count": 12,
   "metadata": {
    "id": "DWpxk88Parwf"
   },
   "outputs": [],
   "source": [
    "def get_important_timestamps(ids_connexion, df_prompt_middle, df_prompt_final, df_connexion):\n",
    "    timestamps_middle = []\n",
    "    timestamps_final = []\n",
    "    for id_connexion in ids_connexion:\n",
    "        temp_df = df_prompt_middle.query('id_connexion == {}'.format(id_connexion))\n",
    "        if temp_df.shape[0] == 0:\n",
    "            # the user doesn't not provide us prompts\n",
    "            timestamp = list(df_connexion.query('id == {}'.format(id_connexion)).timestamp)[0]\n",
    "            timestamps_middle.append(timestamp + timedelta(minutes=30))\n",
    "            timestamps_final.append(timestamp + timedelta(hours=1))\n",
    "        else:\n",
    "            timestamp = list(temp_df.timestamp)[0]\n",
    "            timestamps_middle.append(timestamp)\n",
    "            #final\n",
    "            temp_df = df_prompt_final.query('id_connexion == {}'.format(id_connexion))\n",
    "            if temp_df.shape[0] == 0:\n",
    "                # the user doesn't not provide us prompts\n",
    "                timestamps_final.append(timestamp + timedelta(minutes=30))\n",
    "            else:\n",
    "                timestamps_final(list(temp_df.timestamp)[0])\n",
    "    return [i.to_pydatetime() for i in timestamps_middle], [i.to_pydatetime() for i in timestamps_final]"
   ]
  },
  {
   "cell_type": "code",
   "execution_count": 13,
   "metadata": {
    "id": "EtwmjnWzovXx"
   },
   "outputs": [],
   "source": [
    "def get_index_timestamp(df, timestamp1, timestamp2):\n",
    "    column = list(df.columns).index(\"timestamp\")\n",
    "    return [row for row in range(df.shape[0]) if df.iloc[row, column] > timestamp1 and df.iloc[row, column] <= timestamp2]"
   ]
  },
  {
   "cell_type": "code",
   "execution_count": 14,
   "metadata": {
    "id": "Zbkxp7xwzd3D"
   },
   "outputs": [],
   "source": [
    "def draw(data, columns, nb_connection_1h):\n",
    "    return pd.DataFrame(data[:5], columns=columns, index=nb_connection_1h[:5])"
   ]
  },
  {
   "cell_type": "code",
   "execution_count": 15,
   "metadata": {
    "id": "u02GmPprSjEK"
   },
   "outputs": [],
   "source": [
    "def eliminate_same_subject_version_score(df):\n",
    "    indexes = []\n",
    "    uniques = list(df[[\"id_sujet\", \"version\"]].value_counts().index)\n",
    "    for i in range(len(uniques)):\n",
    "        df_multiple = df.query(\"id_sujet == {} and version == {}\".format(uniques[i][0], uniques[i][1]))\n",
    "        indexes.append(list(df_multiple.index)[-1])\n",
    "    return indexes"
   ]
  },
  {
   "cell_type": "code",
   "execution_count": 16,
   "metadata": {
    "id": "nkffxgaYirxt"
   },
   "outputs": [],
   "source": [
    "def eliminate_same_subject_version_following(df, col1, col2):\n",
    "    indexes = []\n",
    "    memory = None\n",
    "    for i in range(df.shape[0]):\n",
    "        if memory == None:\n",
    "            memory = (df.iloc[i,col1], df.iloc[i,col2])\n",
    "            indexes.append(i)\n",
    "        else:\n",
    "            if df.iloc[i,col1] != memory[0] or df.iloc[i,col2] != memory[1]:\n",
    "                memory = (df.iloc[i,col1], df.iloc[i,col2])\n",
    "                indexes.append(i)\n",
    "    return indexes\n",
    "\n",
    "def eliminate_same_subject_version_other_following(df, col1, col2, col3):\n",
    "    indexes = []\n",
    "    memory = None\n",
    "    for i in range(df.shape[0]):\n",
    "        if memory == None:\n",
    "            memory = (df.iloc[i,col1], df.iloc[i,col2], df.iloc[i,col3])\n",
    "            indexes.append(i)\n",
    "        else:\n",
    "            if df.iloc[i,col1] != memory[0] or df.iloc[i,col2] != memory[1] or df.iloc[i,col3] != memory[2]:\n",
    "                memory = (df.iloc[i,col1], df.iloc[i,col2], df.iloc[i,col3])\n",
    "                indexes.append(i)\n",
    "    return indexes"
   ]
  },
  {
   "cell_type": "code",
   "execution_count": 17,
   "metadata": {
    "id": "OveAzyC_ap0X"
   },
   "outputs": [],
   "source": [
    "beginning_timestamp = [df[\"connexion\"].query(\"id == {}\".format(id)).iloc[0, 3] for id in nb_connection_1h]\n",
    "middle_timestamp, end_timestamp = get_important_timestamps(nb_connection_1h, df[\"srl_prompt\"].query(\"id_connexion in {}\".format(nb_connection_1h)), \n",
    "                                                           df[\"srl_final_prompt\"].query(\"id_connexion in {}\".format(nb_connection_1h)), df[\"connexion\"].query(\"id in {}\".format(nb_connection_1h)))"
   ]
  },
  {
   "cell_type": "markdown",
   "metadata": {
    "id": "zPrsuHrKbHit"
   },
   "source": [
    "### Rate of Time spent on validated subjects\n",
    "\n",
    "Indicator name : \n",
    "* validated_time_rate\n",
    "\n",
    "Computation : \n",
    "* Time spent on validated subject (help + subject) / 30 minutes"
   ]
  },
  {
   "cell_type": "code",
   "execution_count": 18,
   "metadata": {
    "id": "kGffdM_anNpt"
   },
   "outputs": [],
   "source": [
    "def validated_time_rate(df, nb_connection_1h, data, beginning_timestamp, middle_timestamp, end_timestamp, sujet_range, prompt=0):\n",
    "    column_val_sujet = list(df[\"validation\"].columns).index(\"id_sujet\")\n",
    "    column_val_version = list(df[\"validation\"].columns).index(\"version\")\n",
    "    column_nav_sujet = list(df[\"navigation\"].columns).index(\"id_sujet\")\n",
    "    column_nav_version = list(df[\"navigation\"].columns).index(\"version\")\n",
    "    column_nav_timestamp = list(df[\"navigation\"].columns).index(\"timestamp\")\n",
    "    column_nav_module = list(df[\"navigation\"].columns).index(\"module\")\n",
    "    for i,id in enumerate(nb_connection_1h):\n",
    "        df_val = df[\"validation\"].query(\"id_connexion == {} and score > 0 and experimentation == 0 and id_sujet in {}\".format(id, sujet_range))\n",
    "        index = get_index_timestamp(df_val, beginning_timestamp[i], middle_timestamp[i]) if prompt == 0 else get_index_timestamp(df_val, beginning_timestamp[i], end_timestamp[i])\n",
    "        df_val = df_val.iloc[index,:]\n",
    "        index = eliminate_same_subject_version_score(df_val)\n",
    "        df_val = df_val.loc[index,df_val.columns]\n",
    "        time_spent = timedelta(seconds=0)\n",
    "        for j in range(df_val.shape[0]):\n",
    "            sujet = df_val.iloc[j,column_val_sujet]\n",
    "            version = df_val.iloc[j,column_val_version]\n",
    "            df_nav = df[\"navigation\"].query(\"id_connexion == {} and id_sujet in {}\".format(id, sujet_range))\n",
    "            index = get_index_timestamp(df_nav, beginning_timestamp[i], middle_timestamp[i]) if prompt == 0 else get_index_timestamp(df_nav, beginning_timestamp[i], end_timestamp[i])\n",
    "            df_nav = df_nav.iloc[index,:]\n",
    "            index = eliminate_same_subject_version_following(df_nav, column_nav_sujet, column_nav_version)\n",
    "            df_nav = df_nav.iloc[index,:]\n",
    "            for k in range(df_nav.shape[0]):\n",
    "                if df_nav.iloc[k,column_nav_sujet] == sujet and df_nav.iloc[k,column_nav_version] == version and df_nav.iloc[k,column_nav_module] == \"Exercice\":\n",
    "                    time = df_nav.iloc[k,column_nav_timestamp]\n",
    "                    for l in range(k+1, df_nav.shape[0]):\n",
    "                        if df_nav.iloc[l,column_nav_sujet] != sujet or df_nav.iloc[l,column_nav_version] != version:\n",
    "                            time = df_nav.iloc[l,column_nav_timestamp] - time\n",
    "                            break\n",
    "                    else:\n",
    "                        time = middle_timestamp[i] - time if prompt == 0 else end_timestamp[i] - time\n",
    "                    time_spent += time\n",
    "        data[i].append(time_spent / timedelta(minutes=(30 if prompt == 0 else 60)))\n",
    "    return data"
   ]
  },
  {
   "cell_type": "markdown",
   "metadata": {
    "id": "FloRdgLsmg-h"
   },
   "source": [
    "#### Initial Prompt -> Middle Prompt"
   ]
  },
  {
   "cell_type": "code",
   "execution_count": 19,
   "metadata": {
    "id": "3O-wQe9La7TH"
   },
   "outputs": [],
   "source": [
    "columns.append(\"validated_time_rate\")"
   ]
  },
  {
   "cell_type": "code",
   "execution_count": 20,
   "metadata": {
    "id": "pFSZqnSFcjiE"
   },
   "outputs": [],
   "source": [
    "data = validated_time_rate(df, nb_connection_1h, data, beginning_timestamp, middle_timestamp, end_timestamp, sujet_range, prompt=0)"
   ]
  },
  {
   "cell_type": "code",
   "execution_count": 21,
   "metadata": {
    "colab": {
     "base_uri": "https://localhost:8080/",
     "height": 204
    },
    "id": "7m687jMop-oh",
    "outputId": "43cd69ef-3c18-43eb-d2a8-18629aae3ae2"
   },
   "outputs": [
    {
     "data": {
      "text/html": [
       "<div>\n",
       "<style scoped>\n",
       "    .dataframe tbody tr th:only-of-type {\n",
       "        vertical-align: middle;\n",
       "    }\n",
       "\n",
       "    .dataframe tbody tr th {\n",
       "        vertical-align: top;\n",
       "    }\n",
       "\n",
       "    .dataframe thead th {\n",
       "        text-align: right;\n",
       "    }\n",
       "</style>\n",
       "<table border=\"1\" class=\"dataframe\">\n",
       "  <thead>\n",
       "    <tr style=\"text-align: right;\">\n",
       "      <th></th>\n",
       "      <th>validated_time_rate</th>\n",
       "    </tr>\n",
       "  </thead>\n",
       "  <tbody>\n",
       "    <tr>\n",
       "      <th>191</th>\n",
       "      <td>0.840556</td>\n",
       "    </tr>\n",
       "    <tr>\n",
       "      <th>225</th>\n",
       "      <td>0.000000</td>\n",
       "    </tr>\n",
       "    <tr>\n",
       "      <th>234</th>\n",
       "      <td>0.514444</td>\n",
       "    </tr>\n",
       "    <tr>\n",
       "      <th>240</th>\n",
       "      <td>0.296111</td>\n",
       "    </tr>\n",
       "    <tr>\n",
       "      <th>242</th>\n",
       "      <td>0.465556</td>\n",
       "    </tr>\n",
       "  </tbody>\n",
       "</table>\n",
       "</div>"
      ],
      "text/plain": [
       "     validated_time_rate\n",
       "191             0.840556\n",
       "225             0.000000\n",
       "234             0.514444\n",
       "240             0.296111\n",
       "242             0.465556"
      ]
     },
     "execution_count": 21,
     "metadata": {},
     "output_type": "execute_result"
    }
   ],
   "source": [
    "draw(data, columns, nb_connection_1h)"
   ]
  },
  {
   "cell_type": "markdown",
   "metadata": {
    "id": "43lXcoVLmfOL"
   },
   "source": [
    "#### Middle Prompt -> Final Prompt"
   ]
  },
  {
   "cell_type": "code",
   "execution_count": 22,
   "metadata": {
    "id": "rjIBAFWyq1ai"
   },
   "outputs": [],
   "source": [
    "columns.append(\"validated_time_rate_1\")"
   ]
  },
  {
   "cell_type": "code",
   "execution_count": 23,
   "metadata": {
    "id": "LeadKdAfm0Fc"
   },
   "outputs": [],
   "source": [
    "data = validated_time_rate(df, nb_connection_1h, data, beginning_timestamp, middle_timestamp, end_timestamp, sujet_range, prompt=1)"
   ]
  },
  {
   "cell_type": "code",
   "execution_count": 24,
   "metadata": {
    "colab": {
     "base_uri": "https://localhost:8080/",
     "height": 204
    },
    "id": "kGD6dBz7q2fj",
    "outputId": "617f302b-7304-4e79-cc64-630c2712c65c"
   },
   "outputs": [
    {
     "data": {
      "text/html": [
       "<div>\n",
       "<style scoped>\n",
       "    .dataframe tbody tr th:only-of-type {\n",
       "        vertical-align: middle;\n",
       "    }\n",
       "\n",
       "    .dataframe tbody tr th {\n",
       "        vertical-align: top;\n",
       "    }\n",
       "\n",
       "    .dataframe thead th {\n",
       "        text-align: right;\n",
       "    }\n",
       "</style>\n",
       "<table border=\"1\" class=\"dataframe\">\n",
       "  <thead>\n",
       "    <tr style=\"text-align: right;\">\n",
       "      <th></th>\n",
       "      <th>validated_time_rate</th>\n",
       "      <th>validated_time_rate_1</th>\n",
       "    </tr>\n",
       "  </thead>\n",
       "  <tbody>\n",
       "    <tr>\n",
       "      <th>191</th>\n",
       "      <td>0.840556</td>\n",
       "      <td>0.425278</td>\n",
       "    </tr>\n",
       "    <tr>\n",
       "      <th>225</th>\n",
       "      <td>0.000000</td>\n",
       "      <td>0.336667</td>\n",
       "    </tr>\n",
       "    <tr>\n",
       "      <th>234</th>\n",
       "      <td>0.514444</td>\n",
       "      <td>0.318611</td>\n",
       "    </tr>\n",
       "    <tr>\n",
       "      <th>240</th>\n",
       "      <td>0.296111</td>\n",
       "      <td>0.225000</td>\n",
       "    </tr>\n",
       "    <tr>\n",
       "      <th>242</th>\n",
       "      <td>0.465556</td>\n",
       "      <td>0.244444</td>\n",
       "    </tr>\n",
       "  </tbody>\n",
       "</table>\n",
       "</div>"
      ],
      "text/plain": [
       "     validated_time_rate  validated_time_rate_1\n",
       "191             0.840556               0.425278\n",
       "225             0.000000               0.336667\n",
       "234             0.514444               0.318611\n",
       "240             0.296111               0.225000\n",
       "242             0.465556               0.244444"
      ]
     },
     "execution_count": 24,
     "metadata": {},
     "output_type": "execute_result"
    }
   ],
   "source": [
    "draw(data, columns, nb_connection_1h)"
   ]
  },
  {
   "cell_type": "markdown",
   "metadata": {
    "id": "Ug1zCXf-rMNI"
   },
   "source": [
    "### Mean of Highest version validated\n",
    "\n",
    "Indicator name : \n",
    "* highest_version_mean_validated\n",
    "\n",
    "Computation : \n",
    "* x = [for each subject validated : max version validated]\n",
    "* sum(x) / count(x)"
   ]
  },
  {
   "cell_type": "code",
   "execution_count": 25,
   "metadata": {
    "id": "OenoWjoosbHZ"
   },
   "outputs": [],
   "source": [
    "def highest_version_mean_validated(df, nb_connection_1h, data, beginning_timestamp, middle_timestamp, end_timestamp, sujet_range, prompt=0):\n",
    "    column_val_sujet = list(df[\"validation\"].columns).index(\"id_sujet\")\n",
    "    column_val_version = list(df[\"validation\"].columns).index(\"version\")\n",
    "    for i,id in enumerate(nb_connection_1h):\n",
    "        df_val = df[\"validation\"].query(\"id_connexion == {} and score > 0 and experimentation == 0 and id_sujet in {}\".format(id, sujet_range))\n",
    "        index = get_index_timestamp(df_val, beginning_timestamp[i], middle_timestamp[i]) if prompt == 0 else get_index_timestamp(df_val, beginning_timestamp[i], end_timestamp[i])\n",
    "        df_val = df_val.iloc[index,:]\n",
    "        versions = defaultdict(int)\n",
    "        for j in range(df_val.shape[0]):\n",
    "            if versions[df_val.iloc[j,column_val_sujet]] < df_val.iloc[j,column_val_version]:\n",
    "                versions[df_val.iloc[j,column_val_sujet]] = df_val.iloc[j,column_val_version]\n",
    "    \n",
    "        data[i].append(sum([versions[key] for key in versions.keys()]) / len(versions) if len(versions) != 0 else 0)\n",
    "    return data"
   ]
  },
  {
   "cell_type": "markdown",
   "metadata": {
    "id": "ruDzr2x9ruGZ"
   },
   "source": [
    "#### Initial Prompt -> Middle Prompt"
   ]
  },
  {
   "cell_type": "code",
   "execution_count": 26,
   "metadata": {
    "id": "AH3G-xVYtl_S"
   },
   "outputs": [],
   "source": [
    "columns.append(\"highest_version_mean_validated\")"
   ]
  },
  {
   "cell_type": "code",
   "execution_count": 27,
   "metadata": {
    "id": "YUzkg3h8tqQl"
   },
   "outputs": [],
   "source": [
    "data = highest_version_mean_validated(df, nb_connection_1h, data, beginning_timestamp, middle_timestamp, end_timestamp, sujet_range, prompt=0)"
   ]
  },
  {
   "cell_type": "code",
   "execution_count": 28,
   "metadata": {
    "colab": {
     "base_uri": "https://localhost:8080/",
     "height": 204
    },
    "id": "f3G7o0NKtqf9",
    "outputId": "9c4aba10-9513-4bab-fee1-8a525ed51119"
   },
   "outputs": [
    {
     "data": {
      "text/html": [
       "<div>\n",
       "<style scoped>\n",
       "    .dataframe tbody tr th:only-of-type {\n",
       "        vertical-align: middle;\n",
       "    }\n",
       "\n",
       "    .dataframe tbody tr th {\n",
       "        vertical-align: top;\n",
       "    }\n",
       "\n",
       "    .dataframe thead th {\n",
       "        text-align: right;\n",
       "    }\n",
       "</style>\n",
       "<table border=\"1\" class=\"dataframe\">\n",
       "  <thead>\n",
       "    <tr style=\"text-align: right;\">\n",
       "      <th></th>\n",
       "      <th>validated_time_rate</th>\n",
       "      <th>validated_time_rate_1</th>\n",
       "      <th>highest_version_mean_validated</th>\n",
       "    </tr>\n",
       "  </thead>\n",
       "  <tbody>\n",
       "    <tr>\n",
       "      <th>191</th>\n",
       "      <td>0.840556</td>\n",
       "      <td>0.425278</td>\n",
       "      <td>3.5</td>\n",
       "    </tr>\n",
       "    <tr>\n",
       "      <th>225</th>\n",
       "      <td>0.000000</td>\n",
       "      <td>0.336667</td>\n",
       "      <td>0.0</td>\n",
       "    </tr>\n",
       "    <tr>\n",
       "      <th>234</th>\n",
       "      <td>0.514444</td>\n",
       "      <td>0.318611</td>\n",
       "      <td>2.4</td>\n",
       "    </tr>\n",
       "    <tr>\n",
       "      <th>240</th>\n",
       "      <td>0.296111</td>\n",
       "      <td>0.225000</td>\n",
       "      <td>4.0</td>\n",
       "    </tr>\n",
       "    <tr>\n",
       "      <th>242</th>\n",
       "      <td>0.465556</td>\n",
       "      <td>0.244444</td>\n",
       "      <td>3.0</td>\n",
       "    </tr>\n",
       "  </tbody>\n",
       "</table>\n",
       "</div>"
      ],
      "text/plain": [
       "     validated_time_rate  validated_time_rate_1  \\\n",
       "191             0.840556               0.425278   \n",
       "225             0.000000               0.336667   \n",
       "234             0.514444               0.318611   \n",
       "240             0.296111               0.225000   \n",
       "242             0.465556               0.244444   \n",
       "\n",
       "     highest_version_mean_validated  \n",
       "191                             3.5  \n",
       "225                             0.0  \n",
       "234                             2.4  \n",
       "240                             4.0  \n",
       "242                             3.0  "
      ]
     },
     "execution_count": 28,
     "metadata": {},
     "output_type": "execute_result"
    }
   ],
   "source": [
    "draw(data, columns, nb_connection_1h)"
   ]
  },
  {
   "cell_type": "markdown",
   "metadata": {
    "id": "_dT9nV22rnLa"
   },
   "source": [
    "#### Middle Prompt -> Final Prompt"
   ]
  },
  {
   "cell_type": "code",
   "execution_count": 29,
   "metadata": {
    "id": "Ro707lW6tt8m"
   },
   "outputs": [],
   "source": [
    "columns.append(\"highest_version_mean_validated_1\")"
   ]
  },
  {
   "cell_type": "code",
   "execution_count": 30,
   "metadata": {
    "id": "Ee_fflH4tt6D"
   },
   "outputs": [],
   "source": [
    "data = highest_version_mean_validated(df, nb_connection_1h, data, beginning_timestamp, middle_timestamp, end_timestamp, sujet_range, prompt=1)"
   ]
  },
  {
   "cell_type": "code",
   "execution_count": 31,
   "metadata": {
    "colab": {
     "base_uri": "https://localhost:8080/",
     "height": 204
    },
    "id": "3ENoC8VEttnD",
    "outputId": "c544ba24-fd32-4f3e-ec7f-ee480a408e03"
   },
   "outputs": [
    {
     "data": {
      "text/html": [
       "<div>\n",
       "<style scoped>\n",
       "    .dataframe tbody tr th:only-of-type {\n",
       "        vertical-align: middle;\n",
       "    }\n",
       "\n",
       "    .dataframe tbody tr th {\n",
       "        vertical-align: top;\n",
       "    }\n",
       "\n",
       "    .dataframe thead th {\n",
       "        text-align: right;\n",
       "    }\n",
       "</style>\n",
       "<table border=\"1\" class=\"dataframe\">\n",
       "  <thead>\n",
       "    <tr style=\"text-align: right;\">\n",
       "      <th></th>\n",
       "      <th>validated_time_rate</th>\n",
       "      <th>validated_time_rate_1</th>\n",
       "      <th>highest_version_mean_validated</th>\n",
       "      <th>highest_version_mean_validated_1</th>\n",
       "    </tr>\n",
       "  </thead>\n",
       "  <tbody>\n",
       "    <tr>\n",
       "      <th>191</th>\n",
       "      <td>0.840556</td>\n",
       "      <td>0.425278</td>\n",
       "      <td>3.5</td>\n",
       "      <td>3.5</td>\n",
       "    </tr>\n",
       "    <tr>\n",
       "      <th>225</th>\n",
       "      <td>0.000000</td>\n",
       "      <td>0.336667</td>\n",
       "      <td>0.0</td>\n",
       "      <td>3.0</td>\n",
       "    </tr>\n",
       "    <tr>\n",
       "      <th>234</th>\n",
       "      <td>0.514444</td>\n",
       "      <td>0.318611</td>\n",
       "      <td>2.4</td>\n",
       "      <td>2.6</td>\n",
       "    </tr>\n",
       "    <tr>\n",
       "      <th>240</th>\n",
       "      <td>0.296111</td>\n",
       "      <td>0.225000</td>\n",
       "      <td>4.0</td>\n",
       "      <td>3.5</td>\n",
       "    </tr>\n",
       "    <tr>\n",
       "      <th>242</th>\n",
       "      <td>0.465556</td>\n",
       "      <td>0.244444</td>\n",
       "      <td>3.0</td>\n",
       "      <td>3.0</td>\n",
       "    </tr>\n",
       "  </tbody>\n",
       "</table>\n",
       "</div>"
      ],
      "text/plain": [
       "     validated_time_rate  validated_time_rate_1  \\\n",
       "191             0.840556               0.425278   \n",
       "225             0.000000               0.336667   \n",
       "234             0.514444               0.318611   \n",
       "240             0.296111               0.225000   \n",
       "242             0.465556               0.244444   \n",
       "\n",
       "     highest_version_mean_validated  highest_version_mean_validated_1  \n",
       "191                             3.5                               3.5  \n",
       "225                             0.0                               3.0  \n",
       "234                             2.4                               2.6  \n",
       "240                             4.0                               3.5  \n",
       "242                             3.0                               3.0  "
      ]
     },
     "execution_count": 31,
     "metadata": {},
     "output_type": "execute_result"
    }
   ],
   "source": [
    "draw(data, columns, nb_connection_1h)"
   ]
  },
  {
   "cell_type": "markdown",
   "metadata": {
    "id": "gMctmjstraYC"
   },
   "source": [
    "### Time spent on Help module\n",
    "\n",
    "Indicator name : \n",
    "* time_consulting_help\n",
    "\n",
    "Computation : \n",
    "* sum([For each subject : time spent on the help module])"
   ]
  },
  {
   "cell_type": "code",
   "execution_count": 32,
   "metadata": {
    "id": "GZTWDTo4v9rq"
   },
   "outputs": [],
   "source": [
    "def time_consulting_help(df, nb_connection_1h, data, beginning_timestamp, middle_timestamp, end_timestamp, sujet_range, prompt=0):\n",
    "    column_nav_sujet = list(df[\"navigation\"].columns).index(\"id_sujet\")\n",
    "    column_nav_version = list(df[\"navigation\"].columns).index(\"version\")\n",
    "    column_nav_module = list(df[\"navigation\"].columns).index(\"module\")\n",
    "    column_nav_timestamp = list(df[\"navigation\"].columns).index(\"timestamp\")\n",
    "    for i,id in enumerate(nb_connection_1h):\n",
    "        df_nav = df[\"navigation\"].query(\"id_connexion == {} and id_sujet in {}\".format(id, sujet_range))\n",
    "        index = get_index_timestamp(df_nav, beginning_timestamp[i], middle_timestamp[i]) if prompt == 0 else get_index_timestamp(df_nav, beginning_timestamp[i], end_timestamp[i])\n",
    "        df_nav = df_nav.iloc[index,:]\n",
    "        time_spent = timedelta(seconds=0)\n",
    "        for j in range(df_nav.shape[0]):\n",
    "            if df_nav.iloc[j,column_nav_module] == 'Aide':\n",
    "                sujet = df_nav.iloc[j,column_nav_sujet]\n",
    "                version = df_nav.iloc[j,column_nav_version]\n",
    "                time = df_nav.iloc[j,column_nav_timestamp]\n",
    "                for k in range(j+1, df_nav.shape[0]):\n",
    "                    if df_nav.iloc[k,column_nav_sujet] != sujet or df_nav.iloc[k,column_nav_version] != version or df_nav.iloc[k,column_nav_module] != 'Aide':\n",
    "                        time = df_nav.iloc[k,column_nav_timestamp] - time\n",
    "                        break\n",
    "                else:\n",
    "                    time = middle_timestamp[i] - time if prompt == 0 else end_timestamp[i] - time\n",
    "                time_spent += time\n",
    "        data[i].append(time_spent.total_seconds())\n",
    "    return data"
   ]
  },
  {
   "cell_type": "markdown",
   "metadata": {
    "id": "vr8j7jYqrtvC"
   },
   "source": [
    "#### Initial Prompt -> Middle Prompt"
   ]
  },
  {
   "cell_type": "code",
   "execution_count": 33,
   "metadata": {
    "id": "QkPSETyev150"
   },
   "outputs": [],
   "source": [
    "columns.append(\"time_consulting_help\")"
   ]
  },
  {
   "cell_type": "code",
   "execution_count": 34,
   "metadata": {
    "id": "byhjCaWKv1xs"
   },
   "outputs": [],
   "source": [
    "data = time_consulting_help(df, nb_connection_1h, data, beginning_timestamp, middle_timestamp, end_timestamp, sujet_range, prompt=0)"
   ]
  },
  {
   "cell_type": "code",
   "execution_count": 35,
   "metadata": {
    "colab": {
     "base_uri": "https://localhost:8080/",
     "height": 204
    },
    "id": "PL0l-1ODv1vK",
    "outputId": "57afb1fe-36a7-4a27-b030-0b1b46a9cfe7"
   },
   "outputs": [
    {
     "data": {
      "text/html": [
       "<div>\n",
       "<style scoped>\n",
       "    .dataframe tbody tr th:only-of-type {\n",
       "        vertical-align: middle;\n",
       "    }\n",
       "\n",
       "    .dataframe tbody tr th {\n",
       "        vertical-align: top;\n",
       "    }\n",
       "\n",
       "    .dataframe thead th {\n",
       "        text-align: right;\n",
       "    }\n",
       "</style>\n",
       "<table border=\"1\" class=\"dataframe\">\n",
       "  <thead>\n",
       "    <tr style=\"text-align: right;\">\n",
       "      <th></th>\n",
       "      <th>validated_time_rate</th>\n",
       "      <th>validated_time_rate_1</th>\n",
       "      <th>highest_version_mean_validated</th>\n",
       "      <th>highest_version_mean_validated_1</th>\n",
       "      <th>time_consulting_help</th>\n",
       "    </tr>\n",
       "  </thead>\n",
       "  <tbody>\n",
       "    <tr>\n",
       "      <th>191</th>\n",
       "      <td>0.840556</td>\n",
       "      <td>0.425278</td>\n",
       "      <td>3.5</td>\n",
       "      <td>3.5</td>\n",
       "      <td>0.0</td>\n",
       "    </tr>\n",
       "    <tr>\n",
       "      <th>225</th>\n",
       "      <td>0.000000</td>\n",
       "      <td>0.336667</td>\n",
       "      <td>0.0</td>\n",
       "      <td>3.0</td>\n",
       "      <td>73.0</td>\n",
       "    </tr>\n",
       "    <tr>\n",
       "      <th>234</th>\n",
       "      <td>0.514444</td>\n",
       "      <td>0.318611</td>\n",
       "      <td>2.4</td>\n",
       "      <td>2.6</td>\n",
       "      <td>62.0</td>\n",
       "    </tr>\n",
       "    <tr>\n",
       "      <th>240</th>\n",
       "      <td>0.296111</td>\n",
       "      <td>0.225000</td>\n",
       "      <td>4.0</td>\n",
       "      <td>3.5</td>\n",
       "      <td>10.0</td>\n",
       "    </tr>\n",
       "    <tr>\n",
       "      <th>242</th>\n",
       "      <td>0.465556</td>\n",
       "      <td>0.244444</td>\n",
       "      <td>3.0</td>\n",
       "      <td>3.0</td>\n",
       "      <td>0.0</td>\n",
       "    </tr>\n",
       "  </tbody>\n",
       "</table>\n",
       "</div>"
      ],
      "text/plain": [
       "     validated_time_rate  validated_time_rate_1  \\\n",
       "191             0.840556               0.425278   \n",
       "225             0.000000               0.336667   \n",
       "234             0.514444               0.318611   \n",
       "240             0.296111               0.225000   \n",
       "242             0.465556               0.244444   \n",
       "\n",
       "     highest_version_mean_validated  highest_version_mean_validated_1  \\\n",
       "191                             3.5                               3.5   \n",
       "225                             0.0                               3.0   \n",
       "234                             2.4                               2.6   \n",
       "240                             4.0                               3.5   \n",
       "242                             3.0                               3.0   \n",
       "\n",
       "     time_consulting_help  \n",
       "191                   0.0  \n",
       "225                  73.0  \n",
       "234                  62.0  \n",
       "240                  10.0  \n",
       "242                   0.0  "
      ]
     },
     "execution_count": 35,
     "metadata": {},
     "output_type": "execute_result"
    }
   ],
   "source": [
    "draw(data, columns, nb_connection_1h)"
   ]
  },
  {
   "cell_type": "markdown",
   "metadata": {
    "id": "TbZ_VYiPrnYb"
   },
   "source": [
    "#### Middle Prompt -> Final Prompt"
   ]
  },
  {
   "cell_type": "code",
   "execution_count": 36,
   "metadata": {
    "id": "bcphjZn4v2h5"
   },
   "outputs": [],
   "source": [
    "columns.append(\"time_consulting_help_1\")"
   ]
  },
  {
   "cell_type": "code",
   "execution_count": 37,
   "metadata": {
    "id": "BAUjxzZzv2fE"
   },
   "outputs": [],
   "source": [
    "data = time_consulting_help(df, nb_connection_1h, data, beginning_timestamp, middle_timestamp, end_timestamp, sujet_range, prompt=1)"
   ]
  },
  {
   "cell_type": "code",
   "execution_count": 38,
   "metadata": {
    "colab": {
     "base_uri": "https://localhost:8080/",
     "height": 204
    },
    "id": "90T9vbL4v2c9",
    "outputId": "efae055e-6f1f-4c25-8dce-edbf6abc6cb3"
   },
   "outputs": [
    {
     "data": {
      "text/html": [
       "<div>\n",
       "<style scoped>\n",
       "    .dataframe tbody tr th:only-of-type {\n",
       "        vertical-align: middle;\n",
       "    }\n",
       "\n",
       "    .dataframe tbody tr th {\n",
       "        vertical-align: top;\n",
       "    }\n",
       "\n",
       "    .dataframe thead th {\n",
       "        text-align: right;\n",
       "    }\n",
       "</style>\n",
       "<table border=\"1\" class=\"dataframe\">\n",
       "  <thead>\n",
       "    <tr style=\"text-align: right;\">\n",
       "      <th></th>\n",
       "      <th>validated_time_rate</th>\n",
       "      <th>validated_time_rate_1</th>\n",
       "      <th>highest_version_mean_validated</th>\n",
       "      <th>highest_version_mean_validated_1</th>\n",
       "      <th>time_consulting_help</th>\n",
       "      <th>time_consulting_help_1</th>\n",
       "    </tr>\n",
       "  </thead>\n",
       "  <tbody>\n",
       "    <tr>\n",
       "      <th>191</th>\n",
       "      <td>0.840556</td>\n",
       "      <td>0.425278</td>\n",
       "      <td>3.5</td>\n",
       "      <td>3.5</td>\n",
       "      <td>0.0</td>\n",
       "      <td>0.0</td>\n",
       "    </tr>\n",
       "    <tr>\n",
       "      <th>225</th>\n",
       "      <td>0.000000</td>\n",
       "      <td>0.336667</td>\n",
       "      <td>0.0</td>\n",
       "      <td>3.0</td>\n",
       "      <td>73.0</td>\n",
       "      <td>75.0</td>\n",
       "    </tr>\n",
       "    <tr>\n",
       "      <th>234</th>\n",
       "      <td>0.514444</td>\n",
       "      <td>0.318611</td>\n",
       "      <td>2.4</td>\n",
       "      <td>2.6</td>\n",
       "      <td>62.0</td>\n",
       "      <td>62.0</td>\n",
       "    </tr>\n",
       "    <tr>\n",
       "      <th>240</th>\n",
       "      <td>0.296111</td>\n",
       "      <td>0.225000</td>\n",
       "      <td>4.0</td>\n",
       "      <td>3.5</td>\n",
       "      <td>10.0</td>\n",
       "      <td>23.0</td>\n",
       "    </tr>\n",
       "    <tr>\n",
       "      <th>242</th>\n",
       "      <td>0.465556</td>\n",
       "      <td>0.244444</td>\n",
       "      <td>3.0</td>\n",
       "      <td>3.0</td>\n",
       "      <td>0.0</td>\n",
       "      <td>4.0</td>\n",
       "    </tr>\n",
       "  </tbody>\n",
       "</table>\n",
       "</div>"
      ],
      "text/plain": [
       "     validated_time_rate  validated_time_rate_1  \\\n",
       "191             0.840556               0.425278   \n",
       "225             0.000000               0.336667   \n",
       "234             0.514444               0.318611   \n",
       "240             0.296111               0.225000   \n",
       "242             0.465556               0.244444   \n",
       "\n",
       "     highest_version_mean_validated  highest_version_mean_validated_1  \\\n",
       "191                             3.5                               3.5   \n",
       "225                             0.0                               3.0   \n",
       "234                             2.4                               2.6   \n",
       "240                             4.0                               3.5   \n",
       "242                             3.0                               3.0   \n",
       "\n",
       "     time_consulting_help  time_consulting_help_1  \n",
       "191                   0.0                     0.0  \n",
       "225                  73.0                    75.0  \n",
       "234                  62.0                    62.0  \n",
       "240                  10.0                    23.0  \n",
       "242                   0.0                     4.0  "
      ]
     },
     "execution_count": 38,
     "metadata": {},
     "output_type": "execute_result"
    }
   ],
   "source": [
    "draw(data, columns, nb_connection_1h)"
   ]
  },
  {
   "cell_type": "markdown",
   "metadata": {
    "id": "ay831-FNraqq"
   },
   "source": [
    "### Mean of experimentation+Validation number / subject experimented\n",
    "\n",
    "Indicator name : \n",
    "* mean_test_per_subject\n",
    "\n",
    "Computation : \n",
    "* x = [experimentation number per subject experimented]\n",
    "* sum(x) / count(x)"
   ]
  },
  {
   "cell_type": "code",
   "execution_count": 39,
   "metadata": {
    "id": "FXwoIjma4deF"
   },
   "outputs": [],
   "source": [
    "def mean_test_per_subject(df, nb_connection_1h, data, beginning_timestamp, middle_timestamp, end_timestamp, sujet_range, prompt=0):\n",
    "    for i,id in enumerate(nb_connection_1h):\n",
    "        df_val = df[\"validation\"].query(\"id_connexion == {} and id_sujet in {}\".format(id, sujet_range))\n",
    "        index = get_index_timestamp(df_val, beginning_timestamp[i], middle_timestamp[i]) if prompt == 0 else get_index_timestamp(df_val, beginning_timestamp[i], end_timestamp[i])\n",
    "        df_val = df_val.iloc[index,:]\n",
    "        exp_number = list(df_val[[\"id_sujet\", \"version\"]].value_counts())\n",
    "        data[i].append(sum(exp_number) / len(exp_number) if len(exp_number) != 0 else 0)\n",
    "    return data"
   ]
  },
  {
   "cell_type": "markdown",
   "metadata": {
    "id": "5hjGNL7LrkQC"
   },
   "source": [
    "#### Initial Prompt -> Middle Prompt"
   ]
  },
  {
   "cell_type": "code",
   "execution_count": 40,
   "metadata": {
    "id": "18U1wcXr4VAW"
   },
   "outputs": [],
   "source": [
    "columns.append(\"mean_test_per_subject\")"
   ]
  },
  {
   "cell_type": "code",
   "execution_count": 41,
   "metadata": {
    "id": "U-tsMZnX4U9h"
   },
   "outputs": [],
   "source": [
    "data = mean_test_per_subject(df, nb_connection_1h, data, beginning_timestamp, middle_timestamp, end_timestamp, sujet_range, prompt=0)"
   ]
  },
  {
   "cell_type": "code",
   "execution_count": 42,
   "metadata": {
    "colab": {
     "base_uri": "https://localhost:8080/",
     "height": 204
    },
    "id": "f1vnmRK_4U1f",
    "outputId": "fea4775a-b4bc-407c-e733-6196d9fdbc05"
   },
   "outputs": [
    {
     "data": {
      "text/html": [
       "<div>\n",
       "<style scoped>\n",
       "    .dataframe tbody tr th:only-of-type {\n",
       "        vertical-align: middle;\n",
       "    }\n",
       "\n",
       "    .dataframe tbody tr th {\n",
       "        vertical-align: top;\n",
       "    }\n",
       "\n",
       "    .dataframe thead th {\n",
       "        text-align: right;\n",
       "    }\n",
       "</style>\n",
       "<table border=\"1\" class=\"dataframe\">\n",
       "  <thead>\n",
       "    <tr style=\"text-align: right;\">\n",
       "      <th></th>\n",
       "      <th>validated_time_rate</th>\n",
       "      <th>validated_time_rate_1</th>\n",
       "      <th>highest_version_mean_validated</th>\n",
       "      <th>highest_version_mean_validated_1</th>\n",
       "      <th>time_consulting_help</th>\n",
       "      <th>time_consulting_help_1</th>\n",
       "      <th>mean_test_per_subject</th>\n",
       "    </tr>\n",
       "  </thead>\n",
       "  <tbody>\n",
       "    <tr>\n",
       "      <th>191</th>\n",
       "      <td>0.840556</td>\n",
       "      <td>0.425278</td>\n",
       "      <td>3.5</td>\n",
       "      <td>3.5</td>\n",
       "      <td>0.0</td>\n",
       "      <td>0.0</td>\n",
       "      <td>3.250</td>\n",
       "    </tr>\n",
       "    <tr>\n",
       "      <th>225</th>\n",
       "      <td>0.000000</td>\n",
       "      <td>0.336667</td>\n",
       "      <td>0.0</td>\n",
       "      <td>3.0</td>\n",
       "      <td>73.0</td>\n",
       "      <td>75.0</td>\n",
       "      <td>4.000</td>\n",
       "    </tr>\n",
       "    <tr>\n",
       "      <th>234</th>\n",
       "      <td>0.514444</td>\n",
       "      <td>0.318611</td>\n",
       "      <td>2.4</td>\n",
       "      <td>2.6</td>\n",
       "      <td>62.0</td>\n",
       "      <td>62.0</td>\n",
       "      <td>4.125</td>\n",
       "    </tr>\n",
       "    <tr>\n",
       "      <th>240</th>\n",
       "      <td>0.296111</td>\n",
       "      <td>0.225000</td>\n",
       "      <td>4.0</td>\n",
       "      <td>3.5</td>\n",
       "      <td>10.0</td>\n",
       "      <td>23.0</td>\n",
       "      <td>15.500</td>\n",
       "    </tr>\n",
       "    <tr>\n",
       "      <th>242</th>\n",
       "      <td>0.465556</td>\n",
       "      <td>0.244444</td>\n",
       "      <td>3.0</td>\n",
       "      <td>3.0</td>\n",
       "      <td>0.0</td>\n",
       "      <td>4.0</td>\n",
       "      <td>1.000</td>\n",
       "    </tr>\n",
       "  </tbody>\n",
       "</table>\n",
       "</div>"
      ],
      "text/plain": [
       "     validated_time_rate  validated_time_rate_1  \\\n",
       "191             0.840556               0.425278   \n",
       "225             0.000000               0.336667   \n",
       "234             0.514444               0.318611   \n",
       "240             0.296111               0.225000   \n",
       "242             0.465556               0.244444   \n",
       "\n",
       "     highest_version_mean_validated  highest_version_mean_validated_1  \\\n",
       "191                             3.5                               3.5   \n",
       "225                             0.0                               3.0   \n",
       "234                             2.4                               2.6   \n",
       "240                             4.0                               3.5   \n",
       "242                             3.0                               3.0   \n",
       "\n",
       "     time_consulting_help  time_consulting_help_1  mean_test_per_subject  \n",
       "191                   0.0                     0.0                  3.250  \n",
       "225                  73.0                    75.0                  4.000  \n",
       "234                  62.0                    62.0                  4.125  \n",
       "240                  10.0                    23.0                 15.500  \n",
       "242                   0.0                     4.0                  1.000  "
      ]
     },
     "execution_count": 42,
     "metadata": {},
     "output_type": "execute_result"
    }
   ],
   "source": [
    "draw(data, columns, nb_connection_1h)"
   ]
  },
  {
   "cell_type": "markdown",
   "metadata": {
    "id": "cbJBUmjnrnj-"
   },
   "source": [
    "#### Middle Prompt -> Final Prompt"
   ]
  },
  {
   "cell_type": "code",
   "execution_count": 43,
   "metadata": {
    "id": "xOhQPkR24Vni"
   },
   "outputs": [],
   "source": [
    "columns.append(\"mean_test_per_subject_1\")"
   ]
  },
  {
   "cell_type": "code",
   "execution_count": 44,
   "metadata": {
    "id": "18Mv4o6W4Vku"
   },
   "outputs": [],
   "source": [
    "data = mean_test_per_subject(df, nb_connection_1h, data, beginning_timestamp, middle_timestamp, end_timestamp, sujet_range, prompt=1)"
   ]
  },
  {
   "cell_type": "code",
   "execution_count": 45,
   "metadata": {
    "colab": {
     "base_uri": "https://localhost:8080/",
     "height": 224
    },
    "id": "PXUClLRY4Vhb",
    "outputId": "f5bb1080-efac-413b-9d55-f8023c5e5e21"
   },
   "outputs": [
    {
     "data": {
      "text/html": [
       "<div>\n",
       "<style scoped>\n",
       "    .dataframe tbody tr th:only-of-type {\n",
       "        vertical-align: middle;\n",
       "    }\n",
       "\n",
       "    .dataframe tbody tr th {\n",
       "        vertical-align: top;\n",
       "    }\n",
       "\n",
       "    .dataframe thead th {\n",
       "        text-align: right;\n",
       "    }\n",
       "</style>\n",
       "<table border=\"1\" class=\"dataframe\">\n",
       "  <thead>\n",
       "    <tr style=\"text-align: right;\">\n",
       "      <th></th>\n",
       "      <th>validated_time_rate</th>\n",
       "      <th>validated_time_rate_1</th>\n",
       "      <th>highest_version_mean_validated</th>\n",
       "      <th>highest_version_mean_validated_1</th>\n",
       "      <th>time_consulting_help</th>\n",
       "      <th>time_consulting_help_1</th>\n",
       "      <th>mean_test_per_subject</th>\n",
       "      <th>mean_test_per_subject_1</th>\n",
       "    </tr>\n",
       "  </thead>\n",
       "  <tbody>\n",
       "    <tr>\n",
       "      <th>191</th>\n",
       "      <td>0.840556</td>\n",
       "      <td>0.425278</td>\n",
       "      <td>3.5</td>\n",
       "      <td>3.5</td>\n",
       "      <td>0.0</td>\n",
       "      <td>0.0</td>\n",
       "      <td>3.250</td>\n",
       "      <td>11.000000</td>\n",
       "    </tr>\n",
       "    <tr>\n",
       "      <th>225</th>\n",
       "      <td>0.000000</td>\n",
       "      <td>0.336667</td>\n",
       "      <td>0.0</td>\n",
       "      <td>3.0</td>\n",
       "      <td>73.0</td>\n",
       "      <td>75.0</td>\n",
       "      <td>4.000</td>\n",
       "      <td>4.888889</td>\n",
       "    </tr>\n",
       "    <tr>\n",
       "      <th>234</th>\n",
       "      <td>0.514444</td>\n",
       "      <td>0.318611</td>\n",
       "      <td>2.4</td>\n",
       "      <td>2.6</td>\n",
       "      <td>62.0</td>\n",
       "      <td>62.0</td>\n",
       "      <td>4.125</td>\n",
       "      <td>3.800000</td>\n",
       "    </tr>\n",
       "    <tr>\n",
       "      <th>240</th>\n",
       "      <td>0.296111</td>\n",
       "      <td>0.225000</td>\n",
       "      <td>4.0</td>\n",
       "      <td>3.5</td>\n",
       "      <td>10.0</td>\n",
       "      <td>23.0</td>\n",
       "      <td>15.500</td>\n",
       "      <td>12.666667</td>\n",
       "    </tr>\n",
       "    <tr>\n",
       "      <th>242</th>\n",
       "      <td>0.465556</td>\n",
       "      <td>0.244444</td>\n",
       "      <td>3.0</td>\n",
       "      <td>3.0</td>\n",
       "      <td>0.0</td>\n",
       "      <td>4.0</td>\n",
       "      <td>1.000</td>\n",
       "      <td>14.000000</td>\n",
       "    </tr>\n",
       "  </tbody>\n",
       "</table>\n",
       "</div>"
      ],
      "text/plain": [
       "     validated_time_rate  validated_time_rate_1  \\\n",
       "191             0.840556               0.425278   \n",
       "225             0.000000               0.336667   \n",
       "234             0.514444               0.318611   \n",
       "240             0.296111               0.225000   \n",
       "242             0.465556               0.244444   \n",
       "\n",
       "     highest_version_mean_validated  highest_version_mean_validated_1  \\\n",
       "191                             3.5                               3.5   \n",
       "225                             0.0                               3.0   \n",
       "234                             2.4                               2.6   \n",
       "240                             4.0                               3.5   \n",
       "242                             3.0                               3.0   \n",
       "\n",
       "     time_consulting_help  time_consulting_help_1  mean_test_per_subject  \\\n",
       "191                   0.0                     0.0                  3.250   \n",
       "225                  73.0                    75.0                  4.000   \n",
       "234                  62.0                    62.0                  4.125   \n",
       "240                  10.0                    23.0                 15.500   \n",
       "242                   0.0                     4.0                  1.000   \n",
       "\n",
       "     mean_test_per_subject_1  \n",
       "191                11.000000  \n",
       "225                 4.888889  \n",
       "234                 3.800000  \n",
       "240                12.666667  \n",
       "242                14.000000  "
      ]
     },
     "execution_count": 45,
     "metadata": {},
     "output_type": "execute_result"
    }
   ],
   "source": [
    "draw(data, columns, nb_connection_1h)"
   ]
  },
  {
   "cell_type": "markdown",
   "metadata": {
    "id": "7wnmsehaEtNj"
   },
   "source": [
    "### Mean Size Modification per test\n",
    "\n",
    "Indicator name : \n",
    "* mean_size_modification_per_test\n",
    "\n",
    "Computation : \n",
    "* x = [modification number per subject experimented]\n",
    "* sum(x) / count(x)"
   ]
  },
  {
   "cell_type": "code",
   "execution_count": 46,
   "metadata": {
    "id": "cR-2l7kXEsbp"
   },
   "outputs": [],
   "source": [
    "def mean_size_modification_per_test(df, nb_connection_1h, data, beginning_timestamp, middle_timestamp, end_timestamp, sujet_range, prompt=0):\n",
    "    column_val_sujet = list(df[\"validation\"].columns).index(\"id_sujet\")\n",
    "    column_val_version = list(df[\"validation\"].columns).index(\"version\")\n",
    "    column_val_timestamp = list(df[\"validation\"].columns).index(\"timestamp\")\n",
    "    column_mod_size = list(df[\"modification\"].columns).index(\"taille_reponse\")\n",
    "    for i,id in enumerate(nb_connection_1h):\n",
    "        df_val = df[\"validation\"].query(\"id_connexion == {} and id_sujet in {}\".format(id, sujet_range))\n",
    "        index = get_index_timestamp(df_val, beginning_timestamp[i], middle_timestamp[i]) if prompt == 0 else get_index_timestamp(df_val, beginning_timestamp[i], end_timestamp[i])\n",
    "        df_val = df_val.iloc[index,:]\n",
    "        modifications_size = []\n",
    "        for j in range(df_val.shape[0]):\n",
    "            sujet = df_val.iloc[j, column_val_sujet]\n",
    "            version = df_val.iloc[j, column_val_version]\n",
    "            timestamp = df_val.iloc[j, column_val_timestamp]\n",
    "            column_val_timestamp\n",
    "            df_mod = df[\"modification\"].query(\"id_connexion == {} and id_sujet == {} and version == {} and id_sujet in {}\".format(id, sujet, version, sujet_range))\n",
    "            index = get_index_timestamp(df_mod, beginning_timestamp[i], timestamp)\n",
    "            df_mod = df_mod.iloc[index,:]\n",
    "            modifications_size.append(df_mod.iloc[df_mod.shape[0]-1, column_mod_size] if df_mod.shape[0] != 0 else 0)\n",
    "        if len(modifications_size) != 0:\n",
    "            for j in range(len(modifications_size)-1,0,-1):\n",
    "                modifications_size[j] = abs(modifications_size[j]-modifications_size[j-1])\n",
    "        data[i].append(sum(modifications_size) / len(modifications_size) if len(modifications_size) != 0 else 0)\n",
    "    return data"
   ]
  },
  {
   "cell_type": "markdown",
   "metadata": {
    "id": "KvEaQuukHD8w"
   },
   "source": [
    "#### Initial Prompt -> Middle Prompt"
   ]
  },
  {
   "cell_type": "code",
   "execution_count": 47,
   "metadata": {
    "id": "4tWW6XeOHGxL"
   },
   "outputs": [],
   "source": [
    "columns.append(\"mean_size_modification_per_test\")"
   ]
  },
  {
   "cell_type": "code",
   "execution_count": 48,
   "metadata": {
    "id": "J_l18dfZHGrM"
   },
   "outputs": [],
   "source": [
    "data = mean_size_modification_per_test(df, nb_connection_1h, data, beginning_timestamp, middle_timestamp, end_timestamp, sujet_range, prompt=0)"
   ]
  },
  {
   "cell_type": "code",
   "execution_count": 49,
   "metadata": {
    "colab": {
     "base_uri": "https://localhost:8080/",
     "height": 224
    },
    "id": "0R0H56sAHGot",
    "outputId": "99619e47-a4e7-44cb-cdf3-db97ef2b9201"
   },
   "outputs": [
    {
     "data": {
      "text/html": [
       "<div>\n",
       "<style scoped>\n",
       "    .dataframe tbody tr th:only-of-type {\n",
       "        vertical-align: middle;\n",
       "    }\n",
       "\n",
       "    .dataframe tbody tr th {\n",
       "        vertical-align: top;\n",
       "    }\n",
       "\n",
       "    .dataframe thead th {\n",
       "        text-align: right;\n",
       "    }\n",
       "</style>\n",
       "<table border=\"1\" class=\"dataframe\">\n",
       "  <thead>\n",
       "    <tr style=\"text-align: right;\">\n",
       "      <th></th>\n",
       "      <th>validated_time_rate</th>\n",
       "      <th>validated_time_rate_1</th>\n",
       "      <th>highest_version_mean_validated</th>\n",
       "      <th>highest_version_mean_validated_1</th>\n",
       "      <th>time_consulting_help</th>\n",
       "      <th>time_consulting_help_1</th>\n",
       "      <th>mean_test_per_subject</th>\n",
       "      <th>mean_test_per_subject_1</th>\n",
       "      <th>mean_size_modification_per_test</th>\n",
       "    </tr>\n",
       "  </thead>\n",
       "  <tbody>\n",
       "    <tr>\n",
       "      <th>191</th>\n",
       "      <td>0.840556</td>\n",
       "      <td>0.425278</td>\n",
       "      <td>3.5</td>\n",
       "      <td>3.5</td>\n",
       "      <td>0.0</td>\n",
       "      <td>0.0</td>\n",
       "      <td>3.250</td>\n",
       "      <td>11.000000</td>\n",
       "      <td>296.230769</td>\n",
       "    </tr>\n",
       "    <tr>\n",
       "      <th>225</th>\n",
       "      <td>0.000000</td>\n",
       "      <td>0.336667</td>\n",
       "      <td>0.0</td>\n",
       "      <td>3.0</td>\n",
       "      <td>73.0</td>\n",
       "      <td>75.0</td>\n",
       "      <td>4.000</td>\n",
       "      <td>4.888889</td>\n",
       "      <td>164.541667</td>\n",
       "    </tr>\n",
       "    <tr>\n",
       "      <th>234</th>\n",
       "      <td>0.514444</td>\n",
       "      <td>0.318611</td>\n",
       "      <td>2.4</td>\n",
       "      <td>2.6</td>\n",
       "      <td>62.0</td>\n",
       "      <td>62.0</td>\n",
       "      <td>4.125</td>\n",
       "      <td>3.800000</td>\n",
       "      <td>226.939394</td>\n",
       "    </tr>\n",
       "    <tr>\n",
       "      <th>240</th>\n",
       "      <td>0.296111</td>\n",
       "      <td>0.225000</td>\n",
       "      <td>4.0</td>\n",
       "      <td>3.5</td>\n",
       "      <td>10.0</td>\n",
       "      <td>23.0</td>\n",
       "      <td>15.500</td>\n",
       "      <td>12.666667</td>\n",
       "      <td>105.500000</td>\n",
       "    </tr>\n",
       "    <tr>\n",
       "      <th>242</th>\n",
       "      <td>0.465556</td>\n",
       "      <td>0.244444</td>\n",
       "      <td>3.0</td>\n",
       "      <td>3.0</td>\n",
       "      <td>0.0</td>\n",
       "      <td>4.0</td>\n",
       "      <td>1.000</td>\n",
       "      <td>14.000000</td>\n",
       "      <td>1788.000000</td>\n",
       "    </tr>\n",
       "  </tbody>\n",
       "</table>\n",
       "</div>"
      ],
      "text/plain": [
       "     validated_time_rate  validated_time_rate_1  \\\n",
       "191             0.840556               0.425278   \n",
       "225             0.000000               0.336667   \n",
       "234             0.514444               0.318611   \n",
       "240             0.296111               0.225000   \n",
       "242             0.465556               0.244444   \n",
       "\n",
       "     highest_version_mean_validated  highest_version_mean_validated_1  \\\n",
       "191                             3.5                               3.5   \n",
       "225                             0.0                               3.0   \n",
       "234                             2.4                               2.6   \n",
       "240                             4.0                               3.5   \n",
       "242                             3.0                               3.0   \n",
       "\n",
       "     time_consulting_help  time_consulting_help_1  mean_test_per_subject  \\\n",
       "191                   0.0                     0.0                  3.250   \n",
       "225                  73.0                    75.0                  4.000   \n",
       "234                  62.0                    62.0                  4.125   \n",
       "240                  10.0                    23.0                 15.500   \n",
       "242                   0.0                     4.0                  1.000   \n",
       "\n",
       "     mean_test_per_subject_1  mean_size_modification_per_test  \n",
       "191                11.000000                       296.230769  \n",
       "225                 4.888889                       164.541667  \n",
       "234                 3.800000                       226.939394  \n",
       "240                12.666667                       105.500000  \n",
       "242                14.000000                      1788.000000  "
      ]
     },
     "execution_count": 49,
     "metadata": {},
     "output_type": "execute_result"
    }
   ],
   "source": [
    "draw(data, columns, nb_connection_1h)"
   ]
  },
  {
   "cell_type": "markdown",
   "metadata": {
    "id": "VBK6QalgHEYW"
   },
   "source": [
    "#### Middle Prompt -> Final Prompt"
   ]
  },
  {
   "cell_type": "code",
   "execution_count": 50,
   "metadata": {
    "id": "hMUy13cXHHkf"
   },
   "outputs": [],
   "source": [
    "columns.append(\"mean_size_modification_per_test_1\")"
   ]
  },
  {
   "cell_type": "code",
   "execution_count": 51,
   "metadata": {
    "id": "FgDWTFEiHHiT"
   },
   "outputs": [],
   "source": [
    "data = mean_size_modification_per_test(df, nb_connection_1h, data, beginning_timestamp, middle_timestamp, end_timestamp, sujet_range, prompt=1)"
   ]
  },
  {
   "cell_type": "code",
   "execution_count": 52,
   "metadata": {
    "colab": {
     "base_uri": "https://localhost:8080/",
     "height": 224
    },
    "id": "EPutcQNUHHfw",
    "outputId": "550cef1b-793e-41d8-c029-e4b62f03169a"
   },
   "outputs": [
    {
     "data": {
      "text/html": [
       "<div>\n",
       "<style scoped>\n",
       "    .dataframe tbody tr th:only-of-type {\n",
       "        vertical-align: middle;\n",
       "    }\n",
       "\n",
       "    .dataframe tbody tr th {\n",
       "        vertical-align: top;\n",
       "    }\n",
       "\n",
       "    .dataframe thead th {\n",
       "        text-align: right;\n",
       "    }\n",
       "</style>\n",
       "<table border=\"1\" class=\"dataframe\">\n",
       "  <thead>\n",
       "    <tr style=\"text-align: right;\">\n",
       "      <th></th>\n",
       "      <th>validated_time_rate</th>\n",
       "      <th>validated_time_rate_1</th>\n",
       "      <th>highest_version_mean_validated</th>\n",
       "      <th>highest_version_mean_validated_1</th>\n",
       "      <th>time_consulting_help</th>\n",
       "      <th>time_consulting_help_1</th>\n",
       "      <th>mean_test_per_subject</th>\n",
       "      <th>mean_test_per_subject_1</th>\n",
       "      <th>mean_size_modification_per_test</th>\n",
       "      <th>mean_size_modification_per_test_1</th>\n",
       "    </tr>\n",
       "  </thead>\n",
       "  <tbody>\n",
       "    <tr>\n",
       "      <th>191</th>\n",
       "      <td>0.840556</td>\n",
       "      <td>0.425278</td>\n",
       "      <td>3.5</td>\n",
       "      <td>3.5</td>\n",
       "      <td>0.0</td>\n",
       "      <td>0.0</td>\n",
       "      <td>3.250</td>\n",
       "      <td>11.000000</td>\n",
       "      <td>296.230769</td>\n",
       "      <td>207.750000</td>\n",
       "    </tr>\n",
       "    <tr>\n",
       "      <th>225</th>\n",
       "      <td>0.000000</td>\n",
       "      <td>0.336667</td>\n",
       "      <td>0.0</td>\n",
       "      <td>3.0</td>\n",
       "      <td>73.0</td>\n",
       "      <td>75.0</td>\n",
       "      <td>4.000</td>\n",
       "      <td>4.888889</td>\n",
       "      <td>164.541667</td>\n",
       "      <td>196.545455</td>\n",
       "    </tr>\n",
       "    <tr>\n",
       "      <th>234</th>\n",
       "      <td>0.514444</td>\n",
       "      <td>0.318611</td>\n",
       "      <td>2.4</td>\n",
       "      <td>2.6</td>\n",
       "      <td>62.0</td>\n",
       "      <td>62.0</td>\n",
       "      <td>4.125</td>\n",
       "      <td>3.800000</td>\n",
       "      <td>226.939394</td>\n",
       "      <td>286.421053</td>\n",
       "    </tr>\n",
       "    <tr>\n",
       "      <th>240</th>\n",
       "      <td>0.296111</td>\n",
       "      <td>0.225000</td>\n",
       "      <td>4.0</td>\n",
       "      <td>3.5</td>\n",
       "      <td>10.0</td>\n",
       "      <td>23.0</td>\n",
       "      <td>15.500</td>\n",
       "      <td>12.666667</td>\n",
       "      <td>105.500000</td>\n",
       "      <td>96.947368</td>\n",
       "    </tr>\n",
       "    <tr>\n",
       "      <th>242</th>\n",
       "      <td>0.465556</td>\n",
       "      <td>0.244444</td>\n",
       "      <td>3.0</td>\n",
       "      <td>3.0</td>\n",
       "      <td>0.0</td>\n",
       "      <td>4.0</td>\n",
       "      <td>1.000</td>\n",
       "      <td>14.000000</td>\n",
       "      <td>1788.000000</td>\n",
       "      <td>129.892857</td>\n",
       "    </tr>\n",
       "  </tbody>\n",
       "</table>\n",
       "</div>"
      ],
      "text/plain": [
       "     validated_time_rate  validated_time_rate_1  \\\n",
       "191             0.840556               0.425278   \n",
       "225             0.000000               0.336667   \n",
       "234             0.514444               0.318611   \n",
       "240             0.296111               0.225000   \n",
       "242             0.465556               0.244444   \n",
       "\n",
       "     highest_version_mean_validated  highest_version_mean_validated_1  \\\n",
       "191                             3.5                               3.5   \n",
       "225                             0.0                               3.0   \n",
       "234                             2.4                               2.6   \n",
       "240                             4.0                               3.5   \n",
       "242                             3.0                               3.0   \n",
       "\n",
       "     time_consulting_help  time_consulting_help_1  mean_test_per_subject  \\\n",
       "191                   0.0                     0.0                  3.250   \n",
       "225                  73.0                    75.0                  4.000   \n",
       "234                  62.0                    62.0                  4.125   \n",
       "240                  10.0                    23.0                 15.500   \n",
       "242                   0.0                     4.0                  1.000   \n",
       "\n",
       "     mean_test_per_subject_1  mean_size_modification_per_test  \\\n",
       "191                11.000000                       296.230769   \n",
       "225                 4.888889                       164.541667   \n",
       "234                 3.800000                       226.939394   \n",
       "240                12.666667                       105.500000   \n",
       "242                14.000000                      1788.000000   \n",
       "\n",
       "     mean_size_modification_per_test_1  \n",
       "191                         207.750000  \n",
       "225                         196.545455  \n",
       "234                         286.421053  \n",
       "240                          96.947368  \n",
       "242                         129.892857  "
      ]
     },
     "execution_count": 52,
     "metadata": {},
     "output_type": "execute_result"
    }
   ],
   "source": [
    "draw(data, columns, nb_connection_1h)"
   ]
  },
  {
   "cell_type": "markdown",
   "metadata": {
    "id": "pT3gaPcDrfHa"
   },
   "source": [
    "### Mean of modification per subject experimented or validated\n",
    "\n",
    "Indicator name : \n",
    "* mean_modification_per_subject\n",
    "\n",
    "Computation : \n",
    "* x = [modification number per subject experimented]\n",
    "* sum(x) / count(x)"
   ]
  },
  {
   "cell_type": "code",
   "execution_count": 53,
   "metadata": {
    "id": "vsrxG3te7ofJ"
   },
   "outputs": [],
   "source": [
    "def mean_modification_per_subject(df, nb_connection_1h, data, beginning_timestamp, middle_timestamp, end_timestamp, sujet_range, prompt=0):\n",
    "    column_mod_sujet = list(df[\"modification\"].columns).index(\"id_sujet\")\n",
    "    column_mod_version = list(df[\"modification\"].columns).index(\"version\")\n",
    "    column_mod_timestamp = list(df[\"modification\"].columns).index(\"timestamp\")\n",
    "    for i,id in enumerate(nb_connection_1h):\n",
    "        df_val = df[\"validation\"].query(\"id_connexion == {} and id_sujet in {}\".format(id, sujet_range))\n",
    "        index = get_index_timestamp(df_val, beginning_timestamp[i], middle_timestamp[i]) if prompt == 0 else get_index_timestamp(df_val, beginning_timestamp[i], end_timestamp[i])\n",
    "        df_val = df_val.iloc[index,:]\n",
    "        comb = list(df_val[[\"id_sujet\", \"version\"]].value_counts().index)\n",
    "        modifications = []\n",
    "        for s,v in comb:\n",
    "            df_mod = df[\"modification\"].query(\"id_connexion == {} and id_sujet == {} and version == {} and id_sujet in {}\".format(id,s,v, sujet_range))\n",
    "            index = get_index_timestamp(df_mod, beginning_timestamp[i], middle_timestamp[i]) if prompt == 0 else get_index_timestamp(df_mod, beginning_timestamp[i], end_timestamp[i])\n",
    "            df_mod = df_mod.iloc[index,:]\n",
    "            index = eliminate_same_subject_version_other_following(df_mod, column_mod_sujet, column_mod_version, column_mod_timestamp)\n",
    "            df_mod = df_mod.iloc[index,:]\n",
    "            modifications.append(df_mod.shape[0])\n",
    "        data[i].append(sum(modifications) / len(modifications) if len(modifications) != 0 else 0)\n",
    "    return data"
   ]
  },
  {
   "cell_type": "markdown",
   "metadata": {
    "id": "FX8F1ybyrkcX"
   },
   "source": [
    "#### Initial Prompt -> Middle Prompt"
   ]
  },
  {
   "cell_type": "code",
   "execution_count": 54,
   "metadata": {
    "id": "q8t1cixn7nRp"
   },
   "outputs": [],
   "source": [
    "columns.append(\"mean_modification_per_subject\")"
   ]
  },
  {
   "cell_type": "code",
   "execution_count": 55,
   "metadata": {
    "id": "1InLMl7i7nO9"
   },
   "outputs": [],
   "source": [
    "data = mean_modification_per_subject(df, nb_connection_1h, data, beginning_timestamp, middle_timestamp, end_timestamp, sujet_range, prompt=0)"
   ]
  },
  {
   "cell_type": "code",
   "execution_count": 56,
   "metadata": {
    "colab": {
     "base_uri": "https://localhost:8080/",
     "height": 224
    },
    "id": "-el_PCTG7nMy",
    "outputId": "da74c3d9-d961-4b03-d4d3-9cf0a133c85d"
   },
   "outputs": [
    {
     "data": {
      "text/html": [
       "<div>\n",
       "<style scoped>\n",
       "    .dataframe tbody tr th:only-of-type {\n",
       "        vertical-align: middle;\n",
       "    }\n",
       "\n",
       "    .dataframe tbody tr th {\n",
       "        vertical-align: top;\n",
       "    }\n",
       "\n",
       "    .dataframe thead th {\n",
       "        text-align: right;\n",
       "    }\n",
       "</style>\n",
       "<table border=\"1\" class=\"dataframe\">\n",
       "  <thead>\n",
       "    <tr style=\"text-align: right;\">\n",
       "      <th></th>\n",
       "      <th>validated_time_rate</th>\n",
       "      <th>validated_time_rate_1</th>\n",
       "      <th>highest_version_mean_validated</th>\n",
       "      <th>highest_version_mean_validated_1</th>\n",
       "      <th>time_consulting_help</th>\n",
       "      <th>time_consulting_help_1</th>\n",
       "      <th>mean_test_per_subject</th>\n",
       "      <th>mean_test_per_subject_1</th>\n",
       "      <th>mean_size_modification_per_test</th>\n",
       "      <th>mean_size_modification_per_test_1</th>\n",
       "      <th>mean_modification_per_subject</th>\n",
       "    </tr>\n",
       "  </thead>\n",
       "  <tbody>\n",
       "    <tr>\n",
       "      <th>191</th>\n",
       "      <td>0.840556</td>\n",
       "      <td>0.425278</td>\n",
       "      <td>3.5</td>\n",
       "      <td>3.5</td>\n",
       "      <td>0.0</td>\n",
       "      <td>0.0</td>\n",
       "      <td>3.250</td>\n",
       "      <td>11.000000</td>\n",
       "      <td>296.230769</td>\n",
       "      <td>207.750000</td>\n",
       "      <td>71.75</td>\n",
       "    </tr>\n",
       "    <tr>\n",
       "      <th>225</th>\n",
       "      <td>0.000000</td>\n",
       "      <td>0.336667</td>\n",
       "      <td>0.0</td>\n",
       "      <td>3.0</td>\n",
       "      <td>73.0</td>\n",
       "      <td>75.0</td>\n",
       "      <td>4.000</td>\n",
       "      <td>4.888889</td>\n",
       "      <td>164.541667</td>\n",
       "      <td>196.545455</td>\n",
       "      <td>24.50</td>\n",
       "    </tr>\n",
       "    <tr>\n",
       "      <th>234</th>\n",
       "      <td>0.514444</td>\n",
       "      <td>0.318611</td>\n",
       "      <td>2.4</td>\n",
       "      <td>2.6</td>\n",
       "      <td>62.0</td>\n",
       "      <td>62.0</td>\n",
       "      <td>4.125</td>\n",
       "      <td>3.800000</td>\n",
       "      <td>226.939394</td>\n",
       "      <td>286.421053</td>\n",
       "      <td>25.75</td>\n",
       "    </tr>\n",
       "    <tr>\n",
       "      <th>240</th>\n",
       "      <td>0.296111</td>\n",
       "      <td>0.225000</td>\n",
       "      <td>4.0</td>\n",
       "      <td>3.5</td>\n",
       "      <td>10.0</td>\n",
       "      <td>23.0</td>\n",
       "      <td>15.500</td>\n",
       "      <td>12.666667</td>\n",
       "      <td>105.500000</td>\n",
       "      <td>96.947368</td>\n",
       "      <td>88.00</td>\n",
       "    </tr>\n",
       "    <tr>\n",
       "      <th>242</th>\n",
       "      <td>0.465556</td>\n",
       "      <td>0.244444</td>\n",
       "      <td>3.0</td>\n",
       "      <td>3.0</td>\n",
       "      <td>0.0</td>\n",
       "      <td>4.0</td>\n",
       "      <td>1.000</td>\n",
       "      <td>14.000000</td>\n",
       "      <td>1788.000000</td>\n",
       "      <td>129.892857</td>\n",
       "      <td>2.00</td>\n",
       "    </tr>\n",
       "  </tbody>\n",
       "</table>\n",
       "</div>"
      ],
      "text/plain": [
       "     validated_time_rate  validated_time_rate_1  \\\n",
       "191             0.840556               0.425278   \n",
       "225             0.000000               0.336667   \n",
       "234             0.514444               0.318611   \n",
       "240             0.296111               0.225000   \n",
       "242             0.465556               0.244444   \n",
       "\n",
       "     highest_version_mean_validated  highest_version_mean_validated_1  \\\n",
       "191                             3.5                               3.5   \n",
       "225                             0.0                               3.0   \n",
       "234                             2.4                               2.6   \n",
       "240                             4.0                               3.5   \n",
       "242                             3.0                               3.0   \n",
       "\n",
       "     time_consulting_help  time_consulting_help_1  mean_test_per_subject  \\\n",
       "191                   0.0                     0.0                  3.250   \n",
       "225                  73.0                    75.0                  4.000   \n",
       "234                  62.0                    62.0                  4.125   \n",
       "240                  10.0                    23.0                 15.500   \n",
       "242                   0.0                     4.0                  1.000   \n",
       "\n",
       "     mean_test_per_subject_1  mean_size_modification_per_test  \\\n",
       "191                11.000000                       296.230769   \n",
       "225                 4.888889                       164.541667   \n",
       "234                 3.800000                       226.939394   \n",
       "240                12.666667                       105.500000   \n",
       "242                14.000000                      1788.000000   \n",
       "\n",
       "     mean_size_modification_per_test_1  mean_modification_per_subject  \n",
       "191                         207.750000                          71.75  \n",
       "225                         196.545455                          24.50  \n",
       "234                         286.421053                          25.75  \n",
       "240                          96.947368                          88.00  \n",
       "242                         129.892857                           2.00  "
      ]
     },
     "execution_count": 56,
     "metadata": {},
     "output_type": "execute_result"
    }
   ],
   "source": [
    "draw(data, columns, nb_connection_1h)"
   ]
  },
  {
   "cell_type": "markdown",
   "metadata": {
    "id": "8l-95bCrroPx"
   },
   "source": [
    "#### Middle Prompt -> Final Prompt"
   ]
  },
  {
   "cell_type": "code",
   "execution_count": 57,
   "metadata": {
    "id": "B-_H8pRk7n9a"
   },
   "outputs": [],
   "source": [
    "columns.append(\"mean_modification_per_subject_1\")"
   ]
  },
  {
   "cell_type": "code",
   "execution_count": 58,
   "metadata": {
    "id": "aeIgZIUG7n7P"
   },
   "outputs": [],
   "source": [
    "data = mean_modification_per_subject(df, nb_connection_1h, data, beginning_timestamp, middle_timestamp, end_timestamp, sujet_range, prompt=1)"
   ]
  },
  {
   "cell_type": "code",
   "execution_count": 59,
   "metadata": {
    "colab": {
     "base_uri": "https://localhost:8080/",
     "height": 224
    },
    "id": "WJXlKUNj7n42",
    "outputId": "b66e20f2-974b-43cd-c469-d4ef0eb5b075"
   },
   "outputs": [
    {
     "data": {
      "text/html": [
       "<div>\n",
       "<style scoped>\n",
       "    .dataframe tbody tr th:only-of-type {\n",
       "        vertical-align: middle;\n",
       "    }\n",
       "\n",
       "    .dataframe tbody tr th {\n",
       "        vertical-align: top;\n",
       "    }\n",
       "\n",
       "    .dataframe thead th {\n",
       "        text-align: right;\n",
       "    }\n",
       "</style>\n",
       "<table border=\"1\" class=\"dataframe\">\n",
       "  <thead>\n",
       "    <tr style=\"text-align: right;\">\n",
       "      <th></th>\n",
       "      <th>validated_time_rate</th>\n",
       "      <th>validated_time_rate_1</th>\n",
       "      <th>highest_version_mean_validated</th>\n",
       "      <th>highest_version_mean_validated_1</th>\n",
       "      <th>time_consulting_help</th>\n",
       "      <th>time_consulting_help_1</th>\n",
       "      <th>mean_test_per_subject</th>\n",
       "      <th>mean_test_per_subject_1</th>\n",
       "      <th>mean_size_modification_per_test</th>\n",
       "      <th>mean_size_modification_per_test_1</th>\n",
       "      <th>mean_modification_per_subject</th>\n",
       "      <th>mean_modification_per_subject_1</th>\n",
       "    </tr>\n",
       "  </thead>\n",
       "  <tbody>\n",
       "    <tr>\n",
       "      <th>191</th>\n",
       "      <td>0.840556</td>\n",
       "      <td>0.425278</td>\n",
       "      <td>3.5</td>\n",
       "      <td>3.5</td>\n",
       "      <td>0.0</td>\n",
       "      <td>0.0</td>\n",
       "      <td>3.250</td>\n",
       "      <td>11.000000</td>\n",
       "      <td>296.230769</td>\n",
       "      <td>207.750000</td>\n",
       "      <td>71.75</td>\n",
       "      <td>117.500000</td>\n",
       "    </tr>\n",
       "    <tr>\n",
       "      <th>225</th>\n",
       "      <td>0.000000</td>\n",
       "      <td>0.336667</td>\n",
       "      <td>0.0</td>\n",
       "      <td>3.0</td>\n",
       "      <td>73.0</td>\n",
       "      <td>75.0</td>\n",
       "      <td>4.000</td>\n",
       "      <td>4.888889</td>\n",
       "      <td>164.541667</td>\n",
       "      <td>196.545455</td>\n",
       "      <td>24.50</td>\n",
       "      <td>32.777778</td>\n",
       "    </tr>\n",
       "    <tr>\n",
       "      <th>234</th>\n",
       "      <td>0.514444</td>\n",
       "      <td>0.318611</td>\n",
       "      <td>2.4</td>\n",
       "      <td>2.6</td>\n",
       "      <td>62.0</td>\n",
       "      <td>62.0</td>\n",
       "      <td>4.125</td>\n",
       "      <td>3.800000</td>\n",
       "      <td>226.939394</td>\n",
       "      <td>286.421053</td>\n",
       "      <td>25.75</td>\n",
       "      <td>27.200000</td>\n",
       "    </tr>\n",
       "    <tr>\n",
       "      <th>240</th>\n",
       "      <td>0.296111</td>\n",
       "      <td>0.225000</td>\n",
       "      <td>4.0</td>\n",
       "      <td>3.5</td>\n",
       "      <td>10.0</td>\n",
       "      <td>23.0</td>\n",
       "      <td>15.500</td>\n",
       "      <td>12.666667</td>\n",
       "      <td>105.500000</td>\n",
       "      <td>96.947368</td>\n",
       "      <td>88.00</td>\n",
       "      <td>74.444444</td>\n",
       "    </tr>\n",
       "    <tr>\n",
       "      <th>242</th>\n",
       "      <td>0.465556</td>\n",
       "      <td>0.244444</td>\n",
       "      <td>3.0</td>\n",
       "      <td>3.0</td>\n",
       "      <td>0.0</td>\n",
       "      <td>4.0</td>\n",
       "      <td>1.000</td>\n",
       "      <td>14.000000</td>\n",
       "      <td>1788.000000</td>\n",
       "      <td>129.892857</td>\n",
       "      <td>2.00</td>\n",
       "      <td>87.500000</td>\n",
       "    </tr>\n",
       "  </tbody>\n",
       "</table>\n",
       "</div>"
      ],
      "text/plain": [
       "     validated_time_rate  validated_time_rate_1  \\\n",
       "191             0.840556               0.425278   \n",
       "225             0.000000               0.336667   \n",
       "234             0.514444               0.318611   \n",
       "240             0.296111               0.225000   \n",
       "242             0.465556               0.244444   \n",
       "\n",
       "     highest_version_mean_validated  highest_version_mean_validated_1  \\\n",
       "191                             3.5                               3.5   \n",
       "225                             0.0                               3.0   \n",
       "234                             2.4                               2.6   \n",
       "240                             4.0                               3.5   \n",
       "242                             3.0                               3.0   \n",
       "\n",
       "     time_consulting_help  time_consulting_help_1  mean_test_per_subject  \\\n",
       "191                   0.0                     0.0                  3.250   \n",
       "225                  73.0                    75.0                  4.000   \n",
       "234                  62.0                    62.0                  4.125   \n",
       "240                  10.0                    23.0                 15.500   \n",
       "242                   0.0                     4.0                  1.000   \n",
       "\n",
       "     mean_test_per_subject_1  mean_size_modification_per_test  \\\n",
       "191                11.000000                       296.230769   \n",
       "225                 4.888889                       164.541667   \n",
       "234                 3.800000                       226.939394   \n",
       "240                12.666667                       105.500000   \n",
       "242                14.000000                      1788.000000   \n",
       "\n",
       "     mean_size_modification_per_test_1  mean_modification_per_subject  \\\n",
       "191                         207.750000                          71.75   \n",
       "225                         196.545455                          24.50   \n",
       "234                         286.421053                          25.75   \n",
       "240                          96.947368                          88.00   \n",
       "242                         129.892857                           2.00   \n",
       "\n",
       "     mean_modification_per_subject_1  \n",
       "191                       117.500000  \n",
       "225                        32.777778  \n",
       "234                        27.200000  \n",
       "240                        74.444444  \n",
       "242                        87.500000  "
      ]
     },
     "execution_count": 59,
     "metadata": {},
     "output_type": "execute_result"
    }
   ],
   "source": [
    "draw(data, columns, nb_connection_1h)"
   ]
  },
  {
   "cell_type": "markdown",
   "metadata": {
    "id": "Vp1IGS8XrfN3"
   },
   "source": [
    "### Mean Time Active\n",
    "\n",
    "Indicator name : \n",
    "* mean_time_active\n",
    "\n",
    "Computation : \n",
    "* Mean time between each (next action - previous action)"
   ]
  },
  {
   "cell_type": "code",
   "execution_count": 60,
   "metadata": {
    "id": "oyxVLOsSFEsR"
   },
   "outputs": [],
   "source": [
    "def mean_time_active(df, nb_connection_1h, data, beginning_timestamp, middle_timestamp, end_timestamp, tables, sujet_range, prompt=0):\n",
    "    for i in tqdm.tqdm(range(len(nb_connection_1h)), position=0, leave=True):\n",
    "        id = nb_connection_1h[i]\n",
    "        own_df = {}\n",
    "        index = {}\n",
    "        columns_memory = {}\n",
    "        for table in tables:\n",
    "            df_table = df[table].query(\"id_connexion == {} and id_sujet in {}\".format(id, sujet_range))\n",
    "            indexes = get_index_timestamp(df_table, beginning_timestamp[i], middle_timestamp[i]) if prompt == 0 else get_index_timestamp(df_table, beginning_timestamp[i], end_timestamp[i])\n",
    "            own_df[table] = df_table.iloc[indexes,:]\n",
    "            index[table] = 0\n",
    "            columns_memory[table] = list(df_table.columns).index(\"timestamp\")\n",
    "        # table souris (too low if we filter it with pandas due to the size of the table)\n",
    "        mysql_connection = get_connection(_db_config)\n",
    "        with mysql_connection.cursor() as cursor:\n",
    "            try:\n",
    "                # ----------- Get every connection / participant ---------- #\n",
    "                query_select = \"SELECT * FROM souris WHERE id_connexion = %s ORDER BY timestamp\"\n",
    "                cursor.execute(query_select, (id,))\n",
    "                result = cursor.fetchall()\n",
    "                columns_name = np.array([cursor.description[i][0] for i in range(len(cursor.description)) if cursor.description[i][0]])\n",
    "                tempdata = []\n",
    "                for row in result:\n",
    "                    tempdata.append(np.array([row[i] for i in range(len(row))]))\n",
    "                own_df[\"souris\"] = pd.DataFrame(tempdata, columns=columns_name)\n",
    "                indexes = get_index_timestamp(own_df[\"souris\"], beginning_timestamp[i], middle_timestamp[i]) if prompt == 0 else get_index_timestamp(own_df[\"souris\"], beginning_timestamp[i], end_timestamp[i])\n",
    "                own_df[\"souris\"] = own_df[\"souris\"].iloc[indexes,:]\n",
    "                index[\"souris\"] = 0\n",
    "                columns_memory[\"souris\"] = list(own_df[\"souris\"].columns).index(\"timestamp\")\n",
    "            except Exception:\n",
    "                traceback.print_exc()\n",
    "        all_seen = False\n",
    "        count_time = timedelta(0)\n",
    "        count = 0\n",
    "        memory_timestamp = None\n",
    "        while not all_seen:\n",
    "            timestamps = {}\n",
    "            for table in tables+[\"souris\"]:\n",
    "                if index[table] <= own_df[table].shape[0]-1:\n",
    "                    timestamps[table] = own_df[table].iloc[index[table], columns_memory[table]]\n",
    "            keys = [key for key in timestamps.keys()]\n",
    "            if len(keys) == 0:\n",
    "                if memory_timestamp != None:\n",
    "                    count_time += (middle_timestamp[i] if prompt == 0 else end_timestamp[i]) - memory_timestamp\n",
    "                    count += 1\n",
    "                all_seen = True\n",
    "            else:\n",
    "                key = keys[np.argmin([timestamps[k] for k in timestamps.keys()])]\n",
    "                if memory_timestamp == None:\n",
    "                    memory_timestamp = timestamps[key]\n",
    "                    index[key] += 1\n",
    "                else:\n",
    "                    count_time += timestamps[key] - memory_timestamp\n",
    "                    count += 1\n",
    "                    memory_timestamp = timestamps[key]\n",
    "                    index[key] += 1\n",
    "        data[i].append((count_time / count if count != 0 else timedelta(0)).total_seconds())\n",
    "    return data"
   ]
  },
  {
   "cell_type": "markdown",
   "metadata": {
    "id": "7OAgQeQ8rksa"
   },
   "source": [
    "#### Initial Prompt -> Middle Prompt"
   ]
  },
  {
   "cell_type": "code",
   "execution_count": 61,
   "metadata": {
    "id": "4tx9IGj9Er9a"
   },
   "outputs": [],
   "source": [
    "columns.append(\"mean_time_active\")"
   ]
  },
  {
   "cell_type": "code",
   "execution_count": 62,
   "metadata": {
    "colab": {
     "base_uri": "https://localhost:8080/"
    },
    "id": "NFZKSmBoEr5p",
    "outputId": "606bed2e-c6a2-453e-d16a-e4ec7be7c8f7"
   },
   "outputs": [
    {
     "name": "stderr",
     "output_type": "stream",
     "text": [
      "100%|██████████| 93/93 [02:28<00:00,  1.60s/it]\n"
     ]
    }
   ],
   "source": [
    "data = mean_time_active(df, nb_connection_1h, data, beginning_timestamp, middle_timestamp, end_timestamp, _tables[:4] + _tables[7:8], sujet_range, prompt=0)"
   ]
  },
  {
   "cell_type": "code",
   "execution_count": 63,
   "metadata": {
    "colab": {
     "base_uri": "https://localhost:8080/",
     "height": 0
    },
    "id": "O-xRERsrEryw",
    "outputId": "bf5a14aa-31be-48a2-f87d-0490d0ae7456"
   },
   "outputs": [
    {
     "data": {
      "text/html": [
       "<div>\n",
       "<style scoped>\n",
       "    .dataframe tbody tr th:only-of-type {\n",
       "        vertical-align: middle;\n",
       "    }\n",
       "\n",
       "    .dataframe tbody tr th {\n",
       "        vertical-align: top;\n",
       "    }\n",
       "\n",
       "    .dataframe thead th {\n",
       "        text-align: right;\n",
       "    }\n",
       "</style>\n",
       "<table border=\"1\" class=\"dataframe\">\n",
       "  <thead>\n",
       "    <tr style=\"text-align: right;\">\n",
       "      <th></th>\n",
       "      <th>validated_time_rate</th>\n",
       "      <th>validated_time_rate_1</th>\n",
       "      <th>highest_version_mean_validated</th>\n",
       "      <th>highest_version_mean_validated_1</th>\n",
       "      <th>time_consulting_help</th>\n",
       "      <th>time_consulting_help_1</th>\n",
       "      <th>mean_test_per_subject</th>\n",
       "      <th>mean_test_per_subject_1</th>\n",
       "      <th>mean_size_modification_per_test</th>\n",
       "      <th>mean_size_modification_per_test_1</th>\n",
       "      <th>mean_modification_per_subject</th>\n",
       "      <th>mean_modification_per_subject_1</th>\n",
       "      <th>mean_time_active</th>\n",
       "    </tr>\n",
       "  </thead>\n",
       "  <tbody>\n",
       "    <tr>\n",
       "      <th>191</th>\n",
       "      <td>0.840556</td>\n",
       "      <td>0.425278</td>\n",
       "      <td>3.5</td>\n",
       "      <td>3.5</td>\n",
       "      <td>0.0</td>\n",
       "      <td>0.0</td>\n",
       "      <td>3.250</td>\n",
       "      <td>11.000000</td>\n",
       "      <td>296.230769</td>\n",
       "      <td>207.750000</td>\n",
       "      <td>71.75</td>\n",
       "      <td>117.500000</td>\n",
       "      <td>0.526670</td>\n",
       "    </tr>\n",
       "    <tr>\n",
       "      <th>225</th>\n",
       "      <td>0.000000</td>\n",
       "      <td>0.336667</td>\n",
       "      <td>0.0</td>\n",
       "      <td>3.0</td>\n",
       "      <td>73.0</td>\n",
       "      <td>75.0</td>\n",
       "      <td>4.000</td>\n",
       "      <td>4.888889</td>\n",
       "      <td>164.541667</td>\n",
       "      <td>196.545455</td>\n",
       "      <td>24.50</td>\n",
       "      <td>32.777778</td>\n",
       "      <td>0.860975</td>\n",
       "    </tr>\n",
       "    <tr>\n",
       "      <th>234</th>\n",
       "      <td>0.514444</td>\n",
       "      <td>0.318611</td>\n",
       "      <td>2.4</td>\n",
       "      <td>2.6</td>\n",
       "      <td>62.0</td>\n",
       "      <td>62.0</td>\n",
       "      <td>4.125</td>\n",
       "      <td>3.800000</td>\n",
       "      <td>226.939394</td>\n",
       "      <td>286.421053</td>\n",
       "      <td>25.75</td>\n",
       "      <td>27.200000</td>\n",
       "      <td>0.610504</td>\n",
       "    </tr>\n",
       "    <tr>\n",
       "      <th>240</th>\n",
       "      <td>0.296111</td>\n",
       "      <td>0.225000</td>\n",
       "      <td>4.0</td>\n",
       "      <td>3.5</td>\n",
       "      <td>10.0</td>\n",
       "      <td>23.0</td>\n",
       "      <td>15.500</td>\n",
       "      <td>12.666667</td>\n",
       "      <td>105.500000</td>\n",
       "      <td>96.947368</td>\n",
       "      <td>88.00</td>\n",
       "      <td>74.444444</td>\n",
       "      <td>1.533905</td>\n",
       "    </tr>\n",
       "    <tr>\n",
       "      <th>242</th>\n",
       "      <td>0.465556</td>\n",
       "      <td>0.244444</td>\n",
       "      <td>3.0</td>\n",
       "      <td>3.0</td>\n",
       "      <td>0.0</td>\n",
       "      <td>4.0</td>\n",
       "      <td>1.000</td>\n",
       "      <td>14.000000</td>\n",
       "      <td>1788.000000</td>\n",
       "      <td>129.892857</td>\n",
       "      <td>2.00</td>\n",
       "      <td>87.500000</td>\n",
       "      <td>4.162162</td>\n",
       "    </tr>\n",
       "  </tbody>\n",
       "</table>\n",
       "</div>"
      ],
      "text/plain": [
       "     validated_time_rate  validated_time_rate_1  \\\n",
       "191             0.840556               0.425278   \n",
       "225             0.000000               0.336667   \n",
       "234             0.514444               0.318611   \n",
       "240             0.296111               0.225000   \n",
       "242             0.465556               0.244444   \n",
       "\n",
       "     highest_version_mean_validated  highest_version_mean_validated_1  \\\n",
       "191                             3.5                               3.5   \n",
       "225                             0.0                               3.0   \n",
       "234                             2.4                               2.6   \n",
       "240                             4.0                               3.5   \n",
       "242                             3.0                               3.0   \n",
       "\n",
       "     time_consulting_help  time_consulting_help_1  mean_test_per_subject  \\\n",
       "191                   0.0                     0.0                  3.250   \n",
       "225                  73.0                    75.0                  4.000   \n",
       "234                  62.0                    62.0                  4.125   \n",
       "240                  10.0                    23.0                 15.500   \n",
       "242                   0.0                     4.0                  1.000   \n",
       "\n",
       "     mean_test_per_subject_1  mean_size_modification_per_test  \\\n",
       "191                11.000000                       296.230769   \n",
       "225                 4.888889                       164.541667   \n",
       "234                 3.800000                       226.939394   \n",
       "240                12.666667                       105.500000   \n",
       "242                14.000000                      1788.000000   \n",
       "\n",
       "     mean_size_modification_per_test_1  mean_modification_per_subject  \\\n",
       "191                         207.750000                          71.75   \n",
       "225                         196.545455                          24.50   \n",
       "234                         286.421053                          25.75   \n",
       "240                          96.947368                          88.00   \n",
       "242                         129.892857                           2.00   \n",
       "\n",
       "     mean_modification_per_subject_1  mean_time_active  \n",
       "191                       117.500000          0.526670  \n",
       "225                        32.777778          0.860975  \n",
       "234                        27.200000          0.610504  \n",
       "240                        74.444444          1.533905  \n",
       "242                        87.500000          4.162162  "
      ]
     },
     "execution_count": 63,
     "metadata": {},
     "output_type": "execute_result"
    }
   ],
   "source": [
    "draw(data, columns, nb_connection_1h)"
   ]
  },
  {
   "cell_type": "markdown",
   "metadata": {
    "id": "aOPprNPVroj6"
   },
   "source": [
    "#### Middle Prompt -> Final Prompt"
   ]
  },
  {
   "cell_type": "code",
   "execution_count": 64,
   "metadata": {
    "id": "tcOxEX9fEs4a"
   },
   "outputs": [],
   "source": [
    "columns.append(\"mean_time_active_1\")"
   ]
  },
  {
   "cell_type": "code",
   "execution_count": 65,
   "metadata": {
    "colab": {
     "base_uri": "https://localhost:8080/"
    },
    "id": "LKaH-fyHEsur",
    "outputId": "1d8c179d-78f8-4733-f3d1-7023fea0e1de"
   },
   "outputs": [
    {
     "name": "stderr",
     "output_type": "stream",
     "text": [
      "100%|██████████| 93/93 [03:11<00:00,  2.06s/it]\n"
     ]
    }
   ],
   "source": [
    "data = mean_time_active(df, nb_connection_1h, data, beginning_timestamp, middle_timestamp, end_timestamp, _tables[:4] + _tables[7:8], sujet_range, prompt=1)"
   ]
  },
  {
   "cell_type": "code",
   "execution_count": 66,
   "metadata": {
    "colab": {
     "base_uri": "https://localhost:8080/",
     "height": 0
    },
    "id": "Bg-O_CCHEsr3",
    "outputId": "7fc715ab-d25c-4c94-eb7f-b5daae4578d4"
   },
   "outputs": [
    {
     "data": {
      "text/html": [
       "<div>\n",
       "<style scoped>\n",
       "    .dataframe tbody tr th:only-of-type {\n",
       "        vertical-align: middle;\n",
       "    }\n",
       "\n",
       "    .dataframe tbody tr th {\n",
       "        vertical-align: top;\n",
       "    }\n",
       "\n",
       "    .dataframe thead th {\n",
       "        text-align: right;\n",
       "    }\n",
       "</style>\n",
       "<table border=\"1\" class=\"dataframe\">\n",
       "  <thead>\n",
       "    <tr style=\"text-align: right;\">\n",
       "      <th></th>\n",
       "      <th>validated_time_rate</th>\n",
       "      <th>validated_time_rate_1</th>\n",
       "      <th>highest_version_mean_validated</th>\n",
       "      <th>highest_version_mean_validated_1</th>\n",
       "      <th>time_consulting_help</th>\n",
       "      <th>time_consulting_help_1</th>\n",
       "      <th>mean_test_per_subject</th>\n",
       "      <th>mean_test_per_subject_1</th>\n",
       "      <th>mean_size_modification_per_test</th>\n",
       "      <th>mean_size_modification_per_test_1</th>\n",
       "      <th>mean_modification_per_subject</th>\n",
       "      <th>mean_modification_per_subject_1</th>\n",
       "      <th>mean_time_active</th>\n",
       "      <th>mean_time_active_1</th>\n",
       "    </tr>\n",
       "  </thead>\n",
       "  <tbody>\n",
       "    <tr>\n",
       "      <th>191</th>\n",
       "      <td>0.840556</td>\n",
       "      <td>0.425278</td>\n",
       "      <td>3.5</td>\n",
       "      <td>3.5</td>\n",
       "      <td>0.0</td>\n",
       "      <td>0.0</td>\n",
       "      <td>3.250</td>\n",
       "      <td>11.000000</td>\n",
       "      <td>296.230769</td>\n",
       "      <td>207.750000</td>\n",
       "      <td>71.75</td>\n",
       "      <td>117.500000</td>\n",
       "      <td>0.526670</td>\n",
       "      <td>0.519947</td>\n",
       "    </tr>\n",
       "    <tr>\n",
       "      <th>225</th>\n",
       "      <td>0.000000</td>\n",
       "      <td>0.336667</td>\n",
       "      <td>0.0</td>\n",
       "      <td>3.0</td>\n",
       "      <td>73.0</td>\n",
       "      <td>75.0</td>\n",
       "      <td>4.000</td>\n",
       "      <td>4.888889</td>\n",
       "      <td>164.541667</td>\n",
       "      <td>196.545455</td>\n",
       "      <td>24.50</td>\n",
       "      <td>32.777778</td>\n",
       "      <td>0.860975</td>\n",
       "      <td>0.847397</td>\n",
       "    </tr>\n",
       "    <tr>\n",
       "      <th>234</th>\n",
       "      <td>0.514444</td>\n",
       "      <td>0.318611</td>\n",
       "      <td>2.4</td>\n",
       "      <td>2.6</td>\n",
       "      <td>62.0</td>\n",
       "      <td>62.0</td>\n",
       "      <td>4.125</td>\n",
       "      <td>3.800000</td>\n",
       "      <td>226.939394</td>\n",
       "      <td>286.421053</td>\n",
       "      <td>25.75</td>\n",
       "      <td>27.200000</td>\n",
       "      <td>0.610504</td>\n",
       "      <td>0.934652</td>\n",
       "    </tr>\n",
       "    <tr>\n",
       "      <th>240</th>\n",
       "      <td>0.296111</td>\n",
       "      <td>0.225000</td>\n",
       "      <td>4.0</td>\n",
       "      <td>3.5</td>\n",
       "      <td>10.0</td>\n",
       "      <td>23.0</td>\n",
       "      <td>15.500</td>\n",
       "      <td>12.666667</td>\n",
       "      <td>105.500000</td>\n",
       "      <td>96.947368</td>\n",
       "      <td>88.00</td>\n",
       "      <td>74.444444</td>\n",
       "      <td>1.533905</td>\n",
       "      <td>1.521849</td>\n",
       "    </tr>\n",
       "    <tr>\n",
       "      <th>242</th>\n",
       "      <td>0.465556</td>\n",
       "      <td>0.244444</td>\n",
       "      <td>3.0</td>\n",
       "      <td>3.0</td>\n",
       "      <td>0.0</td>\n",
       "      <td>4.0</td>\n",
       "      <td>1.000</td>\n",
       "      <td>14.000000</td>\n",
       "      <td>1788.000000</td>\n",
       "      <td>129.892857</td>\n",
       "      <td>2.00</td>\n",
       "      <td>87.500000</td>\n",
       "      <td>4.162162</td>\n",
       "      <td>0.896052</td>\n",
       "    </tr>\n",
       "  </tbody>\n",
       "</table>\n",
       "</div>"
      ],
      "text/plain": [
       "     validated_time_rate  validated_time_rate_1  \\\n",
       "191             0.840556               0.425278   \n",
       "225             0.000000               0.336667   \n",
       "234             0.514444               0.318611   \n",
       "240             0.296111               0.225000   \n",
       "242             0.465556               0.244444   \n",
       "\n",
       "     highest_version_mean_validated  highest_version_mean_validated_1  \\\n",
       "191                             3.5                               3.5   \n",
       "225                             0.0                               3.0   \n",
       "234                             2.4                               2.6   \n",
       "240                             4.0                               3.5   \n",
       "242                             3.0                               3.0   \n",
       "\n",
       "     time_consulting_help  time_consulting_help_1  mean_test_per_subject  \\\n",
       "191                   0.0                     0.0                  3.250   \n",
       "225                  73.0                    75.0                  4.000   \n",
       "234                  62.0                    62.0                  4.125   \n",
       "240                  10.0                    23.0                 15.500   \n",
       "242                   0.0                     4.0                  1.000   \n",
       "\n",
       "     mean_test_per_subject_1  mean_size_modification_per_test  \\\n",
       "191                11.000000                       296.230769   \n",
       "225                 4.888889                       164.541667   \n",
       "234                 3.800000                       226.939394   \n",
       "240                12.666667                       105.500000   \n",
       "242                14.000000                      1788.000000   \n",
       "\n",
       "     mean_size_modification_per_test_1  mean_modification_per_subject  \\\n",
       "191                         207.750000                          71.75   \n",
       "225                         196.545455                          24.50   \n",
       "234                         286.421053                          25.75   \n",
       "240                          96.947368                          88.00   \n",
       "242                         129.892857                           2.00   \n",
       "\n",
       "     mean_modification_per_subject_1  mean_time_active  mean_time_active_1  \n",
       "191                       117.500000          0.526670            0.519947  \n",
       "225                        32.777778          0.860975            0.847397  \n",
       "234                        27.200000          0.610504            0.934652  \n",
       "240                        74.444444          1.533905            1.521849  \n",
       "242                        87.500000          4.162162            0.896052  "
      ]
     },
     "execution_count": 66,
     "metadata": {},
     "output_type": "execute_result"
    }
   ],
   "source": [
    "draw(data, columns, nb_connection_1h)"
   ]
  },
  {
   "cell_type": "markdown",
   "metadata": {
    "id": "vDh4hx6drfU2"
   },
   "source": [
    "### Quality of Experimentation\n",
    "\n",
    "Indicator name : \n",
    "* experimentation_quality\n",
    "\n",
    "Computation : \n",
    "* x = has consulted help before (for the same subject)\n",
    "* y = min(max(modification before last experimentation,10),10)/10\n",
    "* z = has last modification not an error\n",
    "* a = [for each experimentation : 0.25x + 0.25y + 0.5z]\n",
    "* sum(a)/count(a)"
   ]
  },
  {
   "cell_type": "code",
   "execution_count": 67,
   "metadata": {
    "id": "lwoB1GdSPKYi"
   },
   "outputs": [],
   "source": [
    "def experimentation_quality(df, nb_connection_1h, data, beginning_timestamp, middle_timestamp, end_timestamp, sujet_range, prompt=0):\n",
    "    column_val_sujet = list(df[\"validation\"].columns).index(\"id_sujet\")\n",
    "    column_val_version = list(df[\"validation\"].columns).index(\"version\")\n",
    "    column_val_timestamp = list(df[\"validation\"].columns).index(\"timestamp\")\n",
    "    column_nav_sujet = list(df[\"navigation\"].columns).index(\"id_sujet\")\n",
    "    column_nav_version = list(df[\"navigation\"].columns).index(\"version\")\n",
    "    column_nav_timestamp = list(df[\"navigation\"].columns).index(\"timestamp\")\n",
    "    column_mod_erreur = list(df[\"modification\"].columns).index(\"erreur\")\n",
    "    CONST_MOD_NUMBER = 10\n",
    "\n",
    "    for i in tqdm.tqdm(range(len(nb_connection_1h)), position=0, leave=True):\n",
    "        id = nb_connection_1h[i]\n",
    "        has_consulted = []\n",
    "        mod_number = []\n",
    "        has_error = []\n",
    "\n",
    "        df_val = df[\"validation\"].query(\"id_connexion == {} and experimentation == 1 and id_sujet in {}\".format(id, sujet_range))\n",
    "        index = get_index_timestamp(df_val, beginning_timestamp[i], middle_timestamp[i]) if prompt == 0 else get_index_timestamp(df_val, beginning_timestamp[i], end_timestamp[i])\n",
    "        df_val = df_val.iloc[index,:]\n",
    "        for j in range(df_val.shape[0]):\n",
    "            sujet = df_val.iloc[j, column_val_sujet]\n",
    "            version = df_val.iloc[j, column_val_version]\n",
    "            timestamp = df_val.iloc[j, column_val_timestamp]\n",
    "\n",
    "            # Has consulted\n",
    "            df_nav = df[\"navigation\"].query(\"id_connexion == {}\".format(id))\n",
    "            df_nav_aide = df[\"navigation\"].query(\"id_connexion == {} and id_sujet == {} and version == {} and module == 'Aide' and id_sujet in {}\".format(id, sujet, version, sujet_range))\n",
    "            index = get_index_timestamp(df_nav, beginning_timestamp[i], timestamp) if prompt == 0 else get_index_timestamp(df_nav, beginning_timestamp[i], timestamp)\n",
    "            df_nav = df_nav.iloc[index,:]\n",
    "            index = get_index_timestamp(df_nav_aide, beginning_timestamp[i], timestamp)\n",
    "            df_nav_aide = df_nav_aide.iloc[index,:]\n",
    "            if df_nav_aide.shape[0] != 0:\n",
    "                aide_timestamp = df_nav_aide.iloc[df_nav_aide.shape[0] - 1, column_nav_timestamp]\n",
    "                for k in range(df_nav.shape[0]-1, -1, -1):\n",
    "                    if df_nav.iloc[k, column_nav_sujet] == sujet and df_nav.iloc[k, column_nav_version] == version:\n",
    "                        if df_nav.iloc[k, column_nav_timestamp] < aide_timestamp:\n",
    "                            has_consulted.append(1)\n",
    "                            break\n",
    "                        else:\n",
    "                            continue\n",
    "                    else:\n",
    "                        has_consulted.append(0)\n",
    "                        break\n",
    "                else:\n",
    "                    has_consulted.append(0)\n",
    "      \n",
    "            # modification number\n",
    "            if j == 0:\n",
    "                min_timestamp = beginning_timestamp[i]\n",
    "            else:\n",
    "                min_timestamp = df_val.iloc[j-1, column_val_timestamp]\n",
    "            df_mod = df[\"modification\"].query(\"id_connexion == {} and id_sujet == {} and version == {} and id_sujet in {}\".format(id, sujet, version, sujet_range))\n",
    "            index = get_index_timestamp(df_mod, min_timestamp, timestamp)\n",
    "            df_mod = df_mod.iloc[index,:]\n",
    "            mod_number.append(min(max(df_mod.shape[0],CONST_MOD_NUMBER),CONST_MOD_NUMBER)/CONST_MOD_NUMBER)\n",
    "\n",
    "            # has last modification an error\n",
    "            if df_mod.shape[0] == 0:\n",
    "                has_error.append(0)\n",
    "            else:\n",
    "                has_error.append(1 if df_mod.iloc[df_mod.shape[0]-1, column_mod_erreur] == 'Aucune' else 0)\n",
    "\n",
    "        experimentation_qualities = [has_consulted[expe]*0.25 + mod_number[expe]*0.25 + has_error[expe]*0.5 for expe in range(len(has_consulted))]\n",
    "        data[i].append(sum(experimentation_qualities) / len(experimentation_qualities) if len(experimentation_qualities) != 0 else 0)\n",
    "    return data"
   ]
  },
  {
   "cell_type": "markdown",
   "metadata": {
    "id": "pP969gyArk7J"
   },
   "source": [
    "#### Initial Prompt -> Middle Prompt"
   ]
  },
  {
   "cell_type": "code",
   "execution_count": 68,
   "metadata": {
    "id": "0YSrdac3PJ-P"
   },
   "outputs": [],
   "source": [
    "columns.append(\"experimentation_quality\")"
   ]
  },
  {
   "cell_type": "code",
   "execution_count": 69,
   "metadata": {
    "colab": {
     "base_uri": "https://localhost:8080/"
    },
    "id": "uJy9wo8kPJ2t",
    "outputId": "a73fca0b-9f15-4a82-b471-afd4cea80d8e"
   },
   "outputs": [
    {
     "name": "stderr",
     "output_type": "stream",
     "text": [
      "100%|██████████| 93/93 [00:12<00:00,  7.54it/s]\n"
     ]
    }
   ],
   "source": [
    "data = experimentation_quality(df, nb_connection_1h, data, beginning_timestamp, middle_timestamp, end_timestamp, sujet_range, prompt=0)"
   ]
  },
  {
   "cell_type": "code",
   "execution_count": 70,
   "metadata": {
    "colab": {
     "base_uri": "https://localhost:8080/",
     "height": 0
    },
    "id": "7Bj8CRlvPJu-",
    "outputId": "b61e9b71-8677-4f32-9358-42df17ff490a"
   },
   "outputs": [
    {
     "data": {
      "text/html": [
       "<div>\n",
       "<style scoped>\n",
       "    .dataframe tbody tr th:only-of-type {\n",
       "        vertical-align: middle;\n",
       "    }\n",
       "\n",
       "    .dataframe tbody tr th {\n",
       "        vertical-align: top;\n",
       "    }\n",
       "\n",
       "    .dataframe thead th {\n",
       "        text-align: right;\n",
       "    }\n",
       "</style>\n",
       "<table border=\"1\" class=\"dataframe\">\n",
       "  <thead>\n",
       "    <tr style=\"text-align: right;\">\n",
       "      <th></th>\n",
       "      <th>validated_time_rate</th>\n",
       "      <th>validated_time_rate_1</th>\n",
       "      <th>highest_version_mean_validated</th>\n",
       "      <th>highest_version_mean_validated_1</th>\n",
       "      <th>time_consulting_help</th>\n",
       "      <th>time_consulting_help_1</th>\n",
       "      <th>mean_test_per_subject</th>\n",
       "      <th>mean_test_per_subject_1</th>\n",
       "      <th>mean_size_modification_per_test</th>\n",
       "      <th>mean_size_modification_per_test_1</th>\n",
       "      <th>mean_modification_per_subject</th>\n",
       "      <th>mean_modification_per_subject_1</th>\n",
       "      <th>mean_time_active</th>\n",
       "      <th>mean_time_active_1</th>\n",
       "      <th>experimentation_quality</th>\n",
       "    </tr>\n",
       "  </thead>\n",
       "  <tbody>\n",
       "    <tr>\n",
       "      <th>191</th>\n",
       "      <td>0.840556</td>\n",
       "      <td>0.425278</td>\n",
       "      <td>3.5</td>\n",
       "      <td>3.5</td>\n",
       "      <td>0.0</td>\n",
       "      <td>0.0</td>\n",
       "      <td>3.250</td>\n",
       "      <td>11.000000</td>\n",
       "      <td>296.230769</td>\n",
       "      <td>207.750000</td>\n",
       "      <td>71.75</td>\n",
       "      <td>117.500000</td>\n",
       "      <td>0.526670</td>\n",
       "      <td>0.519947</td>\n",
       "      <td>0.000000</td>\n",
       "    </tr>\n",
       "    <tr>\n",
       "      <th>225</th>\n",
       "      <td>0.000000</td>\n",
       "      <td>0.336667</td>\n",
       "      <td>0.0</td>\n",
       "      <td>3.0</td>\n",
       "      <td>73.0</td>\n",
       "      <td>75.0</td>\n",
       "      <td>4.000</td>\n",
       "      <td>4.888889</td>\n",
       "      <td>164.541667</td>\n",
       "      <td>196.545455</td>\n",
       "      <td>24.50</td>\n",
       "      <td>32.777778</td>\n",
       "      <td>0.860975</td>\n",
       "      <td>0.847397</td>\n",
       "      <td>0.700000</td>\n",
       "    </tr>\n",
       "    <tr>\n",
       "      <th>234</th>\n",
       "      <td>0.514444</td>\n",
       "      <td>0.318611</td>\n",
       "      <td>2.4</td>\n",
       "      <td>2.6</td>\n",
       "      <td>62.0</td>\n",
       "      <td>62.0</td>\n",
       "      <td>4.125</td>\n",
       "      <td>3.800000</td>\n",
       "      <td>226.939394</td>\n",
       "      <td>286.421053</td>\n",
       "      <td>25.75</td>\n",
       "      <td>27.200000</td>\n",
       "      <td>0.610504</td>\n",
       "      <td>0.934652</td>\n",
       "      <td>0.416667</td>\n",
       "    </tr>\n",
       "    <tr>\n",
       "      <th>240</th>\n",
       "      <td>0.296111</td>\n",
       "      <td>0.225000</td>\n",
       "      <td>4.0</td>\n",
       "      <td>3.5</td>\n",
       "      <td>10.0</td>\n",
       "      <td>23.0</td>\n",
       "      <td>15.500</td>\n",
       "      <td>12.666667</td>\n",
       "      <td>105.500000</td>\n",
       "      <td>96.947368</td>\n",
       "      <td>88.00</td>\n",
       "      <td>74.444444</td>\n",
       "      <td>1.533905</td>\n",
       "      <td>1.521849</td>\n",
       "      <td>1.000000</td>\n",
       "    </tr>\n",
       "    <tr>\n",
       "      <th>242</th>\n",
       "      <td>0.465556</td>\n",
       "      <td>0.244444</td>\n",
       "      <td>3.0</td>\n",
       "      <td>3.0</td>\n",
       "      <td>0.0</td>\n",
       "      <td>4.0</td>\n",
       "      <td>1.000</td>\n",
       "      <td>14.000000</td>\n",
       "      <td>1788.000000</td>\n",
       "      <td>129.892857</td>\n",
       "      <td>2.00</td>\n",
       "      <td>87.500000</td>\n",
       "      <td>4.162162</td>\n",
       "      <td>0.896052</td>\n",
       "      <td>0.000000</td>\n",
       "    </tr>\n",
       "  </tbody>\n",
       "</table>\n",
       "</div>"
      ],
      "text/plain": [
       "     validated_time_rate  validated_time_rate_1  \\\n",
       "191             0.840556               0.425278   \n",
       "225             0.000000               0.336667   \n",
       "234             0.514444               0.318611   \n",
       "240             0.296111               0.225000   \n",
       "242             0.465556               0.244444   \n",
       "\n",
       "     highest_version_mean_validated  highest_version_mean_validated_1  \\\n",
       "191                             3.5                               3.5   \n",
       "225                             0.0                               3.0   \n",
       "234                             2.4                               2.6   \n",
       "240                             4.0                               3.5   \n",
       "242                             3.0                               3.0   \n",
       "\n",
       "     time_consulting_help  time_consulting_help_1  mean_test_per_subject  \\\n",
       "191                   0.0                     0.0                  3.250   \n",
       "225                  73.0                    75.0                  4.000   \n",
       "234                  62.0                    62.0                  4.125   \n",
       "240                  10.0                    23.0                 15.500   \n",
       "242                   0.0                     4.0                  1.000   \n",
       "\n",
       "     mean_test_per_subject_1  mean_size_modification_per_test  \\\n",
       "191                11.000000                       296.230769   \n",
       "225                 4.888889                       164.541667   \n",
       "234                 3.800000                       226.939394   \n",
       "240                12.666667                       105.500000   \n",
       "242                14.000000                      1788.000000   \n",
       "\n",
       "     mean_size_modification_per_test_1  mean_modification_per_subject  \\\n",
       "191                         207.750000                          71.75   \n",
       "225                         196.545455                          24.50   \n",
       "234                         286.421053                          25.75   \n",
       "240                          96.947368                          88.00   \n",
       "242                         129.892857                           2.00   \n",
       "\n",
       "     mean_modification_per_subject_1  mean_time_active  mean_time_active_1  \\\n",
       "191                       117.500000          0.526670            0.519947   \n",
       "225                        32.777778          0.860975            0.847397   \n",
       "234                        27.200000          0.610504            0.934652   \n",
       "240                        74.444444          1.533905            1.521849   \n",
       "242                        87.500000          4.162162            0.896052   \n",
       "\n",
       "     experimentation_quality  \n",
       "191                 0.000000  \n",
       "225                 0.700000  \n",
       "234                 0.416667  \n",
       "240                 1.000000  \n",
       "242                 0.000000  "
      ]
     },
     "execution_count": 70,
     "metadata": {},
     "output_type": "execute_result"
    }
   ],
   "source": [
    "draw(data, columns, nb_connection_1h)"
   ]
  },
  {
   "cell_type": "markdown",
   "metadata": {
    "id": "Xzcv4qT4ro5y"
   },
   "source": [
    "#### Middle Prompt -> Final Prompt"
   ]
  },
  {
   "cell_type": "code",
   "execution_count": 71,
   "metadata": {
    "id": "grPfZcjMQPqg"
   },
   "outputs": [],
   "source": [
    "columns.append(\"experimentation_quality_1\")"
   ]
  },
  {
   "cell_type": "code",
   "execution_count": 72,
   "metadata": {
    "colab": {
     "base_uri": "https://localhost:8080/"
    },
    "id": "JuUBDUjOQPnr",
    "outputId": "d187d88d-ecfc-42f0-db93-6d0f9b39efc3"
   },
   "outputs": [
    {
     "name": "stderr",
     "output_type": "stream",
     "text": [
      "100%|██████████| 93/93 [00:17<00:00,  5.26it/s]\n"
     ]
    }
   ],
   "source": [
    "data = experimentation_quality(df, nb_connection_1h, data, beginning_timestamp, middle_timestamp, end_timestamp, sujet_range, prompt=1)"
   ]
  },
  {
   "cell_type": "code",
   "execution_count": 73,
   "metadata": {
    "colab": {
     "base_uri": "https://localhost:8080/",
     "height": 0
    },
    "id": "nFOCeOqxQPjS",
    "outputId": "23f6319e-b95e-4db2-d187-97fe1ff6c8a5"
   },
   "outputs": [
    {
     "data": {
      "text/html": [
       "<div>\n",
       "<style scoped>\n",
       "    .dataframe tbody tr th:only-of-type {\n",
       "        vertical-align: middle;\n",
       "    }\n",
       "\n",
       "    .dataframe tbody tr th {\n",
       "        vertical-align: top;\n",
       "    }\n",
       "\n",
       "    .dataframe thead th {\n",
       "        text-align: right;\n",
       "    }\n",
       "</style>\n",
       "<table border=\"1\" class=\"dataframe\">\n",
       "  <thead>\n",
       "    <tr style=\"text-align: right;\">\n",
       "      <th></th>\n",
       "      <th>validated_time_rate</th>\n",
       "      <th>validated_time_rate_1</th>\n",
       "      <th>highest_version_mean_validated</th>\n",
       "      <th>highest_version_mean_validated_1</th>\n",
       "      <th>time_consulting_help</th>\n",
       "      <th>time_consulting_help_1</th>\n",
       "      <th>mean_test_per_subject</th>\n",
       "      <th>mean_test_per_subject_1</th>\n",
       "      <th>mean_size_modification_per_test</th>\n",
       "      <th>mean_size_modification_per_test_1</th>\n",
       "      <th>mean_modification_per_subject</th>\n",
       "      <th>mean_modification_per_subject_1</th>\n",
       "      <th>mean_time_active</th>\n",
       "      <th>mean_time_active_1</th>\n",
       "      <th>experimentation_quality</th>\n",
       "      <th>experimentation_quality_1</th>\n",
       "    </tr>\n",
       "  </thead>\n",
       "  <tbody>\n",
       "    <tr>\n",
       "      <th>191</th>\n",
       "      <td>0.840556</td>\n",
       "      <td>0.425278</td>\n",
       "      <td>3.5</td>\n",
       "      <td>3.5</td>\n",
       "      <td>0.0</td>\n",
       "      <td>0.0</td>\n",
       "      <td>3.250</td>\n",
       "      <td>11.000000</td>\n",
       "      <td>296.230769</td>\n",
       "      <td>207.750000</td>\n",
       "      <td>71.75</td>\n",
       "      <td>117.500000</td>\n",
       "      <td>0.526670</td>\n",
       "      <td>0.519947</td>\n",
       "      <td>0.000000</td>\n",
       "      <td>0.000000</td>\n",
       "    </tr>\n",
       "    <tr>\n",
       "      <th>225</th>\n",
       "      <td>0.000000</td>\n",
       "      <td>0.336667</td>\n",
       "      <td>0.0</td>\n",
       "      <td>3.0</td>\n",
       "      <td>73.0</td>\n",
       "      <td>75.0</td>\n",
       "      <td>4.000</td>\n",
       "      <td>4.888889</td>\n",
       "      <td>164.541667</td>\n",
       "      <td>196.545455</td>\n",
       "      <td>24.50</td>\n",
       "      <td>32.777778</td>\n",
       "      <td>0.860975</td>\n",
       "      <td>0.847397</td>\n",
       "      <td>0.700000</td>\n",
       "      <td>0.700000</td>\n",
       "    </tr>\n",
       "    <tr>\n",
       "      <th>234</th>\n",
       "      <td>0.514444</td>\n",
       "      <td>0.318611</td>\n",
       "      <td>2.4</td>\n",
       "      <td>2.6</td>\n",
       "      <td>62.0</td>\n",
       "      <td>62.0</td>\n",
       "      <td>4.125</td>\n",
       "      <td>3.800000</td>\n",
       "      <td>226.939394</td>\n",
       "      <td>286.421053</td>\n",
       "      <td>25.75</td>\n",
       "      <td>27.200000</td>\n",
       "      <td>0.610504</td>\n",
       "      <td>0.934652</td>\n",
       "      <td>0.416667</td>\n",
       "      <td>0.416667</td>\n",
       "    </tr>\n",
       "    <tr>\n",
       "      <th>240</th>\n",
       "      <td>0.296111</td>\n",
       "      <td>0.225000</td>\n",
       "      <td>4.0</td>\n",
       "      <td>3.5</td>\n",
       "      <td>10.0</td>\n",
       "      <td>23.0</td>\n",
       "      <td>15.500</td>\n",
       "      <td>12.666667</td>\n",
       "      <td>105.500000</td>\n",
       "      <td>96.947368</td>\n",
       "      <td>88.00</td>\n",
       "      <td>74.444444</td>\n",
       "      <td>1.533905</td>\n",
       "      <td>1.521849</td>\n",
       "      <td>1.000000</td>\n",
       "      <td>0.750000</td>\n",
       "    </tr>\n",
       "    <tr>\n",
       "      <th>242</th>\n",
       "      <td>0.465556</td>\n",
       "      <td>0.244444</td>\n",
       "      <td>3.0</td>\n",
       "      <td>3.0</td>\n",
       "      <td>0.0</td>\n",
       "      <td>4.0</td>\n",
       "      <td>1.000</td>\n",
       "      <td>14.000000</td>\n",
       "      <td>1788.000000</td>\n",
       "      <td>129.892857</td>\n",
       "      <td>2.00</td>\n",
       "      <td>87.500000</td>\n",
       "      <td>4.162162</td>\n",
       "      <td>0.896052</td>\n",
       "      <td>0.000000</td>\n",
       "      <td>0.000000</td>\n",
       "    </tr>\n",
       "  </tbody>\n",
       "</table>\n",
       "</div>"
      ],
      "text/plain": [
       "     validated_time_rate  validated_time_rate_1  \\\n",
       "191             0.840556               0.425278   \n",
       "225             0.000000               0.336667   \n",
       "234             0.514444               0.318611   \n",
       "240             0.296111               0.225000   \n",
       "242             0.465556               0.244444   \n",
       "\n",
       "     highest_version_mean_validated  highest_version_mean_validated_1  \\\n",
       "191                             3.5                               3.5   \n",
       "225                             0.0                               3.0   \n",
       "234                             2.4                               2.6   \n",
       "240                             4.0                               3.5   \n",
       "242                             3.0                               3.0   \n",
       "\n",
       "     time_consulting_help  time_consulting_help_1  mean_test_per_subject  \\\n",
       "191                   0.0                     0.0                  3.250   \n",
       "225                  73.0                    75.0                  4.000   \n",
       "234                  62.0                    62.0                  4.125   \n",
       "240                  10.0                    23.0                 15.500   \n",
       "242                   0.0                     4.0                  1.000   \n",
       "\n",
       "     mean_test_per_subject_1  mean_size_modification_per_test  \\\n",
       "191                11.000000                       296.230769   \n",
       "225                 4.888889                       164.541667   \n",
       "234                 3.800000                       226.939394   \n",
       "240                12.666667                       105.500000   \n",
       "242                14.000000                      1788.000000   \n",
       "\n",
       "     mean_size_modification_per_test_1  mean_modification_per_subject  \\\n",
       "191                         207.750000                          71.75   \n",
       "225                         196.545455                          24.50   \n",
       "234                         286.421053                          25.75   \n",
       "240                          96.947368                          88.00   \n",
       "242                         129.892857                           2.00   \n",
       "\n",
       "     mean_modification_per_subject_1  mean_time_active  mean_time_active_1  \\\n",
       "191                       117.500000          0.526670            0.519947   \n",
       "225                        32.777778          0.860975            0.847397   \n",
       "234                        27.200000          0.610504            0.934652   \n",
       "240                        74.444444          1.533905            1.521849   \n",
       "242                        87.500000          4.162162            0.896052   \n",
       "\n",
       "     experimentation_quality  experimentation_quality_1  \n",
       "191                 0.000000                   0.000000  \n",
       "225                 0.700000                   0.700000  \n",
       "234                 0.416667                   0.416667  \n",
       "240                 1.000000                   0.750000  \n",
       "242                 0.000000                   0.000000  "
      ]
     },
     "execution_count": 73,
     "metadata": {},
     "output_type": "execute_result"
    }
   ],
   "source": [
    "draw(data, columns, nb_connection_1h)"
   ]
  },
  {
   "cell_type": "markdown",
   "metadata": {
    "id": "uJ1pYU2LrflA"
   },
   "source": [
    "### Quality of validation\n",
    "\n",
    "Indicator name : \n",
    "* validation_quality\n",
    "\n",
    "Computation : \n",
    "* x = Has at least 1 minute on the subject before validating\n",
    "* y = Has at least 1 minute before re-validating\n",
    "* z = Has not an error\n",
    "* a = Has done at least one experimentation before validating\n",
    "* b = [for each validation : 0.1x + 0.15y + 0.5z + 0.25a]\n",
    "* sum(b)/count(b)"
   ]
  },
  {
   "cell_type": "code",
   "execution_count": 74,
   "metadata": {
    "id": "kHjEecNwTjaq"
   },
   "outputs": [],
   "source": [
    "def validation_quality(df, nb_connection_1h, data, beginning_timestamp, middle_timestamp, end_timestamp, sujet_range, prompt=0):\n",
    "    column_val_sujet = list(df[\"validation\"].columns).index(\"id_sujet\")\n",
    "    column_val_version = list(df[\"validation\"].columns).index(\"version\")\n",
    "    column_val_timestamp = list(df[\"validation\"].columns).index(\"timestamp\")\n",
    "    column_val_erreur = list(df[\"validation\"].columns).index(\"type_erreur\")\n",
    "    column_nav_sujet = list(df[\"navigation\"].columns).index(\"id_sujet\")\n",
    "    column_nav_version = list(df[\"navigation\"].columns).index(\"version\")\n",
    "    column_nav_timestamp = list(df[\"navigation\"].columns).index(\"timestamp\")\n",
    "    CONST_MINUTE = timedelta(minutes=1)\n",
    "\n",
    "    for i in tqdm.tqdm(range(len(nb_connection_1h)), position=0, leave=True):\n",
    "        id = nb_connection_1h[i]\n",
    "        time_before_validation = []\n",
    "        time_before_revalidation = []\n",
    "        one_exp_before = []\n",
    "        has_error = []\n",
    "\n",
    "        df_val = df[\"validation\"].query(\"id_connexion == {} and experimentation == 0 and id_sujet in {}\".format(id, sujet_range))\n",
    "        index = get_index_timestamp(df_val, beginning_timestamp[i], middle_timestamp[i]) if prompt == 0 else get_index_timestamp(df_val, beginning_timestamp[i], end_timestamp[i])\n",
    "        df_val = df_val.iloc[index,:]\n",
    "        for j in range(df_val.shape[0]):\n",
    "            sujet = df_val.iloc[j, column_val_sujet]\n",
    "            version = df_val.iloc[j, column_val_version]\n",
    "            timestamp = df_val.iloc[j, column_val_timestamp]\n",
    "\n",
    "            # has an error\n",
    "            has_error.append(1 if df_val.iloc[j, column_val_erreur] == 'Aucune' else 0)\n",
    "\n",
    "            # Has done at least one experimentation before\n",
    "            if j == 0:\n",
    "                min_timestamp = beginning_timestamp[i]\n",
    "            else:\n",
    "                min_timestamp = df_val.iloc[j-1, column_val_timestamp]\n",
    "            df_val_exp = df[\"validation\"].query(\"id_connexion == {} and experimentation == 1 and id_sujet == {} and version == {} and id_sujet in {}\".format(id, sujet, version, sujet_range))\n",
    "            index = get_index_timestamp(df_val_exp, min_timestamp, timestamp)\n",
    "            df_val_exp = df_val_exp.iloc[index,:]\n",
    "            one_exp_before.append(1 if df_val_exp.shape[0] > 0 else 0)\n",
    "      \n",
    "            # time before validation\n",
    "            df_nav = df[\"navigation\"].query(\"id_connexion == {} and id_sujet == {} and version == {} and id_sujet in {}\".format(id, sujet, version, sujet_range))\n",
    "            index = get_index_timestamp(df_nav, beginning_timestamp[i], timestamp)\n",
    "            df_nav = df_nav.iloc[index,:]\n",
    "            if df_nav.shape[0] == 0:\n",
    "                min_timestamp = beginning_timestamp[i] if prompt == 0 else middle_timestamp[i]\n",
    "                time_before_validation.append(min_timestamp + CONST_MINUTE <= timestamp)\n",
    "            else:\n",
    "                time_before_validation.append(1 if df_nav.iloc[df_nav.shape[0] - 1, column_nav_timestamp] + CONST_MINUTE <= timestamp else 0)\n",
    "\n",
    "            # time before re-validation\n",
    "            if j == 0:\n",
    "                time_before_revalidation.append(time_before_validation[-1])\n",
    "            else:\n",
    "                time_before_revalidation.append(1 if df_val.iloc[j-1, column_val_timestamp] + CONST_MINUTE <= timestamp else 0)\n",
    "\n",
    "        validation_qualities = [time_before_validation[val]*0.1 + time_before_revalidation[val]*0.15 + one_exp_before[val]*0.25 + has_error[val]*0.5 for val in range(len(has_error))]\n",
    "        data[i].append(sum(validation_qualities) / len(validation_qualities) if len(validation_qualities) != 0 else 0)\n",
    "    return data"
   ]
  },
  {
   "cell_type": "markdown",
   "metadata": {
    "id": "wG1qRDtlrlIH"
   },
   "source": [
    "#### Initial Prompt -> Middle Prompt"
   ]
  },
  {
   "cell_type": "code",
   "execution_count": 75,
   "metadata": {
    "id": "_qtbLxAlX8QR"
   },
   "outputs": [],
   "source": [
    "columns.append(\"validation_quality\")"
   ]
  },
  {
   "cell_type": "code",
   "execution_count": 76,
   "metadata": {
    "colab": {
     "base_uri": "https://localhost:8080/"
    },
    "id": "Z8_FMD0gX8Np",
    "outputId": "52aa8be0-676f-4d34-a554-fcb1728cbea4"
   },
   "outputs": [
    {
     "name": "stderr",
     "output_type": "stream",
     "text": [
      "100%|██████████| 93/93 [00:07<00:00, 11.78it/s]\n"
     ]
    }
   ],
   "source": [
    "data = validation_quality(df, nb_connection_1h, data, beginning_timestamp, middle_timestamp, end_timestamp, sujet_range, prompt=0)"
   ]
  },
  {
   "cell_type": "code",
   "execution_count": 77,
   "metadata": {
    "colab": {
     "base_uri": "https://localhost:8080/",
     "height": 0
    },
    "id": "tnlhjQloX8Kv",
    "outputId": "26d47566-4dbd-48b2-dea6-83b3ea452534"
   },
   "outputs": [
    {
     "data": {
      "text/html": [
       "<div>\n",
       "<style scoped>\n",
       "    .dataframe tbody tr th:only-of-type {\n",
       "        vertical-align: middle;\n",
       "    }\n",
       "\n",
       "    .dataframe tbody tr th {\n",
       "        vertical-align: top;\n",
       "    }\n",
       "\n",
       "    .dataframe thead th {\n",
       "        text-align: right;\n",
       "    }\n",
       "</style>\n",
       "<table border=\"1\" class=\"dataframe\">\n",
       "  <thead>\n",
       "    <tr style=\"text-align: right;\">\n",
       "      <th></th>\n",
       "      <th>validated_time_rate</th>\n",
       "      <th>validated_time_rate_1</th>\n",
       "      <th>highest_version_mean_validated</th>\n",
       "      <th>highest_version_mean_validated_1</th>\n",
       "      <th>time_consulting_help</th>\n",
       "      <th>time_consulting_help_1</th>\n",
       "      <th>mean_test_per_subject</th>\n",
       "      <th>mean_test_per_subject_1</th>\n",
       "      <th>mean_size_modification_per_test</th>\n",
       "      <th>mean_size_modification_per_test_1</th>\n",
       "      <th>mean_modification_per_subject</th>\n",
       "      <th>mean_modification_per_subject_1</th>\n",
       "      <th>mean_time_active</th>\n",
       "      <th>mean_time_active_1</th>\n",
       "      <th>experimentation_quality</th>\n",
       "      <th>experimentation_quality_1</th>\n",
       "      <th>validation_quality</th>\n",
       "    </tr>\n",
       "  </thead>\n",
       "  <tbody>\n",
       "    <tr>\n",
       "      <th>191</th>\n",
       "      <td>0.840556</td>\n",
       "      <td>0.425278</td>\n",
       "      <td>3.5</td>\n",
       "      <td>3.5</td>\n",
       "      <td>0.0</td>\n",
       "      <td>0.0</td>\n",
       "      <td>3.250</td>\n",
       "      <td>11.000000</td>\n",
       "      <td>296.230769</td>\n",
       "      <td>207.750000</td>\n",
       "      <td>71.75</td>\n",
       "      <td>117.500000</td>\n",
       "      <td>0.526670</td>\n",
       "      <td>0.519947</td>\n",
       "      <td>0.000000</td>\n",
       "      <td>0.000000</td>\n",
       "      <td>0.276923</td>\n",
       "    </tr>\n",
       "    <tr>\n",
       "      <th>225</th>\n",
       "      <td>0.000000</td>\n",
       "      <td>0.336667</td>\n",
       "      <td>0.0</td>\n",
       "      <td>3.0</td>\n",
       "      <td>73.0</td>\n",
       "      <td>75.0</td>\n",
       "      <td>4.000</td>\n",
       "      <td>4.888889</td>\n",
       "      <td>164.541667</td>\n",
       "      <td>196.545455</td>\n",
       "      <td>24.50</td>\n",
       "      <td>32.777778</td>\n",
       "      <td>0.860975</td>\n",
       "      <td>0.847397</td>\n",
       "      <td>0.700000</td>\n",
       "      <td>0.700000</td>\n",
       "      <td>0.000000</td>\n",
       "    </tr>\n",
       "    <tr>\n",
       "      <th>234</th>\n",
       "      <td>0.514444</td>\n",
       "      <td>0.318611</td>\n",
       "      <td>2.4</td>\n",
       "      <td>2.6</td>\n",
       "      <td>62.0</td>\n",
       "      <td>62.0</td>\n",
       "      <td>4.125</td>\n",
       "      <td>3.800000</td>\n",
       "      <td>226.939394</td>\n",
       "      <td>286.421053</td>\n",
       "      <td>25.75</td>\n",
       "      <td>27.200000</td>\n",
       "      <td>0.610504</td>\n",
       "      <td>0.934652</td>\n",
       "      <td>0.416667</td>\n",
       "      <td>0.416667</td>\n",
       "      <td>0.266000</td>\n",
       "    </tr>\n",
       "    <tr>\n",
       "      <th>240</th>\n",
       "      <td>0.296111</td>\n",
       "      <td>0.225000</td>\n",
       "      <td>4.0</td>\n",
       "      <td>3.5</td>\n",
       "      <td>10.0</td>\n",
       "      <td>23.0</td>\n",
       "      <td>15.500</td>\n",
       "      <td>12.666667</td>\n",
       "      <td>105.500000</td>\n",
       "      <td>96.947368</td>\n",
       "      <td>88.00</td>\n",
       "      <td>74.444444</td>\n",
       "      <td>1.533905</td>\n",
       "      <td>1.521849</td>\n",
       "      <td>1.000000</td>\n",
       "      <td>0.750000</td>\n",
       "      <td>0.160185</td>\n",
       "    </tr>\n",
       "    <tr>\n",
       "      <th>242</th>\n",
       "      <td>0.465556</td>\n",
       "      <td>0.244444</td>\n",
       "      <td>3.0</td>\n",
       "      <td>3.0</td>\n",
       "      <td>0.0</td>\n",
       "      <td>4.0</td>\n",
       "      <td>1.000</td>\n",
       "      <td>14.000000</td>\n",
       "      <td>1788.000000</td>\n",
       "      <td>129.892857</td>\n",
       "      <td>2.00</td>\n",
       "      <td>87.500000</td>\n",
       "      <td>4.162162</td>\n",
       "      <td>0.896052</td>\n",
       "      <td>0.000000</td>\n",
       "      <td>0.000000</td>\n",
       "      <td>0.500000</td>\n",
       "    </tr>\n",
       "  </tbody>\n",
       "</table>\n",
       "</div>"
      ],
      "text/plain": [
       "     validated_time_rate  validated_time_rate_1  \\\n",
       "191             0.840556               0.425278   \n",
       "225             0.000000               0.336667   \n",
       "234             0.514444               0.318611   \n",
       "240             0.296111               0.225000   \n",
       "242             0.465556               0.244444   \n",
       "\n",
       "     highest_version_mean_validated  highest_version_mean_validated_1  \\\n",
       "191                             3.5                               3.5   \n",
       "225                             0.0                               3.0   \n",
       "234                             2.4                               2.6   \n",
       "240                             4.0                               3.5   \n",
       "242                             3.0                               3.0   \n",
       "\n",
       "     time_consulting_help  time_consulting_help_1  mean_test_per_subject  \\\n",
       "191                   0.0                     0.0                  3.250   \n",
       "225                  73.0                    75.0                  4.000   \n",
       "234                  62.0                    62.0                  4.125   \n",
       "240                  10.0                    23.0                 15.500   \n",
       "242                   0.0                     4.0                  1.000   \n",
       "\n",
       "     mean_test_per_subject_1  mean_size_modification_per_test  \\\n",
       "191                11.000000                       296.230769   \n",
       "225                 4.888889                       164.541667   \n",
       "234                 3.800000                       226.939394   \n",
       "240                12.666667                       105.500000   \n",
       "242                14.000000                      1788.000000   \n",
       "\n",
       "     mean_size_modification_per_test_1  mean_modification_per_subject  \\\n",
       "191                         207.750000                          71.75   \n",
       "225                         196.545455                          24.50   \n",
       "234                         286.421053                          25.75   \n",
       "240                          96.947368                          88.00   \n",
       "242                         129.892857                           2.00   \n",
       "\n",
       "     mean_modification_per_subject_1  mean_time_active  mean_time_active_1  \\\n",
       "191                       117.500000          0.526670            0.519947   \n",
       "225                        32.777778          0.860975            0.847397   \n",
       "234                        27.200000          0.610504            0.934652   \n",
       "240                        74.444444          1.533905            1.521849   \n",
       "242                        87.500000          4.162162            0.896052   \n",
       "\n",
       "     experimentation_quality  experimentation_quality_1  validation_quality  \n",
       "191                 0.000000                   0.000000            0.276923  \n",
       "225                 0.700000                   0.700000            0.000000  \n",
       "234                 0.416667                   0.416667            0.266000  \n",
       "240                 1.000000                   0.750000            0.160185  \n",
       "242                 0.000000                   0.000000            0.500000  "
      ]
     },
     "execution_count": 77,
     "metadata": {},
     "output_type": "execute_result"
    }
   ],
   "source": [
    "draw(data, columns, nb_connection_1h)"
   ]
  },
  {
   "cell_type": "markdown",
   "metadata": {
    "id": "I4gb6T6ArQwT"
   },
   "source": [
    "#### Middle Prompt -> Final Prompt"
   ]
  },
  {
   "cell_type": "code",
   "execution_count": 78,
   "metadata": {
    "id": "QSsMTPvqX8re"
   },
   "outputs": [],
   "source": [
    "columns.append(\"validation_quality_1\")"
   ]
  },
  {
   "cell_type": "code",
   "execution_count": 79,
   "metadata": {
    "colab": {
     "base_uri": "https://localhost:8080/"
    },
    "id": "VJMW9GYWX8o-",
    "outputId": "adb8cefa-5cf9-4274-f034-2f693645a3b9"
   },
   "outputs": [
    {
     "name": "stderr",
     "output_type": "stream",
     "text": [
      "100%|██████████| 93/93 [00:14<00:00,  6.53it/s]\n"
     ]
    }
   ],
   "source": [
    "data = validation_quality(df, nb_connection_1h, data, beginning_timestamp, middle_timestamp, end_timestamp, sujet_range, prompt=1)"
   ]
  },
  {
   "cell_type": "code",
   "execution_count": 80,
   "metadata": {
    "colab": {
     "base_uri": "https://localhost:8080/",
     "height": 0
    },
    "id": "C17vsAxjX8mx",
    "outputId": "27097dc9-b3f8-4fac-ac06-f89c1fa4b6cf"
   },
   "outputs": [
    {
     "data": {
      "text/html": [
       "<div>\n",
       "<style scoped>\n",
       "    .dataframe tbody tr th:only-of-type {\n",
       "        vertical-align: middle;\n",
       "    }\n",
       "\n",
       "    .dataframe tbody tr th {\n",
       "        vertical-align: top;\n",
       "    }\n",
       "\n",
       "    .dataframe thead th {\n",
       "        text-align: right;\n",
       "    }\n",
       "</style>\n",
       "<table border=\"1\" class=\"dataframe\">\n",
       "  <thead>\n",
       "    <tr style=\"text-align: right;\">\n",
       "      <th></th>\n",
       "      <th>validated_time_rate</th>\n",
       "      <th>validated_time_rate_1</th>\n",
       "      <th>highest_version_mean_validated</th>\n",
       "      <th>highest_version_mean_validated_1</th>\n",
       "      <th>time_consulting_help</th>\n",
       "      <th>time_consulting_help_1</th>\n",
       "      <th>mean_test_per_subject</th>\n",
       "      <th>mean_test_per_subject_1</th>\n",
       "      <th>mean_size_modification_per_test</th>\n",
       "      <th>mean_size_modification_per_test_1</th>\n",
       "      <th>mean_modification_per_subject</th>\n",
       "      <th>mean_modification_per_subject_1</th>\n",
       "      <th>mean_time_active</th>\n",
       "      <th>mean_time_active_1</th>\n",
       "      <th>experimentation_quality</th>\n",
       "      <th>experimentation_quality_1</th>\n",
       "      <th>validation_quality</th>\n",
       "      <th>validation_quality_1</th>\n",
       "    </tr>\n",
       "  </thead>\n",
       "  <tbody>\n",
       "    <tr>\n",
       "      <th>191</th>\n",
       "      <td>0.840556</td>\n",
       "      <td>0.425278</td>\n",
       "      <td>3.5</td>\n",
       "      <td>3.5</td>\n",
       "      <td>0.0</td>\n",
       "      <td>0.0</td>\n",
       "      <td>3.250</td>\n",
       "      <td>11.000000</td>\n",
       "      <td>296.230769</td>\n",
       "      <td>207.750000</td>\n",
       "      <td>71.75</td>\n",
       "      <td>117.500000</td>\n",
       "      <td>0.526670</td>\n",
       "      <td>0.519947</td>\n",
       "      <td>0.000000</td>\n",
       "      <td>0.000000</td>\n",
       "      <td>0.276923</td>\n",
       "      <td>0.201163</td>\n",
       "    </tr>\n",
       "    <tr>\n",
       "      <th>225</th>\n",
       "      <td>0.000000</td>\n",
       "      <td>0.336667</td>\n",
       "      <td>0.0</td>\n",
       "      <td>3.0</td>\n",
       "      <td>73.0</td>\n",
       "      <td>75.0</td>\n",
       "      <td>4.000</td>\n",
       "      <td>4.888889</td>\n",
       "      <td>164.541667</td>\n",
       "      <td>196.545455</td>\n",
       "      <td>24.50</td>\n",
       "      <td>32.777778</td>\n",
       "      <td>0.860975</td>\n",
       "      <td>0.847397</td>\n",
       "      <td>0.700000</td>\n",
       "      <td>0.700000</td>\n",
       "      <td>0.000000</td>\n",
       "      <td>0.520000</td>\n",
       "    </tr>\n",
       "    <tr>\n",
       "      <th>234</th>\n",
       "      <td>0.514444</td>\n",
       "      <td>0.318611</td>\n",
       "      <td>2.4</td>\n",
       "      <td>2.6</td>\n",
       "      <td>62.0</td>\n",
       "      <td>62.0</td>\n",
       "      <td>4.125</td>\n",
       "      <td>3.800000</td>\n",
       "      <td>226.939394</td>\n",
       "      <td>286.421053</td>\n",
       "      <td>25.75</td>\n",
       "      <td>27.200000</td>\n",
       "      <td>0.610504</td>\n",
       "      <td>0.934652</td>\n",
       "      <td>0.416667</td>\n",
       "      <td>0.416667</td>\n",
       "      <td>0.266000</td>\n",
       "      <td>0.271429</td>\n",
       "    </tr>\n",
       "    <tr>\n",
       "      <th>240</th>\n",
       "      <td>0.296111</td>\n",
       "      <td>0.225000</td>\n",
       "      <td>4.0</td>\n",
       "      <td>3.5</td>\n",
       "      <td>10.0</td>\n",
       "      <td>23.0</td>\n",
       "      <td>15.500</td>\n",
       "      <td>12.666667</td>\n",
       "      <td>105.500000</td>\n",
       "      <td>96.947368</td>\n",
       "      <td>88.00</td>\n",
       "      <td>74.444444</td>\n",
       "      <td>1.533905</td>\n",
       "      <td>1.521849</td>\n",
       "      <td>1.000000</td>\n",
       "      <td>0.750000</td>\n",
       "      <td>0.160185</td>\n",
       "      <td>0.149524</td>\n",
       "    </tr>\n",
       "    <tr>\n",
       "      <th>242</th>\n",
       "      <td>0.465556</td>\n",
       "      <td>0.244444</td>\n",
       "      <td>3.0</td>\n",
       "      <td>3.0</td>\n",
       "      <td>0.0</td>\n",
       "      <td>4.0</td>\n",
       "      <td>1.000</td>\n",
       "      <td>14.000000</td>\n",
       "      <td>1788.000000</td>\n",
       "      <td>129.892857</td>\n",
       "      <td>2.00</td>\n",
       "      <td>87.500000</td>\n",
       "      <td>4.162162</td>\n",
       "      <td>0.896052</td>\n",
       "      <td>0.000000</td>\n",
       "      <td>0.000000</td>\n",
       "      <td>0.500000</td>\n",
       "      <td>0.125000</td>\n",
       "    </tr>\n",
       "  </tbody>\n",
       "</table>\n",
       "</div>"
      ],
      "text/plain": [
       "     validated_time_rate  validated_time_rate_1  \\\n",
       "191             0.840556               0.425278   \n",
       "225             0.000000               0.336667   \n",
       "234             0.514444               0.318611   \n",
       "240             0.296111               0.225000   \n",
       "242             0.465556               0.244444   \n",
       "\n",
       "     highest_version_mean_validated  highest_version_mean_validated_1  \\\n",
       "191                             3.5                               3.5   \n",
       "225                             0.0                               3.0   \n",
       "234                             2.4                               2.6   \n",
       "240                             4.0                               3.5   \n",
       "242                             3.0                               3.0   \n",
       "\n",
       "     time_consulting_help  time_consulting_help_1  mean_test_per_subject  \\\n",
       "191                   0.0                     0.0                  3.250   \n",
       "225                  73.0                    75.0                  4.000   \n",
       "234                  62.0                    62.0                  4.125   \n",
       "240                  10.0                    23.0                 15.500   \n",
       "242                   0.0                     4.0                  1.000   \n",
       "\n",
       "     mean_test_per_subject_1  mean_size_modification_per_test  \\\n",
       "191                11.000000                       296.230769   \n",
       "225                 4.888889                       164.541667   \n",
       "234                 3.800000                       226.939394   \n",
       "240                12.666667                       105.500000   \n",
       "242                14.000000                      1788.000000   \n",
       "\n",
       "     mean_size_modification_per_test_1  mean_modification_per_subject  \\\n",
       "191                         207.750000                          71.75   \n",
       "225                         196.545455                          24.50   \n",
       "234                         286.421053                          25.75   \n",
       "240                          96.947368                          88.00   \n",
       "242                         129.892857                           2.00   \n",
       "\n",
       "     mean_modification_per_subject_1  mean_time_active  mean_time_active_1  \\\n",
       "191                       117.500000          0.526670            0.519947   \n",
       "225                        32.777778          0.860975            0.847397   \n",
       "234                        27.200000          0.610504            0.934652   \n",
       "240                        74.444444          1.533905            1.521849   \n",
       "242                        87.500000          4.162162            0.896052   \n",
       "\n",
       "     experimentation_quality  experimentation_quality_1  validation_quality  \\\n",
       "191                 0.000000                   0.000000            0.276923   \n",
       "225                 0.700000                   0.700000            0.000000   \n",
       "234                 0.416667                   0.416667            0.266000   \n",
       "240                 1.000000                   0.750000            0.160185   \n",
       "242                 0.000000                   0.000000            0.500000   \n",
       "\n",
       "     validation_quality_1  \n",
       "191              0.201163  \n",
       "225              0.520000  \n",
       "234              0.271429  \n",
       "240              0.149524  \n",
       "242              0.125000  "
      ]
     },
     "execution_count": 80,
     "metadata": {},
     "output_type": "execute_result"
    }
   ],
   "source": [
    "draw(data, columns, nb_connection_1h)"
   ]
  },
  {
   "cell_type": "markdown",
   "metadata": {
    "id": "KnOC1t8fA4qh"
   },
   "source": [
    "### Score"
   ]
  },
  {
   "cell_type": "code",
   "execution_count": 81,
   "metadata": {
    "id": "GSpFBpBQBU2u"
   },
   "outputs": [],
   "source": [
    "def get_cumuled_score(df, nb_connection_1h, data, beginning_timestamp, middle_timestamp, end_timestamp, sujet_range, prompt=0):\n",
    "    cumul_score = []\n",
    "    for i,id in enumerate(nb_connection_1h):\n",
    "        scores = []\n",
    "        df_val = df[\"validation\"].query('id_connexion == {} and experimentation == 0 and id_sujet in {}'.format(id, sujet_range))\n",
    "        index = get_index_timestamp(df_val, beginning_timestamp[i], middle_timestamp[i]) if prompt == 0 else get_index_timestamp(df_val, beginning_timestamp[i], end_timestamp[i])\n",
    "        df_val = df_val.iloc[index,:]\n",
    "        for id_sujet in list(set(df_val.id_sujet)):\n",
    "            val_version = list(df_val.query('id_sujet == {} and score > 0'.format(id_sujet)).version)\n",
    "            versions = np.zeros((5,))\n",
    "            for row in range(len(val_version)):\n",
    "                versions[val_version[row]] = val_version[row] * 10\n",
    "            scores.append(np.max(versions))\n",
    "        data[i].append(np.sum(scores))\n",
    "    return data"
   ]
  },
  {
   "cell_type": "code",
   "execution_count": 82,
   "metadata": {
    "id": "EWWcYadhETyu"
   },
   "outputs": [],
   "source": [
    "columns.append(\"score\")\n",
    "columns.append(\"score_1\")"
   ]
  },
  {
   "cell_type": "code",
   "execution_count": 83,
   "metadata": {
    "id": "ggr9RI-4BV5C"
   },
   "outputs": [],
   "source": [
    "data = get_cumuled_score(df, nb_connection_1h, data, beginning_timestamp, middle_timestamp, end_timestamp, sujet_range, prompt=0)\n",
    "data = get_cumuled_score(df, nb_connection_1h, data, beginning_timestamp, middle_timestamp, end_timestamp, sujet_range, prompt=1)"
   ]
  },
  {
   "cell_type": "code",
   "execution_count": 84,
   "metadata": {
    "colab": {
     "base_uri": "https://localhost:8080/",
     "height": 0
    },
    "id": "Q28rNeQVESNS",
    "outputId": "6ca37e35-00bc-4aec-881e-491ada0d98f6"
   },
   "outputs": [
    {
     "data": {
      "text/html": [
       "<div>\n",
       "<style scoped>\n",
       "    .dataframe tbody tr th:only-of-type {\n",
       "        vertical-align: middle;\n",
       "    }\n",
       "\n",
       "    .dataframe tbody tr th {\n",
       "        vertical-align: top;\n",
       "    }\n",
       "\n",
       "    .dataframe thead th {\n",
       "        text-align: right;\n",
       "    }\n",
       "</style>\n",
       "<table border=\"1\" class=\"dataframe\">\n",
       "  <thead>\n",
       "    <tr style=\"text-align: right;\">\n",
       "      <th></th>\n",
       "      <th>validated_time_rate</th>\n",
       "      <th>validated_time_rate_1</th>\n",
       "      <th>highest_version_mean_validated</th>\n",
       "      <th>highest_version_mean_validated_1</th>\n",
       "      <th>time_consulting_help</th>\n",
       "      <th>time_consulting_help_1</th>\n",
       "      <th>mean_test_per_subject</th>\n",
       "      <th>mean_test_per_subject_1</th>\n",
       "      <th>mean_size_modification_per_test</th>\n",
       "      <th>mean_size_modification_per_test_1</th>\n",
       "      <th>mean_modification_per_subject</th>\n",
       "      <th>mean_modification_per_subject_1</th>\n",
       "      <th>mean_time_active</th>\n",
       "      <th>mean_time_active_1</th>\n",
       "      <th>experimentation_quality</th>\n",
       "      <th>experimentation_quality_1</th>\n",
       "      <th>validation_quality</th>\n",
       "      <th>validation_quality_1</th>\n",
       "      <th>score</th>\n",
       "      <th>score_1</th>\n",
       "    </tr>\n",
       "  </thead>\n",
       "  <tbody>\n",
       "    <tr>\n",
       "      <th>191</th>\n",
       "      <td>0.840556</td>\n",
       "      <td>0.425278</td>\n",
       "      <td>3.5</td>\n",
       "      <td>3.5</td>\n",
       "      <td>0.0</td>\n",
       "      <td>0.0</td>\n",
       "      <td>3.250</td>\n",
       "      <td>11.000000</td>\n",
       "      <td>296.230769</td>\n",
       "      <td>207.750000</td>\n",
       "      <td>71.75</td>\n",
       "      <td>117.500000</td>\n",
       "      <td>0.526670</td>\n",
       "      <td>0.519947</td>\n",
       "      <td>0.000000</td>\n",
       "      <td>0.000000</td>\n",
       "      <td>0.276923</td>\n",
       "      <td>0.201163</td>\n",
       "      <td>70.0</td>\n",
       "      <td>70.0</td>\n",
       "    </tr>\n",
       "    <tr>\n",
       "      <th>225</th>\n",
       "      <td>0.000000</td>\n",
       "      <td>0.336667</td>\n",
       "      <td>0.0</td>\n",
       "      <td>3.0</td>\n",
       "      <td>73.0</td>\n",
       "      <td>75.0</td>\n",
       "      <td>4.000</td>\n",
       "      <td>4.888889</td>\n",
       "      <td>164.541667</td>\n",
       "      <td>196.545455</td>\n",
       "      <td>24.50</td>\n",
       "      <td>32.777778</td>\n",
       "      <td>0.860975</td>\n",
       "      <td>0.847397</td>\n",
       "      <td>0.700000</td>\n",
       "      <td>0.700000</td>\n",
       "      <td>0.000000</td>\n",
       "      <td>0.520000</td>\n",
       "      <td>0.0</td>\n",
       "      <td>60.0</td>\n",
       "    </tr>\n",
       "    <tr>\n",
       "      <th>234</th>\n",
       "      <td>0.514444</td>\n",
       "      <td>0.318611</td>\n",
       "      <td>2.4</td>\n",
       "      <td>2.6</td>\n",
       "      <td>62.0</td>\n",
       "      <td>62.0</td>\n",
       "      <td>4.125</td>\n",
       "      <td>3.800000</td>\n",
       "      <td>226.939394</td>\n",
       "      <td>286.421053</td>\n",
       "      <td>25.75</td>\n",
       "      <td>27.200000</td>\n",
       "      <td>0.610504</td>\n",
       "      <td>0.934652</td>\n",
       "      <td>0.416667</td>\n",
       "      <td>0.416667</td>\n",
       "      <td>0.266000</td>\n",
       "      <td>0.271429</td>\n",
       "      <td>120.0</td>\n",
       "      <td>130.0</td>\n",
       "    </tr>\n",
       "    <tr>\n",
       "      <th>240</th>\n",
       "      <td>0.296111</td>\n",
       "      <td>0.225000</td>\n",
       "      <td>4.0</td>\n",
       "      <td>3.5</td>\n",
       "      <td>10.0</td>\n",
       "      <td>23.0</td>\n",
       "      <td>15.500</td>\n",
       "      <td>12.666667</td>\n",
       "      <td>105.500000</td>\n",
       "      <td>96.947368</td>\n",
       "      <td>88.00</td>\n",
       "      <td>74.444444</td>\n",
       "      <td>1.533905</td>\n",
       "      <td>1.521849</td>\n",
       "      <td>1.000000</td>\n",
       "      <td>0.750000</td>\n",
       "      <td>0.160185</td>\n",
       "      <td>0.149524</td>\n",
       "      <td>40.0</td>\n",
       "      <td>70.0</td>\n",
       "    </tr>\n",
       "    <tr>\n",
       "      <th>242</th>\n",
       "      <td>0.465556</td>\n",
       "      <td>0.244444</td>\n",
       "      <td>3.0</td>\n",
       "      <td>3.0</td>\n",
       "      <td>0.0</td>\n",
       "      <td>4.0</td>\n",
       "      <td>1.000</td>\n",
       "      <td>14.000000</td>\n",
       "      <td>1788.000000</td>\n",
       "      <td>129.892857</td>\n",
       "      <td>2.00</td>\n",
       "      <td>87.500000</td>\n",
       "      <td>4.162162</td>\n",
       "      <td>0.896052</td>\n",
       "      <td>0.000000</td>\n",
       "      <td>0.000000</td>\n",
       "      <td>0.500000</td>\n",
       "      <td>0.125000</td>\n",
       "      <td>30.0</td>\n",
       "      <td>30.0</td>\n",
       "    </tr>\n",
       "  </tbody>\n",
       "</table>\n",
       "</div>"
      ],
      "text/plain": [
       "     validated_time_rate  validated_time_rate_1  \\\n",
       "191             0.840556               0.425278   \n",
       "225             0.000000               0.336667   \n",
       "234             0.514444               0.318611   \n",
       "240             0.296111               0.225000   \n",
       "242             0.465556               0.244444   \n",
       "\n",
       "     highest_version_mean_validated  highest_version_mean_validated_1  \\\n",
       "191                             3.5                               3.5   \n",
       "225                             0.0                               3.0   \n",
       "234                             2.4                               2.6   \n",
       "240                             4.0                               3.5   \n",
       "242                             3.0                               3.0   \n",
       "\n",
       "     time_consulting_help  time_consulting_help_1  mean_test_per_subject  \\\n",
       "191                   0.0                     0.0                  3.250   \n",
       "225                  73.0                    75.0                  4.000   \n",
       "234                  62.0                    62.0                  4.125   \n",
       "240                  10.0                    23.0                 15.500   \n",
       "242                   0.0                     4.0                  1.000   \n",
       "\n",
       "     mean_test_per_subject_1  mean_size_modification_per_test  \\\n",
       "191                11.000000                       296.230769   \n",
       "225                 4.888889                       164.541667   \n",
       "234                 3.800000                       226.939394   \n",
       "240                12.666667                       105.500000   \n",
       "242                14.000000                      1788.000000   \n",
       "\n",
       "     mean_size_modification_per_test_1  mean_modification_per_subject  \\\n",
       "191                         207.750000                          71.75   \n",
       "225                         196.545455                          24.50   \n",
       "234                         286.421053                          25.75   \n",
       "240                          96.947368                          88.00   \n",
       "242                         129.892857                           2.00   \n",
       "\n",
       "     mean_modification_per_subject_1  mean_time_active  mean_time_active_1  \\\n",
       "191                       117.500000          0.526670            0.519947   \n",
       "225                        32.777778          0.860975            0.847397   \n",
       "234                        27.200000          0.610504            0.934652   \n",
       "240                        74.444444          1.533905            1.521849   \n",
       "242                        87.500000          4.162162            0.896052   \n",
       "\n",
       "     experimentation_quality  experimentation_quality_1  validation_quality  \\\n",
       "191                 0.000000                   0.000000            0.276923   \n",
       "225                 0.700000                   0.700000            0.000000   \n",
       "234                 0.416667                   0.416667            0.266000   \n",
       "240                 1.000000                   0.750000            0.160185   \n",
       "242                 0.000000                   0.000000            0.500000   \n",
       "\n",
       "     validation_quality_1  score  score_1  \n",
       "191              0.201163   70.0     70.0  \n",
       "225              0.520000    0.0     60.0  \n",
       "234              0.271429  120.0    130.0  \n",
       "240              0.149524   40.0     70.0  \n",
       "242              0.125000   30.0     30.0  "
      ]
     },
     "execution_count": 84,
     "metadata": {},
     "output_type": "execute_result"
    }
   ],
   "source": [
    "draw(data, columns, nb_connection_1h)"
   ]
  },
  {
   "cell_type": "markdown",
   "metadata": {
    "id": "B1XHV7HVFTR9"
   },
   "source": [
    "## Rearrange Brut Dataset"
   ]
  },
  {
   "cell_type": "markdown",
   "metadata": {
    "id": "uHpsfhBVx4dZ"
   },
   "source": [
    "### Dataset"
   ]
  },
  {
   "cell_type": "markdown",
   "metadata": {
    "id": "Us7OEQrkDDEd"
   },
   "source": [
    "#### Data Save"
   ]
  },
  {
   "cell_type": "code",
   "execution_count": 85,
   "metadata": {
    "id": "m8_HmRI9DI_3"
   },
   "outputs": [],
   "source": [
    "dataset_brut = pd.DataFrame(data, columns=columns, index=nb_connection_1h)"
   ]
  },
  {
   "cell_type": "code",
   "execution_count": 86,
   "metadata": {
    "id": "ssT02cTMDXw8"
   },
   "outputs": [],
   "source": [
    "dataset_brut.to_csv(\"dataset_brut_dbnv2.csv\")"
   ]
  },
  {
   "cell_type": "markdown",
   "metadata": {
    "id": "X6IPbGNQDdH9"
   },
   "source": [
    "#### Data Loading"
   ]
  },
  {
   "cell_type": "code",
   "execution_count": 3,
   "metadata": {
    "id": "suOfHZpKDh8B"
   },
   "outputs": [],
   "source": [
    "dataset_brut = pd.read_csv(\"dataset_brut_dbnv2.csv\", index_col=0, header=0)"
   ]
  },
  {
   "cell_type": "code",
   "execution_count": 4,
   "metadata": {
    "colab": {
     "base_uri": "https://localhost:8080/",
     "height": 439
    },
    "id": "VR8-jWYsE4Ot",
    "outputId": "427582dc-fa89-4c5f-fe90-10463a8cdcc7"
   },
   "outputs": [
    {
     "data": {
      "text/html": [
       "<div>\n",
       "<style scoped>\n",
       "    .dataframe tbody tr th:only-of-type {\n",
       "        vertical-align: middle;\n",
       "    }\n",
       "\n",
       "    .dataframe tbody tr th {\n",
       "        vertical-align: top;\n",
       "    }\n",
       "\n",
       "    .dataframe thead th {\n",
       "        text-align: right;\n",
       "    }\n",
       "</style>\n",
       "<table border=\"1\" class=\"dataframe\">\n",
       "  <thead>\n",
       "    <tr style=\"text-align: right;\">\n",
       "      <th></th>\n",
       "      <th>validated_time_rate</th>\n",
       "      <th>validated_time_rate_1</th>\n",
       "      <th>highest_version_mean_validated</th>\n",
       "      <th>highest_version_mean_validated_1</th>\n",
       "      <th>time_consulting_help</th>\n",
       "      <th>time_consulting_help_1</th>\n",
       "      <th>mean_test_per_subject</th>\n",
       "      <th>mean_test_per_subject_1</th>\n",
       "      <th>mean_size_modification_per_test</th>\n",
       "      <th>mean_size_modification_per_test_1</th>\n",
       "      <th>mean_modification_per_subject</th>\n",
       "      <th>mean_modification_per_subject_1</th>\n",
       "      <th>mean_time_active</th>\n",
       "      <th>mean_time_active_1</th>\n",
       "      <th>experimentation_quality</th>\n",
       "      <th>experimentation_quality_1</th>\n",
       "      <th>validation_quality</th>\n",
       "      <th>validation_quality_1</th>\n",
       "      <th>score</th>\n",
       "      <th>score_1</th>\n",
       "    </tr>\n",
       "  </thead>\n",
       "  <tbody>\n",
       "    <tr>\n",
       "      <th>191</th>\n",
       "      <td>0.840556</td>\n",
       "      <td>0.425278</td>\n",
       "      <td>3.500000</td>\n",
       "      <td>3.500000</td>\n",
       "      <td>0.0</td>\n",
       "      <td>0.0</td>\n",
       "      <td>3.250000</td>\n",
       "      <td>11.000000</td>\n",
       "      <td>296.230769</td>\n",
       "      <td>207.750000</td>\n",
       "      <td>71.750000</td>\n",
       "      <td>117.500000</td>\n",
       "      <td>0.526670</td>\n",
       "      <td>0.519947</td>\n",
       "      <td>0.000000</td>\n",
       "      <td>0.000000</td>\n",
       "      <td>0.276923</td>\n",
       "      <td>0.201163</td>\n",
       "      <td>70.0</td>\n",
       "      <td>70.0</td>\n",
       "    </tr>\n",
       "    <tr>\n",
       "      <th>225</th>\n",
       "      <td>0.000000</td>\n",
       "      <td>0.336667</td>\n",
       "      <td>0.000000</td>\n",
       "      <td>3.000000</td>\n",
       "      <td>73.0</td>\n",
       "      <td>75.0</td>\n",
       "      <td>4.000000</td>\n",
       "      <td>4.888889</td>\n",
       "      <td>164.541667</td>\n",
       "      <td>196.545455</td>\n",
       "      <td>24.500000</td>\n",
       "      <td>32.777778</td>\n",
       "      <td>0.860975</td>\n",
       "      <td>0.847397</td>\n",
       "      <td>0.700000</td>\n",
       "      <td>0.700000</td>\n",
       "      <td>0.000000</td>\n",
       "      <td>0.520000</td>\n",
       "      <td>0.0</td>\n",
       "      <td>60.0</td>\n",
       "    </tr>\n",
       "    <tr>\n",
       "      <th>234</th>\n",
       "      <td>0.514444</td>\n",
       "      <td>0.318611</td>\n",
       "      <td>2.400000</td>\n",
       "      <td>2.600000</td>\n",
       "      <td>62.0</td>\n",
       "      <td>62.0</td>\n",
       "      <td>4.125000</td>\n",
       "      <td>3.800000</td>\n",
       "      <td>226.939394</td>\n",
       "      <td>286.421053</td>\n",
       "      <td>25.750000</td>\n",
       "      <td>27.200000</td>\n",
       "      <td>0.610504</td>\n",
       "      <td>0.934652</td>\n",
       "      <td>0.416667</td>\n",
       "      <td>0.416667</td>\n",
       "      <td>0.266000</td>\n",
       "      <td>0.271429</td>\n",
       "      <td>120.0</td>\n",
       "      <td>130.0</td>\n",
       "    </tr>\n",
       "    <tr>\n",
       "      <th>240</th>\n",
       "      <td>0.296111</td>\n",
       "      <td>0.225000</td>\n",
       "      <td>4.000000</td>\n",
       "      <td>3.500000</td>\n",
       "      <td>10.0</td>\n",
       "      <td>23.0</td>\n",
       "      <td>15.500000</td>\n",
       "      <td>12.666667</td>\n",
       "      <td>105.500000</td>\n",
       "      <td>96.947368</td>\n",
       "      <td>88.000000</td>\n",
       "      <td>74.444444</td>\n",
       "      <td>1.533905</td>\n",
       "      <td>1.521849</td>\n",
       "      <td>1.000000</td>\n",
       "      <td>0.750000</td>\n",
       "      <td>0.160185</td>\n",
       "      <td>0.149524</td>\n",
       "      <td>40.0</td>\n",
       "      <td>70.0</td>\n",
       "    </tr>\n",
       "    <tr>\n",
       "      <th>242</th>\n",
       "      <td>0.465556</td>\n",
       "      <td>0.244444</td>\n",
       "      <td>3.000000</td>\n",
       "      <td>3.000000</td>\n",
       "      <td>0.0</td>\n",
       "      <td>4.0</td>\n",
       "      <td>1.000000</td>\n",
       "      <td>14.000000</td>\n",
       "      <td>1788.000000</td>\n",
       "      <td>129.892857</td>\n",
       "      <td>2.000000</td>\n",
       "      <td>87.500000</td>\n",
       "      <td>4.162162</td>\n",
       "      <td>0.896052</td>\n",
       "      <td>0.000000</td>\n",
       "      <td>0.000000</td>\n",
       "      <td>0.500000</td>\n",
       "      <td>0.125000</td>\n",
       "      <td>30.0</td>\n",
       "      <td>30.0</td>\n",
       "    </tr>\n",
       "    <tr>\n",
       "      <th>...</th>\n",
       "      <td>...</td>\n",
       "      <td>...</td>\n",
       "      <td>...</td>\n",
       "      <td>...</td>\n",
       "      <td>...</td>\n",
       "      <td>...</td>\n",
       "      <td>...</td>\n",
       "      <td>...</td>\n",
       "      <td>...</td>\n",
       "      <td>...</td>\n",
       "      <td>...</td>\n",
       "      <td>...</td>\n",
       "      <td>...</td>\n",
       "      <td>...</td>\n",
       "      <td>...</td>\n",
       "      <td>...</td>\n",
       "      <td>...</td>\n",
       "      <td>...</td>\n",
       "      <td>...</td>\n",
       "      <td>...</td>\n",
       "    </tr>\n",
       "    <tr>\n",
       "      <th>5212</th>\n",
       "      <td>0.616111</td>\n",
       "      <td>0.460556</td>\n",
       "      <td>2.666667</td>\n",
       "      <td>3.333333</td>\n",
       "      <td>0.0</td>\n",
       "      <td>0.0</td>\n",
       "      <td>8.800000</td>\n",
       "      <td>8.125000</td>\n",
       "      <td>72.068182</td>\n",
       "      <td>202.153846</td>\n",
       "      <td>46.400000</td>\n",
       "      <td>71.000000</td>\n",
       "      <td>0.447123</td>\n",
       "      <td>0.404017</td>\n",
       "      <td>0.000000</td>\n",
       "      <td>0.000000</td>\n",
       "      <td>0.207812</td>\n",
       "      <td>0.226000</td>\n",
       "      <td>80.0</td>\n",
       "      <td>100.0</td>\n",
       "    </tr>\n",
       "    <tr>\n",
       "      <th>5213</th>\n",
       "      <td>0.308889</td>\n",
       "      <td>0.290556</td>\n",
       "      <td>3.000000</td>\n",
       "      <td>2.666667</td>\n",
       "      <td>2.0</td>\n",
       "      <td>8.0</td>\n",
       "      <td>7.166667</td>\n",
       "      <td>9.111111</td>\n",
       "      <td>155.279070</td>\n",
       "      <td>199.439024</td>\n",
       "      <td>50.500000</td>\n",
       "      <td>64.333333</td>\n",
       "      <td>0.393273</td>\n",
       "      <td>0.408490</td>\n",
       "      <td>0.750000</td>\n",
       "      <td>0.750000</td>\n",
       "      <td>0.237500</td>\n",
       "      <td>0.202985</td>\n",
       "      <td>60.0</td>\n",
       "      <td>80.0</td>\n",
       "    </tr>\n",
       "    <tr>\n",
       "      <th>5223</th>\n",
       "      <td>0.436667</td>\n",
       "      <td>0.622500</td>\n",
       "      <td>3.000000</td>\n",
       "      <td>2.750000</td>\n",
       "      <td>6.0</td>\n",
       "      <td>6.0</td>\n",
       "      <td>4.750000</td>\n",
       "      <td>7.125000</td>\n",
       "      <td>238.947368</td>\n",
       "      <td>167.964912</td>\n",
       "      <td>42.500000</td>\n",
       "      <td>60.250000</td>\n",
       "      <td>0.810478</td>\n",
       "      <td>0.569541</td>\n",
       "      <td>0.000000</td>\n",
       "      <td>0.000000</td>\n",
       "      <td>0.271875</td>\n",
       "      <td>0.207547</td>\n",
       "      <td>60.0</td>\n",
       "      <td>110.0</td>\n",
       "    </tr>\n",
       "    <tr>\n",
       "      <th>5225</th>\n",
       "      <td>0.176111</td>\n",
       "      <td>0.841389</td>\n",
       "      <td>4.000000</td>\n",
       "      <td>3.500000</td>\n",
       "      <td>0.0</td>\n",
       "      <td>0.0</td>\n",
       "      <td>4.500000</td>\n",
       "      <td>5.727273</td>\n",
       "      <td>136.444444</td>\n",
       "      <td>182.222222</td>\n",
       "      <td>15.500000</td>\n",
       "      <td>38.272727</td>\n",
       "      <td>1.116149</td>\n",
       "      <td>0.585639</td>\n",
       "      <td>0.000000</td>\n",
       "      <td>0.000000</td>\n",
       "      <td>0.350000</td>\n",
       "      <td>0.330769</td>\n",
       "      <td>40.0</td>\n",
       "      <td>140.0</td>\n",
       "    </tr>\n",
       "    <tr>\n",
       "      <th>5238</th>\n",
       "      <td>0.522222</td>\n",
       "      <td>0.676667</td>\n",
       "      <td>3.000000</td>\n",
       "      <td>2.666667</td>\n",
       "      <td>3.0</td>\n",
       "      <td>3.0</td>\n",
       "      <td>4.571429</td>\n",
       "      <td>3.333333</td>\n",
       "      <td>222.125000</td>\n",
       "      <td>293.225000</td>\n",
       "      <td>37.285714</td>\n",
       "      <td>36.083333</td>\n",
       "      <td>0.503526</td>\n",
       "      <td>0.608039</td>\n",
       "      <td>1.000000</td>\n",
       "      <td>1.000000</td>\n",
       "      <td>0.864286</td>\n",
       "      <td>0.868182</td>\n",
       "      <td>90.0</td>\n",
       "      <td>160.0</td>\n",
       "    </tr>\n",
       "  </tbody>\n",
       "</table>\n",
       "<p>93 rows × 20 columns</p>\n",
       "</div>"
      ],
      "text/plain": [
       "      validated_time_rate  validated_time_rate_1  \\\n",
       "191              0.840556               0.425278   \n",
       "225              0.000000               0.336667   \n",
       "234              0.514444               0.318611   \n",
       "240              0.296111               0.225000   \n",
       "242              0.465556               0.244444   \n",
       "...                   ...                    ...   \n",
       "5212             0.616111               0.460556   \n",
       "5213             0.308889               0.290556   \n",
       "5223             0.436667               0.622500   \n",
       "5225             0.176111               0.841389   \n",
       "5238             0.522222               0.676667   \n",
       "\n",
       "      highest_version_mean_validated  highest_version_mean_validated_1  \\\n",
       "191                         3.500000                          3.500000   \n",
       "225                         0.000000                          3.000000   \n",
       "234                         2.400000                          2.600000   \n",
       "240                         4.000000                          3.500000   \n",
       "242                         3.000000                          3.000000   \n",
       "...                              ...                               ...   \n",
       "5212                        2.666667                          3.333333   \n",
       "5213                        3.000000                          2.666667   \n",
       "5223                        3.000000                          2.750000   \n",
       "5225                        4.000000                          3.500000   \n",
       "5238                        3.000000                          2.666667   \n",
       "\n",
       "      time_consulting_help  time_consulting_help_1  mean_test_per_subject  \\\n",
       "191                    0.0                     0.0               3.250000   \n",
       "225                   73.0                    75.0               4.000000   \n",
       "234                   62.0                    62.0               4.125000   \n",
       "240                   10.0                    23.0              15.500000   \n",
       "242                    0.0                     4.0               1.000000   \n",
       "...                    ...                     ...                    ...   \n",
       "5212                   0.0                     0.0               8.800000   \n",
       "5213                   2.0                     8.0               7.166667   \n",
       "5223                   6.0                     6.0               4.750000   \n",
       "5225                   0.0                     0.0               4.500000   \n",
       "5238                   3.0                     3.0               4.571429   \n",
       "\n",
       "      mean_test_per_subject_1  mean_size_modification_per_test  \\\n",
       "191                 11.000000                       296.230769   \n",
       "225                  4.888889                       164.541667   \n",
       "234                  3.800000                       226.939394   \n",
       "240                 12.666667                       105.500000   \n",
       "242                 14.000000                      1788.000000   \n",
       "...                       ...                              ...   \n",
       "5212                 8.125000                        72.068182   \n",
       "5213                 9.111111                       155.279070   \n",
       "5223                 7.125000                       238.947368   \n",
       "5225                 5.727273                       136.444444   \n",
       "5238                 3.333333                       222.125000   \n",
       "\n",
       "      mean_size_modification_per_test_1  mean_modification_per_subject  \\\n",
       "191                          207.750000                      71.750000   \n",
       "225                          196.545455                      24.500000   \n",
       "234                          286.421053                      25.750000   \n",
       "240                           96.947368                      88.000000   \n",
       "242                          129.892857                       2.000000   \n",
       "...                                 ...                            ...   \n",
       "5212                         202.153846                      46.400000   \n",
       "5213                         199.439024                      50.500000   \n",
       "5223                         167.964912                      42.500000   \n",
       "5225                         182.222222                      15.500000   \n",
       "5238                         293.225000                      37.285714   \n",
       "\n",
       "      mean_modification_per_subject_1  mean_time_active  mean_time_active_1  \\\n",
       "191                        117.500000          0.526670            0.519947   \n",
       "225                         32.777778          0.860975            0.847397   \n",
       "234                         27.200000          0.610504            0.934652   \n",
       "240                         74.444444          1.533905            1.521849   \n",
       "242                         87.500000          4.162162            0.896052   \n",
       "...                               ...               ...                 ...   \n",
       "5212                        71.000000          0.447123            0.404017   \n",
       "5213                        64.333333          0.393273            0.408490   \n",
       "5223                        60.250000          0.810478            0.569541   \n",
       "5225                        38.272727          1.116149            0.585639   \n",
       "5238                        36.083333          0.503526            0.608039   \n",
       "\n",
       "      experimentation_quality  experimentation_quality_1  validation_quality  \\\n",
       "191                  0.000000                   0.000000            0.276923   \n",
       "225                  0.700000                   0.700000            0.000000   \n",
       "234                  0.416667                   0.416667            0.266000   \n",
       "240                  1.000000                   0.750000            0.160185   \n",
       "242                  0.000000                   0.000000            0.500000   \n",
       "...                       ...                        ...                 ...   \n",
       "5212                 0.000000                   0.000000            0.207812   \n",
       "5213                 0.750000                   0.750000            0.237500   \n",
       "5223                 0.000000                   0.000000            0.271875   \n",
       "5225                 0.000000                   0.000000            0.350000   \n",
       "5238                 1.000000                   1.000000            0.864286   \n",
       "\n",
       "      validation_quality_1  score  score_1  \n",
       "191               0.201163   70.0     70.0  \n",
       "225               0.520000    0.0     60.0  \n",
       "234               0.271429  120.0    130.0  \n",
       "240               0.149524   40.0     70.0  \n",
       "242               0.125000   30.0     30.0  \n",
       "...                    ...    ...      ...  \n",
       "5212              0.226000   80.0    100.0  \n",
       "5213              0.202985   60.0     80.0  \n",
       "5223              0.207547   60.0    110.0  \n",
       "5225              0.330769   40.0    140.0  \n",
       "5238              0.868182   90.0    160.0  \n",
       "\n",
       "[93 rows x 20 columns]"
      ]
     },
     "execution_count": 4,
     "metadata": {},
     "output_type": "execute_result"
    }
   ],
   "source": [
    "dataset_brut"
   ]
  },
  {
   "cell_type": "code",
   "execution_count": 102,
   "metadata": {
    "id": "m_167gVdA0Mf"
   },
   "outputs": [],
   "source": [
    "def replace_by_classes_dbn(dataset_brut, columns):\n",
    "    columns[\"validated_time_rate\"] = list(pd.cut(dataset_brut.validated_time_rate, bins=[-1.,0,0.2,0.4,0.6,1], labels=[\"Classe1\",\"Classe2\",\"Classe3\",\"Classe4\",\"Classe5\"]))\n",
    "    columns[\"validated_time_rate_1\"] = list(pd.cut(dataset_brut.validated_time_rate_1, bins=[-1.,0,0.2,0.4,0.6,1], labels=[\"Classe1\",\"Classe2\",\"Classe3\",\"Classe4\",\"Classe5\"]))\n",
    "    columns[\"highest_version_mean_validated\"] = pd.cut(dataset_brut.highest_version_mean_validated, bins=[-1,1,2,3,4], labels=[\"Classe1\",\"Classe2\",\"Classe3\",\"Classe4\"])\n",
    "    columns[\"highest_version_mean_validated_1\"] = pd.cut(dataset_brut.highest_version_mean_validated_1, bins=[-1,1,2,3,4], labels=[\"Classe1\",\"Classe2\",\"Classe3\",\"Classe4\"])\n",
    "    columns[\"time_consulting_help\"] = pd.cut(dataset_brut.time_consulting_help, bins=[-1,0,10,30,120,10000], labels=[\"Classe1\",\"Classe2\",\"Classe3\",\"Classe4\",\"Classe5\"])\n",
    "    columns[\"time_consulting_help_1\"] = pd.cut(dataset_brut.time_consulting_help_1, bins=[-1,0,10,30,120,10000], labels=[\"Classe1\",\"Classe2\",\"Classe3\",\"Classe4\",\"Classe5\"])\n",
    "    columns[\"mean_test_per_subject\"] = pd.cut(dataset_brut.mean_test_per_subject, bins=[-1,2,5,8,11,15,50000], labels=[\"Classe1\",\"Classe2\",\"Classe3\",\"Classe4\",\"Classe5\",\"Classe6\"])\n",
    "    columns[\"mean_test_per_subject_1\"] = pd.cut(dataset_brut.mean_test_per_subject_1, bins=[-1,2,5,8,11,15,50000], labels=[\"Classe1\",\"Classe2\",\"Classe3\",\"Classe4\",\"Classe5\",\"Classe6\"])\n",
    "    columns[\"mean_size_modification_per_test\"] = pd.cut(dataset_brut.mean_size_modification_per_test, bins=[-1,100,200,300,400,50000], labels=[\"Classe1\",\"Classe2\",\"Classe3\",\"Classe4\",\"Classe5\"])\n",
    "    columns[\"mean_size_modification_per_test_1\"] = pd.cut(dataset_brut.mean_size_modification_per_test_1, bins=[-1,100,200,300,400,50000], labels=[\"Classe1\",\"Classe2\",\"Classe3\",\"Classe4\",\"Classe5\"])\n",
    "    columns[\"mean_modification_per_subject\"] = pd.cut(dataset_brut.mean_modification_per_subject, bins=[-1,0,20,50,100,50000], labels=[\"Classe1\",\"Classe2\",\"Classe3\",\"Classe4\",\"Classe5\"])\n",
    "    columns[\"mean_modification_per_subject_1\"] = pd.cut(dataset_brut.mean_modification_per_subject_1, bins=[-1,0,20,50,100,50000], labels=[\"Classe1\",\"Classe2\",\"Classe3\",\"Classe4\",\"Classe5\"])\n",
    "    columns[\"mean_time_active\"] = pd.cut(dataset_brut.mean_time_active, bins=[-1,0,0.3,0.6,1,5,50000], labels=[\"Classe1\",\"Classe2\",\"Classe3\",\"Classe4\",\"Classe5\",\"Classe6\"])\n",
    "    columns[\"mean_time_active_1\"] = pd.cut(dataset_brut.mean_time_active_1, bins=[-1,0,0.3,0.6,1,5,50000], labels=[\"Classe1\",\"Classe2\",\"Classe3\",\"Classe4\",\"Classe5\",\"Classe6\"])\n",
    "    columns[\"experimentation_quality\"] = pd.cut(dataset_brut.experimentation_quality, bins=[-1,0.2,0.4,0.6,0.8,1], labels=[\"Classe1\",\"Classe2\",\"Classe3\",\"Classe4\",\"Classe5\"])\n",
    "    columns[\"experimentation_quality_1\"] = pd.cut(dataset_brut.experimentation_quality_1, bins=[-1,0.2,0.4,0.6,0.8,1], labels=[\"Classe1\",\"Classe2\",\"Classe3\",\"Classe4\",\"Classe5\"])\n",
    "    columns[\"validation_quality\"] = pd.cut(dataset_brut.validation_quality, bins=[-1,0.2,0.4,0.6,0.8,1], labels=[\"Classe1\",\"Classe2\",\"Classe3\",\"Classe4\",\"Classe5\"])\n",
    "    columns[\"validation_quality_1\"] = pd.cut(dataset_brut.validation_quality_1, bins=[-1,0.2,0.4,0.6,0.8,1], labels=[\"Classe1\",\"Classe2\",\"Classe3\",\"Classe4\",\"Classe5\"])\n",
    "    columns[\"score\"] = pd.cut(dataset_brut.score, bins=[-1,50,400], labels=[\"Low\",\"High\"])\n",
    "    columns[\"score_1\"] = pd.cut(dataset_brut.score_1, bins=[-1,99,400], labels=[\"Low\",\"High\"])\n",
    "    return columns"
   ]
  },
  {
   "cell_type": "code",
   "execution_count": 103,
   "metadata": {
    "id": "Q9Y3U1t-BqFA"
   },
   "outputs": [],
   "source": [
    "def replace_by_classes_bn(dataset_brut, columns):\n",
    "    columns[\"validated_time_rate\"] = list(pd.cut(dataset_brut.validated_time_rate, bins=[-1.,0,0.2,0.4,0.6,1], labels=[\"Classe1\",\"Classe2\",\"Classe3\",\"Classe4\",\"Classe5\"]))\n",
    "    columns[\"highest_version_mean_validated\"] = pd.cut(dataset_brut.highest_version_mean_validated, bins=[-1,1,2,3,4], labels=[\"Classe1\",\"Classe2\",\"Classe3\",\"Classe4\"])\n",
    "    columns[\"time_consulting_help\"] = pd.cut(dataset_brut.time_consulting_help, bins=[-1,0,10,30,120,10000], labels=[\"Classe1\",\"Classe2\",\"Classe3\",\"Classe4\",\"Classe5\"])\n",
    "    columns[\"mean_test_per_subject\"] = pd.cut(dataset_brut.mean_test_per_subject, bins=[-1,2,5,8,11,15,50000], labels=[\"Classe1\",\"Classe2\",\"Classe3\",\"Classe4\",\"Classe5\",\"Classe6\"])\n",
    "    #columns[\"mean_size_modification_per_test\"] = pd.cut(dataset_brut.mean_size_modification_per_test, bins=[-1,100,200,300,400,50000], labels=[\"Classe1\",\"Classe2\",\"Classe3\",\"Classe4\",\"Classe5\"])\n",
    "    columns[\"mean_modification_per_subject\"] = pd.cut(dataset_brut.mean_modification_per_subject, bins=[-1,20,30,40,50,50000], labels=[\"Classe1\",\"Classe2\",\"Classe3\",\"Classe4\",\"Classe5\"])\n",
    "    columns[\"mean_time_active\"] = pd.cut(dataset_brut.mean_time_active, bins=[-1,0,0.3,0.6,1,5,50000], labels=[\"Classe1\",\"Classe2\",\"Classe3\",\"Classe4\",\"Classe5\",\"Classe6\"])\n",
    "    columns[\"experimentation_quality\"] = pd.cut(dataset_brut.experimentation_quality, bins=[-1,0,0.2,0.4,0.5,1], labels=[\"Classe1\",\"Classe2\",\"Classe3\",\"Classe4\",\"Classe5\"])\n",
    "    columns[\"validation_quality\"] = pd.cut(dataset_brut.validation_quality, bins=[-1,0,0.1,0.2,0.4,1], labels=[\"Classe1\",\"Classe2\",\"Classe3\",\"Classe4\",\"Classe5\"])\n",
    "    # columns[\"score\"] = pd.cut(dataset_brut.score, bins=[-1,99,400], labels=[\"Low\",\"High\"])\n",
    "    columns[\"score\"] = pd.cut(dataset_brut.score, bins=[-1,np.percentile(dataset_brut.score, 33),np.percentile(dataset_brut.score, 66),np.percentile(dataset_brut.score, 100)], labels=[\"Low\",\"Medium\",\"High\"])\n",
    "    return columns"
   ]
  },
  {
   "cell_type": "markdown",
   "metadata": {
    "id": "HhmXDI4z30dC"
   },
   "source": [
    "### DBN"
   ]
  },
  {
   "cell_type": "code",
   "execution_count": 104,
   "metadata": {
    "id": "htXR-NLW32YD"
   },
   "outputs": [],
   "source": [
    "data_columns = replace_by_classes_dbn(dataset_brut, {})"
   ]
  },
  {
   "cell_type": "code",
   "execution_count": 105,
   "metadata": {
    "id": "s2UqkgiG2nVQ"
   },
   "outputs": [],
   "source": [
    "final_dataset = pd.DataFrame(data_columns, index=nb_connection_1h)"
   ]
  },
  {
   "cell_type": "code",
   "execution_count": 106,
   "metadata": {
    "id": "RHbVuMf626vg"
   },
   "outputs": [],
   "source": [
    "final_dataset.to_csv(\"dbn_v2.csv\", index=False)"
   ]
  },
  {
   "cell_type": "markdown",
   "metadata": {
    "id": "kUoqQXX2-oFb"
   },
   "source": [
    "### To bayesian Network"
   ]
  },
  {
   "cell_type": "code",
   "execution_count": 107,
   "metadata": {
    "id": "RI6TrP9I-qFy"
   },
   "outputs": [],
   "source": [
    "bn_data_columns = {}\n",
    "keys = [\"validated_time_rate\", \"highest_version_mean_validated\", \"time_consulting_help\", \"mean_test_per_subject\",\"mean_size_modification_per_test\", \"mean_modification_per_subject\", \n",
    "        \"mean_time_active\", \"experimentation_quality\", \"validation_quality\"]\n",
    "for i in keys:\n",
    "    new_col = []\n",
    "    one = list(dataset_brut[i])\n",
    "    two = list(dataset_brut[i+\"_1\"])\n",
    "    for j in range(len(one)):\n",
    "        new_col.append((one[j] + two[j]) / 2)\n",
    "    bn_data_columns[i] = new_col\n",
    "bn_data_columns['score'] = list(dataset_brut.score_1)"
   ]
  },
  {
   "cell_type": "code",
   "execution_count": 108,
   "metadata": {
    "id": "o2gYsIP8AGb4"
   },
   "outputs": [],
   "source": [
    "final_dataset_bn = pd.DataFrame(bn_data_columns, index=nb_connection_1h)"
   ]
  },
  {
   "cell_type": "code",
   "execution_count": 109,
   "metadata": {
    "id": "edCpgJnaB6jV"
   },
   "outputs": [],
   "source": [
    "bn_data_columns_final = replace_by_classes_bn(final_dataset_bn, {})"
   ]
  },
  {
   "cell_type": "code",
   "execution_count": 110,
   "metadata": {
    "colab": {
     "base_uri": "https://localhost:8080/",
     "height": 439
    },
    "id": "XjvBzUl1AwKB",
    "outputId": "1b0127ee-9c7d-4512-f90f-227fca607f39"
   },
   "outputs": [
    {
     "data": {
      "text/html": [
       "<div>\n",
       "<style scoped>\n",
       "    .dataframe tbody tr th:only-of-type {\n",
       "        vertical-align: middle;\n",
       "    }\n",
       "\n",
       "    .dataframe tbody tr th {\n",
       "        vertical-align: top;\n",
       "    }\n",
       "\n",
       "    .dataframe thead th {\n",
       "        text-align: right;\n",
       "    }\n",
       "</style>\n",
       "<table border=\"1\" class=\"dataframe\">\n",
       "  <thead>\n",
       "    <tr style=\"text-align: right;\">\n",
       "      <th></th>\n",
       "      <th>validated_time_rate</th>\n",
       "      <th>highest_version_mean_validated</th>\n",
       "      <th>time_consulting_help</th>\n",
       "      <th>mean_test_per_subject</th>\n",
       "      <th>mean_modification_per_subject</th>\n",
       "      <th>mean_time_active</th>\n",
       "      <th>experimentation_quality</th>\n",
       "      <th>validation_quality</th>\n",
       "      <th>score</th>\n",
       "    </tr>\n",
       "  </thead>\n",
       "  <tbody>\n",
       "    <tr>\n",
       "      <th>191</th>\n",
       "      <td>Classe5</td>\n",
       "      <td>Classe4</td>\n",
       "      <td>Classe1</td>\n",
       "      <td>Classe3</td>\n",
       "      <td>Classe5</td>\n",
       "      <td>Classe3</td>\n",
       "      <td>Classe1</td>\n",
       "      <td>Classe4</td>\n",
       "      <td>Medium</td>\n",
       "    </tr>\n",
       "    <tr>\n",
       "      <th>225</th>\n",
       "      <td>Classe2</td>\n",
       "      <td>Classe2</td>\n",
       "      <td>Classe4</td>\n",
       "      <td>Classe2</td>\n",
       "      <td>Classe2</td>\n",
       "      <td>Classe4</td>\n",
       "      <td>Classe5</td>\n",
       "      <td>Classe4</td>\n",
       "      <td>Low</td>\n",
       "    </tr>\n",
       "    <tr>\n",
       "      <th>234</th>\n",
       "      <td>Classe4</td>\n",
       "      <td>Classe3</td>\n",
       "      <td>Classe4</td>\n",
       "      <td>Classe2</td>\n",
       "      <td>Classe2</td>\n",
       "      <td>Classe4</td>\n",
       "      <td>Classe4</td>\n",
       "      <td>Classe4</td>\n",
       "      <td>High</td>\n",
       "    </tr>\n",
       "    <tr>\n",
       "      <th>240</th>\n",
       "      <td>Classe3</td>\n",
       "      <td>Classe4</td>\n",
       "      <td>Classe3</td>\n",
       "      <td>Classe5</td>\n",
       "      <td>Classe5</td>\n",
       "      <td>Classe5</td>\n",
       "      <td>Classe5</td>\n",
       "      <td>Classe3</td>\n",
       "      <td>Medium</td>\n",
       "    </tr>\n",
       "    <tr>\n",
       "      <th>242</th>\n",
       "      <td>Classe3</td>\n",
       "      <td>Classe3</td>\n",
       "      <td>Classe2</td>\n",
       "      <td>Classe3</td>\n",
       "      <td>Classe4</td>\n",
       "      <td>Classe5</td>\n",
       "      <td>Classe1</td>\n",
       "      <td>Classe4</td>\n",
       "      <td>Low</td>\n",
       "    </tr>\n",
       "    <tr>\n",
       "      <th>...</th>\n",
       "      <td>...</td>\n",
       "      <td>...</td>\n",
       "      <td>...</td>\n",
       "      <td>...</td>\n",
       "      <td>...</td>\n",
       "      <td>...</td>\n",
       "      <td>...</td>\n",
       "      <td>...</td>\n",
       "      <td>...</td>\n",
       "    </tr>\n",
       "    <tr>\n",
       "      <th>5212</th>\n",
       "      <td>Classe4</td>\n",
       "      <td>Classe3</td>\n",
       "      <td>Classe1</td>\n",
       "      <td>Classe4</td>\n",
       "      <td>Classe5</td>\n",
       "      <td>Classe3</td>\n",
       "      <td>Classe1</td>\n",
       "      <td>Classe4</td>\n",
       "      <td>High</td>\n",
       "    </tr>\n",
       "    <tr>\n",
       "      <th>5213</th>\n",
       "      <td>Classe3</td>\n",
       "      <td>Classe3</td>\n",
       "      <td>Classe2</td>\n",
       "      <td>Classe4</td>\n",
       "      <td>Classe5</td>\n",
       "      <td>Classe3</td>\n",
       "      <td>Classe5</td>\n",
       "      <td>Classe4</td>\n",
       "      <td>Medium</td>\n",
       "    </tr>\n",
       "    <tr>\n",
       "      <th>5223</th>\n",
       "      <td>Classe4</td>\n",
       "      <td>Classe3</td>\n",
       "      <td>Classe2</td>\n",
       "      <td>Classe3</td>\n",
       "      <td>Classe5</td>\n",
       "      <td>Classe4</td>\n",
       "      <td>Classe1</td>\n",
       "      <td>Classe4</td>\n",
       "      <td>High</td>\n",
       "    </tr>\n",
       "    <tr>\n",
       "      <th>5225</th>\n",
       "      <td>Classe4</td>\n",
       "      <td>Classe4</td>\n",
       "      <td>Classe1</td>\n",
       "      <td>Classe3</td>\n",
       "      <td>Classe2</td>\n",
       "      <td>Classe4</td>\n",
       "      <td>Classe1</td>\n",
       "      <td>Classe4</td>\n",
       "      <td>High</td>\n",
       "    </tr>\n",
       "    <tr>\n",
       "      <th>5238</th>\n",
       "      <td>Classe4</td>\n",
       "      <td>Classe3</td>\n",
       "      <td>Classe2</td>\n",
       "      <td>Classe2</td>\n",
       "      <td>Classe3</td>\n",
       "      <td>Classe3</td>\n",
       "      <td>Classe5</td>\n",
       "      <td>Classe5</td>\n",
       "      <td>High</td>\n",
       "    </tr>\n",
       "  </tbody>\n",
       "</table>\n",
       "<p>93 rows × 9 columns</p>\n",
       "</div>"
      ],
      "text/plain": [
       "     validated_time_rate highest_version_mean_validated time_consulting_help  \\\n",
       "191              Classe5                        Classe4              Classe1   \n",
       "225              Classe2                        Classe2              Classe4   \n",
       "234              Classe4                        Classe3              Classe4   \n",
       "240              Classe3                        Classe4              Classe3   \n",
       "242              Classe3                        Classe3              Classe2   \n",
       "...                  ...                            ...                  ...   \n",
       "5212             Classe4                        Classe3              Classe1   \n",
       "5213             Classe3                        Classe3              Classe2   \n",
       "5223             Classe4                        Classe3              Classe2   \n",
       "5225             Classe4                        Classe4              Classe1   \n",
       "5238             Classe4                        Classe3              Classe2   \n",
       "\n",
       "     mean_test_per_subject mean_modification_per_subject mean_time_active  \\\n",
       "191                Classe3                       Classe5          Classe3   \n",
       "225                Classe2                       Classe2          Classe4   \n",
       "234                Classe2                       Classe2          Classe4   \n",
       "240                Classe5                       Classe5          Classe5   \n",
       "242                Classe3                       Classe4          Classe5   \n",
       "...                    ...                           ...              ...   \n",
       "5212               Classe4                       Classe5          Classe3   \n",
       "5213               Classe4                       Classe5          Classe3   \n",
       "5223               Classe3                       Classe5          Classe4   \n",
       "5225               Classe3                       Classe2          Classe4   \n",
       "5238               Classe2                       Classe3          Classe3   \n",
       "\n",
       "     experimentation_quality validation_quality   score  \n",
       "191                  Classe1            Classe4  Medium  \n",
       "225                  Classe5            Classe4     Low  \n",
       "234                  Classe4            Classe4    High  \n",
       "240                  Classe5            Classe3  Medium  \n",
       "242                  Classe1            Classe4     Low  \n",
       "...                      ...                ...     ...  \n",
       "5212                 Classe1            Classe4    High  \n",
       "5213                 Classe5            Classe4  Medium  \n",
       "5223                 Classe1            Classe4    High  \n",
       "5225                 Classe1            Classe4    High  \n",
       "5238                 Classe5            Classe5    High  \n",
       "\n",
       "[93 rows x 9 columns]"
      ]
     },
     "execution_count": 110,
     "metadata": {},
     "output_type": "execute_result"
    }
   ],
   "source": [
    "final_dataset_bn = pd.DataFrame(bn_data_columns_final, index=nb_connection_1h)\n",
    "final_dataset_bn"
   ]
  },
  {
   "cell_type": "code",
   "execution_count": 111,
   "metadata": {
    "id": "YxjktQqMCaGV"
   },
   "outputs": [],
   "source": [
    "final_dataset_bn.to_csv(\"bn_v2.csv\", index=False)"
   ]
  },
  {
   "cell_type": "code",
   "execution_count": 5,
   "metadata": {
    "colab": {
     "base_uri": "https://localhost:8080/"
    },
    "id": "FhK6-so38BZ4",
    "outputId": "ff84d3ee-9b68-4237-e177-e16e2e9c5f7c"
   },
   "outputs": [
    {
     "name": "stdout",
     "output_type": "stream",
     "text": [
      "[  0.   0.   0.   0.   0.   0.   0.   0.   0.   0.   0.   0.   0.   0.\n",
      "  20.  20.  20.  20.  20.  20.  30.  30.  30.  30.  30.  30.  30.  40.\n",
      "  40.  40.  40.  40.  40.  40.  40.  40.  40.  40.  40.  40.  40.  40.\n",
      "  40.  40.  50.  50.  50.  50.  60.  60.  60.  60.  60.  60.  60.  60.\n",
      "  60.  60.  60.  60.  60.  60.  60.  70.  70.  70.  70.  70.  70.  70.\n",
      "  80.  80.  80.  90.  90.  90. 100. 110. 110. 110. 120. 120. 120. 120.\n",
      " 120. 130. 130. 130. 140. 150. 160. 160. 250.] 40.0 60.0\n",
      "[  0.   0.   0.   0.   0.  20.  20.  20.  20.  20.  30.  30.  30.  30.\n",
      "  30.  40.  40.  40.  40.  40.  40.  40.  40.  50.  50.  50.  50.  50.\n",
      "  60.  60.  60.  60.  60.  60.  60.  60.  60.  60.  60.  60.  60.  70.\n",
      "  70.  70.  70.  70.  70.  70.  70.  70.  70.  70.  80.  80.  80.  80.\n",
      "  80.  80.  80.  90.  90.  90. 100. 100. 100. 100. 110. 110. 110. 110.\n",
      " 120. 120. 120. 130. 130. 130. 140. 140. 140. 150. 160. 160. 160. 160.\n",
      " 160. 170. 170. 180. 180. 190. 200. 210. 300.] 60.0 90.0\n"
     ]
    }
   ],
   "source": [
    "a = np.sort(np.array(dataset_brut[\"score\"]), axis=0)\n",
    "print(a, np.percentile(a,33), np.percentile(a,66))\n",
    "a = np.sort(np.array(dataset_brut[\"score_1\"]), axis=0)\n",
    "print(a, np.percentile(a,33), np.percentile(a,66))"
   ]
  },
  {
   "cell_type": "code",
   "execution_count": 27,
   "metadata": {},
   "outputs": [
    {
     "data": {
      "image/png": "[encoded data removed]",
      "text/plain": [
       "<Figure size 1296x720 with 1 Axes>"
      ]
     },
     "metadata": {
      "needs_background": "light"
     },
     "output_type": "display_data"
    }
   ],
   "source": [
    "n, bins, patches = plt.hist(np.array(dataset_brut[\"score\"]), bins=10, facecolor='#2ab0ff', edgecolor='#e0e0e0', linewidth=0.5, alpha=0.7)\n",
    "\n",
    "n = n.astype('int') # it MUST be integer\n",
    "# Good old loop. Choose colormap of your taste\n",
    "for i in range(len(patches)):\n",
    "    patches[i].set_facecolor(plt.cm.viridis(n[i]/max(n)))\n",
    "plt.xlabel(\"Number of participants\")\n",
    "plt.ylabel(\"cumulated score\")\n",
    "plt.title(\"Distribution of cumulated score from initial prompt to middle prompt\")\n",
    "plt.show()"
   ]
  },
  {
   "cell_type": "code",
   "execution_count": 28,
   "metadata": {},
   "outputs": [
    {
     "data": {
      "image/png": "[encoded data removed]",
      "text/plain": [
       "<Figure size 1296x720 with 1 Axes>"
      ]
     },
     "metadata": {
      "needs_background": "light"
     },
     "output_type": "display_data"
    }
   ],
   "source": [
    "n, bins, patches = plt.hist(np.array(dataset_brut[\"score_1\"]), bins=10, facecolor='#2ab0ff', edgecolor='#e0e0e0', \n",
    "                            linewidth=0.5, alpha=0.7)\n",
    "\n",
    "n = n.astype('int') # it MUST be integer\n",
    "# Good old loop. Choose colormap of your taste\n",
    "for i in range(len(patches)):\n",
    "    patches[i].set_facecolor(plt.cm.viridis(n[i]/max(n)))\n",
    "plt.xlabel(\"Number of participants\")\n",
    "plt.ylabel(\"cumulated score\")\n",
    "plt.title(\"Distribution of cumulated score at end of the activity\")\n",
    "density = stats.gaussian_kde(np.array(dataset_brut[\"score_1\"]))\n",
    "plt.show()"
   ]
  },
  {
   "cell_type": "code",
   "execution_count": null,
   "metadata": {},
   "outputs": [],
   "source": []
  }
 ],
 "metadata": {
  "colab": {
   "collapsed_sections": [
    "5TifUHpKZQhl",
    "v8ZiRDmkZ-38",
    "cjS9zOpTad-X",
    "zPrsuHrKbHit",
    "Ug1zCXf-rMNI",
    "gMctmjstraYC",
    "ay831-FNraqq",
    "7wnmsehaEtNj",
    "pT3gaPcDrfHa",
    "Vp1IGS8XrfN3",
    "vDh4hx6drfU2",
    "uJ1pYU2LrflA",
    "KnOC1t8fA4qh"
   ],
   "name": "dbn v2",
   "provenance": []
  },
  "kernelspec": {
   "display_name": "Python 3",
   "language": "python",
   "name": "python3"
  },
  "language_info": {
   "codemirror_mode": {
    "name": "ipython",
    "version": 3
   },
   "file_extension": ".py",
   "mimetype": "text/x-python",
   "name": "python",
   "nbconvert_exporter": "python",
   "pygments_lexer": "ipython3",
   "version": "3.8.8"
  }
 },
 "nbformat": 4,
 "nbformat_minor": 1
}
