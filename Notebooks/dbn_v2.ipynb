{
  "nbformat": 4,
  "nbformat_minor": 0,
  "metadata": {
    "colab": {
      "name": "dbn v2",
      "provenance": [],
      "collapsed_sections": [
        "5TifUHpKZQhl",
        "v8ZiRDmkZ-38",
        "Ug1zCXf-rMNI",
        "ay831-FNraqq",
        "vDh4hx6drfU2",
        "uJ1pYU2LrflA"
      ]
    },
    "kernelspec": {
      "name": "python3",
      "display_name": "Python 3"
    },
    "language_info": {
      "name": "python"
    }
  },
  "cells": [
    {
      "cell_type": "markdown",
      "metadata": {
        "id": "3IxBG6EwZKG4"
      },
      "source": [
        "# XCALE Master thesis : DBN Building v2\n",
        "\n",
        "In this notebook, we build the dbn dataset\n",
        "\n",
        "<style>.table {margin-left:0px}</style>"
      ]
    },
    {
      "cell_type": "markdown",
      "metadata": {
        "id": "5TifUHpKZQhl"
      },
      "source": [
        "## Import"
      ]
    },
    {
      "cell_type": "code",
      "metadata": {
        "id": "CXRM12s0ZRRW"
      },
      "source": [
        "# data handling\n",
        "import numpy as np\n",
        "import pandas as pd\n",
        "from pylab import rcParams\n",
        "rcParams['figure.figsize'] = 18, 10"
      ],
      "execution_count": 735,
      "outputs": []
    },
    {
      "cell_type": "code",
      "metadata": {
        "colab": {
          "base_uri": "https://localhost:8080/"
        },
        "id": "RmPHSltsZGKj",
        "outputId": "02f10df4-0261-48f6-a2c7-daa45261aaa6"
      },
      "source": [
        "# Database\n",
        "#!sudo apt-get install python3-dev default-libmysqlclient-dev\n",
        "!pip install mysql-connector-python\n",
        "from mysql.connector import connect\n",
        "# error\n",
        "import traceback\n",
        "from collections import defaultdict\n",
        "from datetime import time, timedelta, datetime\n",
        "# utilitaries\n",
        "import functools\n",
        "import tqdm"
      ],
      "execution_count": 736,
      "outputs": [
        {
          "output_type": "stream",
          "text": [
            "Requirement already satisfied: mysql-connector-python in /usr/local/lib/python3.7/dist-packages (8.0.25)\n",
            "Requirement already satisfied: protobuf>=3.0.0 in /usr/local/lib/python3.7/dist-packages (from mysql-connector-python) (3.12.4)\n",
            "Requirement already satisfied: six>=1.9 in /usr/local/lib/python3.7/dist-packages (from protobuf>=3.0.0->mysql-connector-python) (1.15.0)\n",
            "Requirement already satisfied: setuptools in /usr/local/lib/python3.7/dist-packages (from protobuf>=3.0.0->mysql-connector-python) (57.0.0)\n"
          ],
          "name": "stdout"
        }
      ]
    },
    {
      "cell_type": "markdown",
      "metadata": {
        "id": "r6WynQAuZVW6"
      },
      "source": [
        "## Database"
      ]
    },
    {
      "cell_type": "code",
      "metadata": {
        "id": "t_lv2rF-ZWTy"
      },
      "source": [
        "# Log\n",
        "_db_config = {\n",
        "    'user': 'cajuge',\n",
        "    'password': 'Kz1773qMWIVhRZUZ',\n",
        "    'host': 'franceioi.cinniket56wn.eu-central-1.rds.amazonaws.com',\n",
        "    'database': 'srl',\n",
        "    'port':'3306'\n",
        "}"
      ],
      "execution_count": 737,
      "outputs": []
    },
    {
      "cell_type": "code",
      "metadata": {
        "id": "S8Uf4AQXZWof"
      },
      "source": [
        "_tables = [\"clavier\", \"modification\",\n",
        "          \"navigation\", \"pas_a_pas\",\"srl_final_prompt\",\n",
        "          \"srl_initial_prompt\",\"srl_prompt\",\"validation\", \"connexion\"]"
      ],
      "execution_count": 738,
      "outputs": []
    },
    {
      "cell_type": "code",
      "metadata": {
        "id": "nK6BgfvBZbAt"
      },
      "source": [
        "def get_connection(config):\n",
        "    return connect(**config)\n",
        "def close_connection(connection):\n",
        "    connection.close()"
      ],
      "execution_count": 739,
      "outputs": []
    },
    {
      "cell_type": "code",
      "metadata": {
        "id": "CTf9_6skZbhp"
      },
      "source": [
        "def getTablesFromDB(min_id_connection, _tables):\n",
        "    dataframe_tables = {}\n",
        "    mysql_connection = get_connection(_db_config)\n",
        "    for table in _tables:\n",
        "        with mysql_connection.cursor() as cursor:\n",
        "            try:\n",
        "                # ----------- Get every connection / participant ---------- #\n",
        "                if table == \"connexion\":\n",
        "                  query_select = \"SELECT c.id, c.timestamp FROM connexion c INNER JOIN participer p ON p.id = c.id_participation WHERE c.id >= %s AND p.id_activite=11 ORDER BY c.id, c.timestamp\"\n",
        "                  cursor.execute(query_select, (min_id_connection,))\n",
        "                elif table == \"validation\":\n",
        "                  query_select = \"SELECT t.experimentation, t.score, t.id_connexion, t.timestamp FROM {} t INNER JOIN connexion c ON c.id = t.id_connexion INNER JOIN participer p ON p.id = c.id_participation WHERE c.id >= %s AND p.id_activite=11 ORDER BY c.id, c.timestamp\".format(table)\n",
        "                  cursor.execute(query_select, (min_id_connection,))\n",
        "                else:\n",
        "                  query_select = \"SELECT t.id_connexion, t.timestamp FROM {} t INNER JOIN connexion c ON c.id = t.id_connexion INNER JOIN participer p ON p.id = c.id_participation WHERE c.id >= %s AND p.id_activite=11 ORDER BY c.id, c.timestamp\".format(table)\n",
        "                  cursor.execute(query_select, (min_id_connection,))\n",
        "                \n",
        "                result = cursor.fetchall()\n",
        "                columns_name = np.array(\n",
        "                    [cursor.description[i][0] for i in range(len(cursor.description)) if cursor.description[i][0]])\n",
        "                data = []\n",
        "                for row in result:\n",
        "                    data.append(np.array([row[i] for i in range(len(row))]))\n",
        "                dataframe_tables[table] = pd.DataFrame(data, columns=columns_name)\n",
        "            except Exception:\n",
        "                traceback.print_exc()\n",
        "    \n",
        "    \n",
        "    return dataframe_tables\n",
        "\n",
        "def getTablesFromDB_ids(ids, _tables):\n",
        "    dataframe_tables = {}\n",
        "    mysql_connection = get_connection(_db_config)\n",
        "    for table in _tables:\n",
        "        with mysql_connection.cursor() as cursor:\n",
        "            try:\n",
        "                # ----------- Get every connection / participant ---------- #\n",
        "                format_strings = ','.join(['%s'] * len(ids))\n",
        "                if table == \"connexion\":\n",
        "                  query_select = \"SELECT * FROM connexion WHERE id IN ({}) ORDER BY id, timestamp\".format(format_strings)\n",
        "                else:\n",
        "                  query_select = \"SELECT * FROM {} WHERE id_connexion IN ({}) ORDER BY id_connexion, timestamp\".format(table, format_strings)\n",
        "                \n",
        "                cursor.execute(query_select, tuple(ids))\n",
        "                result = cursor.fetchall()\n",
        "                columns_name = np.array(\n",
        "                    [cursor.description[i][0] for i in range(len(cursor.description)) if cursor.description[i][0]])\n",
        "                data = []\n",
        "                for row in result:\n",
        "                    data.append(np.array([row[i] for i in range(len(row))]))\n",
        "                dataframe_tables[table] = pd.DataFrame(data, columns=columns_name)\n",
        "            except Exception:\n",
        "                traceback.print_exc()\n",
        "    \n",
        "    \n",
        "    return dataframe_tables"
      ],
      "execution_count": 740,
      "outputs": []
    },
    {
      "cell_type": "code",
      "metadata": {
        "id": "ixTGgC0kZdLu"
      },
      "source": [
        "dataframe_tables = getTablesFromDB(191, _tables)"
      ],
      "execution_count": 741,
      "outputs": []
    },
    {
      "cell_type": "code",
      "metadata": {
        "colab": {
          "base_uri": "https://localhost:8080/"
        },
        "id": "qmqA6nQjbW7J",
        "outputId": "fb5a5177-4354-469d-a24b-2b7143678a66"
      },
      "source": [
        "dataframe_tables[\"validation\"].columns"
      ],
      "execution_count": 742,
      "outputs": [
        {
          "output_type": "execute_result",
          "data": {
            "text/plain": [
              "Index(['experimentation', 'score', 'id_connexion', 'timestamp'], dtype='object')"
            ]
          },
          "metadata": {
            "tags": []
          },
          "execution_count": 742
        }
      ]
    },
    {
      "cell_type": "code",
      "metadata": {
        "colab": {
          "base_uri": "https://localhost:8080/"
        },
        "id": "CRZVvlXcbcdg",
        "outputId": "8afda565-0b25-4a2a-b4a1-8dbbcabfdb68"
      },
      "source": [
        "dataframe_tables[\"connexion\"].columns"
      ],
      "execution_count": 743,
      "outputs": [
        {
          "output_type": "execute_result",
          "data": {
            "text/plain": [
              "Index(['id', 'timestamp'], dtype='object')"
            ]
          },
          "metadata": {
            "tags": []
          },
          "execution_count": 743
        }
      ]
    },
    {
      "cell_type": "code",
      "metadata": {
        "colab": {
          "base_uri": "https://localhost:8080/"
        },
        "id": "DV1M7rk8Ze6z",
        "outputId": "4a0e816b-5cc3-4286-f23c-fc705d655b7c"
      },
      "source": [
        "table = \"connexion\"\n",
        "sujet_range = [19,20,21,22,23,24,25,26,27,28]\n",
        "connections = dataframe_tables[table]\n",
        "nb_connection_1h = []\n",
        "for j, id_connexion in enumerate(connections.id):\n",
        "  last_timestamp_table = []\n",
        "  for table in [i for i in _tables if i != \"connexion\"]:\n",
        "    sequence = dataframe_tables[table][dataframe_tables[table].id_connexion == id_connexion].timestamp\n",
        "    if len(sequence) != 0:\n",
        "      last_timestamp_table.append(max(sequence))\n",
        "  if len(last_timestamp_table) != 0:\n",
        "    if max(last_timestamp_table) - connections.timestamp[j] >= timedelta(hours=1):\n",
        "      if dataframe_tables[\"validation\"].query(\"id_connexion == {} and experimentation == 0 and score > 0\".format(id_connexion)).shape[0] != 0:\n",
        "        nb_connection_1h.append(id_connexion)\n",
        "print(\"{} registered connections which last at least 1 hour\".format(len(nb_connection_1h)))"
      ],
      "execution_count": 744,
      "outputs": [
        {
          "output_type": "stream",
          "text": [
            "89 registered connections which last at least 1 hour\n"
          ],
          "name": "stdout"
        }
      ]
    },
    {
      "cell_type": "code",
      "metadata": {
        "id": "62WDD-KHZhVL"
      },
      "source": [
        "dataframe_tables = getTablesFromDB_ids(nb_connection_1h, _tables)"
      ],
      "execution_count": 745,
      "outputs": []
    },
    {
      "cell_type": "markdown",
      "metadata": {
        "id": "v8ZiRDmkZ-38"
      },
      "source": [
        "## Building V.2\n",
        "\n",
        "<img src='https://drive.google.com/uc?id=19I5DHRi0Z1gI4wwqRsFSIkEz1rh9w8x3' />\n"
      ]
    },
    {
      "cell_type": "code",
      "metadata": {
        "id": "uhrt8a1NaY6p"
      },
      "source": [
        "data = [[] for _ in nb_connection_1h]\n",
        "columns = []"
      ],
      "execution_count": 746,
      "outputs": []
    },
    {
      "cell_type": "code",
      "metadata": {
        "id": "YJ_rP29BaaIo"
      },
      "source": [
        "df = dataframe_tables.copy()"
      ],
      "execution_count": 747,
      "outputs": []
    },
    {
      "cell_type": "markdown",
      "metadata": {
        "id": "YI62uIIXabO6"
      },
      "source": [
        "## Data Indicators"
      ]
    },
    {
      "cell_type": "markdown",
      "metadata": {
        "id": "cjS9zOpTad-X"
      },
      "source": [
        "### Timestamps"
      ]
    },
    {
      "cell_type": "code",
      "metadata": {
        "id": "DWpxk88Parwf"
      },
      "source": [
        "def get_important_timestamps(ids_connexion, df_prompt_middle, df_prompt_final, df_connexion):\n",
        "  timestamps_middle = []\n",
        "  timestamps_final = []\n",
        "  for id_connexion in ids_connexion:\n",
        "    temp_df = df_prompt_middle.query('id_connexion == {}'.format(id_connexion))\n",
        "    if temp_df.shape[0] == 0:\n",
        "      # the user doesn't not provide us prompts\n",
        "      timestamp = list(df_connexion.query('id == {}'.format(id_connexion)).timestamp)[0]\n",
        "      timestamps_middle.append(timestamp + timedelta(minutes=30))\n",
        "      timestamps_final.append(timestamp + timedelta(hours=1))\n",
        "    else:\n",
        "      timestamp = list(temp_df.timestamp)[0]\n",
        "      timestamps_middle.append(timestamp)\n",
        "      #final\n",
        "      temp_df = df_prompt_final.query('id_connexion == {}'.format(id_connexion))\n",
        "      if temp_df.shape[0] == 0:\n",
        "        # the user doesn't not provide us prompts\n",
        "        timestamps_final.append(timestamp + timedelta(minutes=30))\n",
        "      else:\n",
        "        timestamps_final(list(temp_df.timestamp)[0])\n",
        "  return [i.to_pydatetime() for i in timestamps_middle], [i.to_pydatetime() for i in timestamps_final]"
      ],
      "execution_count": 748,
      "outputs": []
    },
    {
      "cell_type": "code",
      "metadata": {
        "id": "EtwmjnWzovXx"
      },
      "source": [
        "def get_index_timestamp(df, timestamp1, timestamp2):\n",
        "  column = list(df.columns).index(\"timestamp\")\n",
        "  return [row for row in range(df.shape[0]) if df.iloc[row, column] > timestamp1 and df.iloc[row, column] <= timestamp2]"
      ],
      "execution_count": 749,
      "outputs": []
    },
    {
      "cell_type": "code",
      "metadata": {
        "id": "Zbkxp7xwzd3D"
      },
      "source": [
        "def draw(data, columns, nb_connection_1h):\n",
        "  return pd.DataFrame(data[:5], columns=columns, index=nb_connection_1h[:5])"
      ],
      "execution_count": 750,
      "outputs": []
    },
    {
      "cell_type": "code",
      "metadata": {
        "id": "u02GmPprSjEK"
      },
      "source": [
        "def eliminate_same_subject_version_score(df):\n",
        "  indexes = []\n",
        "  uniques = list(df[[\"id_sujet\", \"version\"]].value_counts().index)\n",
        "  for i in range(len(uniques)):\n",
        "    df_multiple = df.query(\"id_sujet == {} and version == {}\".format(uniques[i][0], uniques[i][1]))\n",
        "    indexes.append(list(df_multiple.index)[-1])\n",
        "  return indexes"
      ],
      "execution_count": 751,
      "outputs": []
    },
    {
      "cell_type": "code",
      "metadata": {
        "id": "nkffxgaYirxt"
      },
      "source": [
        "def eliminate_same_subject_version_following(df, col1, col2):\n",
        "  indexes = []\n",
        "  memory = None\n",
        "  for i in range(df.shape[0]):\n",
        "    if memory == None:\n",
        "      memory = (df.iloc[i,col1], df.iloc[i,col2])\n",
        "      indexes.append(i)\n",
        "    else:\n",
        "      if df.iloc[i,col1] != memory[0] or df.iloc[i,col2] != memory[1]:\n",
        "        memory = (df.iloc[i,col1], df.iloc[i,col2])\n",
        "        indexes.append(i)\n",
        "  return indexes\n",
        "\n",
        "def eliminate_same_subject_version_other_following(df, col1, col2, col3):\n",
        "  indexes = []\n",
        "  memory = None\n",
        "  for i in range(df.shape[0]):\n",
        "    if memory == None:\n",
        "      memory = (df.iloc[i,col1], df.iloc[i,col2], df.iloc[i,col3])\n",
        "      indexes.append(i)\n",
        "    else:\n",
        "      if df.iloc[i,col1] != memory[0] or df.iloc[i,col2] != memory[1] or df.iloc[i,col3] != memory[2]:\n",
        "        memory = (df.iloc[i,col1], df.iloc[i,col2], df.iloc[i,col3])\n",
        "        indexes.append(i)\n",
        "  return indexes"
      ],
      "execution_count": 752,
      "outputs": []
    },
    {
      "cell_type": "code",
      "metadata": {
        "id": "OveAzyC_ap0X"
      },
      "source": [
        "beginning_timestamp = [df[\"connexion\"].query(\"id == {}\".format(id)).iloc[0, 3] for id in nb_connection_1h]\n",
        "middle_timestamp, end_timestamp = get_important_timestamps(nb_connection_1h, df[\"srl_prompt\"].query(\"id_connexion in {}\".format(nb_connection_1h)), \n",
        "                                                           df[\"srl_final_prompt\"].query(\"id_connexion in {}\".format(nb_connection_1h)), df[\"connexion\"].query(\"id in {}\".format(nb_connection_1h)))"
      ],
      "execution_count": 753,
      "outputs": []
    },
    {
      "cell_type": "markdown",
      "metadata": {
        "id": "zPrsuHrKbHit"
      },
      "source": [
        "### Rate of Time spent on validated subjects\n",
        "\n",
        "Indicator name : \n",
        "* validated_time_rate\n",
        "\n",
        "Computation : \n",
        "* Time spent on validated subject (help + subject) / 30 minutes"
      ]
    },
    {
      "cell_type": "code",
      "metadata": {
        "id": "kGffdM_anNpt"
      },
      "source": [
        "def validated_time_rate(df, nb_connection_1h, data, beginning_timestamp, middle_timestamp, end_timestamp, sujet_range, prompt=0):\n",
        "  column_val_sujet = list(df[\"validation\"].columns).index(\"id_sujet\")\n",
        "  column_val_version = list(df[\"validation\"].columns).index(\"version\")\n",
        "  column_nav_sujet = list(df[\"navigation\"].columns).index(\"id_sujet\")\n",
        "  column_nav_version = list(df[\"navigation\"].columns).index(\"version\")\n",
        "  column_nav_timestamp = list(df[\"navigation\"].columns).index(\"timestamp\")\n",
        "  column_nav_module = list(df[\"navigation\"].columns).index(\"module\")\n",
        "  for i,id in enumerate(nb_connection_1h):\n",
        "    df_val = df[\"validation\"].query(\"id_connexion == {} and score > 0 and experimentation == 0 and id_sujet in {}\".format(id, sujet_range))\n",
        "    index = get_index_timestamp(df_val, beginning_timestamp[i], middle_timestamp[i]) if prompt == 0 else get_index_timestamp(df_val, middle_timestamp[i], end_timestamp[i])\n",
        "    df_val = df_val.iloc[index,:]\n",
        "    index = eliminate_same_subject_version_score(df_val)\n",
        "    df_val = df_val.loc[index,df_val.columns]\n",
        "    time_spent = timedelta(seconds=0)\n",
        "    for j in range(df_val.shape[0]):\n",
        "      sujet = df_val.iloc[j,column_val_sujet]\n",
        "      version = df_val.iloc[j,column_val_version]\n",
        "      df_nav = df[\"navigation\"].query(\"id_connexion == {} and id_sujet in {}\".format(id, sujet_range))\n",
        "      index = get_index_timestamp(df_nav, beginning_timestamp[i], middle_timestamp[i]) if prompt == 0 else get_index_timestamp(df_nav, middle_timestamp[i], end_timestamp[i])\n",
        "      df_nav = df_nav.iloc[index,:]\n",
        "      index = eliminate_same_subject_version_following(df_nav, column_nav_sujet, column_nav_version)\n",
        "      df_nav = df_nav.iloc[index,:]\n",
        "      for k in range(df_nav.shape[0]):\n",
        "        if df_nav.iloc[k,column_nav_sujet] == sujet and df_nav.iloc[k,column_nav_version] == version and df_nav.iloc[k,column_nav_module] == \"Exercice\":\n",
        "          time = df_nav.iloc[k,column_nav_timestamp]\n",
        "          for l in range(k+1, df_nav.shape[0]):\n",
        "            if df_nav.iloc[l,column_nav_sujet] != sujet or df_nav.iloc[l,column_nav_version] != version:\n",
        "              time = df_nav.iloc[l,column_nav_timestamp] - time\n",
        "              break\n",
        "          else:\n",
        "              time = middle_timestamp[i] - time if prompt == 0 else end_timestamp[i] - time\n",
        "          time_spent += time\n",
        "    data[i].append(time_spent / timedelta(minutes=30))\n",
        "  return data"
      ],
      "execution_count": 754,
      "outputs": []
    },
    {
      "cell_type": "markdown",
      "metadata": {
        "id": "FloRdgLsmg-h"
      },
      "source": [
        "#### Initial Prompt -> Middle Prompt"
      ]
    },
    {
      "cell_type": "code",
      "metadata": {
        "id": "3O-wQe9La7TH"
      },
      "source": [
        "columns.append(\"validated_time_rate_1\")"
      ],
      "execution_count": 755,
      "outputs": []
    },
    {
      "cell_type": "code",
      "metadata": {
        "id": "pFSZqnSFcjiE"
      },
      "source": [
        "data = validated_time_rate(df, nb_connection_1h, data, beginning_timestamp, middle_timestamp, end_timestamp, sujet_range, prompt=0)"
      ],
      "execution_count": 756,
      "outputs": []
    },
    {
      "cell_type": "code",
      "metadata": {
        "colab": {
          "base_uri": "https://localhost:8080/",
          "height": 0
        },
        "id": "7m687jMop-oh",
        "outputId": "7d081f48-184c-4559-fcb0-8a43f9096a2c"
      },
      "source": [
        "draw(data, columns, nb_connection_1h)"
      ],
      "execution_count": 757,
      "outputs": [
        {
          "output_type": "execute_result",
          "data": {
            "text/html": [
              "<div>\n",
              "<style scoped>\n",
              "    .dataframe tbody tr th:only-of-type {\n",
              "        vertical-align: middle;\n",
              "    }\n",
              "\n",
              "    .dataframe tbody tr th {\n",
              "        vertical-align: top;\n",
              "    }\n",
              "\n",
              "    .dataframe thead th {\n",
              "        text-align: right;\n",
              "    }\n",
              "</style>\n",
              "<table border=\"1\" class=\"dataframe\">\n",
              "  <thead>\n",
              "    <tr style=\"text-align: right;\">\n",
              "      <th></th>\n",
              "      <th>validated_time_rate_1</th>\n",
              "    </tr>\n",
              "  </thead>\n",
              "  <tbody>\n",
              "    <tr>\n",
              "      <th>191</th>\n",
              "      <td>0.840556</td>\n",
              "    </tr>\n",
              "    <tr>\n",
              "      <th>225</th>\n",
              "      <td>0.000000</td>\n",
              "    </tr>\n",
              "    <tr>\n",
              "      <th>234</th>\n",
              "      <td>0.514444</td>\n",
              "    </tr>\n",
              "    <tr>\n",
              "      <th>240</th>\n",
              "      <td>0.296111</td>\n",
              "    </tr>\n",
              "    <tr>\n",
              "      <th>242</th>\n",
              "      <td>0.465556</td>\n",
              "    </tr>\n",
              "  </tbody>\n",
              "</table>\n",
              "</div>"
            ],
            "text/plain": [
              "     validated_time_rate_1\n",
              "191               0.840556\n",
              "225               0.000000\n",
              "234               0.514444\n",
              "240               0.296111\n",
              "242               0.465556"
            ]
          },
          "metadata": {
            "tags": []
          },
          "execution_count": 757
        }
      ]
    },
    {
      "cell_type": "markdown",
      "metadata": {
        "id": "43lXcoVLmfOL"
      },
      "source": [
        "#### Middle Prompt -> Final Prompt"
      ]
    },
    {
      "cell_type": "code",
      "metadata": {
        "id": "rjIBAFWyq1ai"
      },
      "source": [
        "columns.append(\"validated_time_rate_2\")"
      ],
      "execution_count": 758,
      "outputs": []
    },
    {
      "cell_type": "code",
      "metadata": {
        "id": "LeadKdAfm0Fc"
      },
      "source": [
        "data = validated_time_rate(df, nb_connection_1h, data, beginning_timestamp, middle_timestamp, end_timestamp, sujet_range, prompt=1)"
      ],
      "execution_count": 759,
      "outputs": []
    },
    {
      "cell_type": "code",
      "metadata": {
        "colab": {
          "base_uri": "https://localhost:8080/",
          "height": 0
        },
        "id": "kGD6dBz7q2fj",
        "outputId": "4bddb662-bf13-40ba-fa06-cf67d6cd75e8"
      },
      "source": [
        "draw(data, columns, nb_connection_1h)"
      ],
      "execution_count": 760,
      "outputs": [
        {
          "output_type": "execute_result",
          "data": {
            "text/html": [
              "<div>\n",
              "<style scoped>\n",
              "    .dataframe tbody tr th:only-of-type {\n",
              "        vertical-align: middle;\n",
              "    }\n",
              "\n",
              "    .dataframe tbody tr th {\n",
              "        vertical-align: top;\n",
              "    }\n",
              "\n",
              "    .dataframe thead th {\n",
              "        text-align: right;\n",
              "    }\n",
              "</style>\n",
              "<table border=\"1\" class=\"dataframe\">\n",
              "  <thead>\n",
              "    <tr style=\"text-align: right;\">\n",
              "      <th></th>\n",
              "      <th>validated_time_rate_1</th>\n",
              "      <th>validated_time_rate_2</th>\n",
              "    </tr>\n",
              "  </thead>\n",
              "  <tbody>\n",
              "    <tr>\n",
              "      <th>191</th>\n",
              "      <td>0.840556</td>\n",
              "      <td>0.010000</td>\n",
              "    </tr>\n",
              "    <tr>\n",
              "      <th>225</th>\n",
              "      <td>0.000000</td>\n",
              "      <td>0.299444</td>\n",
              "    </tr>\n",
              "    <tr>\n",
              "      <th>234</th>\n",
              "      <td>0.514444</td>\n",
              "      <td>0.121667</td>\n",
              "    </tr>\n",
              "    <tr>\n",
              "      <th>240</th>\n",
              "      <td>0.296111</td>\n",
              "      <td>0.149444</td>\n",
              "    </tr>\n",
              "    <tr>\n",
              "      <th>242</th>\n",
              "      <td>0.465556</td>\n",
              "      <td>0.000000</td>\n",
              "    </tr>\n",
              "  </tbody>\n",
              "</table>\n",
              "</div>"
            ],
            "text/plain": [
              "     validated_time_rate_1  validated_time_rate_2\n",
              "191               0.840556               0.010000\n",
              "225               0.000000               0.299444\n",
              "234               0.514444               0.121667\n",
              "240               0.296111               0.149444\n",
              "242               0.465556               0.000000"
            ]
          },
          "metadata": {
            "tags": []
          },
          "execution_count": 760
        }
      ]
    },
    {
      "cell_type": "markdown",
      "metadata": {
        "id": "Ug1zCXf-rMNI"
      },
      "source": [
        "### Mean of Highest version validated\n",
        "\n",
        "Indicator name : \n",
        "* highest_version_mean_validated\n",
        "\n",
        "Computation : \n",
        "* x = [for each subject validated : max version validated]\n",
        "* sum(x) / count(x)"
      ]
    },
    {
      "cell_type": "code",
      "metadata": {
        "id": "OenoWjoosbHZ"
      },
      "source": [
        "def highest_version_mean_validated(df, nb_connection_1h, data, beginning_timestamp, middle_timestamp, end_timestamp, sujet_range, prompt=0):\n",
        "  column_val_sujet = list(df[\"validation\"].columns).index(\"id_sujet\")\n",
        "  column_val_version = list(df[\"validation\"].columns).index(\"version\")\n",
        "  for i,id in enumerate(nb_connection_1h):\n",
        "    df_val = df[\"validation\"].query(\"id_connexion == {} and score > 0 and experimentation == 0 and id_sujet in {}\".format(id, sujet_range))\n",
        "    index = get_index_timestamp(df_val, beginning_timestamp[i], middle_timestamp[i]) if prompt == 0 else get_index_timestamp(df_val, middle_timestamp[i], end_timestamp[i])\n",
        "    df_val = df_val.iloc[index,:]\n",
        "    versions = defaultdict(int)\n",
        "    for j in range(df_val.shape[0]):\n",
        "      if versions[df_val.iloc[j,column_val_sujet]] < df_val.iloc[j,column_val_version]:\n",
        "        versions[df_val.iloc[j,column_val_sujet]] = df_val.iloc[j,column_val_version]\n",
        "    \n",
        "    data[i].append(sum([versions[key] for key in versions.keys()]) / len(versions) if len(versions) != 0 else 0)\n",
        "  return data"
      ],
      "execution_count": 761,
      "outputs": []
    },
    {
      "cell_type": "markdown",
      "metadata": {
        "id": "ruDzr2x9ruGZ"
      },
      "source": [
        "#### Initial Prompt -> Middle Prompt"
      ]
    },
    {
      "cell_type": "code",
      "metadata": {
        "id": "AH3G-xVYtl_S"
      },
      "source": [
        "columns.append(\"highest_version_mean_validated_1\")"
      ],
      "execution_count": 762,
      "outputs": []
    },
    {
      "cell_type": "code",
      "metadata": {
        "id": "YUzkg3h8tqQl"
      },
      "source": [
        "data = highest_version_mean_validated(df, nb_connection_1h, data, beginning_timestamp, middle_timestamp, end_timestamp, sujet_range, prompt=0)"
      ],
      "execution_count": 763,
      "outputs": []
    },
    {
      "cell_type": "code",
      "metadata": {
        "colab": {
          "base_uri": "https://localhost:8080/",
          "height": 0
        },
        "id": "f3G7o0NKtqf9",
        "outputId": "c0682512-22f6-4809-bda8-7d8ec3ea8e38"
      },
      "source": [
        "draw(data, columns, nb_connection_1h)"
      ],
      "execution_count": 764,
      "outputs": [
        {
          "output_type": "execute_result",
          "data": {
            "text/html": [
              "<div>\n",
              "<style scoped>\n",
              "    .dataframe tbody tr th:only-of-type {\n",
              "        vertical-align: middle;\n",
              "    }\n",
              "\n",
              "    .dataframe tbody tr th {\n",
              "        vertical-align: top;\n",
              "    }\n",
              "\n",
              "    .dataframe thead th {\n",
              "        text-align: right;\n",
              "    }\n",
              "</style>\n",
              "<table border=\"1\" class=\"dataframe\">\n",
              "  <thead>\n",
              "    <tr style=\"text-align: right;\">\n",
              "      <th></th>\n",
              "      <th>validated_time_rate_1</th>\n",
              "      <th>validated_time_rate_2</th>\n",
              "      <th>highest_version_mean_validated_1</th>\n",
              "    </tr>\n",
              "  </thead>\n",
              "  <tbody>\n",
              "    <tr>\n",
              "      <th>191</th>\n",
              "      <td>0.840556</td>\n",
              "      <td>0.010000</td>\n",
              "      <td>3.5</td>\n",
              "    </tr>\n",
              "    <tr>\n",
              "      <th>225</th>\n",
              "      <td>0.000000</td>\n",
              "      <td>0.299444</td>\n",
              "      <td>0.0</td>\n",
              "    </tr>\n",
              "    <tr>\n",
              "      <th>234</th>\n",
              "      <td>0.514444</td>\n",
              "      <td>0.121667</td>\n",
              "      <td>2.4</td>\n",
              "    </tr>\n",
              "    <tr>\n",
              "      <th>240</th>\n",
              "      <td>0.296111</td>\n",
              "      <td>0.149444</td>\n",
              "      <td>4.0</td>\n",
              "    </tr>\n",
              "    <tr>\n",
              "      <th>242</th>\n",
              "      <td>0.465556</td>\n",
              "      <td>0.000000</td>\n",
              "      <td>3.0</td>\n",
              "    </tr>\n",
              "  </tbody>\n",
              "</table>\n",
              "</div>"
            ],
            "text/plain": [
              "     validated_time_rate_1  ...  highest_version_mean_validated_1\n",
              "191               0.840556  ...                               3.5\n",
              "225               0.000000  ...                               0.0\n",
              "234               0.514444  ...                               2.4\n",
              "240               0.296111  ...                               4.0\n",
              "242               0.465556  ...                               3.0\n",
              "\n",
              "[5 rows x 3 columns]"
            ]
          },
          "metadata": {
            "tags": []
          },
          "execution_count": 764
        }
      ]
    },
    {
      "cell_type": "markdown",
      "metadata": {
        "id": "_dT9nV22rnLa"
      },
      "source": [
        "#### Middle Prompt -> Final Prompt"
      ]
    },
    {
      "cell_type": "code",
      "metadata": {
        "id": "Ro707lW6tt8m"
      },
      "source": [
        "columns.append(\"highest_version_mean_validated_2\")"
      ],
      "execution_count": 765,
      "outputs": []
    },
    {
      "cell_type": "code",
      "metadata": {
        "id": "Ee_fflH4tt6D"
      },
      "source": [
        "data = highest_version_mean_validated(df, nb_connection_1h, data, beginning_timestamp, middle_timestamp, end_timestamp, sujet_range, prompt=1)"
      ],
      "execution_count": 766,
      "outputs": []
    },
    {
      "cell_type": "code",
      "metadata": {
        "colab": {
          "base_uri": "https://localhost:8080/",
          "height": 0
        },
        "id": "3ENoC8VEttnD",
        "outputId": "cb61b107-4079-4659-dc4c-5a68f2b64c65"
      },
      "source": [
        "draw(data, columns, nb_connection_1h)"
      ],
      "execution_count": 767,
      "outputs": [
        {
          "output_type": "execute_result",
          "data": {
            "text/html": [
              "<div>\n",
              "<style scoped>\n",
              "    .dataframe tbody tr th:only-of-type {\n",
              "        vertical-align: middle;\n",
              "    }\n",
              "\n",
              "    .dataframe tbody tr th {\n",
              "        vertical-align: top;\n",
              "    }\n",
              "\n",
              "    .dataframe thead th {\n",
              "        text-align: right;\n",
              "    }\n",
              "</style>\n",
              "<table border=\"1\" class=\"dataframe\">\n",
              "  <thead>\n",
              "    <tr style=\"text-align: right;\">\n",
              "      <th></th>\n",
              "      <th>validated_time_rate_1</th>\n",
              "      <th>validated_time_rate_2</th>\n",
              "      <th>highest_version_mean_validated_1</th>\n",
              "      <th>highest_version_mean_validated_2</th>\n",
              "    </tr>\n",
              "  </thead>\n",
              "  <tbody>\n",
              "    <tr>\n",
              "      <th>191</th>\n",
              "      <td>0.840556</td>\n",
              "      <td>0.010000</td>\n",
              "      <td>3.5</td>\n",
              "      <td>3.0</td>\n",
              "    </tr>\n",
              "    <tr>\n",
              "      <th>225</th>\n",
              "      <td>0.000000</td>\n",
              "      <td>0.299444</td>\n",
              "      <td>0.0</td>\n",
              "      <td>3.0</td>\n",
              "    </tr>\n",
              "    <tr>\n",
              "      <th>234</th>\n",
              "      <td>0.514444</td>\n",
              "      <td>0.121667</td>\n",
              "      <td>2.4</td>\n",
              "      <td>3.0</td>\n",
              "    </tr>\n",
              "    <tr>\n",
              "      <th>240</th>\n",
              "      <td>0.296111</td>\n",
              "      <td>0.149444</td>\n",
              "      <td>4.0</td>\n",
              "      <td>3.0</td>\n",
              "    </tr>\n",
              "    <tr>\n",
              "      <th>242</th>\n",
              "      <td>0.465556</td>\n",
              "      <td>0.000000</td>\n",
              "      <td>3.0</td>\n",
              "      <td>0.0</td>\n",
              "    </tr>\n",
              "  </tbody>\n",
              "</table>\n",
              "</div>"
            ],
            "text/plain": [
              "     validated_time_rate_1  ...  highest_version_mean_validated_2\n",
              "191               0.840556  ...                               3.0\n",
              "225               0.000000  ...                               3.0\n",
              "234               0.514444  ...                               3.0\n",
              "240               0.296111  ...                               3.0\n",
              "242               0.465556  ...                               0.0\n",
              "\n",
              "[5 rows x 4 columns]"
            ]
          },
          "metadata": {
            "tags": []
          },
          "execution_count": 767
        }
      ]
    },
    {
      "cell_type": "markdown",
      "metadata": {
        "id": "gMctmjstraYC"
      },
      "source": [
        "### Time spent on Help module\n",
        "\n",
        "Indicator name : \n",
        "* time_consulting_help\n",
        "\n",
        "Computation : \n",
        "* sum([For each subject : time spent on the help module])"
      ]
    },
    {
      "cell_type": "code",
      "metadata": {
        "id": "GZTWDTo4v9rq"
      },
      "source": [
        "def time_consulting_help(df, nb_connection_1h, data, beginning_timestamp, middle_timestamp, end_timestamp, sujet_range, prompt=0):\n",
        "  column_nav_sujet = list(df[\"navigation\"].columns).index(\"id_sujet\")\n",
        "  column_nav_version = list(df[\"navigation\"].columns).index(\"version\")\n",
        "  column_nav_module = list(df[\"navigation\"].columns).index(\"module\")\n",
        "  column_nav_timestamp = list(df[\"navigation\"].columns).index(\"timestamp\")\n",
        "  for i,id in enumerate(nb_connection_1h):\n",
        "    df_nav = df[\"navigation\"].query(\"id_connexion == {} and id_sujet in {}\".format(id, sujet_range))\n",
        "    index = get_index_timestamp(df_nav, beginning_timestamp[i], middle_timestamp[i]) if prompt == 0 else get_index_timestamp(df_nav, middle_timestamp[i], end_timestamp[i])\n",
        "    df_nav = df_nav.iloc[index,:]\n",
        "    time_spent = timedelta(seconds=0)\n",
        "    for j in range(df_nav.shape[0]):\n",
        "      if df_nav.iloc[j,column_nav_module] == 'Aide':\n",
        "        sujet = df_nav.iloc[j,column_nav_sujet]\n",
        "        version = df_nav.iloc[j,column_nav_version]\n",
        "        time = df_nav.iloc[j,column_nav_timestamp]\n",
        "        for k in range(j+1, df_nav.shape[0]):\n",
        "          if df_nav.iloc[k,column_nav_sujet] != sujet or df_nav.iloc[k,column_nav_version] != version or df_nav.iloc[k,column_nav_module] != 'Aide':\n",
        "            time = df_nav.iloc[k,column_nav_timestamp] - time\n",
        "            break\n",
        "        else:\n",
        "            time = middle_timestamp[i] - time if prompt == 0 else end_timestamp[i] - time\n",
        "        time_spent += time\n",
        "    data[i].append(time_spent.total_seconds())\n",
        "  return data"
      ],
      "execution_count": 768,
      "outputs": []
    },
    {
      "cell_type": "markdown",
      "metadata": {
        "id": "vr8j7jYqrtvC"
      },
      "source": [
        "#### Initial Prompt -> Middle Prompt"
      ]
    },
    {
      "cell_type": "code",
      "metadata": {
        "id": "QkPSETyev150"
      },
      "source": [
        "columns.append(\"time_consulting_help_1\")"
      ],
      "execution_count": 769,
      "outputs": []
    },
    {
      "cell_type": "code",
      "metadata": {
        "id": "byhjCaWKv1xs"
      },
      "source": [
        "data = time_consulting_help(df, nb_connection_1h, data, beginning_timestamp, middle_timestamp, end_timestamp, sujet_range, prompt=0)"
      ],
      "execution_count": 770,
      "outputs": []
    },
    {
      "cell_type": "code",
      "metadata": {
        "colab": {
          "base_uri": "https://localhost:8080/",
          "height": 0
        },
        "id": "PL0l-1ODv1vK",
        "outputId": "20f2b787-d942-438b-a699-a1f50efa0afe"
      },
      "source": [
        "draw(data, columns, nb_connection_1h)"
      ],
      "execution_count": 771,
      "outputs": [
        {
          "output_type": "execute_result",
          "data": {
            "text/html": [
              "<div>\n",
              "<style scoped>\n",
              "    .dataframe tbody tr th:only-of-type {\n",
              "        vertical-align: middle;\n",
              "    }\n",
              "\n",
              "    .dataframe tbody tr th {\n",
              "        vertical-align: top;\n",
              "    }\n",
              "\n",
              "    .dataframe thead th {\n",
              "        text-align: right;\n",
              "    }\n",
              "</style>\n",
              "<table border=\"1\" class=\"dataframe\">\n",
              "  <thead>\n",
              "    <tr style=\"text-align: right;\">\n",
              "      <th></th>\n",
              "      <th>validated_time_rate_1</th>\n",
              "      <th>validated_time_rate_2</th>\n",
              "      <th>highest_version_mean_validated_1</th>\n",
              "      <th>highest_version_mean_validated_2</th>\n",
              "      <th>time_consulting_help_1</th>\n",
              "    </tr>\n",
              "  </thead>\n",
              "  <tbody>\n",
              "    <tr>\n",
              "      <th>191</th>\n",
              "      <td>0.840556</td>\n",
              "      <td>0.010000</td>\n",
              "      <td>3.5</td>\n",
              "      <td>3.0</td>\n",
              "      <td>0.0</td>\n",
              "    </tr>\n",
              "    <tr>\n",
              "      <th>225</th>\n",
              "      <td>0.000000</td>\n",
              "      <td>0.299444</td>\n",
              "      <td>0.0</td>\n",
              "      <td>3.0</td>\n",
              "      <td>73.0</td>\n",
              "    </tr>\n",
              "    <tr>\n",
              "      <th>234</th>\n",
              "      <td>0.514444</td>\n",
              "      <td>0.121667</td>\n",
              "      <td>2.4</td>\n",
              "      <td>3.0</td>\n",
              "      <td>62.0</td>\n",
              "    </tr>\n",
              "    <tr>\n",
              "      <th>240</th>\n",
              "      <td>0.296111</td>\n",
              "      <td>0.149444</td>\n",
              "      <td>4.0</td>\n",
              "      <td>3.0</td>\n",
              "      <td>10.0</td>\n",
              "    </tr>\n",
              "    <tr>\n",
              "      <th>242</th>\n",
              "      <td>0.465556</td>\n",
              "      <td>0.000000</td>\n",
              "      <td>3.0</td>\n",
              "      <td>0.0</td>\n",
              "      <td>0.0</td>\n",
              "    </tr>\n",
              "  </tbody>\n",
              "</table>\n",
              "</div>"
            ],
            "text/plain": [
              "     validated_time_rate_1  ...  time_consulting_help_1\n",
              "191               0.840556  ...                     0.0\n",
              "225               0.000000  ...                    73.0\n",
              "234               0.514444  ...                    62.0\n",
              "240               0.296111  ...                    10.0\n",
              "242               0.465556  ...                     0.0\n",
              "\n",
              "[5 rows x 5 columns]"
            ]
          },
          "metadata": {
            "tags": []
          },
          "execution_count": 771
        }
      ]
    },
    {
      "cell_type": "markdown",
      "metadata": {
        "id": "TbZ_VYiPrnYb"
      },
      "source": [
        "#### Middle Prompt -> Final Prompt"
      ]
    },
    {
      "cell_type": "code",
      "metadata": {
        "id": "bcphjZn4v2h5"
      },
      "source": [
        "columns.append(\"time_consulting_help_2\")"
      ],
      "execution_count": 772,
      "outputs": []
    },
    {
      "cell_type": "code",
      "metadata": {
        "id": "BAUjxzZzv2fE"
      },
      "source": [
        "data = time_consulting_help(df, nb_connection_1h, data, beginning_timestamp, middle_timestamp, end_timestamp, sujet_range, prompt=1)"
      ],
      "execution_count": 773,
      "outputs": []
    },
    {
      "cell_type": "code",
      "metadata": {
        "colab": {
          "base_uri": "https://localhost:8080/",
          "height": 0
        },
        "id": "90T9vbL4v2c9",
        "outputId": "41075270-73a1-47ca-e354-999b251104ca"
      },
      "source": [
        "draw(data, columns, nb_connection_1h)"
      ],
      "execution_count": 774,
      "outputs": [
        {
          "output_type": "execute_result",
          "data": {
            "text/html": [
              "<div>\n",
              "<style scoped>\n",
              "    .dataframe tbody tr th:only-of-type {\n",
              "        vertical-align: middle;\n",
              "    }\n",
              "\n",
              "    .dataframe tbody tr th {\n",
              "        vertical-align: top;\n",
              "    }\n",
              "\n",
              "    .dataframe thead th {\n",
              "        text-align: right;\n",
              "    }\n",
              "</style>\n",
              "<table border=\"1\" class=\"dataframe\">\n",
              "  <thead>\n",
              "    <tr style=\"text-align: right;\">\n",
              "      <th></th>\n",
              "      <th>validated_time_rate_1</th>\n",
              "      <th>validated_time_rate_2</th>\n",
              "      <th>highest_version_mean_validated_1</th>\n",
              "      <th>highest_version_mean_validated_2</th>\n",
              "      <th>time_consulting_help_1</th>\n",
              "      <th>time_consulting_help_2</th>\n",
              "    </tr>\n",
              "  </thead>\n",
              "  <tbody>\n",
              "    <tr>\n",
              "      <th>191</th>\n",
              "      <td>0.840556</td>\n",
              "      <td>0.010000</td>\n",
              "      <td>3.5</td>\n",
              "      <td>3.0</td>\n",
              "      <td>0.0</td>\n",
              "      <td>0.0</td>\n",
              "    </tr>\n",
              "    <tr>\n",
              "      <th>225</th>\n",
              "      <td>0.000000</td>\n",
              "      <td>0.299444</td>\n",
              "      <td>0.0</td>\n",
              "      <td>3.0</td>\n",
              "      <td>73.0</td>\n",
              "      <td>2.0</td>\n",
              "    </tr>\n",
              "    <tr>\n",
              "      <th>234</th>\n",
              "      <td>0.514444</td>\n",
              "      <td>0.121667</td>\n",
              "      <td>2.4</td>\n",
              "      <td>3.0</td>\n",
              "      <td>62.0</td>\n",
              "      <td>0.0</td>\n",
              "    </tr>\n",
              "    <tr>\n",
              "      <th>240</th>\n",
              "      <td>0.296111</td>\n",
              "      <td>0.149444</td>\n",
              "      <td>4.0</td>\n",
              "      <td>3.0</td>\n",
              "      <td>10.0</td>\n",
              "      <td>13.0</td>\n",
              "    </tr>\n",
              "    <tr>\n",
              "      <th>242</th>\n",
              "      <td>0.465556</td>\n",
              "      <td>0.000000</td>\n",
              "      <td>3.0</td>\n",
              "      <td>0.0</td>\n",
              "      <td>0.0</td>\n",
              "      <td>4.0</td>\n",
              "    </tr>\n",
              "  </tbody>\n",
              "</table>\n",
              "</div>"
            ],
            "text/plain": [
              "     validated_time_rate_1  ...  time_consulting_help_2\n",
              "191               0.840556  ...                     0.0\n",
              "225               0.000000  ...                     2.0\n",
              "234               0.514444  ...                     0.0\n",
              "240               0.296111  ...                    13.0\n",
              "242               0.465556  ...                     4.0\n",
              "\n",
              "[5 rows x 6 columns]"
            ]
          },
          "metadata": {
            "tags": []
          },
          "execution_count": 774
        }
      ]
    },
    {
      "cell_type": "markdown",
      "metadata": {
        "id": "ay831-FNraqq"
      },
      "source": [
        "### Mean of experimentation+Validation number / subject experimented\n",
        "\n",
        "Indicator name : \n",
        "* mean_test_per_subject\n",
        "\n",
        "Computation : \n",
        "* x = [experimentation number per subject experimented]\n",
        "* sum(x) / count(x)"
      ]
    },
    {
      "cell_type": "code",
      "metadata": {
        "id": "FXwoIjma4deF"
      },
      "source": [
        "def mean_test_per_subject(df, nb_connection_1h, data, beginning_timestamp, middle_timestamp, end_timestamp, sujet_range, prompt=0):\n",
        "  for i,id in enumerate(nb_connection_1h):\n",
        "    df_val = df[\"validation\"].query(\"id_connexion == {} and id_sujet in {}\".format(id, sujet_range))\n",
        "    index = get_index_timestamp(df_val, beginning_timestamp[i], middle_timestamp[i]) if prompt == 0 else get_index_timestamp(df_val, middle_timestamp[i], end_timestamp[i])\n",
        "    df_val = df_val.iloc[index,:]\n",
        "    exp_number = list(df_val[[\"id_sujet\", \"version\"]].value_counts())\n",
        "    data[i].append(sum(exp_number) / len(exp_number) if len(exp_number) != 0 else 0)\n",
        "  return data"
      ],
      "execution_count": 775,
      "outputs": []
    },
    {
      "cell_type": "markdown",
      "metadata": {
        "id": "5hjGNL7LrkQC"
      },
      "source": [
        "#### Initial Prompt -> Middle Prompt"
      ]
    },
    {
      "cell_type": "code",
      "metadata": {
        "id": "18U1wcXr4VAW"
      },
      "source": [
        "columns.append(\"mean_test_per_subject_1\")"
      ],
      "execution_count": 776,
      "outputs": []
    },
    {
      "cell_type": "code",
      "metadata": {
        "id": "U-tsMZnX4U9h"
      },
      "source": [
        "data = mean_test_per_subject(df, nb_connection_1h, data, beginning_timestamp, middle_timestamp, end_timestamp, sujet_range, prompt=0)"
      ],
      "execution_count": 777,
      "outputs": []
    },
    {
      "cell_type": "code",
      "metadata": {
        "colab": {
          "base_uri": "https://localhost:8080/",
          "height": 0
        },
        "id": "f1vnmRK_4U1f",
        "outputId": "c8a42bdf-1f02-4836-8939-3bda15350ecc"
      },
      "source": [
        "draw(data, columns, nb_connection_1h)"
      ],
      "execution_count": 778,
      "outputs": [
        {
          "output_type": "execute_result",
          "data": {
            "text/html": [
              "<div>\n",
              "<style scoped>\n",
              "    .dataframe tbody tr th:only-of-type {\n",
              "        vertical-align: middle;\n",
              "    }\n",
              "\n",
              "    .dataframe tbody tr th {\n",
              "        vertical-align: top;\n",
              "    }\n",
              "\n",
              "    .dataframe thead th {\n",
              "        text-align: right;\n",
              "    }\n",
              "</style>\n",
              "<table border=\"1\" class=\"dataframe\">\n",
              "  <thead>\n",
              "    <tr style=\"text-align: right;\">\n",
              "      <th></th>\n",
              "      <th>validated_time_rate_1</th>\n",
              "      <th>validated_time_rate_2</th>\n",
              "      <th>highest_version_mean_validated_1</th>\n",
              "      <th>highest_version_mean_validated_2</th>\n",
              "      <th>time_consulting_help_1</th>\n",
              "      <th>time_consulting_help_2</th>\n",
              "      <th>mean_test_per_subject_1</th>\n",
              "    </tr>\n",
              "  </thead>\n",
              "  <tbody>\n",
              "    <tr>\n",
              "      <th>191</th>\n",
              "      <td>0.840556</td>\n",
              "      <td>0.010000</td>\n",
              "      <td>3.5</td>\n",
              "      <td>3.0</td>\n",
              "      <td>0.0</td>\n",
              "      <td>0.0</td>\n",
              "      <td>3.250</td>\n",
              "    </tr>\n",
              "    <tr>\n",
              "      <th>225</th>\n",
              "      <td>0.000000</td>\n",
              "      <td>0.299444</td>\n",
              "      <td>0.0</td>\n",
              "      <td>3.0</td>\n",
              "      <td>73.0</td>\n",
              "      <td>2.0</td>\n",
              "      <td>4.000</td>\n",
              "    </tr>\n",
              "    <tr>\n",
              "      <th>234</th>\n",
              "      <td>0.514444</td>\n",
              "      <td>0.121667</td>\n",
              "      <td>2.4</td>\n",
              "      <td>3.0</td>\n",
              "      <td>62.0</td>\n",
              "      <td>0.0</td>\n",
              "      <td>4.125</td>\n",
              "    </tr>\n",
              "    <tr>\n",
              "      <th>240</th>\n",
              "      <td>0.296111</td>\n",
              "      <td>0.149444</td>\n",
              "      <td>4.0</td>\n",
              "      <td>3.0</td>\n",
              "      <td>10.0</td>\n",
              "      <td>13.0</td>\n",
              "      <td>15.500</td>\n",
              "    </tr>\n",
              "    <tr>\n",
              "      <th>242</th>\n",
              "      <td>0.465556</td>\n",
              "      <td>0.000000</td>\n",
              "      <td>3.0</td>\n",
              "      <td>0.0</td>\n",
              "      <td>0.0</td>\n",
              "      <td>4.0</td>\n",
              "      <td>1.000</td>\n",
              "    </tr>\n",
              "  </tbody>\n",
              "</table>\n",
              "</div>"
            ],
            "text/plain": [
              "     validated_time_rate_1  ...  mean_test_per_subject_1\n",
              "191               0.840556  ...                    3.250\n",
              "225               0.000000  ...                    4.000\n",
              "234               0.514444  ...                    4.125\n",
              "240               0.296111  ...                   15.500\n",
              "242               0.465556  ...                    1.000\n",
              "\n",
              "[5 rows x 7 columns]"
            ]
          },
          "metadata": {
            "tags": []
          },
          "execution_count": 778
        }
      ]
    },
    {
      "cell_type": "markdown",
      "metadata": {
        "id": "cbJBUmjnrnj-"
      },
      "source": [
        "#### Middle Prompt -> Final Prompt"
      ]
    },
    {
      "cell_type": "code",
      "metadata": {
        "id": "xOhQPkR24Vni"
      },
      "source": [
        "columns.append(\"mean_test_per_subject_2\")"
      ],
      "execution_count": 779,
      "outputs": []
    },
    {
      "cell_type": "code",
      "metadata": {
        "id": "18Mv4o6W4Vku"
      },
      "source": [
        "data = mean_test_per_subject(df, nb_connection_1h, data, beginning_timestamp, middle_timestamp, end_timestamp, sujet_range, prompt=1)"
      ],
      "execution_count": 780,
      "outputs": []
    },
    {
      "cell_type": "code",
      "metadata": {
        "colab": {
          "base_uri": "https://localhost:8080/",
          "height": 0
        },
        "id": "PXUClLRY4Vhb",
        "outputId": "495910e4-1180-4019-cd52-aa73be743d29"
      },
      "source": [
        "draw(data, columns, nb_connection_1h)"
      ],
      "execution_count": 781,
      "outputs": [
        {
          "output_type": "execute_result",
          "data": {
            "text/html": [
              "<div>\n",
              "<style scoped>\n",
              "    .dataframe tbody tr th:only-of-type {\n",
              "        vertical-align: middle;\n",
              "    }\n",
              "\n",
              "    .dataframe tbody tr th {\n",
              "        vertical-align: top;\n",
              "    }\n",
              "\n",
              "    .dataframe thead th {\n",
              "        text-align: right;\n",
              "    }\n",
              "</style>\n",
              "<table border=\"1\" class=\"dataframe\">\n",
              "  <thead>\n",
              "    <tr style=\"text-align: right;\">\n",
              "      <th></th>\n",
              "      <th>validated_time_rate_1</th>\n",
              "      <th>validated_time_rate_2</th>\n",
              "      <th>highest_version_mean_validated_1</th>\n",
              "      <th>highest_version_mean_validated_2</th>\n",
              "      <th>time_consulting_help_1</th>\n",
              "      <th>time_consulting_help_2</th>\n",
              "      <th>mean_test_per_subject_1</th>\n",
              "      <th>mean_test_per_subject_2</th>\n",
              "    </tr>\n",
              "  </thead>\n",
              "  <tbody>\n",
              "    <tr>\n",
              "      <th>191</th>\n",
              "      <td>0.840556</td>\n",
              "      <td>0.010000</td>\n",
              "      <td>3.5</td>\n",
              "      <td>3.0</td>\n",
              "      <td>0.0</td>\n",
              "      <td>0.0</td>\n",
              "      <td>3.250</td>\n",
              "      <td>15.500000</td>\n",
              "    </tr>\n",
              "    <tr>\n",
              "      <th>225</th>\n",
              "      <td>0.000000</td>\n",
              "      <td>0.299444</td>\n",
              "      <td>0.0</td>\n",
              "      <td>3.0</td>\n",
              "      <td>73.0</td>\n",
              "      <td>2.0</td>\n",
              "      <td>4.000</td>\n",
              "      <td>4.000000</td>\n",
              "    </tr>\n",
              "    <tr>\n",
              "      <th>234</th>\n",
              "      <td>0.514444</td>\n",
              "      <td>0.121667</td>\n",
              "      <td>2.4</td>\n",
              "      <td>3.0</td>\n",
              "      <td>62.0</td>\n",
              "      <td>0.0</td>\n",
              "      <td>4.125</td>\n",
              "      <td>2.500000</td>\n",
              "    </tr>\n",
              "    <tr>\n",
              "      <th>240</th>\n",
              "      <td>0.296111</td>\n",
              "      <td>0.149444</td>\n",
              "      <td>4.0</td>\n",
              "      <td>3.0</td>\n",
              "      <td>10.0</td>\n",
              "      <td>13.0</td>\n",
              "      <td>15.500</td>\n",
              "      <td>8.666667</td>\n",
              "    </tr>\n",
              "    <tr>\n",
              "      <th>242</th>\n",
              "      <td>0.465556</td>\n",
              "      <td>0.000000</td>\n",
              "      <td>3.0</td>\n",
              "      <td>0.0</td>\n",
              "      <td>0.0</td>\n",
              "      <td>4.0</td>\n",
              "      <td>1.000</td>\n",
              "      <td>27.000000</td>\n",
              "    </tr>\n",
              "  </tbody>\n",
              "</table>\n",
              "</div>"
            ],
            "text/plain": [
              "     validated_time_rate_1  ...  mean_test_per_subject_2\n",
              "191               0.840556  ...                15.500000\n",
              "225               0.000000  ...                 4.000000\n",
              "234               0.514444  ...                 2.500000\n",
              "240               0.296111  ...                 8.666667\n",
              "242               0.465556  ...                27.000000\n",
              "\n",
              "[5 rows x 8 columns]"
            ]
          },
          "metadata": {
            "tags": []
          },
          "execution_count": 781
        }
      ]
    },
    {
      "cell_type": "markdown",
      "metadata": {
        "id": "7wnmsehaEtNj"
      },
      "source": [
        "### Mean Size Modification per test\n",
        "\n",
        "Indicator name : \n",
        "* mean_size_modification_per_test\n",
        "\n",
        "Computation : \n",
        "* x = [modification number per subject experimented]\n",
        "* sum(x) / count(x)"
      ]
    },
    {
      "cell_type": "code",
      "metadata": {
        "id": "cR-2l7kXEsbp"
      },
      "source": [
        "def mean_size_modification_per_test(df, nb_connection_1h, data, beginning_timestamp, middle_timestamp, end_timestamp, sujet_range, prompt=0):\n",
        "  column_val_sujet = list(df[\"validation\"].columns).index(\"id_sujet\")\n",
        "  column_val_version = list(df[\"validation\"].columns).index(\"version\")\n",
        "  column_val_timestamp = list(df[\"validation\"].columns).index(\"timestamp\")\n",
        "  column_mod_size = list(df[\"modification\"].columns).index(\"taille_reponse\")\n",
        "  for i,id in enumerate(nb_connection_1h):\n",
        "    df_val = df[\"validation\"].query(\"id_connexion == {} and id_sujet in {}\".format(id, sujet_range))\n",
        "    index = get_index_timestamp(df_val, beginning_timestamp[i], middle_timestamp[i]) if prompt == 0 else get_index_timestamp(df_val, middle_timestamp[i], end_timestamp[i])\n",
        "    df_val = df_val.iloc[index,:]\n",
        "    modifications_size = []\n",
        "    for j in range(df_val.shape[0]):\n",
        "      sujet = df_val.iloc[j, column_val_sujet]\n",
        "      version = df_val.iloc[j, column_val_version]\n",
        "      timestamp = df_val.iloc[j, column_val_timestamp]\n",
        "      column_val_timestamp\n",
        "      df_mod = df[\"modification\"].query(\"id_connexion == {} and id_sujet == {} and version == {} and id_sujet in {}\".format(id, sujet, version, sujet_range))\n",
        "      index = get_index_timestamp(df_mod, beginning_timestamp[i], timestamp)\n",
        "      df_mod = df_mod.iloc[index,:]\n",
        "      modifications_size.append(df_mod.iloc[df_mod.shape[0]-1, column_mod_size] if df_mod.shape[0] != 0 else 0)\n",
        "    if len(modifications_size) != 0:\n",
        "      for j in range(len(modifications_size)-1,0,-1):\n",
        "        modifications_size[j] = abs(modifications_size[j]-modifications_size[j-1])\n",
        "    data[i].append(sum(modifications_size) / len(modifications_size) if len(modifications_size) != 0 else 0)\n",
        "  return data"
      ],
      "execution_count": 782,
      "outputs": []
    },
    {
      "cell_type": "markdown",
      "metadata": {
        "id": "KvEaQuukHD8w"
      },
      "source": [
        "#### Initial Prompt -> Middle Prompt"
      ]
    },
    {
      "cell_type": "code",
      "metadata": {
        "id": "4tWW6XeOHGxL"
      },
      "source": [
        "columns.append(\"mean_size_modification_per_test_1\")"
      ],
      "execution_count": 783,
      "outputs": []
    },
    {
      "cell_type": "code",
      "metadata": {
        "id": "J_l18dfZHGrM"
      },
      "source": [
        "data = mean_size_modification_per_test(df, nb_connection_1h, data, beginning_timestamp, middle_timestamp, end_timestamp, sujet_range, prompt=0)"
      ],
      "execution_count": 784,
      "outputs": []
    },
    {
      "cell_type": "code",
      "metadata": {
        "colab": {
          "base_uri": "https://localhost:8080/",
          "height": 224
        },
        "id": "0R0H56sAHGot",
        "outputId": "de5162e9-263c-4906-f436-21bd943a7bdf"
      },
      "source": [
        "draw(data, columns, nb_connection_1h)"
      ],
      "execution_count": 785,
      "outputs": [
        {
          "output_type": "execute_result",
          "data": {
            "text/html": [
              "<div>\n",
              "<style scoped>\n",
              "    .dataframe tbody tr th:only-of-type {\n",
              "        vertical-align: middle;\n",
              "    }\n",
              "\n",
              "    .dataframe tbody tr th {\n",
              "        vertical-align: top;\n",
              "    }\n",
              "\n",
              "    .dataframe thead th {\n",
              "        text-align: right;\n",
              "    }\n",
              "</style>\n",
              "<table border=\"1\" class=\"dataframe\">\n",
              "  <thead>\n",
              "    <tr style=\"text-align: right;\">\n",
              "      <th></th>\n",
              "      <th>validated_time_rate_1</th>\n",
              "      <th>validated_time_rate_2</th>\n",
              "      <th>highest_version_mean_validated_1</th>\n",
              "      <th>highest_version_mean_validated_2</th>\n",
              "      <th>time_consulting_help_1</th>\n",
              "      <th>time_consulting_help_2</th>\n",
              "      <th>mean_test_per_subject_1</th>\n",
              "      <th>mean_test_per_subject_2</th>\n",
              "      <th>mean_size_modification_per_test_1</th>\n",
              "    </tr>\n",
              "  </thead>\n",
              "  <tbody>\n",
              "    <tr>\n",
              "      <th>191</th>\n",
              "      <td>0.840556</td>\n",
              "      <td>0.010000</td>\n",
              "      <td>3.5</td>\n",
              "      <td>3.0</td>\n",
              "      <td>0.0</td>\n",
              "      <td>0.0</td>\n",
              "      <td>3.250</td>\n",
              "      <td>15.500000</td>\n",
              "      <td>296.230769</td>\n",
              "    </tr>\n",
              "    <tr>\n",
              "      <th>225</th>\n",
              "      <td>0.000000</td>\n",
              "      <td>0.299444</td>\n",
              "      <td>0.0</td>\n",
              "      <td>3.0</td>\n",
              "      <td>73.0</td>\n",
              "      <td>2.0</td>\n",
              "      <td>4.000</td>\n",
              "      <td>4.000000</td>\n",
              "      <td>164.541667</td>\n",
              "    </tr>\n",
              "    <tr>\n",
              "      <th>234</th>\n",
              "      <td>0.514444</td>\n",
              "      <td>0.121667</td>\n",
              "      <td>2.4</td>\n",
              "      <td>3.0</td>\n",
              "      <td>62.0</td>\n",
              "      <td>0.0</td>\n",
              "      <td>4.125</td>\n",
              "      <td>2.500000</td>\n",
              "      <td>226.939394</td>\n",
              "    </tr>\n",
              "    <tr>\n",
              "      <th>240</th>\n",
              "      <td>0.296111</td>\n",
              "      <td>0.149444</td>\n",
              "      <td>4.0</td>\n",
              "      <td>3.0</td>\n",
              "      <td>10.0</td>\n",
              "      <td>13.0</td>\n",
              "      <td>15.500</td>\n",
              "      <td>8.666667</td>\n",
              "      <td>105.500000</td>\n",
              "    </tr>\n",
              "    <tr>\n",
              "      <th>242</th>\n",
              "      <td>0.465556</td>\n",
              "      <td>0.000000</td>\n",
              "      <td>3.0</td>\n",
              "      <td>0.0</td>\n",
              "      <td>0.0</td>\n",
              "      <td>4.0</td>\n",
              "      <td>1.000</td>\n",
              "      <td>27.000000</td>\n",
              "      <td>1788.000000</td>\n",
              "    </tr>\n",
              "  </tbody>\n",
              "</table>\n",
              "</div>"
            ],
            "text/plain": [
              "     validated_time_rate_1  ...  mean_size_modification_per_test_1\n",
              "191               0.840556  ...                         296.230769\n",
              "225               0.000000  ...                         164.541667\n",
              "234               0.514444  ...                         226.939394\n",
              "240               0.296111  ...                         105.500000\n",
              "242               0.465556  ...                        1788.000000\n",
              "\n",
              "[5 rows x 9 columns]"
            ]
          },
          "metadata": {
            "tags": []
          },
          "execution_count": 785
        }
      ]
    },
    {
      "cell_type": "markdown",
      "metadata": {
        "id": "VBK6QalgHEYW"
      },
      "source": [
        "#### Middle Prompt -> Final Prompt"
      ]
    },
    {
      "cell_type": "code",
      "metadata": {
        "id": "hMUy13cXHHkf"
      },
      "source": [
        "columns.append(\"mean_size_modification_per_test_2\")"
      ],
      "execution_count": 786,
      "outputs": []
    },
    {
      "cell_type": "code",
      "metadata": {
        "id": "FgDWTFEiHHiT"
      },
      "source": [
        "data = mean_size_modification_per_test(df, nb_connection_1h, data, beginning_timestamp, middle_timestamp, end_timestamp, sujet_range, prompt=1)"
      ],
      "execution_count": 787,
      "outputs": []
    },
    {
      "cell_type": "code",
      "metadata": {
        "colab": {
          "base_uri": "https://localhost:8080/",
          "height": 224
        },
        "id": "EPutcQNUHHfw",
        "outputId": "78837d01-bebc-47a4-f9a6-0845ba3dbdbb"
      },
      "source": [
        "draw(data, columns, nb_connection_1h)"
      ],
      "execution_count": 788,
      "outputs": [
        {
          "output_type": "execute_result",
          "data": {
            "text/html": [
              "<div>\n",
              "<style scoped>\n",
              "    .dataframe tbody tr th:only-of-type {\n",
              "        vertical-align: middle;\n",
              "    }\n",
              "\n",
              "    .dataframe tbody tr th {\n",
              "        vertical-align: top;\n",
              "    }\n",
              "\n",
              "    .dataframe thead th {\n",
              "        text-align: right;\n",
              "    }\n",
              "</style>\n",
              "<table border=\"1\" class=\"dataframe\">\n",
              "  <thead>\n",
              "    <tr style=\"text-align: right;\">\n",
              "      <th></th>\n",
              "      <th>validated_time_rate_1</th>\n",
              "      <th>validated_time_rate_2</th>\n",
              "      <th>highest_version_mean_validated_1</th>\n",
              "      <th>highest_version_mean_validated_2</th>\n",
              "      <th>time_consulting_help_1</th>\n",
              "      <th>time_consulting_help_2</th>\n",
              "      <th>mean_test_per_subject_1</th>\n",
              "      <th>mean_test_per_subject_2</th>\n",
              "      <th>mean_size_modification_per_test_1</th>\n",
              "      <th>mean_size_modification_per_test_2</th>\n",
              "    </tr>\n",
              "  </thead>\n",
              "  <tbody>\n",
              "    <tr>\n",
              "      <th>191</th>\n",
              "      <td>0.840556</td>\n",
              "      <td>0.010000</td>\n",
              "      <td>3.5</td>\n",
              "      <td>3.0</td>\n",
              "      <td>0.0</td>\n",
              "      <td>0.0</td>\n",
              "      <td>3.250</td>\n",
              "      <td>15.500000</td>\n",
              "      <td>296.230769</td>\n",
              "      <td>291.774194</td>\n",
              "    </tr>\n",
              "    <tr>\n",
              "      <th>225</th>\n",
              "      <td>0.000000</td>\n",
              "      <td>0.299444</td>\n",
              "      <td>0.0</td>\n",
              "      <td>3.0</td>\n",
              "      <td>73.0</td>\n",
              "      <td>2.0</td>\n",
              "      <td>4.000</td>\n",
              "      <td>4.000000</td>\n",
              "      <td>164.541667</td>\n",
              "      <td>233.000000</td>\n",
              "    </tr>\n",
              "    <tr>\n",
              "      <th>234</th>\n",
              "      <td>0.514444</td>\n",
              "      <td>0.121667</td>\n",
              "      <td>2.4</td>\n",
              "      <td>3.0</td>\n",
              "      <td>62.0</td>\n",
              "      <td>0.0</td>\n",
              "      <td>4.125</td>\n",
              "      <td>2.500000</td>\n",
              "      <td>226.939394</td>\n",
              "      <td>926.400000</td>\n",
              "    </tr>\n",
              "    <tr>\n",
              "      <th>240</th>\n",
              "      <td>0.296111</td>\n",
              "      <td>0.149444</td>\n",
              "      <td>4.0</td>\n",
              "      <td>3.0</td>\n",
              "      <td>10.0</td>\n",
              "      <td>13.0</td>\n",
              "      <td>15.500</td>\n",
              "      <td>8.666667</td>\n",
              "      <td>105.500000</td>\n",
              "      <td>131.692308</td>\n",
              "    </tr>\n",
              "    <tr>\n",
              "      <th>242</th>\n",
              "      <td>0.465556</td>\n",
              "      <td>0.000000</td>\n",
              "      <td>3.0</td>\n",
              "      <td>0.0</td>\n",
              "      <td>0.0</td>\n",
              "      <td>4.0</td>\n",
              "      <td>1.000</td>\n",
              "      <td>27.000000</td>\n",
              "      <td>1788.000000</td>\n",
              "      <td>87.444444</td>\n",
              "    </tr>\n",
              "  </tbody>\n",
              "</table>\n",
              "</div>"
            ],
            "text/plain": [
              "     validated_time_rate_1  ...  mean_size_modification_per_test_2\n",
              "191               0.840556  ...                         291.774194\n",
              "225               0.000000  ...                         233.000000\n",
              "234               0.514444  ...                         926.400000\n",
              "240               0.296111  ...                         131.692308\n",
              "242               0.465556  ...                          87.444444\n",
              "\n",
              "[5 rows x 10 columns]"
            ]
          },
          "metadata": {
            "tags": []
          },
          "execution_count": 788
        }
      ]
    },
    {
      "cell_type": "markdown",
      "metadata": {
        "id": "pT3gaPcDrfHa"
      },
      "source": [
        "### Mean of modification per subject experimented or validated\n",
        "\n",
        "Indicator name : \n",
        "* mean_modification_per_subject\n",
        "\n",
        "Computation : \n",
        "* x = [modification number per subject experimented]\n",
        "* sum(x) / count(x)"
      ]
    },
    {
      "cell_type": "code",
      "metadata": {
        "id": "vsrxG3te7ofJ"
      },
      "source": [
        "def mean_modification_per_subject(df, nb_connection_1h, data, beginning_timestamp, middle_timestamp, end_timestamp, sujet_range, prompt=0):\n",
        "  column_mod_sujet = list(df[\"modification\"].columns).index(\"id_sujet\")\n",
        "  column_mod_version = list(df[\"modification\"].columns).index(\"version\")\n",
        "  column_mod_timestamp = list(df[\"modification\"].columns).index(\"timestamp\")\n",
        "  for i,id in enumerate(nb_connection_1h):\n",
        "    df_val = df[\"validation\"].query(\"id_connexion == {} and id_sujet in {}\".format(id, sujet_range))\n",
        "    index = get_index_timestamp(df_val, beginning_timestamp[i], middle_timestamp[i]) if prompt == 0 else get_index_timestamp(df_val, middle_timestamp[i], end_timestamp[i])\n",
        "    df_val = df_val.iloc[index,:]\n",
        "    comb = list(df_val[[\"id_sujet\", \"version\"]].value_counts().index)\n",
        "    modifications = []\n",
        "    for s,v in comb:\n",
        "      df_mod = df[\"modification\"].query(\"id_connexion == {} and id_sujet == {} and version == {} and id_sujet in {}\".format(id,s,v, sujet_range))\n",
        "      index = get_index_timestamp(df_mod, beginning_timestamp[i], middle_timestamp[i]) if prompt == 0 else get_index_timestamp(df_mod, middle_timestamp[i], end_timestamp[i])\n",
        "      df_mod = df_mod.iloc[index,:]\n",
        "      index = eliminate_same_subject_version_other_following(df_mod, column_mod_sujet, column_mod_version, column_mod_timestamp)\n",
        "      df_mod = df_mod.iloc[index,:]\n",
        "      modifications.append(df_mod.shape[0])\n",
        "    data[i].append(sum(modifications) / len(modifications) if len(modifications) != 0 else 0)\n",
        "  return data"
      ],
      "execution_count": 789,
      "outputs": []
    },
    {
      "cell_type": "markdown",
      "metadata": {
        "id": "FX8F1ybyrkcX"
      },
      "source": [
        "#### Initial Prompt -> Middle Prompt"
      ]
    },
    {
      "cell_type": "code",
      "metadata": {
        "id": "q8t1cixn7nRp"
      },
      "source": [
        "columns.append(\"mean_modification_per_subject_1\")"
      ],
      "execution_count": 790,
      "outputs": []
    },
    {
      "cell_type": "code",
      "metadata": {
        "id": "1InLMl7i7nO9"
      },
      "source": [
        "data = mean_modification_per_subject(df, nb_connection_1h, data, beginning_timestamp, middle_timestamp, end_timestamp, sujet_range, prompt=0)"
      ],
      "execution_count": 791,
      "outputs": []
    },
    {
      "cell_type": "code",
      "metadata": {
        "colab": {
          "base_uri": "https://localhost:8080/",
          "height": 224
        },
        "id": "-el_PCTG7nMy",
        "outputId": "a706e450-87ae-4f2f-8789-8d2646ee278b"
      },
      "source": [
        "draw(data, columns, nb_connection_1h)"
      ],
      "execution_count": 792,
      "outputs": [
        {
          "output_type": "execute_result",
          "data": {
            "text/html": [
              "<div>\n",
              "<style scoped>\n",
              "    .dataframe tbody tr th:only-of-type {\n",
              "        vertical-align: middle;\n",
              "    }\n",
              "\n",
              "    .dataframe tbody tr th {\n",
              "        vertical-align: top;\n",
              "    }\n",
              "\n",
              "    .dataframe thead th {\n",
              "        text-align: right;\n",
              "    }\n",
              "</style>\n",
              "<table border=\"1\" class=\"dataframe\">\n",
              "  <thead>\n",
              "    <tr style=\"text-align: right;\">\n",
              "      <th></th>\n",
              "      <th>validated_time_rate_1</th>\n",
              "      <th>validated_time_rate_2</th>\n",
              "      <th>highest_version_mean_validated_1</th>\n",
              "      <th>highest_version_mean_validated_2</th>\n",
              "      <th>time_consulting_help_1</th>\n",
              "      <th>time_consulting_help_2</th>\n",
              "      <th>mean_test_per_subject_1</th>\n",
              "      <th>mean_test_per_subject_2</th>\n",
              "      <th>mean_size_modification_per_test_1</th>\n",
              "      <th>mean_size_modification_per_test_2</th>\n",
              "      <th>mean_modification_per_subject_1</th>\n",
              "    </tr>\n",
              "  </thead>\n",
              "  <tbody>\n",
              "    <tr>\n",
              "      <th>191</th>\n",
              "      <td>0.840556</td>\n",
              "      <td>0.010000</td>\n",
              "      <td>3.5</td>\n",
              "      <td>3.0</td>\n",
              "      <td>0.0</td>\n",
              "      <td>0.0</td>\n",
              "      <td>3.250</td>\n",
              "      <td>15.500000</td>\n",
              "      <td>296.230769</td>\n",
              "      <td>291.774194</td>\n",
              "      <td>71.75</td>\n",
              "    </tr>\n",
              "    <tr>\n",
              "      <th>225</th>\n",
              "      <td>0.000000</td>\n",
              "      <td>0.299444</td>\n",
              "      <td>0.0</td>\n",
              "      <td>3.0</td>\n",
              "      <td>73.0</td>\n",
              "      <td>2.0</td>\n",
              "      <td>4.000</td>\n",
              "      <td>4.000000</td>\n",
              "      <td>164.541667</td>\n",
              "      <td>233.000000</td>\n",
              "      <td>24.50</td>\n",
              "    </tr>\n",
              "    <tr>\n",
              "      <th>234</th>\n",
              "      <td>0.514444</td>\n",
              "      <td>0.121667</td>\n",
              "      <td>2.4</td>\n",
              "      <td>3.0</td>\n",
              "      <td>62.0</td>\n",
              "      <td>0.0</td>\n",
              "      <td>4.125</td>\n",
              "      <td>2.500000</td>\n",
              "      <td>226.939394</td>\n",
              "      <td>926.400000</td>\n",
              "      <td>25.75</td>\n",
              "    </tr>\n",
              "    <tr>\n",
              "      <th>240</th>\n",
              "      <td>0.296111</td>\n",
              "      <td>0.149444</td>\n",
              "      <td>4.0</td>\n",
              "      <td>3.0</td>\n",
              "      <td>10.0</td>\n",
              "      <td>13.0</td>\n",
              "      <td>15.500</td>\n",
              "      <td>8.666667</td>\n",
              "      <td>105.500000</td>\n",
              "      <td>131.692308</td>\n",
              "      <td>88.00</td>\n",
              "    </tr>\n",
              "    <tr>\n",
              "      <th>242</th>\n",
              "      <td>0.465556</td>\n",
              "      <td>0.000000</td>\n",
              "      <td>3.0</td>\n",
              "      <td>0.0</td>\n",
              "      <td>0.0</td>\n",
              "      <td>4.0</td>\n",
              "      <td>1.000</td>\n",
              "      <td>27.000000</td>\n",
              "      <td>1788.000000</td>\n",
              "      <td>87.444444</td>\n",
              "      <td>2.00</td>\n",
              "    </tr>\n",
              "  </tbody>\n",
              "</table>\n",
              "</div>"
            ],
            "text/plain": [
              "     validated_time_rate_1  ...  mean_modification_per_subject_1\n",
              "191               0.840556  ...                            71.75\n",
              "225               0.000000  ...                            24.50\n",
              "234               0.514444  ...                            25.75\n",
              "240               0.296111  ...                            88.00\n",
              "242               0.465556  ...                             2.00\n",
              "\n",
              "[5 rows x 11 columns]"
            ]
          },
          "metadata": {
            "tags": []
          },
          "execution_count": 792
        }
      ]
    },
    {
      "cell_type": "markdown",
      "metadata": {
        "id": "8l-95bCrroPx"
      },
      "source": [
        "#### Middle Prompt -> Final Prompt"
      ]
    },
    {
      "cell_type": "code",
      "metadata": {
        "id": "B-_H8pRk7n9a"
      },
      "source": [
        "columns.append(\"mean_modification_per_subject_2\")"
      ],
      "execution_count": 793,
      "outputs": []
    },
    {
      "cell_type": "code",
      "metadata": {
        "id": "aeIgZIUG7n7P"
      },
      "source": [
        "data = mean_modification_per_subject(df, nb_connection_1h, data, beginning_timestamp, middle_timestamp, end_timestamp, sujet_range, prompt=1)"
      ],
      "execution_count": 794,
      "outputs": []
    },
    {
      "cell_type": "code",
      "metadata": {
        "colab": {
          "base_uri": "https://localhost:8080/",
          "height": 224
        },
        "id": "WJXlKUNj7n42",
        "outputId": "d8814430-5444-4729-9a6c-7021cba57aa3"
      },
      "source": [
        "draw(data, columns, nb_connection_1h)"
      ],
      "execution_count": 795,
      "outputs": [
        {
          "output_type": "execute_result",
          "data": {
            "text/html": [
              "<div>\n",
              "<style scoped>\n",
              "    .dataframe tbody tr th:only-of-type {\n",
              "        vertical-align: middle;\n",
              "    }\n",
              "\n",
              "    .dataframe tbody tr th {\n",
              "        vertical-align: top;\n",
              "    }\n",
              "\n",
              "    .dataframe thead th {\n",
              "        text-align: right;\n",
              "    }\n",
              "</style>\n",
              "<table border=\"1\" class=\"dataframe\">\n",
              "  <thead>\n",
              "    <tr style=\"text-align: right;\">\n",
              "      <th></th>\n",
              "      <th>validated_time_rate_1</th>\n",
              "      <th>validated_time_rate_2</th>\n",
              "      <th>highest_version_mean_validated_1</th>\n",
              "      <th>highest_version_mean_validated_2</th>\n",
              "      <th>time_consulting_help_1</th>\n",
              "      <th>time_consulting_help_2</th>\n",
              "      <th>mean_test_per_subject_1</th>\n",
              "      <th>mean_test_per_subject_2</th>\n",
              "      <th>mean_size_modification_per_test_1</th>\n",
              "      <th>mean_size_modification_per_test_2</th>\n",
              "      <th>mean_modification_per_subject_1</th>\n",
              "      <th>mean_modification_per_subject_2</th>\n",
              "    </tr>\n",
              "  </thead>\n",
              "  <tbody>\n",
              "    <tr>\n",
              "      <th>191</th>\n",
              "      <td>0.840556</td>\n",
              "      <td>0.010000</td>\n",
              "      <td>3.5</td>\n",
              "      <td>3.0</td>\n",
              "      <td>0.0</td>\n",
              "      <td>0.0</td>\n",
              "      <td>3.250</td>\n",
              "      <td>15.500000</td>\n",
              "      <td>296.230769</td>\n",
              "      <td>291.774194</td>\n",
              "      <td>71.75</td>\n",
              "      <td>91.000000</td>\n",
              "    </tr>\n",
              "    <tr>\n",
              "      <th>225</th>\n",
              "      <td>0.000000</td>\n",
              "      <td>0.299444</td>\n",
              "      <td>0.0</td>\n",
              "      <td>3.0</td>\n",
              "      <td>73.0</td>\n",
              "      <td>2.0</td>\n",
              "      <td>4.000</td>\n",
              "      <td>4.000000</td>\n",
              "      <td>164.541667</td>\n",
              "      <td>233.000000</td>\n",
              "      <td>24.50</td>\n",
              "      <td>27.800000</td>\n",
              "    </tr>\n",
              "    <tr>\n",
              "      <th>234</th>\n",
              "      <td>0.514444</td>\n",
              "      <td>0.121667</td>\n",
              "      <td>2.4</td>\n",
              "      <td>3.0</td>\n",
              "      <td>62.0</td>\n",
              "      <td>0.0</td>\n",
              "      <td>4.125</td>\n",
              "      <td>2.500000</td>\n",
              "      <td>226.939394</td>\n",
              "      <td>926.400000</td>\n",
              "      <td>25.75</td>\n",
              "      <td>31.000000</td>\n",
              "    </tr>\n",
              "    <tr>\n",
              "      <th>240</th>\n",
              "      <td>0.296111</td>\n",
              "      <td>0.149444</td>\n",
              "      <td>4.0</td>\n",
              "      <td>3.0</td>\n",
              "      <td>10.0</td>\n",
              "      <td>13.0</td>\n",
              "      <td>15.500</td>\n",
              "      <td>8.666667</td>\n",
              "      <td>105.500000</td>\n",
              "      <td>131.692308</td>\n",
              "      <td>88.00</td>\n",
              "      <td>52.833333</td>\n",
              "    </tr>\n",
              "    <tr>\n",
              "      <th>242</th>\n",
              "      <td>0.465556</td>\n",
              "      <td>0.000000</td>\n",
              "      <td>3.0</td>\n",
              "      <td>0.0</td>\n",
              "      <td>0.0</td>\n",
              "      <td>4.0</td>\n",
              "      <td>1.000</td>\n",
              "      <td>27.000000</td>\n",
              "      <td>1788.000000</td>\n",
              "      <td>87.444444</td>\n",
              "      <td>2.00</td>\n",
              "      <td>169.000000</td>\n",
              "    </tr>\n",
              "  </tbody>\n",
              "</table>\n",
              "</div>"
            ],
            "text/plain": [
              "     validated_time_rate_1  ...  mean_modification_per_subject_2\n",
              "191               0.840556  ...                        91.000000\n",
              "225               0.000000  ...                        27.800000\n",
              "234               0.514444  ...                        31.000000\n",
              "240               0.296111  ...                        52.833333\n",
              "242               0.465556  ...                       169.000000\n",
              "\n",
              "[5 rows x 12 columns]"
            ]
          },
          "metadata": {
            "tags": []
          },
          "execution_count": 795
        }
      ]
    },
    {
      "cell_type": "markdown",
      "metadata": {
        "id": "Vp1IGS8XrfN3"
      },
      "source": [
        "### Mean Time Active\n",
        "\n",
        "Indicator name : \n",
        "* mean_time_active\n",
        "\n",
        "Computation : \n",
        "* Mean time between each (next action - previous action)"
      ]
    },
    {
      "cell_type": "code",
      "metadata": {
        "id": "oyxVLOsSFEsR"
      },
      "source": [
        "def mean_time_active(df, nb_connection_1h, data, beginning_timestamp, middle_timestamp, end_timestamp, tables, sujet_range, prompt=0):\n",
        "  for i in tqdm.tqdm(range(len(nb_connection_1h)), position=0, leave=True):\n",
        "    id = nb_connection_1h[i]\n",
        "    own_df = {}\n",
        "    index = {}\n",
        "    columns_memory = {}\n",
        "    for table in tables:\n",
        "      df_table = df[table].query(\"id_connexion == {} and id_sujet in {}\".format(id, sujet_range))\n",
        "      indexes = get_index_timestamp(df_table, beginning_timestamp[i], middle_timestamp[i]) if prompt == 0 else get_index_timestamp(df_table, middle_timestamp[i], end_timestamp[i])\n",
        "      own_df[table] = df_table.iloc[indexes,:]\n",
        "      index[table] = 0\n",
        "      columns_memory[table] = list(df_table.columns).index(\"timestamp\")\n",
        "    # table souris (too low if we filter it with pandas due to the size of the table)\n",
        "    mysql_connection = get_connection(_db_config)\n",
        "    with mysql_connection.cursor() as cursor:\n",
        "      try:\n",
        "        # ----------- Get every connection / participant ---------- #\n",
        "        query_select = \"SELECT * FROM souris WHERE id_connexion = %s ORDER BY timestamp\"\n",
        "        cursor.execute(query_select, (id,))\n",
        "        result = cursor.fetchall()\n",
        "        columns_name = np.array([cursor.description[i][0] for i in range(len(cursor.description)) if cursor.description[i][0]])\n",
        "        tempdata = []\n",
        "        for row in result:\n",
        "          tempdata.append(np.array([row[i] for i in range(len(row))]))\n",
        "        own_df[\"souris\"] = pd.DataFrame(tempdata, columns=columns_name)\n",
        "        indexes = get_index_timestamp(own_df[\"souris\"], beginning_timestamp[i], middle_timestamp[i]) if prompt == 0 else get_index_timestamp(own_df[\"souris\"], middle_timestamp[i], end_timestamp[i])\n",
        "        own_df[\"souris\"] = own_df[\"souris\"].iloc[indexes,:]\n",
        "        index[\"souris\"] = 0\n",
        "        columns_memory[\"souris\"] = list(own_df[\"souris\"].columns).index(\"timestamp\")\n",
        "      except Exception:\n",
        "        traceback.print_exc()\n",
        "    all_seen = False\n",
        "    count_time = timedelta(0)\n",
        "    count = 0\n",
        "    memory_timestamp = None\n",
        "    while not all_seen:\n",
        "      timestamps = {}\n",
        "      for table in tables+[\"souris\"]:\n",
        "        if index[table] <= own_df[table].shape[0]-1:\n",
        "          timestamps[table] = own_df[table].iloc[index[table], columns_memory[table]]\n",
        "      keys = [key for key in timestamps.keys()]\n",
        "      if len(keys) == 0:\n",
        "        if memory_timestamp != None:\n",
        "          count_time += (middle_timestamp[i] if prompt == 0 else end_timestamp[i]) - memory_timestamp\n",
        "        count += 1\n",
        "        all_seen = True\n",
        "      else:\n",
        "        key = keys[np.argmin([timestamps[k] for k in timestamps.keys()])]\n",
        "        if memory_timestamp == None:\n",
        "          memory_timestamp = timestamps[key]\n",
        "          index[key] += 1\n",
        "        else:\n",
        "          count_time += timestamps[key] - memory_timestamp\n",
        "          count += 1\n",
        "          memory_timestamp = timestamps[key]\n",
        "          index[key] += 1\n",
        "    data[i].append((count_time / count if count != 0 else 0).total_seconds())\n",
        "  return data"
      ],
      "execution_count": 796,
      "outputs": []
    },
    {
      "cell_type": "markdown",
      "metadata": {
        "id": "7OAgQeQ8rksa"
      },
      "source": [
        "#### Initial Prompt -> Middle Prompt"
      ]
    },
    {
      "cell_type": "code",
      "metadata": {
        "id": "4tx9IGj9Er9a"
      },
      "source": [
        "columns.append(\"mean_time_active_1\")"
      ],
      "execution_count": 797,
      "outputs": []
    },
    {
      "cell_type": "code",
      "metadata": {
        "colab": {
          "base_uri": "https://localhost:8080/"
        },
        "id": "NFZKSmBoEr5p",
        "outputId": "1cc19d89-36df-40ac-d916-65c7247abc47"
      },
      "source": [
        "data = mean_time_active(df, nb_connection_1h, data, beginning_timestamp, middle_timestamp, end_timestamp, _tables[:4] + _tables[7:8], sujet_range, prompt=0)"
      ],
      "execution_count": 798,
      "outputs": [
        {
          "output_type": "stream",
          "text": [
            "100%|██████████| 89/89 [05:06<00:00,  3.44s/it]\n"
          ],
          "name": "stderr"
        }
      ]
    },
    {
      "cell_type": "code",
      "metadata": {
        "colab": {
          "base_uri": "https://localhost:8080/",
          "height": 224
        },
        "id": "O-xRERsrEryw",
        "outputId": "f7aac355-d7a3-4835-aa29-2dd5dbb1462f"
      },
      "source": [
        "draw(data, columns, nb_connection_1h)"
      ],
      "execution_count": 799,
      "outputs": [
        {
          "output_type": "execute_result",
          "data": {
            "text/html": [
              "<div>\n",
              "<style scoped>\n",
              "    .dataframe tbody tr th:only-of-type {\n",
              "        vertical-align: middle;\n",
              "    }\n",
              "\n",
              "    .dataframe tbody tr th {\n",
              "        vertical-align: top;\n",
              "    }\n",
              "\n",
              "    .dataframe thead th {\n",
              "        text-align: right;\n",
              "    }\n",
              "</style>\n",
              "<table border=\"1\" class=\"dataframe\">\n",
              "  <thead>\n",
              "    <tr style=\"text-align: right;\">\n",
              "      <th></th>\n",
              "      <th>validated_time_rate_1</th>\n",
              "      <th>validated_time_rate_2</th>\n",
              "      <th>highest_version_mean_validated_1</th>\n",
              "      <th>highest_version_mean_validated_2</th>\n",
              "      <th>time_consulting_help_1</th>\n",
              "      <th>time_consulting_help_2</th>\n",
              "      <th>mean_test_per_subject_1</th>\n",
              "      <th>mean_test_per_subject_2</th>\n",
              "      <th>mean_size_modification_per_test_1</th>\n",
              "      <th>mean_size_modification_per_test_2</th>\n",
              "      <th>mean_modification_per_subject_1</th>\n",
              "      <th>mean_modification_per_subject_2</th>\n",
              "      <th>mean_time_active_1</th>\n",
              "    </tr>\n",
              "  </thead>\n",
              "  <tbody>\n",
              "    <tr>\n",
              "      <th>191</th>\n",
              "      <td>0.840556</td>\n",
              "      <td>0.010000</td>\n",
              "      <td>3.5</td>\n",
              "      <td>3.0</td>\n",
              "      <td>0.0</td>\n",
              "      <td>0.0</td>\n",
              "      <td>3.250</td>\n",
              "      <td>15.500000</td>\n",
              "      <td>296.230769</td>\n",
              "      <td>291.774194</td>\n",
              "      <td>71.75</td>\n",
              "      <td>91.000000</td>\n",
              "      <td>0.526670</td>\n",
              "    </tr>\n",
              "    <tr>\n",
              "      <th>225</th>\n",
              "      <td>0.000000</td>\n",
              "      <td>0.299444</td>\n",
              "      <td>0.0</td>\n",
              "      <td>3.0</td>\n",
              "      <td>73.0</td>\n",
              "      <td>2.0</td>\n",
              "      <td>4.000</td>\n",
              "      <td>4.000000</td>\n",
              "      <td>164.541667</td>\n",
              "      <td>233.000000</td>\n",
              "      <td>24.50</td>\n",
              "      <td>27.800000</td>\n",
              "      <td>0.860975</td>\n",
              "    </tr>\n",
              "    <tr>\n",
              "      <th>234</th>\n",
              "      <td>0.514444</td>\n",
              "      <td>0.121667</td>\n",
              "      <td>2.4</td>\n",
              "      <td>3.0</td>\n",
              "      <td>62.0</td>\n",
              "      <td>0.0</td>\n",
              "      <td>4.125</td>\n",
              "      <td>2.500000</td>\n",
              "      <td>226.939394</td>\n",
              "      <td>926.400000</td>\n",
              "      <td>25.75</td>\n",
              "      <td>31.000000</td>\n",
              "      <td>0.610504</td>\n",
              "    </tr>\n",
              "    <tr>\n",
              "      <th>240</th>\n",
              "      <td>0.296111</td>\n",
              "      <td>0.149444</td>\n",
              "      <td>4.0</td>\n",
              "      <td>3.0</td>\n",
              "      <td>10.0</td>\n",
              "      <td>13.0</td>\n",
              "      <td>15.500</td>\n",
              "      <td>8.666667</td>\n",
              "      <td>105.500000</td>\n",
              "      <td>131.692308</td>\n",
              "      <td>88.00</td>\n",
              "      <td>52.833333</td>\n",
              "      <td>1.533905</td>\n",
              "    </tr>\n",
              "    <tr>\n",
              "      <th>242</th>\n",
              "      <td>0.465556</td>\n",
              "      <td>0.000000</td>\n",
              "      <td>3.0</td>\n",
              "      <td>0.0</td>\n",
              "      <td>0.0</td>\n",
              "      <td>4.0</td>\n",
              "      <td>1.000</td>\n",
              "      <td>27.000000</td>\n",
              "      <td>1788.000000</td>\n",
              "      <td>87.444444</td>\n",
              "      <td>2.00</td>\n",
              "      <td>169.000000</td>\n",
              "      <td>4.162162</td>\n",
              "    </tr>\n",
              "  </tbody>\n",
              "</table>\n",
              "</div>"
            ],
            "text/plain": [
              "     validated_time_rate_1  ...  mean_time_active_1\n",
              "191               0.840556  ...            0.526670\n",
              "225               0.000000  ...            0.860975\n",
              "234               0.514444  ...            0.610504\n",
              "240               0.296111  ...            1.533905\n",
              "242               0.465556  ...            4.162162\n",
              "\n",
              "[5 rows x 13 columns]"
            ]
          },
          "metadata": {
            "tags": []
          },
          "execution_count": 799
        }
      ]
    },
    {
      "cell_type": "markdown",
      "metadata": {
        "id": "aOPprNPVroj6"
      },
      "source": [
        "#### Middle Prompt -> Final Prompt"
      ]
    },
    {
      "cell_type": "code",
      "metadata": {
        "id": "tcOxEX9fEs4a"
      },
      "source": [
        "columns.append(\"mean_time_active_2\")"
      ],
      "execution_count": 800,
      "outputs": []
    },
    {
      "cell_type": "code",
      "metadata": {
        "colab": {
          "base_uri": "https://localhost:8080/"
        },
        "id": "LKaH-fyHEsur",
        "outputId": "cf17f27d-2be3-494f-cd0a-fdab7575f2e2"
      },
      "source": [
        "data = mean_time_active(df, nb_connection_1h, data, beginning_timestamp, middle_timestamp, end_timestamp, _tables[:4] + _tables[7:8], sujet_range, prompt=1)"
      ],
      "execution_count": 801,
      "outputs": [
        {
          "output_type": "stream",
          "text": [
            "100%|██████████| 89/89 [04:22<00:00,  2.95s/it]\n"
          ],
          "name": "stderr"
        }
      ]
    },
    {
      "cell_type": "code",
      "metadata": {
        "colab": {
          "base_uri": "https://localhost:8080/",
          "height": 224
        },
        "id": "Bg-O_CCHEsr3",
        "outputId": "1ceea156-1225-4720-eacd-867aeefd0c03"
      },
      "source": [
        "draw(data, columns, nb_connection_1h)"
      ],
      "execution_count": 802,
      "outputs": [
        {
          "output_type": "execute_result",
          "data": {
            "text/html": [
              "<div>\n",
              "<style scoped>\n",
              "    .dataframe tbody tr th:only-of-type {\n",
              "        vertical-align: middle;\n",
              "    }\n",
              "\n",
              "    .dataframe tbody tr th {\n",
              "        vertical-align: top;\n",
              "    }\n",
              "\n",
              "    .dataframe thead th {\n",
              "        text-align: right;\n",
              "    }\n",
              "</style>\n",
              "<table border=\"1\" class=\"dataframe\">\n",
              "  <thead>\n",
              "    <tr style=\"text-align: right;\">\n",
              "      <th></th>\n",
              "      <th>validated_time_rate_1</th>\n",
              "      <th>validated_time_rate_2</th>\n",
              "      <th>highest_version_mean_validated_1</th>\n",
              "      <th>highest_version_mean_validated_2</th>\n",
              "      <th>time_consulting_help_1</th>\n",
              "      <th>time_consulting_help_2</th>\n",
              "      <th>mean_test_per_subject_1</th>\n",
              "      <th>mean_test_per_subject_2</th>\n",
              "      <th>mean_size_modification_per_test_1</th>\n",
              "      <th>mean_size_modification_per_test_2</th>\n",
              "      <th>mean_modification_per_subject_1</th>\n",
              "      <th>mean_modification_per_subject_2</th>\n",
              "      <th>mean_time_active_1</th>\n",
              "      <th>mean_time_active_2</th>\n",
              "    </tr>\n",
              "  </thead>\n",
              "  <tbody>\n",
              "    <tr>\n",
              "      <th>191</th>\n",
              "      <td>0.840556</td>\n",
              "      <td>0.010000</td>\n",
              "      <td>3.5</td>\n",
              "      <td>3.0</td>\n",
              "      <td>0.0</td>\n",
              "      <td>0.0</td>\n",
              "      <td>3.250</td>\n",
              "      <td>15.500000</td>\n",
              "      <td>296.230769</td>\n",
              "      <td>291.774194</td>\n",
              "      <td>71.75</td>\n",
              "      <td>91.000000</td>\n",
              "      <td>0.526670</td>\n",
              "      <td>0.512549</td>\n",
              "    </tr>\n",
              "    <tr>\n",
              "      <th>225</th>\n",
              "      <td>0.000000</td>\n",
              "      <td>0.299444</td>\n",
              "      <td>0.0</td>\n",
              "      <td>3.0</td>\n",
              "      <td>73.0</td>\n",
              "      <td>2.0</td>\n",
              "      <td>4.000</td>\n",
              "      <td>4.000000</td>\n",
              "      <td>164.541667</td>\n",
              "      <td>233.000000</td>\n",
              "      <td>24.50</td>\n",
              "      <td>27.800000</td>\n",
              "      <td>0.860975</td>\n",
              "      <td>0.834028</td>\n",
              "    </tr>\n",
              "    <tr>\n",
              "      <th>234</th>\n",
              "      <td>0.514444</td>\n",
              "      <td>0.121667</td>\n",
              "      <td>2.4</td>\n",
              "      <td>3.0</td>\n",
              "      <td>62.0</td>\n",
              "      <td>0.0</td>\n",
              "      <td>4.125</td>\n",
              "      <td>2.500000</td>\n",
              "      <td>226.939394</td>\n",
              "      <td>926.400000</td>\n",
              "      <td>25.75</td>\n",
              "      <td>31.000000</td>\n",
              "      <td>0.610504</td>\n",
              "      <td>1.958195</td>\n",
              "    </tr>\n",
              "    <tr>\n",
              "      <th>240</th>\n",
              "      <td>0.296111</td>\n",
              "      <td>0.149444</td>\n",
              "      <td>4.0</td>\n",
              "      <td>3.0</td>\n",
              "      <td>10.0</td>\n",
              "      <td>13.0</td>\n",
              "      <td>15.500</td>\n",
              "      <td>8.666667</td>\n",
              "      <td>105.500000</td>\n",
              "      <td>131.692308</td>\n",
              "      <td>88.00</td>\n",
              "      <td>52.833333</td>\n",
              "      <td>1.533905</td>\n",
              "      <td>1.501677</td>\n",
              "    </tr>\n",
              "    <tr>\n",
              "      <th>242</th>\n",
              "      <td>0.465556</td>\n",
              "      <td>0.000000</td>\n",
              "      <td>3.0</td>\n",
              "      <td>0.0</td>\n",
              "      <td>0.0</td>\n",
              "      <td>4.0</td>\n",
              "      <td>1.000</td>\n",
              "      <td>27.000000</td>\n",
              "      <td>1788.000000</td>\n",
              "      <td>87.444444</td>\n",
              "      <td>2.00</td>\n",
              "      <td>169.000000</td>\n",
              "      <td>4.162162</td>\n",
              "      <td>0.630589</td>\n",
              "    </tr>\n",
              "  </tbody>\n",
              "</table>\n",
              "</div>"
            ],
            "text/plain": [
              "     validated_time_rate_1  ...  mean_time_active_2\n",
              "191               0.840556  ...            0.512549\n",
              "225               0.000000  ...            0.834028\n",
              "234               0.514444  ...            1.958195\n",
              "240               0.296111  ...            1.501677\n",
              "242               0.465556  ...            0.630589\n",
              "\n",
              "[5 rows x 14 columns]"
            ]
          },
          "metadata": {
            "tags": []
          },
          "execution_count": 802
        }
      ]
    },
    {
      "cell_type": "markdown",
      "metadata": {
        "id": "vDh4hx6drfU2"
      },
      "source": [
        "### Quality of Experimentation\n",
        "\n",
        "Indicator name : \n",
        "* experimentation_quality\n",
        "\n",
        "Computation : \n",
        "* x = has consulted help before (for the same subject)\n",
        "* y = min(max(modification before last experimentation,10),10)/10\n",
        "* z = has last modification not an error\n",
        "* a = [for each experimentation : 0.25x + 0.25y + 0.5z]\n",
        "* sum(a)/count(a)"
      ]
    },
    {
      "cell_type": "code",
      "metadata": {
        "id": "lwoB1GdSPKYi"
      },
      "source": [
        "def experimentation_quality(df, nb_connection_1h, data, beginning_timestamp, middle_timestamp, end_timestamp, sujet_range, prompt=0):\n",
        "  column_val_sujet = list(df[\"validation\"].columns).index(\"id_sujet\")\n",
        "  column_val_version = list(df[\"validation\"].columns).index(\"version\")\n",
        "  column_val_timestamp = list(df[\"validation\"].columns).index(\"timestamp\")\n",
        "  column_nav_sujet = list(df[\"navigation\"].columns).index(\"id_sujet\")\n",
        "  column_nav_version = list(df[\"navigation\"].columns).index(\"version\")\n",
        "  column_nav_timestamp = list(df[\"navigation\"].columns).index(\"timestamp\")\n",
        "  column_mod_erreur = list(df[\"modification\"].columns).index(\"erreur\")\n",
        "  CONST_MOD_NUMBER = 10\n",
        "\n",
        "  for i in tqdm.tqdm(range(len(nb_connection_1h)), position=0, leave=True):\n",
        "    id = nb_connection_1h[i]\n",
        "    has_consulted = []\n",
        "    mod_number = []\n",
        "    has_error = []\n",
        "\n",
        "    df_val = df[\"validation\"].query(\"id_connexion == {} and experimentation == 1 and id_sujet in {}\".format(id, sujet_range))\n",
        "    index = get_index_timestamp(df_val, beginning_timestamp[i], middle_timestamp[i]) if prompt == 0 else get_index_timestamp(df_val, middle_timestamp[i], end_timestamp[i])\n",
        "    df_val = df_val.iloc[index,:]\n",
        "    for j in range(df_val.shape[0]):\n",
        "      sujet = df_val.iloc[j, column_val_sujet]\n",
        "      version = df_val.iloc[j, column_val_version]\n",
        "      timestamp = df_val.iloc[j, column_val_timestamp]\n",
        "\n",
        "      # Has consulted\n",
        "      df_nav = df[\"navigation\"].query(\"id_connexion == {}\".format(id))\n",
        "      df_nav_aide = df[\"navigation\"].query(\"id_connexion == {} and id_sujet == {} and version == {} and module == 'Aide' and id_sujet in {}\".format(id, sujet, version, sujet_range))\n",
        "      index = get_index_timestamp(df_nav, beginning_timestamp[i], timestamp) if prompt == 0 else get_index_timestamp(df_nav, middle_timestamp[i], timestamp)\n",
        "      df_nav = df_nav.iloc[index,:]\n",
        "      index = get_index_timestamp(df_nav_aide, beginning_timestamp[i], timestamp) if prompt == 0 else get_index_timestamp(df_nav_aide, middle_timestamp[i], timestamp)\n",
        "      df_nav_aide = df_nav_aide.iloc[index,:]\n",
        "      if df_nav_aide.shape[0] != 0:\n",
        "        aide_timestamp = df_nav_aide.iloc[df_nav_aide.shape[0] - 1, column_nav_timestamp]\n",
        "        for k in range(df_nav.shape[0]-1, -1, -1):\n",
        "          if df_nav.iloc[k, column_nav_sujet] == sujet and df_nav.iloc[k, column_nav_version] == version:\n",
        "            if df_nav.iloc[k, column_nav_timestamp] < aide_timestamp:\n",
        "              has_consulted.append(1)\n",
        "              break\n",
        "            else:\n",
        "              continue\n",
        "          else:\n",
        "            has_consulted.append(0)\n",
        "            break\n",
        "      else:\n",
        "        has_consulted.append(0)\n",
        "      \n",
        "      # modification number\n",
        "      if j == 0:\n",
        "        min_timestamp = beginning_timestamp[i] if timestamp == 0 else middle_timestamp[i]\n",
        "      else:\n",
        "        min_timestamp = df_val.iloc[j-1, column_val_timestamp]\n",
        "        if prompt == 0 and min_timestamp < middle_timestamp[i]:\n",
        "          min_timestamp = middle_timestamp[i]\n",
        "      df_mod = df[\"modification\"].query(\"id_connexion == {} and id_sujet == {} and version == {} and id_sujet in {}\".format(id, sujet, version, sujet_range))\n",
        "      index = get_index_timestamp(df_mod, min_timestamp, timestamp)\n",
        "      df_mod = df_mod.iloc[index,:]\n",
        "      mod_number.append(min(max(df_mod.shape[0],CONST_MOD_NUMBER),CONST_MOD_NUMBER)/CONST_MOD_NUMBER)\n",
        "\n",
        "      # has last modification an error\n",
        "      if df_mod.shape[0] == 0:\n",
        "        has_error.append(0)\n",
        "      else:\n",
        "        has_error.append(1 if df_mod.iloc[df_mod.shape[0]-1, column_mod_erreur] == 'Aucune' else 0)\n",
        "\n",
        "    experimentation_qualities = [has_consulted[expe]*0.25 + mod_number[expe]*0.25 + has_error[expe]*0.5 for expe in range(len(has_consulted))]\n",
        "    data[i].append(sum(experimentation_qualities) / len(experimentation_qualities) if len(experimentation_qualities) != 0 else 0)\n",
        "  return data"
      ],
      "execution_count": 803,
      "outputs": []
    },
    {
      "cell_type": "markdown",
      "metadata": {
        "id": "pP969gyArk7J"
      },
      "source": [
        "#### Initial Prompt -> Middle Prompt"
      ]
    },
    {
      "cell_type": "code",
      "metadata": {
        "id": "0YSrdac3PJ-P"
      },
      "source": [
        "columns.append(\"experimentation_quality_1\")"
      ],
      "execution_count": 804,
      "outputs": []
    },
    {
      "cell_type": "code",
      "metadata": {
        "id": "uJy9wo8kPJ2t",
        "colab": {
          "base_uri": "https://localhost:8080/"
        },
        "outputId": "7ea0b595-320a-44e9-e21b-c4642fd103cf"
      },
      "source": [
        "data = experimentation_quality(df, nb_connection_1h, data, beginning_timestamp, middle_timestamp, end_timestamp, sujet_range, prompt=0)"
      ],
      "execution_count": 805,
      "outputs": [
        {
          "output_type": "stream",
          "text": [
            "100%|██████████| 89/89 [00:23<00:00,  3.78it/s]\n"
          ],
          "name": "stderr"
        }
      ]
    },
    {
      "cell_type": "code",
      "metadata": {
        "id": "7Bj8CRlvPJu-",
        "colab": {
          "base_uri": "https://localhost:8080/",
          "height": 0
        },
        "outputId": "216ef119-b737-4ef3-c504-71a248d27340"
      },
      "source": [
        "draw(data, columns, nb_connection_1h)"
      ],
      "execution_count": 806,
      "outputs": [
        {
          "output_type": "execute_result",
          "data": {
            "text/html": [
              "<div>\n",
              "<style scoped>\n",
              "    .dataframe tbody tr th:only-of-type {\n",
              "        vertical-align: middle;\n",
              "    }\n",
              "\n",
              "    .dataframe tbody tr th {\n",
              "        vertical-align: top;\n",
              "    }\n",
              "\n",
              "    .dataframe thead th {\n",
              "        text-align: right;\n",
              "    }\n",
              "</style>\n",
              "<table border=\"1\" class=\"dataframe\">\n",
              "  <thead>\n",
              "    <tr style=\"text-align: right;\">\n",
              "      <th></th>\n",
              "      <th>validated_time_rate_1</th>\n",
              "      <th>validated_time_rate_2</th>\n",
              "      <th>highest_version_mean_validated_1</th>\n",
              "      <th>highest_version_mean_validated_2</th>\n",
              "      <th>time_consulting_help_1</th>\n",
              "      <th>time_consulting_help_2</th>\n",
              "      <th>mean_test_per_subject_1</th>\n",
              "      <th>mean_test_per_subject_2</th>\n",
              "      <th>mean_size_modification_per_test_1</th>\n",
              "      <th>mean_size_modification_per_test_2</th>\n",
              "      <th>mean_modification_per_subject_1</th>\n",
              "      <th>mean_modification_per_subject_2</th>\n",
              "      <th>mean_time_active_1</th>\n",
              "      <th>mean_time_active_2</th>\n",
              "      <th>experimentation_quality_1</th>\n",
              "    </tr>\n",
              "  </thead>\n",
              "  <tbody>\n",
              "    <tr>\n",
              "      <th>191</th>\n",
              "      <td>0.840556</td>\n",
              "      <td>0.010000</td>\n",
              "      <td>3.5</td>\n",
              "      <td>3.0</td>\n",
              "      <td>0.0</td>\n",
              "      <td>0.0</td>\n",
              "      <td>3.250</td>\n",
              "      <td>15.500000</td>\n",
              "      <td>296.230769</td>\n",
              "      <td>291.774194</td>\n",
              "      <td>71.75</td>\n",
              "      <td>91.000000</td>\n",
              "      <td>0.526670</td>\n",
              "      <td>0.512549</td>\n",
              "      <td>0.000000</td>\n",
              "    </tr>\n",
              "    <tr>\n",
              "      <th>225</th>\n",
              "      <td>0.000000</td>\n",
              "      <td>0.299444</td>\n",
              "      <td>0.0</td>\n",
              "      <td>3.0</td>\n",
              "      <td>73.0</td>\n",
              "      <td>2.0</td>\n",
              "      <td>4.000</td>\n",
              "      <td>4.000000</td>\n",
              "      <td>164.541667</td>\n",
              "      <td>233.000000</td>\n",
              "      <td>24.50</td>\n",
              "      <td>27.800000</td>\n",
              "      <td>0.860975</td>\n",
              "      <td>0.834028</td>\n",
              "      <td>0.302083</td>\n",
              "    </tr>\n",
              "    <tr>\n",
              "      <th>234</th>\n",
              "      <td>0.514444</td>\n",
              "      <td>0.121667</td>\n",
              "      <td>2.4</td>\n",
              "      <td>3.0</td>\n",
              "      <td>62.0</td>\n",
              "      <td>0.0</td>\n",
              "      <td>4.125</td>\n",
              "      <td>2.500000</td>\n",
              "      <td>226.939394</td>\n",
              "      <td>926.400000</td>\n",
              "      <td>25.75</td>\n",
              "      <td>31.000000</td>\n",
              "      <td>0.610504</td>\n",
              "      <td>1.958195</td>\n",
              "      <td>0.250000</td>\n",
              "    </tr>\n",
              "    <tr>\n",
              "      <th>240</th>\n",
              "      <td>0.296111</td>\n",
              "      <td>0.149444</td>\n",
              "      <td>4.0</td>\n",
              "      <td>3.0</td>\n",
              "      <td>10.0</td>\n",
              "      <td>13.0</td>\n",
              "      <td>15.500</td>\n",
              "      <td>8.666667</td>\n",
              "      <td>105.500000</td>\n",
              "      <td>131.692308</td>\n",
              "      <td>88.00</td>\n",
              "      <td>52.833333</td>\n",
              "      <td>1.533905</td>\n",
              "      <td>1.501677</td>\n",
              "      <td>0.281250</td>\n",
              "    </tr>\n",
              "    <tr>\n",
              "      <th>242</th>\n",
              "      <td>0.465556</td>\n",
              "      <td>0.000000</td>\n",
              "      <td>3.0</td>\n",
              "      <td>0.0</td>\n",
              "      <td>0.0</td>\n",
              "      <td>4.0</td>\n",
              "      <td>1.000</td>\n",
              "      <td>27.000000</td>\n",
              "      <td>1788.000000</td>\n",
              "      <td>87.444444</td>\n",
              "      <td>2.00</td>\n",
              "      <td>169.000000</td>\n",
              "      <td>4.162162</td>\n",
              "      <td>0.630589</td>\n",
              "      <td>0.000000</td>\n",
              "    </tr>\n",
              "  </tbody>\n",
              "</table>\n",
              "</div>"
            ],
            "text/plain": [
              "     validated_time_rate_1  ...  experimentation_quality_1\n",
              "191               0.840556  ...                   0.000000\n",
              "225               0.000000  ...                   0.302083\n",
              "234               0.514444  ...                   0.250000\n",
              "240               0.296111  ...                   0.281250\n",
              "242               0.465556  ...                   0.000000\n",
              "\n",
              "[5 rows x 15 columns]"
            ]
          },
          "metadata": {
            "tags": []
          },
          "execution_count": 806
        }
      ]
    },
    {
      "cell_type": "markdown",
      "metadata": {
        "id": "Xzcv4qT4ro5y"
      },
      "source": [
        "#### Middle Prompt -> Final Prompt"
      ]
    },
    {
      "cell_type": "code",
      "metadata": {
        "id": "grPfZcjMQPqg"
      },
      "source": [
        "columns.append(\"experimentation_quality_2\")"
      ],
      "execution_count": 807,
      "outputs": []
    },
    {
      "cell_type": "code",
      "metadata": {
        "colab": {
          "base_uri": "https://localhost:8080/"
        },
        "id": "JuUBDUjOQPnr",
        "outputId": "55f99d37-9bb4-4118-ce75-bec4e723d6f5"
      },
      "source": [
        "data = experimentation_quality(df, nb_connection_1h, data, beginning_timestamp, middle_timestamp, end_timestamp, sujet_range, prompt=1)"
      ],
      "execution_count": 808,
      "outputs": [
        {
          "output_type": "stream",
          "text": [
            "100%|██████████| 89/89 [00:10<00:00,  8.52it/s]\n"
          ],
          "name": "stderr"
        }
      ]
    },
    {
      "cell_type": "code",
      "metadata": {
        "colab": {
          "base_uri": "https://localhost:8080/",
          "height": 0
        },
        "id": "nFOCeOqxQPjS",
        "outputId": "bfd3f920-f58b-4cb3-b209-bfca0b8b8dc5"
      },
      "source": [
        "draw(data, columns, nb_connection_1h)"
      ],
      "execution_count": 809,
      "outputs": [
        {
          "output_type": "execute_result",
          "data": {
            "text/html": [
              "<div>\n",
              "<style scoped>\n",
              "    .dataframe tbody tr th:only-of-type {\n",
              "        vertical-align: middle;\n",
              "    }\n",
              "\n",
              "    .dataframe tbody tr th {\n",
              "        vertical-align: top;\n",
              "    }\n",
              "\n",
              "    .dataframe thead th {\n",
              "        text-align: right;\n",
              "    }\n",
              "</style>\n",
              "<table border=\"1\" class=\"dataframe\">\n",
              "  <thead>\n",
              "    <tr style=\"text-align: right;\">\n",
              "      <th></th>\n",
              "      <th>validated_time_rate_1</th>\n",
              "      <th>validated_time_rate_2</th>\n",
              "      <th>highest_version_mean_validated_1</th>\n",
              "      <th>highest_version_mean_validated_2</th>\n",
              "      <th>time_consulting_help_1</th>\n",
              "      <th>time_consulting_help_2</th>\n",
              "      <th>mean_test_per_subject_1</th>\n",
              "      <th>mean_test_per_subject_2</th>\n",
              "      <th>mean_size_modification_per_test_1</th>\n",
              "      <th>mean_size_modification_per_test_2</th>\n",
              "      <th>mean_modification_per_subject_1</th>\n",
              "      <th>mean_modification_per_subject_2</th>\n",
              "      <th>mean_time_active_1</th>\n",
              "      <th>mean_time_active_2</th>\n",
              "      <th>experimentation_quality_1</th>\n",
              "      <th>experimentation_quality_2</th>\n",
              "    </tr>\n",
              "  </thead>\n",
              "  <tbody>\n",
              "    <tr>\n",
              "      <th>191</th>\n",
              "      <td>0.840556</td>\n",
              "      <td>0.010000</td>\n",
              "      <td>3.5</td>\n",
              "      <td>3.0</td>\n",
              "      <td>0.0</td>\n",
              "      <td>0.0</td>\n",
              "      <td>3.250</td>\n",
              "      <td>15.500000</td>\n",
              "      <td>296.230769</td>\n",
              "      <td>291.774194</td>\n",
              "      <td>71.75</td>\n",
              "      <td>91.000000</td>\n",
              "      <td>0.526670</td>\n",
              "      <td>0.512549</td>\n",
              "      <td>0.000000</td>\n",
              "      <td>0.75</td>\n",
              "    </tr>\n",
              "    <tr>\n",
              "      <th>225</th>\n",
              "      <td>0.000000</td>\n",
              "      <td>0.299444</td>\n",
              "      <td>0.0</td>\n",
              "      <td>3.0</td>\n",
              "      <td>73.0</td>\n",
              "      <td>2.0</td>\n",
              "      <td>4.000</td>\n",
              "      <td>4.000000</td>\n",
              "      <td>164.541667</td>\n",
              "      <td>233.000000</td>\n",
              "      <td>24.50</td>\n",
              "      <td>27.800000</td>\n",
              "      <td>0.860975</td>\n",
              "      <td>0.834028</td>\n",
              "      <td>0.302083</td>\n",
              "      <td>0.75</td>\n",
              "    </tr>\n",
              "    <tr>\n",
              "      <th>234</th>\n",
              "      <td>0.514444</td>\n",
              "      <td>0.121667</td>\n",
              "      <td>2.4</td>\n",
              "      <td>3.0</td>\n",
              "      <td>62.0</td>\n",
              "      <td>0.0</td>\n",
              "      <td>4.125</td>\n",
              "      <td>2.500000</td>\n",
              "      <td>226.939394</td>\n",
              "      <td>926.400000</td>\n",
              "      <td>25.75</td>\n",
              "      <td>31.000000</td>\n",
              "      <td>0.610504</td>\n",
              "      <td>1.958195</td>\n",
              "      <td>0.250000</td>\n",
              "      <td>0.75</td>\n",
              "    </tr>\n",
              "    <tr>\n",
              "      <th>240</th>\n",
              "      <td>0.296111</td>\n",
              "      <td>0.149444</td>\n",
              "      <td>4.0</td>\n",
              "      <td>3.0</td>\n",
              "      <td>10.0</td>\n",
              "      <td>13.0</td>\n",
              "      <td>15.500</td>\n",
              "      <td>8.666667</td>\n",
              "      <td>105.500000</td>\n",
              "      <td>131.692308</td>\n",
              "      <td>88.00</td>\n",
              "      <td>52.833333</td>\n",
              "      <td>1.533905</td>\n",
              "      <td>1.501677</td>\n",
              "      <td>0.281250</td>\n",
              "      <td>1.00</td>\n",
              "    </tr>\n",
              "    <tr>\n",
              "      <th>242</th>\n",
              "      <td>0.465556</td>\n",
              "      <td>0.000000</td>\n",
              "      <td>3.0</td>\n",
              "      <td>0.0</td>\n",
              "      <td>0.0</td>\n",
              "      <td>4.0</td>\n",
              "      <td>1.000</td>\n",
              "      <td>27.000000</td>\n",
              "      <td>1788.000000</td>\n",
              "      <td>87.444444</td>\n",
              "      <td>2.00</td>\n",
              "      <td>169.000000</td>\n",
              "      <td>4.162162</td>\n",
              "      <td>0.630589</td>\n",
              "      <td>0.000000</td>\n",
              "      <td>0.00</td>\n",
              "    </tr>\n",
              "  </tbody>\n",
              "</table>\n",
              "</div>"
            ],
            "text/plain": [
              "     validated_time_rate_1  ...  experimentation_quality_2\n",
              "191               0.840556  ...                       0.75\n",
              "225               0.000000  ...                       0.75\n",
              "234               0.514444  ...                       0.75\n",
              "240               0.296111  ...                       1.00\n",
              "242               0.465556  ...                       0.00\n",
              "\n",
              "[5 rows x 16 columns]"
            ]
          },
          "metadata": {
            "tags": []
          },
          "execution_count": 809
        }
      ]
    },
    {
      "cell_type": "markdown",
      "metadata": {
        "id": "uJ1pYU2LrflA"
      },
      "source": [
        "### Quality of validation\n",
        "\n",
        "Indicator name : \n",
        "* validation_quality\n",
        "\n",
        "Computation : \n",
        "* x = Has at least 1 minute on the subject before validating\n",
        "* y = Has at least 1 minute before re-validating\n",
        "* z = Has not an error\n",
        "* a = Has done at least one experimentation before validating\n",
        "* b = [for each validation : 0.1x + 0.15y + 0.5z + 0.25a]\n",
        "* sum(b)/count(b)"
      ]
    },
    {
      "cell_type": "code",
      "metadata": {
        "id": "kHjEecNwTjaq"
      },
      "source": [
        "def validation_quality(df, nb_connection_1h, data, beginning_timestamp, middle_timestamp, end_timestamp, sujet_range, prompt=0):\n",
        "  column_val_sujet = list(df[\"validation\"].columns).index(\"id_sujet\")\n",
        "  column_val_version = list(df[\"validation\"].columns).index(\"version\")\n",
        "  column_val_timestamp = list(df[\"validation\"].columns).index(\"timestamp\")\n",
        "  column_val_erreur = list(df[\"validation\"].columns).index(\"type_erreur\")\n",
        "  column_nav_sujet = list(df[\"navigation\"].columns).index(\"id_sujet\")\n",
        "  column_nav_version = list(df[\"navigation\"].columns).index(\"version\")\n",
        "  column_nav_timestamp = list(df[\"navigation\"].columns).index(\"timestamp\")\n",
        "  CONST_MINUTE = timedelta(minutes=1)\n",
        "\n",
        "  for i in tqdm.tqdm(range(len(nb_connection_1h)), position=0, leave=True):\n",
        "    id = nb_connection_1h[i]\n",
        "    time_before_validation = []\n",
        "    time_before_revalidation = []\n",
        "    one_exp_before = []\n",
        "    has_error = []\n",
        "\n",
        "    df_val = df[\"validation\"].query(\"id_connexion == {} and experimentation == 0 and id_sujet in {}\".format(id, sujet_range))\n",
        "    index = get_index_timestamp(df_val, beginning_timestamp[i], middle_timestamp[i]) if prompt == 0 else get_index_timestamp(df_val, middle_timestamp[i], end_timestamp[i])\n",
        "    df_val = df_val.iloc[index,:]\n",
        "    for j in range(df_val.shape[0]):\n",
        "      sujet = df_val.iloc[j, column_val_sujet]\n",
        "      version = df_val.iloc[j, column_val_version]\n",
        "      timestamp = df_val.iloc[j, column_val_timestamp]\n",
        "\n",
        "      # has an error\n",
        "      has_error.append(1 if df_val.iloc[j, column_val_erreur] == 'Aucune' else 0)\n",
        "\n",
        "      # Has done at least one experimentation before\n",
        "      if j == 0:\n",
        "        min_timestamp = beginning_timestamp[i] if prompt == 0 else middle_timestamp[i]\n",
        "      else:\n",
        "        min_timestamp = df_val.iloc[j-1, column_val_timestamp]\n",
        "        if prompt == 0 and min_timestamp < middle_timestamp[i]:\n",
        "          min_timestamp = middle_timestamp[i]\n",
        "      df_val_exp = df[\"validation\"].query(\"id_connexion == {} and experimentation == 1 and id_sujet == {} and version == {} and id_sujet in {}\".format(id, sujet, version, sujet_range))\n",
        "      index = get_index_timestamp(df_val_exp, min_timestamp, timestamp)\n",
        "      df_val_exp = df_val_exp.iloc[index,:]\n",
        "      one_exp_before.append(1 if df_val_exp.shape[0] > 0 else 0)\n",
        "      \n",
        "      # time before validation\n",
        "      df_nav = df[\"navigation\"].query(\"id_connexion == {} and id_sujet == {} and version == {} and id_sujet in {}\".format(id, sujet, version, sujet_range))\n",
        "      index = get_index_timestamp(df_nav, beginning_timestamp[i], timestamp) if prompt == 0 else get_index_timestamp(df_nav, middle_timestamp[i], timestamp)\n",
        "      df_nav = df_nav.iloc[index,:]\n",
        "      if df_nav.shape[0] == 0:\n",
        "        min_timestamp = beginning_timestamp[i] if prompt == 0 else middle_timestamp[i]\n",
        "        time_before_validation.append(min_timestamp + CONST_MINUTE <= timestamp)\n",
        "      else:\n",
        "        time_before_validation.append(1 if df_nav.iloc[df_nav.shape[0] - 1, column_nav_timestamp] + CONST_MINUTE <= timestamp else 0)\n",
        "\n",
        "      # time before re-validation\n",
        "      if j == 0:\n",
        "        time_before_revalidation.append(time_before_validation[-1])\n",
        "      else:\n",
        "        time_before_revalidation.append(1 if df_val.iloc[j-1, column_val_timestamp] + CONST_MINUTE <= timestamp else 0)\n",
        "\n",
        "    validation_qualities = [time_before_validation[val]*0.1 + time_before_revalidation[val]*0.15 + one_exp_before[val]*0.25 + has_error[val]*0.5 for val in range(len(has_error))]\n",
        "    data[i].append(sum(validation_qualities) / len(validation_qualities) if len(validation_qualities) != 0 else 0)\n",
        "  return data"
      ],
      "execution_count": 810,
      "outputs": []
    },
    {
      "cell_type": "markdown",
      "metadata": {
        "id": "wG1qRDtlrlIH"
      },
      "source": [
        "#### Initial Prompt -> Middle Prompt"
      ]
    },
    {
      "cell_type": "code",
      "metadata": {
        "id": "_qtbLxAlX8QR"
      },
      "source": [
        "columns.append(\"validation_quality_1\")"
      ],
      "execution_count": 811,
      "outputs": []
    },
    {
      "cell_type": "code",
      "metadata": {
        "colab": {
          "base_uri": "https://localhost:8080/"
        },
        "id": "Z8_FMD0gX8Np",
        "outputId": "d8bf053b-a715-45d5-9a97-bfcc9c991526"
      },
      "source": [
        "data = validation_quality(df, nb_connection_1h, data, beginning_timestamp, middle_timestamp, end_timestamp, sujet_range, prompt=0)"
      ],
      "execution_count": 812,
      "outputs": [
        {
          "output_type": "stream",
          "text": [
            "100%|██████████| 89/89 [00:19<00:00,  4.57it/s]\n"
          ],
          "name": "stderr"
        }
      ]
    },
    {
      "cell_type": "code",
      "metadata": {
        "colab": {
          "base_uri": "https://localhost:8080/",
          "height": 0
        },
        "id": "tnlhjQloX8Kv",
        "outputId": "2223c748-2066-4df8-dfd4-44a2df2e2a8b"
      },
      "source": [
        "draw(data, columns, nb_connection_1h)"
      ],
      "execution_count": 813,
      "outputs": [
        {
          "output_type": "execute_result",
          "data": {
            "text/html": [
              "<div>\n",
              "<style scoped>\n",
              "    .dataframe tbody tr th:only-of-type {\n",
              "        vertical-align: middle;\n",
              "    }\n",
              "\n",
              "    .dataframe tbody tr th {\n",
              "        vertical-align: top;\n",
              "    }\n",
              "\n",
              "    .dataframe thead th {\n",
              "        text-align: right;\n",
              "    }\n",
              "</style>\n",
              "<table border=\"1\" class=\"dataframe\">\n",
              "  <thead>\n",
              "    <tr style=\"text-align: right;\">\n",
              "      <th></th>\n",
              "      <th>validated_time_rate_1</th>\n",
              "      <th>validated_time_rate_2</th>\n",
              "      <th>highest_version_mean_validated_1</th>\n",
              "      <th>highest_version_mean_validated_2</th>\n",
              "      <th>time_consulting_help_1</th>\n",
              "      <th>time_consulting_help_2</th>\n",
              "      <th>mean_test_per_subject_1</th>\n",
              "      <th>mean_test_per_subject_2</th>\n",
              "      <th>mean_size_modification_per_test_1</th>\n",
              "      <th>mean_size_modification_per_test_2</th>\n",
              "      <th>mean_modification_per_subject_1</th>\n",
              "      <th>mean_modification_per_subject_2</th>\n",
              "      <th>mean_time_active_1</th>\n",
              "      <th>mean_time_active_2</th>\n",
              "      <th>experimentation_quality_1</th>\n",
              "      <th>experimentation_quality_2</th>\n",
              "      <th>validation_quality_1</th>\n",
              "    </tr>\n",
              "  </thead>\n",
              "  <tbody>\n",
              "    <tr>\n",
              "      <th>191</th>\n",
              "      <td>0.840556</td>\n",
              "      <td>0.010000</td>\n",
              "      <td>3.5</td>\n",
              "      <td>3.0</td>\n",
              "      <td>0.0</td>\n",
              "      <td>0.0</td>\n",
              "      <td>3.250</td>\n",
              "      <td>15.500000</td>\n",
              "      <td>296.230769</td>\n",
              "      <td>291.774194</td>\n",
              "      <td>71.75</td>\n",
              "      <td>91.000000</td>\n",
              "      <td>0.526670</td>\n",
              "      <td>0.512549</td>\n",
              "      <td>0.000000</td>\n",
              "      <td>0.75</td>\n",
              "      <td>0.276923</td>\n",
              "    </tr>\n",
              "    <tr>\n",
              "      <th>225</th>\n",
              "      <td>0.000000</td>\n",
              "      <td>0.299444</td>\n",
              "      <td>0.0</td>\n",
              "      <td>3.0</td>\n",
              "      <td>73.0</td>\n",
              "      <td>2.0</td>\n",
              "      <td>4.000</td>\n",
              "      <td>4.000000</td>\n",
              "      <td>164.541667</td>\n",
              "      <td>233.000000</td>\n",
              "      <td>24.50</td>\n",
              "      <td>27.800000</td>\n",
              "      <td>0.860975</td>\n",
              "      <td>0.834028</td>\n",
              "      <td>0.302083</td>\n",
              "      <td>0.75</td>\n",
              "      <td>0.000000</td>\n",
              "    </tr>\n",
              "    <tr>\n",
              "      <th>234</th>\n",
              "      <td>0.514444</td>\n",
              "      <td>0.121667</td>\n",
              "      <td>2.4</td>\n",
              "      <td>3.0</td>\n",
              "      <td>62.0</td>\n",
              "      <td>0.0</td>\n",
              "      <td>4.125</td>\n",
              "      <td>2.500000</td>\n",
              "      <td>226.939394</td>\n",
              "      <td>926.400000</td>\n",
              "      <td>25.75</td>\n",
              "      <td>31.000000</td>\n",
              "      <td>0.610504</td>\n",
              "      <td>1.958195</td>\n",
              "      <td>0.250000</td>\n",
              "      <td>0.75</td>\n",
              "      <td>0.256000</td>\n",
              "    </tr>\n",
              "    <tr>\n",
              "      <th>240</th>\n",
              "      <td>0.296111</td>\n",
              "      <td>0.149444</td>\n",
              "      <td>4.0</td>\n",
              "      <td>3.0</td>\n",
              "      <td>10.0</td>\n",
              "      <td>13.0</td>\n",
              "      <td>15.500</td>\n",
              "      <td>8.666667</td>\n",
              "      <td>105.500000</td>\n",
              "      <td>131.692308</td>\n",
              "      <td>88.00</td>\n",
              "      <td>52.833333</td>\n",
              "      <td>1.533905</td>\n",
              "      <td>1.501677</td>\n",
              "      <td>0.281250</td>\n",
              "      <td>1.00</td>\n",
              "      <td>0.150926</td>\n",
              "    </tr>\n",
              "    <tr>\n",
              "      <th>242</th>\n",
              "      <td>0.465556</td>\n",
              "      <td>0.000000</td>\n",
              "      <td>3.0</td>\n",
              "      <td>0.0</td>\n",
              "      <td>0.0</td>\n",
              "      <td>4.0</td>\n",
              "      <td>1.000</td>\n",
              "      <td>27.000000</td>\n",
              "      <td>1788.000000</td>\n",
              "      <td>87.444444</td>\n",
              "      <td>2.00</td>\n",
              "      <td>169.000000</td>\n",
              "      <td>4.162162</td>\n",
              "      <td>0.630589</td>\n",
              "      <td>0.000000</td>\n",
              "      <td>0.00</td>\n",
              "      <td>0.500000</td>\n",
              "    </tr>\n",
              "  </tbody>\n",
              "</table>\n",
              "</div>"
            ],
            "text/plain": [
              "     validated_time_rate_1  ...  validation_quality_1\n",
              "191               0.840556  ...              0.276923\n",
              "225               0.000000  ...              0.000000\n",
              "234               0.514444  ...              0.256000\n",
              "240               0.296111  ...              0.150926\n",
              "242               0.465556  ...              0.500000\n",
              "\n",
              "[5 rows x 17 columns]"
            ]
          },
          "metadata": {
            "tags": []
          },
          "execution_count": 813
        }
      ]
    },
    {
      "cell_type": "markdown",
      "metadata": {
        "id": "I4gb6T6ArQwT"
      },
      "source": [
        "#### Middle Prompt -> Final Prompt"
      ]
    },
    {
      "cell_type": "code",
      "metadata": {
        "id": "QSsMTPvqX8re"
      },
      "source": [
        "columns.append(\"validation_quality_2\")"
      ],
      "execution_count": 814,
      "outputs": []
    },
    {
      "cell_type": "code",
      "metadata": {
        "colab": {
          "base_uri": "https://localhost:8080/"
        },
        "id": "VJMW9GYWX8o-",
        "outputId": "393f8c97-5aa0-43d8-8f02-68988c799701"
      },
      "source": [
        "data = validation_quality(df, nb_connection_1h, data, beginning_timestamp, middle_timestamp, end_timestamp, sujet_range, prompt=1)"
      ],
      "execution_count": 815,
      "outputs": [
        {
          "output_type": "stream",
          "text": [
            "100%|██████████| 89/89 [00:15<00:00,  5.68it/s]\n"
          ],
          "name": "stderr"
        }
      ]
    },
    {
      "cell_type": "code",
      "metadata": {
        "colab": {
          "base_uri": "https://localhost:8080/",
          "height": 0
        },
        "id": "C17vsAxjX8mx",
        "outputId": "67434de8-fb79-48ac-e3a0-3acac19afb0b"
      },
      "source": [
        "draw(data, columns, nb_connection_1h)"
      ],
      "execution_count": 816,
      "outputs": [
        {
          "output_type": "execute_result",
          "data": {
            "text/html": [
              "<div>\n",
              "<style scoped>\n",
              "    .dataframe tbody tr th:only-of-type {\n",
              "        vertical-align: middle;\n",
              "    }\n",
              "\n",
              "    .dataframe tbody tr th {\n",
              "        vertical-align: top;\n",
              "    }\n",
              "\n",
              "    .dataframe thead th {\n",
              "        text-align: right;\n",
              "    }\n",
              "</style>\n",
              "<table border=\"1\" class=\"dataframe\">\n",
              "  <thead>\n",
              "    <tr style=\"text-align: right;\">\n",
              "      <th></th>\n",
              "      <th>validated_time_rate_1</th>\n",
              "      <th>validated_time_rate_2</th>\n",
              "      <th>highest_version_mean_validated_1</th>\n",
              "      <th>highest_version_mean_validated_2</th>\n",
              "      <th>time_consulting_help_1</th>\n",
              "      <th>time_consulting_help_2</th>\n",
              "      <th>mean_test_per_subject_1</th>\n",
              "      <th>mean_test_per_subject_2</th>\n",
              "      <th>mean_size_modification_per_test_1</th>\n",
              "      <th>mean_size_modification_per_test_2</th>\n",
              "      <th>mean_modification_per_subject_1</th>\n",
              "      <th>mean_modification_per_subject_2</th>\n",
              "      <th>mean_time_active_1</th>\n",
              "      <th>mean_time_active_2</th>\n",
              "      <th>experimentation_quality_1</th>\n",
              "      <th>experimentation_quality_2</th>\n",
              "      <th>validation_quality_1</th>\n",
              "      <th>validation_quality_2</th>\n",
              "    </tr>\n",
              "  </thead>\n",
              "  <tbody>\n",
              "    <tr>\n",
              "      <th>191</th>\n",
              "      <td>0.840556</td>\n",
              "      <td>0.010000</td>\n",
              "      <td>3.5</td>\n",
              "      <td>3.0</td>\n",
              "      <td>0.0</td>\n",
              "      <td>0.0</td>\n",
              "      <td>3.250</td>\n",
              "      <td>15.500000</td>\n",
              "      <td>296.230769</td>\n",
              "      <td>291.774194</td>\n",
              "      <td>71.75</td>\n",
              "      <td>91.000000</td>\n",
              "      <td>0.526670</td>\n",
              "      <td>0.512549</td>\n",
              "      <td>0.000000</td>\n",
              "      <td>0.75</td>\n",
              "      <td>0.276923</td>\n",
              "      <td>0.168333</td>\n",
              "    </tr>\n",
              "    <tr>\n",
              "      <th>225</th>\n",
              "      <td>0.000000</td>\n",
              "      <td>0.299444</td>\n",
              "      <td>0.0</td>\n",
              "      <td>3.0</td>\n",
              "      <td>73.0</td>\n",
              "      <td>2.0</td>\n",
              "      <td>4.000</td>\n",
              "      <td>4.000000</td>\n",
              "      <td>164.541667</td>\n",
              "      <td>233.000000</td>\n",
              "      <td>24.50</td>\n",
              "      <td>27.800000</td>\n",
              "      <td>0.860975</td>\n",
              "      <td>0.834028</td>\n",
              "      <td>0.302083</td>\n",
              "      <td>0.75</td>\n",
              "      <td>0.000000</td>\n",
              "      <td>0.520000</td>\n",
              "    </tr>\n",
              "    <tr>\n",
              "      <th>234</th>\n",
              "      <td>0.514444</td>\n",
              "      <td>0.121667</td>\n",
              "      <td>2.4</td>\n",
              "      <td>3.0</td>\n",
              "      <td>62.0</td>\n",
              "      <td>0.0</td>\n",
              "      <td>4.125</td>\n",
              "      <td>2.500000</td>\n",
              "      <td>226.939394</td>\n",
              "      <td>926.400000</td>\n",
              "      <td>25.75</td>\n",
              "      <td>31.000000</td>\n",
              "      <td>0.610504</td>\n",
              "      <td>1.958195</td>\n",
              "      <td>0.250000</td>\n",
              "      <td>0.75</td>\n",
              "      <td>0.256000</td>\n",
              "      <td>0.316667</td>\n",
              "    </tr>\n",
              "    <tr>\n",
              "      <th>240</th>\n",
              "      <td>0.296111</td>\n",
              "      <td>0.149444</td>\n",
              "      <td>4.0</td>\n",
              "      <td>3.0</td>\n",
              "      <td>10.0</td>\n",
              "      <td>13.0</td>\n",
              "      <td>15.500</td>\n",
              "      <td>8.666667</td>\n",
              "      <td>105.500000</td>\n",
              "      <td>131.692308</td>\n",
              "      <td>88.00</td>\n",
              "      <td>52.833333</td>\n",
              "      <td>1.533905</td>\n",
              "      <td>1.501677</td>\n",
              "      <td>0.281250</td>\n",
              "      <td>1.00</td>\n",
              "      <td>0.150926</td>\n",
              "      <td>0.134314</td>\n",
              "    </tr>\n",
              "    <tr>\n",
              "      <th>242</th>\n",
              "      <td>0.465556</td>\n",
              "      <td>0.000000</td>\n",
              "      <td>3.0</td>\n",
              "      <td>0.0</td>\n",
              "      <td>0.0</td>\n",
              "      <td>4.0</td>\n",
              "      <td>1.000</td>\n",
              "      <td>27.000000</td>\n",
              "      <td>1788.000000</td>\n",
              "      <td>87.444444</td>\n",
              "      <td>2.00</td>\n",
              "      <td>169.000000</td>\n",
              "      <td>4.162162</td>\n",
              "      <td>0.630589</td>\n",
              "      <td>0.000000</td>\n",
              "      <td>0.00</td>\n",
              "      <td>0.500000</td>\n",
              "      <td>0.105556</td>\n",
              "    </tr>\n",
              "  </tbody>\n",
              "</table>\n",
              "</div>"
            ],
            "text/plain": [
              "     validated_time_rate_1  ...  validation_quality_2\n",
              "191               0.840556  ...              0.168333\n",
              "225               0.000000  ...              0.520000\n",
              "234               0.514444  ...              0.316667\n",
              "240               0.296111  ...              0.134314\n",
              "242               0.465556  ...              0.105556\n",
              "\n",
              "[5 rows x 18 columns]"
            ]
          },
          "metadata": {
            "tags": []
          },
          "execution_count": 816
        }
      ]
    },
    {
      "cell_type": "markdown",
      "metadata": {
        "id": "KnOC1t8fA4qh"
      },
      "source": [
        "### Score"
      ]
    },
    {
      "cell_type": "code",
      "metadata": {
        "id": "GSpFBpBQBU2u"
      },
      "source": [
        "def get_cumuled_score(df, nb_connection_1h, data, beginning_timestamp, middle_timestamp, end_timestamp, sujet_range, prompt=0):\n",
        "  cumul_score = []\n",
        "  for i,id in enumerate(nb_connection_1h):\n",
        "    scores = []\n",
        "    df_val = df[\"validation\"].query('id_connexion == {} and experimentation == 0 and id_sujet in {}'.format(id, sujet_range))\n",
        "    index = get_index_timestamp(df_val, beginning_timestamp[i], middle_timestamp[i]) if prompt == 0 else get_index_timestamp(df_val, middle_timestamp[i], end_timestamp[i])\n",
        "    df_val = df_val.iloc[index,:]\n",
        "    for id_sujet in list(set(df_val.id_sujet)):\n",
        "      val_version = list(df_val.query('id_sujet == {} and score > 0'.format(id_sujet)).version)\n",
        "      versions = np.zeros((5,))\n",
        "      for row in range(len(val_version)):\n",
        "        versions[val_version[row]] = val_version[row] * 10\n",
        "      scores.append(np.max(versions))\n",
        "    data[i].append(np.sum(scores))\n",
        "  return data"
      ],
      "execution_count": 817,
      "outputs": []
    },
    {
      "cell_type": "code",
      "metadata": {
        "id": "EWWcYadhETyu"
      },
      "source": [
        "columns.append(\"score_1\")\n",
        "columns.append(\"score_2\")"
      ],
      "execution_count": 818,
      "outputs": []
    },
    {
      "cell_type": "code",
      "metadata": {
        "id": "ggr9RI-4BV5C"
      },
      "source": [
        "data = get_cumuled_score(df, nb_connection_1h, data, beginning_timestamp, middle_timestamp, end_timestamp, sujet_range, prompt=0)\n",
        "data = get_cumuled_score(df, nb_connection_1h, data, beginning_timestamp, middle_timestamp, end_timestamp, sujet_range, prompt=1)"
      ],
      "execution_count": 819,
      "outputs": []
    },
    {
      "cell_type": "code",
      "metadata": {
        "colab": {
          "base_uri": "https://localhost:8080/",
          "height": 224
        },
        "id": "Q28rNeQVESNS",
        "outputId": "0a8791bf-5fce-4d71-ff3f-f73cb2d1c8a6"
      },
      "source": [
        "draw(data, columns, nb_connection_1h)"
      ],
      "execution_count": 820,
      "outputs": [
        {
          "output_type": "execute_result",
          "data": {
            "text/html": [
              "<div>\n",
              "<style scoped>\n",
              "    .dataframe tbody tr th:only-of-type {\n",
              "        vertical-align: middle;\n",
              "    }\n",
              "\n",
              "    .dataframe tbody tr th {\n",
              "        vertical-align: top;\n",
              "    }\n",
              "\n",
              "    .dataframe thead th {\n",
              "        text-align: right;\n",
              "    }\n",
              "</style>\n",
              "<table border=\"1\" class=\"dataframe\">\n",
              "  <thead>\n",
              "    <tr style=\"text-align: right;\">\n",
              "      <th></th>\n",
              "      <th>validated_time_rate_1</th>\n",
              "      <th>validated_time_rate_2</th>\n",
              "      <th>highest_version_mean_validated_1</th>\n",
              "      <th>highest_version_mean_validated_2</th>\n",
              "      <th>time_consulting_help_1</th>\n",
              "      <th>time_consulting_help_2</th>\n",
              "      <th>mean_test_per_subject_1</th>\n",
              "      <th>mean_test_per_subject_2</th>\n",
              "      <th>mean_size_modification_per_test_1</th>\n",
              "      <th>mean_size_modification_per_test_2</th>\n",
              "      <th>mean_modification_per_subject_1</th>\n",
              "      <th>mean_modification_per_subject_2</th>\n",
              "      <th>mean_time_active_1</th>\n",
              "      <th>mean_time_active_2</th>\n",
              "      <th>experimentation_quality_1</th>\n",
              "      <th>experimentation_quality_2</th>\n",
              "      <th>validation_quality_1</th>\n",
              "      <th>validation_quality_2</th>\n",
              "      <th>score_1</th>\n",
              "      <th>score_2</th>\n",
              "    </tr>\n",
              "  </thead>\n",
              "  <tbody>\n",
              "    <tr>\n",
              "      <th>191</th>\n",
              "      <td>0.840556</td>\n",
              "      <td>0.010000</td>\n",
              "      <td>3.5</td>\n",
              "      <td>3.0</td>\n",
              "      <td>0.0</td>\n",
              "      <td>0.0</td>\n",
              "      <td>3.250</td>\n",
              "      <td>15.500000</td>\n",
              "      <td>296.230769</td>\n",
              "      <td>291.774194</td>\n",
              "      <td>71.75</td>\n",
              "      <td>91.000000</td>\n",
              "      <td>0.526670</td>\n",
              "      <td>0.512549</td>\n",
              "      <td>0.000000</td>\n",
              "      <td>0.75</td>\n",
              "      <td>0.276923</td>\n",
              "      <td>0.168333</td>\n",
              "      <td>70.0</td>\n",
              "      <td>30.0</td>\n",
              "    </tr>\n",
              "    <tr>\n",
              "      <th>225</th>\n",
              "      <td>0.000000</td>\n",
              "      <td>0.299444</td>\n",
              "      <td>0.0</td>\n",
              "      <td>3.0</td>\n",
              "      <td>73.0</td>\n",
              "      <td>2.0</td>\n",
              "      <td>4.000</td>\n",
              "      <td>4.000000</td>\n",
              "      <td>164.541667</td>\n",
              "      <td>233.000000</td>\n",
              "      <td>24.50</td>\n",
              "      <td>27.800000</td>\n",
              "      <td>0.860975</td>\n",
              "      <td>0.834028</td>\n",
              "      <td>0.302083</td>\n",
              "      <td>0.75</td>\n",
              "      <td>0.000000</td>\n",
              "      <td>0.520000</td>\n",
              "      <td>0.0</td>\n",
              "      <td>60.0</td>\n",
              "    </tr>\n",
              "    <tr>\n",
              "      <th>234</th>\n",
              "      <td>0.514444</td>\n",
              "      <td>0.121667</td>\n",
              "      <td>2.4</td>\n",
              "      <td>3.0</td>\n",
              "      <td>62.0</td>\n",
              "      <td>0.0</td>\n",
              "      <td>4.125</td>\n",
              "      <td>2.500000</td>\n",
              "      <td>226.939394</td>\n",
              "      <td>926.400000</td>\n",
              "      <td>25.75</td>\n",
              "      <td>31.000000</td>\n",
              "      <td>0.610504</td>\n",
              "      <td>1.958195</td>\n",
              "      <td>0.250000</td>\n",
              "      <td>0.75</td>\n",
              "      <td>0.256000</td>\n",
              "      <td>0.316667</td>\n",
              "      <td>120.0</td>\n",
              "      <td>30.0</td>\n",
              "    </tr>\n",
              "    <tr>\n",
              "      <th>240</th>\n",
              "      <td>0.296111</td>\n",
              "      <td>0.149444</td>\n",
              "      <td>4.0</td>\n",
              "      <td>3.0</td>\n",
              "      <td>10.0</td>\n",
              "      <td>13.0</td>\n",
              "      <td>15.500</td>\n",
              "      <td>8.666667</td>\n",
              "      <td>105.500000</td>\n",
              "      <td>131.692308</td>\n",
              "      <td>88.00</td>\n",
              "      <td>52.833333</td>\n",
              "      <td>1.533905</td>\n",
              "      <td>1.501677</td>\n",
              "      <td>0.281250</td>\n",
              "      <td>1.00</td>\n",
              "      <td>0.150926</td>\n",
              "      <td>0.134314</td>\n",
              "      <td>40.0</td>\n",
              "      <td>30.0</td>\n",
              "    </tr>\n",
              "    <tr>\n",
              "      <th>242</th>\n",
              "      <td>0.465556</td>\n",
              "      <td>0.000000</td>\n",
              "      <td>3.0</td>\n",
              "      <td>0.0</td>\n",
              "      <td>0.0</td>\n",
              "      <td>4.0</td>\n",
              "      <td>1.000</td>\n",
              "      <td>27.000000</td>\n",
              "      <td>1788.000000</td>\n",
              "      <td>87.444444</td>\n",
              "      <td>2.00</td>\n",
              "      <td>169.000000</td>\n",
              "      <td>4.162162</td>\n",
              "      <td>0.630589</td>\n",
              "      <td>0.000000</td>\n",
              "      <td>0.00</td>\n",
              "      <td>0.500000</td>\n",
              "      <td>0.105556</td>\n",
              "      <td>30.0</td>\n",
              "      <td>0.0</td>\n",
              "    </tr>\n",
              "  </tbody>\n",
              "</table>\n",
              "</div>"
            ],
            "text/plain": [
              "     validated_time_rate_1  validated_time_rate_2  ...  score_1  score_2\n",
              "191               0.840556               0.010000  ...     70.0     30.0\n",
              "225               0.000000               0.299444  ...      0.0     60.0\n",
              "234               0.514444               0.121667  ...    120.0     30.0\n",
              "240               0.296111               0.149444  ...     40.0     30.0\n",
              "242               0.465556               0.000000  ...     30.0      0.0\n",
              "\n",
              "[5 rows x 20 columns]"
            ]
          },
          "metadata": {
            "tags": []
          },
          "execution_count": 820
        }
      ]
    },
    {
      "cell_type": "markdown",
      "metadata": {
        "id": "B1XHV7HVFTR9"
      },
      "source": [
        "## Rearrange Brut Dataset"
      ]
    },
    {
      "cell_type": "markdown",
      "metadata": {
        "id": "uHpsfhBVx4dZ"
      },
      "source": [
        "### Dataset"
      ]
    },
    {
      "cell_type": "markdown",
      "metadata": {
        "id": "Us7OEQrkDDEd"
      },
      "source": [
        "#### Data Save"
      ]
    },
    {
      "cell_type": "code",
      "metadata": {
        "id": "m8_HmRI9DI_3"
      },
      "source": [
        "dataset_brut = pd.DataFrame(data, columns=columns, index=nb_connection_1h)"
      ],
      "execution_count": 821,
      "outputs": []
    },
    {
      "cell_type": "code",
      "metadata": {
        "id": "ssT02cTMDXw8"
      },
      "source": [
        "dataset_brut.to_csv(\"dataset_brut_dbnv2.csv\")"
      ],
      "execution_count": 822,
      "outputs": []
    },
    {
      "cell_type": "markdown",
      "metadata": {
        "id": "X6IPbGNQDdH9"
      },
      "source": [
        "#### Data Loading"
      ]
    },
    {
      "cell_type": "code",
      "metadata": {
        "id": "suOfHZpKDh8B"
      },
      "source": [
        "dataset_brut = pd.read_csv(\"dataset_brut_dbnv2.csv\", index_col=0, header=0)"
      ],
      "execution_count": 823,
      "outputs": []
    },
    {
      "cell_type": "code",
      "metadata": {
        "colab": {
          "base_uri": "https://localhost:8080/",
          "height": 439
        },
        "id": "VR8-jWYsE4Ot",
        "outputId": "a182a7ee-8f25-49d3-a0f9-b46612a4a6a3"
      },
      "source": [
        "dataset_brut"
      ],
      "execution_count": 824,
      "outputs": [
        {
          "output_type": "execute_result",
          "data": {
            "text/html": [
              "<div>\n",
              "<style scoped>\n",
              "    .dataframe tbody tr th:only-of-type {\n",
              "        vertical-align: middle;\n",
              "    }\n",
              "\n",
              "    .dataframe tbody tr th {\n",
              "        vertical-align: top;\n",
              "    }\n",
              "\n",
              "    .dataframe thead th {\n",
              "        text-align: right;\n",
              "    }\n",
              "</style>\n",
              "<table border=\"1\" class=\"dataframe\">\n",
              "  <thead>\n",
              "    <tr style=\"text-align: right;\">\n",
              "      <th></th>\n",
              "      <th>validated_time_rate_1</th>\n",
              "      <th>validated_time_rate_2</th>\n",
              "      <th>highest_version_mean_validated_1</th>\n",
              "      <th>highest_version_mean_validated_2</th>\n",
              "      <th>time_consulting_help_1</th>\n",
              "      <th>time_consulting_help_2</th>\n",
              "      <th>mean_test_per_subject_1</th>\n",
              "      <th>mean_test_per_subject_2</th>\n",
              "      <th>mean_size_modification_per_test_1</th>\n",
              "      <th>mean_size_modification_per_test_2</th>\n",
              "      <th>mean_modification_per_subject_1</th>\n",
              "      <th>mean_modification_per_subject_2</th>\n",
              "      <th>mean_time_active_1</th>\n",
              "      <th>mean_time_active_2</th>\n",
              "      <th>experimentation_quality_1</th>\n",
              "      <th>experimentation_quality_2</th>\n",
              "      <th>validation_quality_1</th>\n",
              "      <th>validation_quality_2</th>\n",
              "      <th>score_1</th>\n",
              "      <th>score_2</th>\n",
              "    </tr>\n",
              "  </thead>\n",
              "  <tbody>\n",
              "    <tr>\n",
              "      <th>191</th>\n",
              "      <td>0.840556</td>\n",
              "      <td>0.010000</td>\n",
              "      <td>3.500000</td>\n",
              "      <td>3.000000</td>\n",
              "      <td>0.0</td>\n",
              "      <td>0.0</td>\n",
              "      <td>3.250000</td>\n",
              "      <td>15.500000</td>\n",
              "      <td>296.230769</td>\n",
              "      <td>291.774194</td>\n",
              "      <td>71.750000</td>\n",
              "      <td>91.000000</td>\n",
              "      <td>0.526670</td>\n",
              "      <td>0.512549</td>\n",
              "      <td>0.000000</td>\n",
              "      <td>0.7500</td>\n",
              "      <td>0.276923</td>\n",
              "      <td>0.168333</td>\n",
              "      <td>70.0</td>\n",
              "      <td>30.0</td>\n",
              "    </tr>\n",
              "    <tr>\n",
              "      <th>225</th>\n",
              "      <td>0.000000</td>\n",
              "      <td>0.299444</td>\n",
              "      <td>0.000000</td>\n",
              "      <td>3.000000</td>\n",
              "      <td>73.0</td>\n",
              "      <td>2.0</td>\n",
              "      <td>4.000000</td>\n",
              "      <td>4.000000</td>\n",
              "      <td>164.541667</td>\n",
              "      <td>233.000000</td>\n",
              "      <td>24.500000</td>\n",
              "      <td>27.800000</td>\n",
              "      <td>0.860975</td>\n",
              "      <td>0.834028</td>\n",
              "      <td>0.302083</td>\n",
              "      <td>0.7500</td>\n",
              "      <td>0.000000</td>\n",
              "      <td>0.520000</td>\n",
              "      <td>0.0</td>\n",
              "      <td>60.0</td>\n",
              "    </tr>\n",
              "    <tr>\n",
              "      <th>234</th>\n",
              "      <td>0.514444</td>\n",
              "      <td>0.121667</td>\n",
              "      <td>2.400000</td>\n",
              "      <td>3.000000</td>\n",
              "      <td>62.0</td>\n",
              "      <td>0.0</td>\n",
              "      <td>4.125000</td>\n",
              "      <td>2.500000</td>\n",
              "      <td>226.939394</td>\n",
              "      <td>926.400000</td>\n",
              "      <td>25.750000</td>\n",
              "      <td>31.000000</td>\n",
              "      <td>0.610504</td>\n",
              "      <td>1.958195</td>\n",
              "      <td>0.250000</td>\n",
              "      <td>0.7500</td>\n",
              "      <td>0.256000</td>\n",
              "      <td>0.316667</td>\n",
              "      <td>120.0</td>\n",
              "      <td>30.0</td>\n",
              "    </tr>\n",
              "    <tr>\n",
              "      <th>240</th>\n",
              "      <td>0.296111</td>\n",
              "      <td>0.149444</td>\n",
              "      <td>4.000000</td>\n",
              "      <td>3.000000</td>\n",
              "      <td>10.0</td>\n",
              "      <td>13.0</td>\n",
              "      <td>15.500000</td>\n",
              "      <td>8.666667</td>\n",
              "      <td>105.500000</td>\n",
              "      <td>131.692308</td>\n",
              "      <td>88.000000</td>\n",
              "      <td>52.833333</td>\n",
              "      <td>1.533905</td>\n",
              "      <td>1.501677</td>\n",
              "      <td>0.281250</td>\n",
              "      <td>1.0000</td>\n",
              "      <td>0.150926</td>\n",
              "      <td>0.134314</td>\n",
              "      <td>40.0</td>\n",
              "      <td>30.0</td>\n",
              "    </tr>\n",
              "    <tr>\n",
              "      <th>242</th>\n",
              "      <td>0.465556</td>\n",
              "      <td>0.000000</td>\n",
              "      <td>3.000000</td>\n",
              "      <td>0.000000</td>\n",
              "      <td>0.0</td>\n",
              "      <td>4.0</td>\n",
              "      <td>1.000000</td>\n",
              "      <td>27.000000</td>\n",
              "      <td>1788.000000</td>\n",
              "      <td>87.444444</td>\n",
              "      <td>2.000000</td>\n",
              "      <td>169.000000</td>\n",
              "      <td>4.162162</td>\n",
              "      <td>0.630589</td>\n",
              "      <td>0.000000</td>\n",
              "      <td>0.0000</td>\n",
              "      <td>0.500000</td>\n",
              "      <td>0.105556</td>\n",
              "      <td>30.0</td>\n",
              "      <td>0.0</td>\n",
              "    </tr>\n",
              "    <tr>\n",
              "      <th>...</th>\n",
              "      <td>...</td>\n",
              "      <td>...</td>\n",
              "      <td>...</td>\n",
              "      <td>...</td>\n",
              "      <td>...</td>\n",
              "      <td>...</td>\n",
              "      <td>...</td>\n",
              "      <td>...</td>\n",
              "      <td>...</td>\n",
              "      <td>...</td>\n",
              "      <td>...</td>\n",
              "      <td>...</td>\n",
              "      <td>...</td>\n",
              "      <td>...</td>\n",
              "      <td>...</td>\n",
              "      <td>...</td>\n",
              "      <td>...</td>\n",
              "      <td>...</td>\n",
              "      <td>...</td>\n",
              "      <td>...</td>\n",
              "    </tr>\n",
              "    <tr>\n",
              "      <th>5208</th>\n",
              "      <td>0.596111</td>\n",
              "      <td>0.231111</td>\n",
              "      <td>4.000000</td>\n",
              "      <td>3.000000</td>\n",
              "      <td>0.0</td>\n",
              "      <td>0.0</td>\n",
              "      <td>17.000000</td>\n",
              "      <td>8.000000</td>\n",
              "      <td>129.088235</td>\n",
              "      <td>221.125000</td>\n",
              "      <td>99.500000</td>\n",
              "      <td>84.500000</td>\n",
              "      <td>0.462565</td>\n",
              "      <td>0.432217</td>\n",
              "      <td>0.250000</td>\n",
              "      <td>0.7500</td>\n",
              "      <td>0.152083</td>\n",
              "      <td>0.200000</td>\n",
              "      <td>40.0</td>\n",
              "      <td>30.0</td>\n",
              "    </tr>\n",
              "    <tr>\n",
              "      <th>5209</th>\n",
              "      <td>0.000000</td>\n",
              "      <td>0.250000</td>\n",
              "      <td>0.000000</td>\n",
              "      <td>4.000000</td>\n",
              "      <td>4.0</td>\n",
              "      <td>0.0</td>\n",
              "      <td>2.000000</td>\n",
              "      <td>5.333333</td>\n",
              "      <td>394.333333</td>\n",
              "      <td>314.562500</td>\n",
              "      <td>44.666667</td>\n",
              "      <td>49.666667</td>\n",
              "      <td>0.403295</td>\n",
              "      <td>0.434436</td>\n",
              "      <td>0.250000</td>\n",
              "      <td>0.5625</td>\n",
              "      <td>0.000000</td>\n",
              "      <td>0.171875</td>\n",
              "      <td>0.0</td>\n",
              "      <td>80.0</td>\n",
              "    </tr>\n",
              "    <tr>\n",
              "      <th>5210</th>\n",
              "      <td>0.341111</td>\n",
              "      <td>0.148333</td>\n",
              "      <td>3.000000</td>\n",
              "      <td>2.000000</td>\n",
              "      <td>68.0</td>\n",
              "      <td>57.0</td>\n",
              "      <td>7.600000</td>\n",
              "      <td>5.400000</td>\n",
              "      <td>200.631579</td>\n",
              "      <td>266.111111</td>\n",
              "      <td>49.800000</td>\n",
              "      <td>58.400000</td>\n",
              "      <td>0.480954</td>\n",
              "      <td>0.520694</td>\n",
              "      <td>0.250000</td>\n",
              "      <td>0.0000</td>\n",
              "      <td>0.163889</td>\n",
              "      <td>0.153704</td>\n",
              "      <td>60.0</td>\n",
              "      <td>20.0</td>\n",
              "    </tr>\n",
              "    <tr>\n",
              "      <th>5212</th>\n",
              "      <td>0.616111</td>\n",
              "      <td>0.259444</td>\n",
              "      <td>2.666667</td>\n",
              "      <td>3.333333</td>\n",
              "      <td>0.0</td>\n",
              "      <td>0.0</td>\n",
              "      <td>8.800000</td>\n",
              "      <td>5.250000</td>\n",
              "      <td>72.068182</td>\n",
              "      <td>550.000000</td>\n",
              "      <td>46.400000</td>\n",
              "      <td>73.750000</td>\n",
              "      <td>0.447123</td>\n",
              "      <td>0.368647</td>\n",
              "      <td>0.250000</td>\n",
              "      <td>0.7500</td>\n",
              "      <td>0.184375</td>\n",
              "      <td>0.250000</td>\n",
              "      <td>80.0</td>\n",
              "      <td>100.0</td>\n",
              "    </tr>\n",
              "    <tr>\n",
              "      <th>5213</th>\n",
              "      <td>0.308889</td>\n",
              "      <td>0.163889</td>\n",
              "      <td>3.000000</td>\n",
              "      <td>2.000000</td>\n",
              "      <td>2.0</td>\n",
              "      <td>6.0</td>\n",
              "      <td>7.166667</td>\n",
              "      <td>7.800000</td>\n",
              "      <td>155.279070</td>\n",
              "      <td>289.948718</td>\n",
              "      <td>50.500000</td>\n",
              "      <td>55.000000</td>\n",
              "      <td>0.393273</td>\n",
              "      <td>0.424592</td>\n",
              "      <td>0.295455</td>\n",
              "      <td>0.7500</td>\n",
              "      <td>0.190625</td>\n",
              "      <td>0.161429</td>\n",
              "      <td>60.0</td>\n",
              "      <td>20.0</td>\n",
              "    </tr>\n",
              "  </tbody>\n",
              "</table>\n",
              "<p>89 rows × 20 columns</p>\n",
              "</div>"
            ],
            "text/plain": [
              "      validated_time_rate_1  validated_time_rate_2  ...  score_1  score_2\n",
              "191                0.840556               0.010000  ...     70.0     30.0\n",
              "225                0.000000               0.299444  ...      0.0     60.0\n",
              "234                0.514444               0.121667  ...    120.0     30.0\n",
              "240                0.296111               0.149444  ...     40.0     30.0\n",
              "242                0.465556               0.000000  ...     30.0      0.0\n",
              "...                     ...                    ...  ...      ...      ...\n",
              "5208               0.596111               0.231111  ...     40.0     30.0\n",
              "5209               0.000000               0.250000  ...      0.0     80.0\n",
              "5210               0.341111               0.148333  ...     60.0     20.0\n",
              "5212               0.616111               0.259444  ...     80.0    100.0\n",
              "5213               0.308889               0.163889  ...     60.0     20.0\n",
              "\n",
              "[89 rows x 20 columns]"
            ]
          },
          "metadata": {
            "tags": []
          },
          "execution_count": 824
        }
      ]
    },
    {
      "cell_type": "code",
      "metadata": {
        "id": "m_167gVdA0Mf"
      },
      "source": [
        "def replace_by_classes_dbn(dataset_brut, columns):\n",
        "  columns[\"validated_time_rate_1\"] = list(pd.cut(dataset_brut.validated_time_rate_1, bins=[-1.,0,0.2,0.4,0.6,1], labels=[\"Classe1\",\"Classe2\",\"Classe3\",\"Classe4\",\"Classe5\"]))\n",
        "  columns[\"validated_time_rate_2\"] = list(pd.cut(dataset_brut.validated_time_rate_2, bins=[-1.,0,0.2,0.4,0.6,1], labels=[\"Classe1\",\"Classe2\",\"Classe3\",\"Classe4\",\"Classe5\"]))\n",
        "  columns[\"highest_version_mean_validated_1\"] = pd.cut(dataset_brut.highest_version_mean_validated_1, bins=[-1,1,2,3,4], labels=[\"Classe1\",\"Classe2\",\"Classe3\",\"Classe4\"])\n",
        "  columns[\"highest_version_mean_validated_2\"] = pd.cut(dataset_brut.highest_version_mean_validated_2, bins=[-1,1,2,3,4], labels=[\"Classe1\",\"Classe2\",\"Classe3\",\"Classe4\"])\n",
        "  columns[\"time_consulting_help_1\"] = pd.cut(dataset_brut.time_consulting_help_1, bins=[-1,0,10,30,120,10000], labels=[\"Classe1\",\"Classe2\",\"Classe3\",\"Classe4\",\"Classe5\"])\n",
        "  columns[\"time_consulting_help_2\"] = pd.cut(dataset_brut.time_consulting_help_2, bins=[-1,0,10,30,120,10000], labels=[\"Classe1\",\"Classe2\",\"Classe3\",\"Classe4\",\"Classe5\"])\n",
        "  columns[\"mean_test_per_subject_1\"] = pd.cut(dataset_brut.mean_test_per_subject_1, bins=[-1,2,5,8,11,15,50000], labels=[\"Classe1\",\"Classe2\",\"Classe3\",\"Classe4\",\"Classe5\",\"Classe6\"])\n",
        "  columns[\"mean_test_per_subject_2\"] = pd.cut(dataset_brut.mean_test_per_subject_2, bins=[-1,2,5,8,11,15,50000], labels=[\"Classe1\",\"Classe2\",\"Classe3\",\"Classe4\",\"Classe5\",\"Classe6\"])\n",
        "  #columns[\"mean_size_modification_per_test_1\"] = pd.cut(dataset_brut.mean_size_modification_per_test_1, bins=[-1,100,200,300,400,50000], labels=[\"Classe1\",\"Classe2\",\"Classe3\",\"Classe4\",\"Classe5\"])\n",
        "  #columns[\"mean_size_modification_per_test_2\"] = pd.cut(dataset_brut.mean_size_modification_per_test_2, bins=[-1,100,200,300,400,50000], labels=[\"Classe1\",\"Classe2\",\"Classe3\",\"Classe4\",\"Classe5\"])\n",
        "  columns[\"mean_modification_per_subject_1\"] = pd.cut(dataset_brut.mean_modification_per_subject_1, bins=[-1,0,20,50,100,50000], labels=[\"Classe1\",\"Classe2\",\"Classe3\",\"Classe4\",\"Classe5\"])\n",
        "  columns[\"mean_modification_per_subject_2\"] = pd.cut(dataset_brut.mean_modification_per_subject_2, bins=[-1,0,20,50,100,50000], labels=[\"Classe1\",\"Classe2\",\"Classe3\",\"Classe4\",\"Classe5\"])\n",
        "  columns[\"mean_time_active_1\"] = pd.cut(dataset_brut.mean_time_active_1, bins=[-1,0,0.3,0.6,1,5,50000], labels=[\"Classe1\",\"Classe2\",\"Classe3\",\"Classe4\",\"Classe5\",\"Classe6\"])\n",
        "  columns[\"mean_time_active_2\"] = pd.cut(dataset_brut.mean_time_active_2, bins=[-1,0,0.3,0.6,1,5,50000], labels=[\"Classe1\",\"Classe2\",\"Classe3\",\"Classe4\",\"Classe5\",\"Classe6\"])\n",
        "  columns[\"experimentation_quality_1\"] = pd.cut(dataset_brut.experimentation_quality_1, bins=[-1,0,0.2,0.4,0.5,1], labels=[\"Classe1\",\"Classe2\",\"Classe3\",\"Classe4\",\"Classe5\"])\n",
        "  columns[\"experimentation_quality_2\"] = pd.cut(dataset_brut.experimentation_quality_2, bins=[-1,0,0.2,0.4,0.5,1], labels=[\"Classe1\",\"Classe2\",\"Classe3\",\"Classe4\",\"Classe5\"])\n",
        "  columns[\"validation_quality_1\"] = pd.cut(dataset_brut.validation_quality_1, bins=[-1,0,0.1,0.2,0.4,1], labels=[\"Classe1\",\"Classe2\",\"Classe3\",\"Classe4\",\"Classe5\"])\n",
        "  columns[\"validation_quality_2\"] = pd.cut(dataset_brut.validation_quality_2, bins=[-1,0,0.1,0.2,0.4,1], labels=[\"Classe1\",\"Classe2\",\"Classe3\",\"Classe4\",\"Classe5\"])\n",
        "\n",
        "  #columns[\"score_1\"] = pd.cut(dataset_brut.score_1, bins=[-1,99,400], labels=[\"Low\",\"High\"])\n",
        "  #columns[\"score_2\"] = pd.cut(dataset_brut.score_2, bins=[-1,99,400], labels=[\"Low\",\"High\"])\n",
        "  columns[\"score_1\"] = pd.cut(dataset_brut.score_1, bins=[-1,np.percentile(dataset_brut.score_1, 33),np.percentile(dataset_brut.score_1, 66),np.percentile(dataset_brut.score_1, 100)], labels=[\"Low\",\"Medium\",\"High\"])\n",
        "  columns[\"score_2\"] = pd.cut(dataset_brut.score_2, bins=[-1,np.percentile(dataset_brut.score_2, 33),np.percentile(dataset_brut.score_2, 66),np.percentile(dataset_brut.score_2, 100)], labels=[\"Low\",\"Medium\",\"High\"])\n",
        "  return columns"
      ],
      "execution_count": 875,
      "outputs": []
    },
    {
      "cell_type": "code",
      "metadata": {
        "id": "Q9Y3U1t-BqFA"
      },
      "source": [
        "def replace_by_classes_bn(dataset_brut, columns):\n",
        "  columns[\"validated_time_rate\"] = list(pd.cut(dataset_brut.validated_time_rate, bins=[-1.,0,0.2,0.4,0.6,1], labels=[\"Classe1\",\"Classe2\",\"Classe3\",\"Classe4\",\"Classe5\"]))\n",
        "  columns[\"highest_version_mean_validated\"] = pd.cut(dataset_brut.highest_version_mean_validated, bins=[-1,1,2,3,4], labels=[\"Classe1\",\"Classe2\",\"Classe3\",\"Classe4\"])\n",
        "  columns[\"time_consulting_help\"] = pd.cut(dataset_brut.time_consulting_help, bins=[-1,0,10,30,120,10000], labels=[\"Classe1\",\"Classe2\",\"Classe3\",\"Classe4\",\"Classe5\"])\n",
        "  columns[\"mean_test_per_subject\"] = pd.cut(dataset_brut.mean_test_per_subject, bins=[-1,2,5,8,11,15,50000], labels=[\"Classe1\",\"Classe2\",\"Classe3\",\"Classe4\",\"Classe5\",\"Classe6\"])\n",
        "  #columns[\"mean_size_modification_per_test\"] = pd.cut(dataset_brut.mean_size_modification_per_test, bins=[-1,100,200,300,400,50000], labels=[\"Classe1\",\"Classe2\",\"Classe3\",\"Classe4\",\"Classe5\"])\n",
        "  columns[\"mean_modification_per_subject\"] = pd.cut(dataset_brut.mean_modification_per_subject, bins=[-1,20,30,40,50,50000], labels=[\"Classe1\",\"Classe2\",\"Classe3\",\"Classe4\",\"Classe5\"])\n",
        "  columns[\"mean_time_active\"] = pd.cut(dataset_brut.mean_time_active, bins=[-1,0,0.3,0.6,1,5,50000], labels=[\"Classe1\",\"Classe2\",\"Classe3\",\"Classe4\",\"Classe5\",\"Classe6\"])\n",
        "  columns[\"experimentation_quality\"] = pd.cut(dataset_brut.experimentation_quality, bins=[-1,0,0.2,0.4,0.5,1], labels=[\"Classe1\",\"Classe2\",\"Classe3\",\"Classe4\",\"Classe5\"])\n",
        "  columns[\"validation_quality\"] = pd.cut(dataset_brut.validation_quality, bins=[-1,0,0.1,0.2,0.4,1], labels=[\"Classe1\",\"Classe2\",\"Classe3\",\"Classe4\",\"Classe5\"])\n",
        "  # columns[\"score\"] = pd.cut(dataset_brut.score, bins=[-1,99,400], labels=[\"Low\",\"High\"])\n",
        "  columns[\"score\"] = pd.cut(dataset_brut.score, bins=[-1,np.percentile(dataset_brut.score, 33),np.percentile(dataset_brut.score, 66),np.percentile(dataset_brut.score, 100)], labels=[\"Low\",\"Medium\",\"High\"])\n",
        "  return columns"
      ],
      "execution_count": 860,
      "outputs": []
    },
    {
      "cell_type": "markdown",
      "metadata": {
        "id": "HhmXDI4z30dC"
      },
      "source": [
        "### DBN"
      ]
    },
    {
      "cell_type": "code",
      "metadata": {
        "id": "htXR-NLW32YD"
      },
      "source": [
        "data_columns = replace_by_classes_dbn(dataset_brut, {})"
      ],
      "execution_count": 876,
      "outputs": []
    },
    {
      "cell_type": "code",
      "metadata": {
        "id": "s2UqkgiG2nVQ"
      },
      "source": [
        "final_dataset = pd.DataFrame(data_columns, index=nb_connection_1h)"
      ],
      "execution_count": 877,
      "outputs": []
    },
    {
      "cell_type": "code",
      "metadata": {
        "id": "RHbVuMf626vg"
      },
      "source": [
        "final_dataset.to_csv(\"dbn_v2.csv\", index=False)"
      ],
      "execution_count": 878,
      "outputs": []
    },
    {
      "cell_type": "markdown",
      "metadata": {
        "id": "kUoqQXX2-oFb"
      },
      "source": [
        "### To bayesian Network"
      ]
    },
    {
      "cell_type": "code",
      "metadata": {
        "id": "RI6TrP9I-qFy"
      },
      "source": [
        "bn_data_columns = {}\n",
        "keys = [\"validated_time_rate\", \"highest_version_mean_validated\", \"time_consulting_help\", \"mean_test_per_subject\",\"mean_size_modification_per_test\", \"mean_modification_per_subject\", \n",
        "        \"mean_time_active\", \"experimentation_quality\", \"validation_quality\", \"score\"]\n",
        "for i in keys:\n",
        "  new_col = []\n",
        "  one = list(dataset_brut[i+\"_1\"])\n",
        "  two = list(dataset_brut[i+\"_2\"])\n",
        "  for j in range(len(one)):\n",
        "    if i != \"score\":\n",
        "      new_col.append((one[j] + two[j]) / 2)\n",
        "    else:\n",
        "      new_col.append(one[j] + two[j])\n",
        "  bn_data_columns[i] = new_col"
      ],
      "execution_count": 861,
      "outputs": []
    },
    {
      "cell_type": "code",
      "metadata": {
        "id": "o2gYsIP8AGb4"
      },
      "source": [
        "final_dataset_bn = pd.DataFrame(bn_data_columns, index=nb_connection_1h)"
      ],
      "execution_count": 862,
      "outputs": []
    },
    {
      "cell_type": "code",
      "metadata": {
        "id": "edCpgJnaB6jV"
      },
      "source": [
        "bn_data_columns_final = replace_by_classes_bn(final_dataset_bn, {})"
      ],
      "execution_count": 863,
      "outputs": []
    },
    {
      "cell_type": "code",
      "metadata": {
        "colab": {
          "base_uri": "https://localhost:8080/",
          "height": 0
        },
        "id": "XjvBzUl1AwKB",
        "outputId": "9d04d327-5960-4451-eb7a-5bf042ea475f"
      },
      "source": [
        "final_dataset_bn = pd.DataFrame(bn_data_columns_final, index=nb_connection_1h)\n",
        "final_dataset_bn"
      ],
      "execution_count": 864,
      "outputs": [
        {
          "output_type": "execute_result",
          "data": {
            "text/html": [
              "<div>\n",
              "<style scoped>\n",
              "    .dataframe tbody tr th:only-of-type {\n",
              "        vertical-align: middle;\n",
              "    }\n",
              "\n",
              "    .dataframe tbody tr th {\n",
              "        vertical-align: top;\n",
              "    }\n",
              "\n",
              "    .dataframe thead th {\n",
              "        text-align: right;\n",
              "    }\n",
              "</style>\n",
              "<table border=\"1\" class=\"dataframe\">\n",
              "  <thead>\n",
              "    <tr style=\"text-align: right;\">\n",
              "      <th></th>\n",
              "      <th>validated_time_rate</th>\n",
              "      <th>highest_version_mean_validated</th>\n",
              "      <th>time_consulting_help</th>\n",
              "      <th>mean_test_per_subject</th>\n",
              "      <th>mean_modification_per_subject</th>\n",
              "      <th>mean_time_active</th>\n",
              "      <th>experimentation_quality</th>\n",
              "      <th>validation_quality</th>\n",
              "      <th>score</th>\n",
              "    </tr>\n",
              "  </thead>\n",
              "  <tbody>\n",
              "    <tr>\n",
              "      <th>191</th>\n",
              "      <td>Classe4</td>\n",
              "      <td>Classe4</td>\n",
              "      <td>Classe1</td>\n",
              "      <td>Classe4</td>\n",
              "      <td>Classe5</td>\n",
              "      <td>Classe3</td>\n",
              "      <td>Classe3</td>\n",
              "      <td>Classe4</td>\n",
              "      <td>Medium</td>\n",
              "    </tr>\n",
              "    <tr>\n",
              "      <th>225</th>\n",
              "      <td>Classe2</td>\n",
              "      <td>Classe2</td>\n",
              "      <td>Classe4</td>\n",
              "      <td>Classe2</td>\n",
              "      <td>Classe2</td>\n",
              "      <td>Classe4</td>\n",
              "      <td>Classe5</td>\n",
              "      <td>Classe4</td>\n",
              "      <td>Low</td>\n",
              "    </tr>\n",
              "    <tr>\n",
              "      <th>234</th>\n",
              "      <td>Classe3</td>\n",
              "      <td>Classe3</td>\n",
              "      <td>Classe4</td>\n",
              "      <td>Classe2</td>\n",
              "      <td>Classe2</td>\n",
              "      <td>Classe5</td>\n",
              "      <td>Classe4</td>\n",
              "      <td>Classe4</td>\n",
              "      <td>High</td>\n",
              "    </tr>\n",
              "    <tr>\n",
              "      <th>240</th>\n",
              "      <td>Classe3</td>\n",
              "      <td>Classe4</td>\n",
              "      <td>Classe3</td>\n",
              "      <td>Classe5</td>\n",
              "      <td>Classe5</td>\n",
              "      <td>Classe5</td>\n",
              "      <td>Classe5</td>\n",
              "      <td>Classe3</td>\n",
              "      <td>Medium</td>\n",
              "    </tr>\n",
              "    <tr>\n",
              "      <th>242</th>\n",
              "      <td>Classe3</td>\n",
              "      <td>Classe2</td>\n",
              "      <td>Classe2</td>\n",
              "      <td>Classe5</td>\n",
              "      <td>Classe5</td>\n",
              "      <td>Classe5</td>\n",
              "      <td>Classe1</td>\n",
              "      <td>Classe4</td>\n",
              "      <td>Low</td>\n",
              "    </tr>\n",
              "    <tr>\n",
              "      <th>...</th>\n",
              "      <td>...</td>\n",
              "      <td>...</td>\n",
              "      <td>...</td>\n",
              "      <td>...</td>\n",
              "      <td>...</td>\n",
              "      <td>...</td>\n",
              "      <td>...</td>\n",
              "      <td>...</td>\n",
              "      <td>...</td>\n",
              "    </tr>\n",
              "    <tr>\n",
              "      <th>5208</th>\n",
              "      <td>Classe4</td>\n",
              "      <td>Classe4</td>\n",
              "      <td>Classe1</td>\n",
              "      <td>Classe5</td>\n",
              "      <td>Classe5</td>\n",
              "      <td>Classe3</td>\n",
              "      <td>Classe4</td>\n",
              "      <td>Classe3</td>\n",
              "      <td>Medium</td>\n",
              "    </tr>\n",
              "    <tr>\n",
              "      <th>5209</th>\n",
              "      <td>Classe2</td>\n",
              "      <td>Classe2</td>\n",
              "      <td>Classe2</td>\n",
              "      <td>Classe2</td>\n",
              "      <td>Classe4</td>\n",
              "      <td>Classe3</td>\n",
              "      <td>Classe4</td>\n",
              "      <td>Classe2</td>\n",
              "      <td>Medium</td>\n",
              "    </tr>\n",
              "    <tr>\n",
              "      <th>5210</th>\n",
              "      <td>Classe3</td>\n",
              "      <td>Classe3</td>\n",
              "      <td>Classe4</td>\n",
              "      <td>Classe3</td>\n",
              "      <td>Classe5</td>\n",
              "      <td>Classe3</td>\n",
              "      <td>Classe2</td>\n",
              "      <td>Classe3</td>\n",
              "      <td>Medium</td>\n",
              "    </tr>\n",
              "    <tr>\n",
              "      <th>5212</th>\n",
              "      <td>Classe4</td>\n",
              "      <td>Classe3</td>\n",
              "      <td>Classe1</td>\n",
              "      <td>Classe3</td>\n",
              "      <td>Classe5</td>\n",
              "      <td>Classe3</td>\n",
              "      <td>Classe4</td>\n",
              "      <td>Classe4</td>\n",
              "      <td>High</td>\n",
              "    </tr>\n",
              "    <tr>\n",
              "      <th>5213</th>\n",
              "      <td>Classe3</td>\n",
              "      <td>Classe3</td>\n",
              "      <td>Classe2</td>\n",
              "      <td>Classe3</td>\n",
              "      <td>Classe5</td>\n",
              "      <td>Classe3</td>\n",
              "      <td>Classe5</td>\n",
              "      <td>Classe3</td>\n",
              "      <td>Medium</td>\n",
              "    </tr>\n",
              "  </tbody>\n",
              "</table>\n",
              "<p>89 rows × 9 columns</p>\n",
              "</div>"
            ],
            "text/plain": [
              "     validated_time_rate  ...   score\n",
              "191              Classe4  ...  Medium\n",
              "225              Classe2  ...     Low\n",
              "234              Classe3  ...    High\n",
              "240              Classe3  ...  Medium\n",
              "242              Classe3  ...     Low\n",
              "...                  ...  ...     ...\n",
              "5208             Classe4  ...  Medium\n",
              "5209             Classe2  ...  Medium\n",
              "5210             Classe3  ...  Medium\n",
              "5212             Classe4  ...    High\n",
              "5213             Classe3  ...  Medium\n",
              "\n",
              "[89 rows x 9 columns]"
            ]
          },
          "metadata": {
            "tags": []
          },
          "execution_count": 864
        }
      ]
    },
    {
      "cell_type": "code",
      "metadata": {
        "id": "YxjktQqMCaGV"
      },
      "source": [
        "final_dataset_bn.to_csv(\"bn_v2.csv\", index=False)"
      ],
      "execution_count": 865,
      "outputs": []
    },
    {
      "cell_type": "code",
      "metadata": {
        "colab": {
          "base_uri": "https://localhost:8080/"
        },
        "id": "FhK6-so38BZ4",
        "outputId": "ba875ea3-6d48-4f7c-9e6e-87f713a5764c"
      },
      "source": [
        "a = np.sort(np.array(bn_data_columns[\"score\"]), axis=0)\n",
        "print(a, np.percentile(a,33), np.percentile(a,66))\n",
        "400/3"
      ],
      "execution_count": 866,
      "outputs": [
        {
          "output_type": "stream",
          "text": [
            "[  0.   0.   0.   0.   0.  20.  20.  20.  20.  20.  30.  30.  30.  30.\n",
            "  40.  40.  40.  40.  40.  40.  50.  50.  50.  50.  50.  50.  60.  60.\n",
            "  60.  60.  60.  60.  60.  60.  60.  60.  60.  60.  60.  70.  70.  70.\n",
            "  70.  70.  70.  70.  70.  80.  80.  80.  80.  80.  80.  90.  90.  90.\n",
            "  90. 100. 100. 100. 100. 100. 100. 110. 110. 120. 130. 130. 130. 130.\n",
            " 140. 140. 140. 150. 150. 160. 160. 170. 180. 180. 180. 180. 180. 190.\n",
            " 200. 200. 210. 250. 320.] 60.0 100.0\n"
          ],
          "name": "stdout"
        },
        {
          "output_type": "execute_result",
          "data": {
            "text/plain": [
              "133.33333333333334"
            ]
          },
          "metadata": {
            "tags": []
          },
          "execution_count": 866
        }
      ]
    }
  ]
}